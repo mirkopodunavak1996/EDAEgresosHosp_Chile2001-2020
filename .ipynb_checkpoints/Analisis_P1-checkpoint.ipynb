{
 "cells": [
  {
   "cell_type": "code",
   "execution_count": 1,
   "id": "8793fc92-b265-4725-867f-4adf63d39b36",
   "metadata": {},
   "outputs": [],
   "source": [
    "import pandas as pd\n",
    "import numpy as np"
   ]
  },
  {
   "cell_type": "code",
   "execution_count": 3,
   "id": "2dd22660-6d63-43e9-a7cc-a6e5b243acb9",
   "metadata": {},
   "outputs": [],
   "source": [
    "df = pd.read_parquet('Egresos_2001-2020.parquet')"
   ]
  },
  {
   "cell_type": "markdown",
   "id": "6ab2b887-56e3-4ed1-b3f7-e76abde0175b",
   "metadata": {},
   "source": [
    "# 1. ¿Cual es la tendencia en la evolución de la prevalencia de los problemas de salud a lo largo de los años?"
   ]
  },
  {
   "cell_type": "code",
   "execution_count": 13,
   "id": "e9930a99-07b3-4b46-a96f-b44c29852222",
   "metadata": {},
   "outputs": [
    {
     "name": "stdout",
     "output_type": "stream",
     "text": [
      "<class 'pandas.core.frame.DataFrame'>\n",
      "RangeIndex: 26337902 entries, 0 to 26337901\n",
      "Data columns (total 10 columns):\n",
      " #   Column                             Dtype   \n",
      "---  ------                             -----   \n",
      " 0   SEXO                               category\n",
      " 1   EDAD_A_OS                          int32   \n",
      " 2   PREVISION                          category\n",
      " 3   PERTENENCIA_ESTABLECIMIENTO_SALUD  category\n",
      " 4   GLOSA_ESTABLECIMIENTO_SALUD        object  \n",
      " 5   DIAS_ESTADA                        int32   \n",
      " 6   CONDICION_EGRESO                   category\n",
      " 7   DIAG1                              object  \n",
      " 8   GLOSA_DIAG1                        object  \n",
      " 9   Año                                int32   \n",
      "dtypes: category(4), int32(3), object(3)\n",
      "memory usage: 1004.7+ MB\n"
     ]
    }
   ],
   "source": [
    "df.info()"
   ]
  }
 ],
 "metadata": {
  "kernelspec": {
   "display_name": "Python 3 (ipykernel)",
   "language": "python",
   "name": "python3"
  },
  "language_info": {
   "codemirror_mode": {
    "name": "ipython",
    "version": 3
   },
   "file_extension": ".py",
   "mimetype": "text/x-python",
   "name": "python",
   "nbconvert_exporter": "python",
   "pygments_lexer": "ipython3",
   "version": "3.12.4"
  }
 },
 "nbformat": 4,
 "nbformat_minor": 5
}
