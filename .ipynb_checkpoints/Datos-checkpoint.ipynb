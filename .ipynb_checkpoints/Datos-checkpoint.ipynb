{
 "cells": [
  {
   "cell_type": "code",
   "execution_count": 1,
   "id": "82190b01-d31e-44dc-9847-45642f5a29a2",
   "metadata": {},
   "outputs": [],
   "source": [
    "import pandas as pd\n",
    "import numpy as np"
   ]
  },
  {
   "cell_type": "code",
   "execution_count": 121,
   "id": "04535503-9f66-427d-969b-160ae7d50aff",
   "metadata": {},
   "outputs": [],
   "source": [
    "def limpieza(y):\n",
    "\n",
    "    \"\"\"\n",
    "    Funcion para limpiar dataframe individual antes de concatenarlos todos\n",
    "    Funciones locales para acciones especificas de limpieza\n",
    "    \"\"\"\n",
    "\n",
    "    año_df = f\"Egresos_Hospitalarios_{y}.csv\"\n",
    "    df_limpio = pd.read_csv(año_df, encoding='ISO-8859-1', on_bad_lines='skip', sep = \";\", low_memory=False)\n",
    "    \n",
    "\n",
    "    def importacion(df):\n",
    "        df.columns = df.columns.str.strip()\n",
    "        df = df[[\"SEXO\",\"EDAD_A_OS\",\"PREVISION\", \"PERTENENCIA_ESTABLECIMIENTO_SALUD\", \"GLOSA_ESTABLECIMIENTO_SALUD\",\n",
    "             \"DIAS_ESTADA\",\"CONDICION_EGRESO\",\"DIAG1\",\"GLOSA_DIAG1\"]].copy()\n",
    "        df[\"Año\"] = f\"{y}\"\n",
    "        df[\"Año\"] = pd.to_datetime(df[\"Año\"]).dt.year\n",
    "        df[\"SEXO\"] = df[\"SEXO\"].astype(str)\n",
    "        df[\"PREVISION\"] = df[\"PREVISION\"].astype(str)\n",
    "        df[\"CONDICION_EGRESO\"] = df[\"CONDICION_EGRESO\"].astype(str)\n",
    "        return df\n",
    "\n",
    "    def tipo_col(df):\n",
    "        df[\"SEXO\"] = df[\"SEXO\"].astype(str)\n",
    "        df[\"PREVISION\"] = df[\"PREVISION\"].astype(str)\n",
    "        df[\"CONDICION_EGRESO\"] = df[\"CONDICION_EGRESO\"].astype(str)\n",
    "        return df\n",
    "\n",
    "    def sexo(x):\n",
    "        if x == \"2\" or x == \"2\":\n",
    "            x = \"Mujer\"\n",
    "        elif x == \"1\" or x == \"1.0\":\n",
    "            x = \"Hombre\"\n",
    "        else:\n",
    "            x = \"Otro\"\n",
    "        \n",
    "        return x\n",
    "\n",
    "    def prevision(x):\n",
    "        if x == \"1\" or x == \"1.0\":\n",
    "            x = \"Fonasa\"\n",
    "        elif x == \"2\" or x == \"2.0\":\n",
    "            x = \"Isapre\"\n",
    "        else:\n",
    "            x = \"Eliminar\"\n",
    "        \n",
    "        return x\n",
    "\n",
    "    def condicion(x):\n",
    "        if x == \"1.0\" or x == \"1\":\n",
    "            x = \"Vivo\"\n",
    "        elif x == \"2.0\" or x == \"2\":\n",
    "            x = \"Muerto\"\n",
    "        \n",
    "        return x\n",
    "\n",
    "    def pubpriv(x):\n",
    "       if x == \"Pertenecientes al Sistema Nacional de Servicios de Salud, SNSS\":\n",
    "           x = \"Publico\"\n",
    "       elif x == \"No Pertenecientes al Sistema Nacional de Servicios de Salud, SNSS\":\n",
    "            x = \"Privado\"\n",
    "        \n",
    "       return x\n",
    "\n",
    "    def col_transformation(data):\n",
    "        data[\"SEXO\"] = data[\"SEXO\"].apply(sexo)\n",
    "        data[\"PREVISION\"] = data[\"PREVISION\"].apply(prevision)\n",
    "        data[\"CONDICION_EGRESO\"] = data[\"CONDICION_EGRESO\"].apply(condicion)\n",
    "        data[\"PERTENENCIA_ESTABLECIMIENTO_SALUD\"] = data[\"PERTENENCIA_ESTABLECIMIENTO_SALUD\"].apply(pubpriv)\n",
    "        data = data[data['PREVISION'] != 'Eliminar']\n",
    "        data = data[data['SEXO'] != 'Otro']\n",
    "\n",
    "        return data\n",
    "\n",
    "    df_limpio = importacion(df_limpio)\n",
    "    df_limpio = tipo_col(df_limpio)\n",
    "    df_limpio = col_transformation(df_limpio)\n",
    "\n",
    "    return df_limpio\n",
    "    # Eliminar valores nulos: df.dropna(subset=[\"Col_Name\"])"
   ]
  },
  {
   "cell_type": "code",
   "execution_count": 131,
   "id": "dab7cbb9-b669-42e3-ba0b-72fe4b7877e8",
   "metadata": {},
   "outputs": [
    {
     "name": "stdout",
     "output_type": "stream",
     "text": [
      "     SEXO  EDAD_A_OS PREVISION PERTENENCIA_ESTABLECIMIENTO_SALUD  \\\n",
      "0  Hombre         23    Fonasa                           Publico   \n",
      "1   Mujer         65    Fonasa                           Publico   \n",
      "2  Hombre         41    Fonasa                           Publico   \n",
      "3   Mujer         77    Fonasa                           Publico   \n",
      "4  Hombre         70    Fonasa                           Publico   \n",
      "\n",
      "                         GLOSA_ESTABLECIMIENTO_SALUD  DIAS_ESTADA  \\\n",
      "0  Hospital de Urgencia Asistencia Pública Dr. Al...            1   \n",
      "1  Hospital de Urgencia Asistencia Pública Dr. Al...           10   \n",
      "2  Hospital de Urgencia Asistencia Pública Dr. Al...            2   \n",
      "3  Hospital de Urgencia Asistencia Pública Dr. Al...            4   \n",
      "4  Hospital de Urgencia Asistencia Pública Dr. Al...            1   \n",
      "\n",
      "  CONDICION_EGRESO DIAG1                                        GLOSA_DIAG1  \\\n",
      "0             Vivo  K359                  APENDICITIS AGUDA NO ESPECIFICADA   \n",
      "1             Vivo  I64X  ACCIDENTE VASCULAR ENCEFALICO AGUDO, NO ESPECI...   \n",
      "2             Vivo  K359                  APENDICITIS AGUDA NO ESPECIFICADA   \n",
      "3             Vivo  J449  ENFERMEDAD PULMÓNAR OBSTRUCTIVA CRONICA, NO ES...   \n",
      "4           Muerto  J189                          NEUMONIA, NO ESPECIFICADA   \n",
      "\n",
      "    Año  \n",
      "0  2005  \n",
      "1  2005  \n",
      "2  2005  \n",
      "3  2005  \n",
      "4  2005  \n",
      "<class 'pandas.core.frame.DataFrame'>\n",
      "Index: 1461534 entries, 0 to 1632887\n",
      "Data columns (total 10 columns):\n",
      " #   Column                             Non-Null Count    Dtype \n",
      "---  ------                             --------------    ----- \n",
      " 0   SEXO                               1461534 non-null  object\n",
      " 1   EDAD_A_OS                          1461534 non-null  int64 \n",
      " 2   PREVISION                          1461534 non-null  object\n",
      " 3   PERTENENCIA_ESTABLECIMIENTO_SALUD  1461534 non-null  object\n",
      " 4   GLOSA_ESTABLECIMIENTO_SALUD        1461164 non-null  object\n",
      " 5   DIAS_ESTADA                        1461534 non-null  int64 \n",
      " 6   CONDICION_EGRESO                   1461534 non-null  object\n",
      " 7   DIAG1                              1461534 non-null  object\n",
      " 8   GLOSA_DIAG1                        1461534 non-null  object\n",
      " 9   Año                                1461534 non-null  int32 \n",
      "dtypes: int32(1), int64(2), object(7)\n",
      "memory usage: 117.1+ MB\n",
      "None\n"
     ]
    }
   ],
   "source": [
    "# List of file paths (these can be dynamically generated or hardcoded)\n",
    "archivos = [f\"Egresos_Hospitalarios_{año}.csv\" for año in range(2001, 2021)]\n",
    "\n",
    "# Initialize an empty dictionary to store the DataFrames\n",
    "dataframes = {}\n",
    "\n",
    "# Loop through the file paths and load each file into the dictionary\n",
    "for i, file in enumerate(archivos):\n",
    "    # Dynamically create a name for each DataFrame, e.g., \"df_1\", \"df_2\", etc.\n",
    "    dataframe_name = f\"df_{i+2001}\"\n",
    "    \n",
    "    # Load the CSV into a DataFrame and store it in the dictionary\n",
    "    dataframes[dataframe_name] = limpieza(f\"{i+2001}\")\n",
    "\n",
    "# Access DataFrames by their names\n",
    "print(dataframes[\"df_2005\"].head())  # View the first few rows of the first DataFrame\n",
    "print(dataframes[\"df_2007\"].info())  # View information about the second DataFrame"
   ]
  },
  {
   "cell_type": "code",
   "execution_count": 139,
   "id": "fb71b3a5-09ab-40e4-a363-3e6980ac83b8",
   "metadata": {},
   "outputs": [
    {
     "name": "stdout",
     "output_type": "stream",
     "text": [
      "(26340664, 10)\n"
     ]
    }
   ],
   "source": [
    "# Concatenar:\n",
    "combined_df = pd.concat(dataframes.values(), ignore_index=True)\n",
    "print(combined_df.shape)\n"
   ]
  },
  {
   "cell_type": "markdown",
   "id": "29c588b5-afc0-4882-8bf1-3bd02d72bfd8",
   "metadata": {},
   "source": [
    "# Aun debo eliminar valores nulos para hacerlo más liviano. Eso en la funcion limpieza()"
   ]
  },
  {
   "cell_type": "markdown",
   "id": "9111d79f-1012-4119-a25b-e8485298b834",
   "metadata": {},
   "source": [
    "# Luego debo exportar el combined_df"
   ]
  },
  {
   "cell_type": "code",
   "execution_count": null,
   "id": "b4792c51-dbf3-4388-941d-b7c1d65100ba",
   "metadata": {},
   "outputs": [],
   "source": []
  }
 ],
 "metadata": {
  "kernelspec": {
   "display_name": "Python 3 (ipykernel)",
   "language": "python",
   "name": "python3"
  },
  "language_info": {
   "codemirror_mode": {
    "name": "ipython",
    "version": 3
   },
   "file_extension": ".py",
   "mimetype": "text/x-python",
   "name": "python",
   "nbconvert_exporter": "python",
   "pygments_lexer": "ipython3",
   "version": "3.12.4"
  }
 },
 "nbformat": 4,
 "nbformat_minor": 5
}
