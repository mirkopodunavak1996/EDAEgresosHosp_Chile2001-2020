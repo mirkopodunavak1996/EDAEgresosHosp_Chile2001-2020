{
 "cells": [
  {
   "cell_type": "markdown",
   "id": "59551577-899d-41af-894e-142f9c474d63",
   "metadata": {},
   "source": [
    "# Objetivo principal"
   ]
  },
  {
   "cell_type": "raw",
   "id": "10b7b8b4-744f-4d9e-a562-5f221cc3fb46",
   "metadata": {},
   "source": [
    "Analizar la evolución de los diagnosticos por egresos hospitalarios entre 2001 y 2020 en Chile"
   ]
  },
  {
   "cell_type": "markdown",
   "id": "2d0622d7-b242-4ab3-a815-ab7150e54f75",
   "metadata": {},
   "source": [
    "# Variables para el analisis y preguntas guía"
   ]
  },
  {
   "cell_type": "code",
   "execution_count": null,
   "id": "35508f7c-4131-4db6-9790-664a10aede98",
   "metadata": {},
   "outputs": [],
   "source": [
    "Tipo de variables:\n",
    "\n",
    "Caracteristicas individuales:\n",
    "1. Sexo\n",
    "2. Edad\n",
    "3. Previsión o seguro de salud\n",
    "\n",
    "Caracteristicas del centro de salud:\n",
    "1. Nombre\n",
    "2. Público o privado\n",
    "\n",
    "Variables asociadas al disgnostico:\n",
    "1. Nombre del problema de salud (y código problema de salud)\n",
    "\n",
    "Variables asociadas al individuo, centro de salud y enfermedad de forma simultanea:\n",
    "1. Dias de estadia en el centro de salud\n",
    "2. Condicion de egreso (vivo o muerto)\n",
    "\n",
    "Preguntas Guia:\n",
    "1. ¿Cual es la tendencia en la evolución de la prevalencia de los problemas de salud a lo largo de los años?\n",
    "2. ¿Hay alguna relación entre las caractersiticas individuales (sexo, edad, previsión de salud) y problemas de salud especificos?\n",
    "3. ¿Que tipo de centros de salud (publicos o privados) y en especifico utilizan más o menos días-cama en la solución de los problemas de salud?\n",
    "3.1 ¿ En que medida la eficiencia de los centros de salud está ligada a caracteristicas individuales de la población atendida y/o a su financiamiento?\n",
    "Depende de hallazgos P.2\n",
    "* Se entiende que un centro de salud es más eficiente si es que logra reducir los días de estada al mínimo posible\n",
    "y efectivo si es que el paciente egresa vivo."
   ]
  }
 ],
 "metadata": {
  "kernelspec": {
   "display_name": "Python 3 (ipykernel)",
   "language": "python",
   "name": "python3"
  },
  "language_info": {
   "codemirror_mode": {
    "name": "ipython",
    "version": 3
   },
   "file_extension": ".py",
   "mimetype": "text/x-python",
   "name": "python",
   "nbconvert_exporter": "python",
   "pygments_lexer": "ipython3",
   "version": "3.12.4"
  }
 },
 "nbformat": 4,
 "nbformat_minor": 5
}
