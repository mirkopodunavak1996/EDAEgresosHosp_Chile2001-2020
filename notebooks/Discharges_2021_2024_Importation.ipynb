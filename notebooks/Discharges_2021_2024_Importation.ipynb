{
 "cells": [
  {
   "cell_type": "code",
   "execution_count": 110,
   "id": "0e4a5685-bba5-4807-8e7c-bac897ceec96",
   "metadata": {},
   "outputs": [],
   "source": [
    "# Import libraries\n",
    "import pandas as pd\n",
    "import numpy as np \n",
    "import matplotlib.pyplot as plt\n",
    "import seaborn as sns"
   ]
  },
  {
   "cell_type": "code",
   "execution_count": 112,
   "id": "2b088b6c-d303-4c08-83fc-67235a124b57",
   "metadata": {},
   "outputs": [],
   "source": [
    "# Import 4 dataframes\n",
    "df_2021 = pd.read_csv(r\"C:\\Users\\mirko\\Desktop\\EK\\JyJ\\artroplastia rodilla PAD\\Egresos Hospitalarios\\raw_data\\Egresos_Hospitalarios_2021.csv\",low_memory=False, encoding='latin1', sep=';')\n",
    "df_2022 = pd.read_csv(r\"C:\\Users\\mirko\\Desktop\\EK\\JyJ\\artroplastia rodilla PAD\\Egresos Hospitalarios\\raw_data\\Egresos_Hospitalarios_2022.csv\",low_memory=False, encoding='latin1', sep=';')\n",
    "df_2023 = pd.read_csv(r\"C:\\Users\\mirko\\Desktop\\EK\\JyJ\\artroplastia rodilla PAD\\Egresos Hospitalarios\\raw_data\\Egresos_Hospitalarios_2023.csv\",low_memory=False, encoding='latin1', sep=';')\n",
    "df_2024 = pd.read_csv(r\"C:\\Users\\mirko\\Desktop\\EK\\JyJ\\artroplastia rodilla PAD\\Egresos Hospitalarios\\raw_data\\Egresos_Hospitalarios_2024.csv\",low_memory=False, encoding='latin1', sep=';')"
   ]
  },
  {
   "cell_type": "markdown",
   "id": "6acb29c2-0364-48a6-8d3c-b5cb4a6e7b87",
   "metadata": {},
   "source": [
    "# Concatenate data"
   ]
  },
  {
   "cell_type": "code",
   "execution_count": 114,
   "id": "773fb6e1-8ca9-4bf2-9a45-dc8178a9d532",
   "metadata": {},
   "outputs": [],
   "source": [
    "# Create a list of dataframes to concatenate\n",
    "df_list = [df_2021, df_2022, df_2023, df_2024]"
   ]
  },
  {
   "cell_type": "code",
   "execution_count": 115,
   "id": "55be7f44-cbe7-45e9-a417-ffdd5cc2ec73",
   "metadata": {},
   "outputs": [],
   "source": [
    "# loop over the dataframes to create a column \"Year\" whose value is the year of the discharges of each dataframe\n",
    "year = 2021\n",
    "for df in df_list:\n",
    "    df[\"Year\"] = year\n",
    "    year += 1"
   ]
  },
  {
   "cell_type": "code",
   "execution_count": 116,
   "id": "4f2e4b90-bd61-452d-9e63-f2247dc6c387",
   "metadata": {},
   "outputs": [],
   "source": [
    "# Concatenate the dataframes\n",
    "df_concat = pd.concat(df_list)"
   ]
  },
  {
   "cell_type": "markdown",
   "id": "aa6d4a28-1e57-4054-8360-88671b56a497",
   "metadata": {},
   "source": [
    "# Analisis pub priv: concat con df general y usar estas columnas"
   ]
  },
  {
   "cell_type": "code",
   "execution_count": 122,
   "id": "df10e29a-8b4d-4cc2-87ad-3352cfa4f73b",
   "metadata": {},
   "outputs": [],
   "source": [
    "# Drop columns that are irrelevant and/or are not the same as in the discharges from 2001 to 2020 dataframe\n",
    "df_concat = df_concat.drop(columns = [\"GLOSA_PAIS_ORIGEN\", \"COMUNA_RESIDENCIA\", \"GLOSA_COMUNA_RESIDENCIA\", \"REGION_RESIDENCIA\",\n",
    "                          \"GLOSA_REGION_RESIDENCIA\",\"PREVISION\", \"DIAG2\", \"ETNIA\",\n",
    "                          \"GLOSA_INTERV_Q_PPAL\", \"GLOSA_PROCED_PPAL\", \"PERTENENCIA_ESTABLECIMIENTO_SALU\"])"
   ]
  },
  {
   "cell_type": "code",
   "execution_count": 123,
   "id": "0c254ae3-c87f-46b2-a90a-fbb95a0e8663",
   "metadata": {},
   "outputs": [],
   "source": [
    "# Rename columns with the same names as in the discharges from 2001 to 2020 dataframe to merge in the future\n",
    "df_concat = df_concat.rename(columns={\"PERTENENCIA_ESTABLECIMIENTO_SALUD\": \"Healthcare facility type\",\n",
    "                          \"SEXO\": \"Sex\", \"GRUPO_EDAD\" : \"Age\", \"GLOSA_PREVISION\" : \"Health insurance\", \"ANO_EGRESO\" : \"Year_with_nans\",\n",
    "                         \"DIAG1\" : \"Primary diagnosis code\", \"DIAS_ESTADA\" : \"Length of stay\", \"CONDICION_EGRESO\" : \"Discharge condition\"})"
   ]
  },
  {
   "cell_type": "code",
   "execution_count": 125,
   "id": "a0634a6c-c450-4d7b-87c9-87bbd7007582",
   "metadata": {},
   "outputs": [
    {
     "data": {
      "text/html": [
       "<div>\n",
       "<style scoped>\n",
       "    .dataframe tbody tr th:only-of-type {\n",
       "        vertical-align: middle;\n",
       "    }\n",
       "\n",
       "    .dataframe tbody tr th {\n",
       "        vertical-align: top;\n",
       "    }\n",
       "\n",
       "    .dataframe thead th {\n",
       "        text-align: right;\n",
       "    }\n",
       "</style>\n",
       "<table border=\"1\" class=\"dataframe\">\n",
       "  <thead>\n",
       "    <tr style=\"text-align: right;\">\n",
       "      <th></th>\n",
       "      <th>Healthcare facility type</th>\n",
       "      <th>Sex</th>\n",
       "      <th>Age</th>\n",
       "      <th>Health insurance</th>\n",
       "      <th>Year_with_nans</th>\n",
       "      <th>Primary diagnosis code</th>\n",
       "      <th>Length of stay</th>\n",
       "      <th>Discharge condition</th>\n",
       "      <th>Year</th>\n",
       "    </tr>\n",
       "  </thead>\n",
       "  <tbody>\n",
       "    <tr>\n",
       "      <th>0</th>\n",
       "      <td>No Pertenecientes al Sistema Nacional de Servi...</td>\n",
       "      <td>1</td>\n",
       "      <td>1 A 4 AÑOS</td>\n",
       "      <td>ISAPRE</td>\n",
       "      <td>2021</td>\n",
       "      <td>K590</td>\n",
       "      <td>1</td>\n",
       "      <td>1</td>\n",
       "      <td>2021</td>\n",
       "    </tr>\n",
       "    <tr>\n",
       "      <th>1</th>\n",
       "      <td>No Pertenecientes al Sistema Nacional de Servi...</td>\n",
       "      <td>1</td>\n",
       "      <td>1 A 4 AÑOS</td>\n",
       "      <td>NINGUNA</td>\n",
       "      <td>2021</td>\n",
       "      <td>S015</td>\n",
       "      <td>1</td>\n",
       "      <td>1</td>\n",
       "      <td>2021</td>\n",
       "    </tr>\n",
       "    <tr>\n",
       "      <th>2</th>\n",
       "      <td>No Pertenecientes al Sistema Nacional de Servi...</td>\n",
       "      <td>1</td>\n",
       "      <td>1 A 4 AÑOS</td>\n",
       "      <td>ISAPRE</td>\n",
       "      <td>2021</td>\n",
       "      <td>T181</td>\n",
       "      <td>1</td>\n",
       "      <td>1</td>\n",
       "      <td>2021</td>\n",
       "    </tr>\n",
       "    <tr>\n",
       "      <th>3</th>\n",
       "      <td>No Pertenecientes al Sistema Nacional de Servi...</td>\n",
       "      <td>1</td>\n",
       "      <td>1 A 4 AÑOS</td>\n",
       "      <td>FONASA</td>\n",
       "      <td>2021</td>\n",
       "      <td>Q381</td>\n",
       "      <td>1</td>\n",
       "      <td>1</td>\n",
       "      <td>2021</td>\n",
       "    </tr>\n",
       "    <tr>\n",
       "      <th>4</th>\n",
       "      <td>No Pertenecientes al Sistema Nacional de Servi...</td>\n",
       "      <td>1</td>\n",
       "      <td>1 A 4 AÑOS</td>\n",
       "      <td>FONASA</td>\n",
       "      <td>2021</td>\n",
       "      <td>Q531</td>\n",
       "      <td>1</td>\n",
       "      <td>1</td>\n",
       "      <td>2021</td>\n",
       "    </tr>\n",
       "    <tr>\n",
       "      <th>...</th>\n",
       "      <td>...</td>\n",
       "      <td>...</td>\n",
       "      <td>...</td>\n",
       "      <td>...</td>\n",
       "      <td>...</td>\n",
       "      <td>...</td>\n",
       "      <td>...</td>\n",
       "      <td>...</td>\n",
       "      <td>...</td>\n",
       "    </tr>\n",
       "    <tr>\n",
       "      <th>1667344</th>\n",
       "      <td>Pertenecientes al Sistema Nacional de Servicio...</td>\n",
       "      <td>*</td>\n",
       "      <td>7 A 27 DIAS</td>\n",
       "      <td>*</td>\n",
       "      <td>2024</td>\n",
       "      <td>P073</td>\n",
       "      <td>4</td>\n",
       "      <td>1</td>\n",
       "      <td>2024</td>\n",
       "    </tr>\n",
       "    <tr>\n",
       "      <th>1667345</th>\n",
       "      <td>Pertenecientes al Sistema Nacional de Servicio...</td>\n",
       "      <td>*</td>\n",
       "      <td>7 A 27 DIAS</td>\n",
       "      <td>*</td>\n",
       "      <td>2024</td>\n",
       "      <td>P590</td>\n",
       "      <td>2</td>\n",
       "      <td>1</td>\n",
       "      <td>2024</td>\n",
       "    </tr>\n",
       "    <tr>\n",
       "      <th>1667346</th>\n",
       "      <td>Pertenecientes al Sistema Nacional de Servicio...</td>\n",
       "      <td>*</td>\n",
       "      <td>7 A 27 DIAS</td>\n",
       "      <td>*</td>\n",
       "      <td>2024</td>\n",
       "      <td>P599</td>\n",
       "      <td>2</td>\n",
       "      <td>1</td>\n",
       "      <td>2024</td>\n",
       "    </tr>\n",
       "    <tr>\n",
       "      <th>1667347</th>\n",
       "      <td>Pertenecientes al Sistema Nacional de Servicio...</td>\n",
       "      <td>*</td>\n",
       "      <td>menor a 7 días</td>\n",
       "      <td>*</td>\n",
       "      <td>2024</td>\n",
       "      <td>E250</td>\n",
       "      <td>52</td>\n",
       "      <td>1</td>\n",
       "      <td>2024</td>\n",
       "    </tr>\n",
       "    <tr>\n",
       "      <th>1667348</th>\n",
       "      <td>Pertenecientes al Sistema Nacional de Servicio...</td>\n",
       "      <td>*</td>\n",
       "      <td>menor a 7 días</td>\n",
       "      <td>*</td>\n",
       "      <td>2024</td>\n",
       "      <td>P073</td>\n",
       "      <td>2</td>\n",
       "      <td>2</td>\n",
       "      <td>2024</td>\n",
       "    </tr>\n",
       "  </tbody>\n",
       "</table>\n",
       "<p>6343796 rows × 9 columns</p>\n",
       "</div>"
      ],
      "text/plain": [
       "                                  Healthcare facility type Sex  \\\n",
       "0        No Pertenecientes al Sistema Nacional de Servi...   1   \n",
       "1        No Pertenecientes al Sistema Nacional de Servi...   1   \n",
       "2        No Pertenecientes al Sistema Nacional de Servi...   1   \n",
       "3        No Pertenecientes al Sistema Nacional de Servi...   1   \n",
       "4        No Pertenecientes al Sistema Nacional de Servi...   1   \n",
       "...                                                    ...  ..   \n",
       "1667344  Pertenecientes al Sistema Nacional de Servicio...   *   \n",
       "1667345  Pertenecientes al Sistema Nacional de Servicio...   *   \n",
       "1667346  Pertenecientes al Sistema Nacional de Servicio...   *   \n",
       "1667347  Pertenecientes al Sistema Nacional de Servicio...   *   \n",
       "1667348  Pertenecientes al Sistema Nacional de Servicio...   *   \n",
       "\n",
       "                    Age Health insurance Year_with_nans  \\\n",
       "0            1 A 4 AÑOS           ISAPRE           2021   \n",
       "1            1 A 4 AÑOS          NINGUNA           2021   \n",
       "2            1 A 4 AÑOS           ISAPRE           2021   \n",
       "3            1 A 4 AÑOS           FONASA           2021   \n",
       "4            1 A 4 AÑOS           FONASA           2021   \n",
       "...                 ...              ...            ...   \n",
       "1667344     7 A 27 DIAS                *           2024   \n",
       "1667345     7 A 27 DIAS                *           2024   \n",
       "1667346     7 A 27 DIAS                *           2024   \n",
       "1667347  menor a 7 días                *           2024   \n",
       "1667348  menor a 7 días                *           2024   \n",
       "\n",
       "        Primary diagnosis code  Length of stay  Discharge condition  Year  \n",
       "0                         K590               1                    1  2021  \n",
       "1                         S015               1                    1  2021  \n",
       "2                         T181               1                    1  2021  \n",
       "3                         Q381               1                    1  2021  \n",
       "4                         Q531               1                    1  2021  \n",
       "...                        ...             ...                  ...   ...  \n",
       "1667344                   P073               4                    1  2024  \n",
       "1667345                   P590               2                    1  2024  \n",
       "1667346                   P599               2                    1  2024  \n",
       "1667347                   E250              52                    1  2024  \n",
       "1667348                   P073               2                    2  2024  \n",
       "\n",
       "[6343796 rows x 9 columns]"
      ]
     },
     "execution_count": 125,
     "metadata": {},
     "output_type": "execute_result"
    }
   ],
   "source": [
    "# A general view of the dataframe\n",
    "df_concat"
   ]
  },
  {
   "cell_type": "code",
   "execution_count": 128,
   "id": "366f8f9b-dfe7-4291-ac3a-a6f30f202281",
   "metadata": {},
   "outputs": [
    {
     "name": "stdout",
     "output_type": "stream",
     "text": [
      "<class 'pandas.core.frame.DataFrame'>\n",
      "Index: 6343796 entries, 0 to 1667348\n",
      "Data columns (total 9 columns):\n",
      " #   Column                    Dtype \n",
      "---  ------                    ----- \n",
      " 0   Healthcare facility type  object\n",
      " 1   Sex                       object\n",
      " 2   Age                       object\n",
      " 3   Health insurance          object\n",
      " 4   Year_with_nans            object\n",
      " 5   Primary diagnosis code    object\n",
      " 6   Length of stay            int64 \n",
      " 7   Discharge condition       int64 \n",
      " 8   Year                      int64 \n",
      "dtypes: int64(3), object(6)\n",
      "memory usage: 484.0+ MB\n"
     ]
    }
   ],
   "source": [
    "# See column data types to see if it is possible to reduce memorey usage by changing them\n",
    "df_concat.info()"
   ]
  },
  {
   "cell_type": "code",
   "execution_count": 130,
   "id": "24a905b8-8918-404b-967c-62ea738adb9b",
   "metadata": {},
   "outputs": [
    {
     "data": {
      "text/plain": [
       "Healthcare facility type     39569\n",
       "Sex                         173892\n",
       "Age                         167677\n",
       "Health insurance            173892\n",
       "Year_with_nans              167677\n",
       "Primary diagnosis code           0\n",
       "Length of stay                   0\n",
       "Discharge condition              0\n",
       "Year                             0\n",
       "dtype: int64"
      ]
     },
     "execution_count": 130,
     "metadata": {},
     "output_type": "execute_result"
    }
   ],
   "source": [
    "# The original data uses \"*\" as a missing value, so it is important to count it on each column\n",
    "(df_concat == \"*\").sum()"
   ]
  },
  {
   "cell_type": "code",
   "execution_count": 132,
   "id": "d8598269-6e0e-43fe-932a-59c274a230eb",
   "metadata": {},
   "outputs": [
    {
     "data": {
      "text/plain": [
       "Healthcare facility type    1612267\n",
       "Sex                               0\n",
       "Age                               0\n",
       "Health insurance                  0\n",
       "Year_with_nans                    0\n",
       "Primary diagnosis code            0\n",
       "Length of stay                    0\n",
       "Discharge condition               0\n",
       "Year                              0\n",
       "dtype: int64"
      ]
     },
     "execution_count": 132,
     "metadata": {},
     "output_type": "execute_result"
    }
   ],
   "source": [
    "# Possibly also there are missing values (as nan) and there are 1.612.267 in the \"Healthcare facility type\" apart of the 39.569 \"*\" in the column\n",
    "df_concat.isna().sum()"
   ]
  },
  {
   "cell_type": "code",
   "execution_count": 69,
   "id": "07332ef5-3ba6-421d-a142-364fe2fd8244",
   "metadata": {},
   "outputs": [],
   "source": [
    "# It is important to replace \"*\" by nan values to be able to change data types, so that it is possible to export the dataframe.\n",
    "# Also, doing this allow to handle missing data properly\n",
    "df_concat.replace(to_replace = \"*\", value = np.nan, inplace = True)"
   ]
  },
  {
   "cell_type": "code",
   "execution_count": 98,
   "id": "5f91e6e6-ee1d-4577-9bd9-c0d446f1ff67",
   "metadata": {},
   "outputs": [],
   "source": [
    "# Change data types on each column for a lighter one\n",
    "df_concat[\"Healthcare facility type\"] = df_concat[\"Healthcare facility type\"].astype(\"category\")\n",
    "df_concat[\"Sex\"] = df_concat[\"Sex\"].astype(\"category\")\n",
    "df_concat[\"Age\"] = df_concat[\"Age\"].astype(\"category\")\n",
    "df_concat[\"Health insurance\"] = df_concat[\"Health insurance\"].astype(\"category\")\n",
    "df_concat[\"Year_with_nans\"] = df_concat[\"Year_with_nans\"].astype(\"category\")\n",
    "df_concat[\"Primary diagnosis code\"] = df_concat[\"Primary diagnosis code\"].astype(\"category\")\n",
    "df_concat[\"Length of stay\"] = df_concat[\"Length of stay\"].astype(\"int32\")\n",
    "df_concat[\"Discharge condition\"] = df_concat[\"Discharge condition\"].astype(\"category\")\n",
    "df_concat[\"Year\"] = df_concat[\"Year\"].astype(\"int16\")"
   ]
  },
  {
   "cell_type": "code",
   "execution_count": 100,
   "id": "229e2cc2-5a5a-45e7-8418-3ea0a9539619",
   "metadata": {},
   "outputs": [
    {
     "name": "stdout",
     "output_type": "stream",
     "text": [
      "<class 'pandas.core.frame.DataFrame'>\n",
      "Index: 6343796 entries, 0 to 1667348\n",
      "Data columns (total 9 columns):\n",
      " #   Column                    Dtype   \n",
      "---  ------                    -----   \n",
      " 0   Healthcare facility type  category\n",
      " 1   Sex                       category\n",
      " 2   Age                       category\n",
      " 3   Health insurance          category\n",
      " 4   Year_with_nans            category\n",
      " 5   Primary diagnosis code    category\n",
      " 6   Length of stay            int32   \n",
      " 7   Discharge condition       category\n",
      " 8   Year                      int16   \n",
      "dtypes: category(7), int16(1), int32(1)\n",
      "memory usage: 133.4 MB\n"
     ]
    }
   ],
   "source": [
    "# Checking if the changes were made, noticing a reduction of memory usage from 484 to 133 mb.\n",
    "df_concat.info()"
   ]
  },
  {
   "cell_type": "code",
   "execution_count": 102,
   "id": "dfae8da2-0cc5-4c64-8027-6134e7095a8b",
   "metadata": {},
   "outputs": [],
   "source": [
    "# Force conversion with error checking\n",
    "categorical_columns = [\n",
    "    \"Healthcare facility type\", \"Sex\", \"Age\",\n",
    "    \"Health insurance\", \"Year_with_nans\",\n",
    "    \"Primary diagnosis code\", \"Discharge condition\"\n",
    "]\n",
    "\n",
    "for col in categorical_columns:\n",
    "    df_concat[col] = df_concat[col].astype(\"string\").astype(\"category\")"
   ]
  },
  {
   "cell_type": "code",
   "execution_count": 106,
   "id": "f6498136-74e8-4cd7-b8a9-b270ac99cf62",
   "metadata": {},
   "outputs": [],
   "source": [
    "# export as a compressed parquet to make the file even lighter. This helps to merge easier and faster with other dataframes\n",
    "df_concat.to_parquet(\"Discharges_2021-2024_messy.parquet\", engine=\"pyarrow\", compression=\"snappy\")"
   ]
  }
 ],
 "metadata": {
  "kernelspec": {
   "display_name": "Python 3 (ipykernel)",
   "language": "python",
   "name": "python3"
  },
  "language_info": {
   "codemirror_mode": {
    "name": "ipython",
    "version": 3
   },
   "file_extension": ".py",
   "mimetype": "text/x-python",
   "name": "python",
   "nbconvert_exporter": "python",
   "pygments_lexer": "ipython3",
   "version": "3.12.4"
  }
 },
 "nbformat": 4,
 "nbformat_minor": 5
}
