{
 "cells": [
  {
   "cell_type": "code",
   "execution_count": null,
   "id": "7cf84443-69d6-4f8f-8d54-6bd7b9b89c0c",
   "metadata": {},
   "outputs": [],
   "source": [
    "\n",
    "*Bonus: revisitas: Let’s say your goal is: “Track how often and when patients are readmitted after a previous hospitalization.”\n",
    "\n",
    "In this case, you need to group visits by patient to:\n",
    "\n",
    "Calculate time between visits.\n",
    "\n",
    "Identify patterns of recurrence.\n",
    "\n",
    "Count how many times someone was admitted within a year."
   ]
  }
 ],
 "metadata": {
  "kernelspec": {
   "display_name": "Python 3 (ipykernel)",
   "language": "python",
   "name": "python3"
  },
  "language_info": {
   "codemirror_mode": {
    "name": "ipython",
    "version": 3
   },
   "file_extension": ".py",
   "mimetype": "text/x-python",
   "name": "python",
   "nbconvert_exporter": "python",
   "pygments_lexer": "ipython3",
   "version": "3.12.4"
  }
 },
 "nbformat": 4,
 "nbformat_minor": 5
}
