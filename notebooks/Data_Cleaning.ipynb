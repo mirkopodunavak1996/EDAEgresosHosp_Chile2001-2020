{
 "cells": [
  {
   "cell_type": "code",
   "execution_count": 1,
   "id": "8793fc92-b265-4725-867f-4adf63d39b36",
   "metadata": {},
   "outputs": [],
   "source": [
    "import pandas as pd\n",
    "import numpy as np\n",
    "import matplotlib.pyplot as plt\n",
    "import seaborn as sns"
   ]
  },
  {
   "cell_type": "markdown",
   "id": "7c3b793c-eab2-4027-a0a0-9c8890ae46d3",
   "metadata": {},
   "source": [
    "## Data importation and cleaning"
   ]
  },
  {
   "cell_type": "code",
   "execution_count": 14,
   "id": "2879ae6f-9ee3-43e8-94df-27a2eeec4c33",
   "metadata": {},
   "outputs": [],
   "source": [
    "new_column_names = {\"ID_PACIENTE\" : \"Patient ID\", \"SEXO\" : \"Sex\", \"EDAD_A_OS\" : \"Age\", \"PREVISION\" : \"Health insurance\",\n",
    "                    \"PERTENENCIA_ESTABLECIMIENTO_SALUD\" : \"Healthcare facility type\",\n",
    "                    \"GLOSA_ESTABLECIMIENTO_SALUD\" : \"Healthcare facility name\", \"DIAS_ESTADA\" : \"Length of stay\",\n",
    "                    \"CONDICION_EGRESO\" : \"Discharge condition\", \"DIAG1\" : \"Primary diagnosis code\", \"GLOSA_DIAG1\" : \"Primary diagnosis name\",\n",
    "                    \"Año\" : \"Year\"}\n",
    "\n",
    "new_dtypes = {\"Sex\": \"category\", \"Patient ID\": \"category\", \"Health insurance\": \"category\", \"Healthcare facility type\": \"category\",\n",
    "              \"Length of stay\": \"int32\", \"Discharge condition\": \"category\", \"Age\": \"int32\"}\n"
   ]
  },
  {
   "cell_type": "code",
   "execution_count": 16,
   "id": "2ff6ec6c-8c35-471e-80fa-aa52e74125f3",
   "metadata": {},
   "outputs": [],
   "source": [
    "# CSV file is lighter (4gb) than a Parquet (6gb) and helps to make the analysis faster.\n",
    "# But as still the file is too heavy, I will load in chunks and change column names and data types in some columns\n",
    "\n",
    "csv_file = \"Egresos_2001-2020.csv\"\n",
    "chunk_size = 500_000  \n",
    "chunks = []\n",
    "\n",
    "for chunk in pd.read_csv(csv_file, chunksize=chunk_size, low_memory=False):\n",
    "    # Rename columns\n",
    "    chunk = chunk.rename(columns=new_column_names)\n",
    "    \n",
    "    # Convert data types\n",
    "    chunk = chunk.astype(new_dtypes, errors=\"ignore\")  \n",
    "    \n",
    "    chunks.append(chunk)\n",
    "\n",
    "# Merge all chunks\n",
    "df_final = pd.concat(chunks, ignore_index=True)\n",
    "\n",
    "# Save as optimized Parquet\n",
    "df_final.to_parquet(\"Egresos_cleaned.parquet\", engine=\"pyarrow\", compression=\"snappy\")\n"
   ]
  },
  {
   "cell_type": "markdown",
   "id": "81c84d4a-7f1c-490b-8334-05d773b59831",
   "metadata": {},
   "source": [
    "Basic information about the data"
   ]
  },
  {
   "cell_type": "code",
   "execution_count": 3,
   "id": "870acd74-22ed-43a3-b18d-d314090910d7",
   "metadata": {},
   "outputs": [],
   "source": [
    "df_final = pd.read_parquet(\"Egresos_cleaned.parquet\")"
   ]
  },
  {
   "cell_type": "code",
   "execution_count": 5,
   "id": "eff19010-8677-43cf-a172-cf5933cacb02",
   "metadata": {},
   "outputs": [
    {
     "data": {
      "text/html": [
       "<div>\n",
       "<style scoped>\n",
       "    .dataframe tbody tr th:only-of-type {\n",
       "        vertical-align: middle;\n",
       "    }\n",
       "\n",
       "    .dataframe tbody tr th {\n",
       "        vertical-align: top;\n",
       "    }\n",
       "\n",
       "    .dataframe thead th {\n",
       "        text-align: right;\n",
       "    }\n",
       "</style>\n",
       "<table border=\"1\" class=\"dataframe\">\n",
       "  <thead>\n",
       "    <tr style=\"text-align: right;\">\n",
       "      <th></th>\n",
       "      <th>Patient ID</th>\n",
       "      <th>Sex</th>\n",
       "      <th>Age</th>\n",
       "      <th>Health insurance</th>\n",
       "      <th>Healthcare facility type</th>\n",
       "      <th>Healthcare facility name</th>\n",
       "      <th>Length of stay</th>\n",
       "      <th>Discharge condition</th>\n",
       "      <th>Primary diagnosis code</th>\n",
       "      <th>Primary diagnosis name</th>\n",
       "      <th>Year</th>\n",
       "    </tr>\n",
       "  </thead>\n",
       "  <tbody>\n",
       "    <tr>\n",
       "      <th>0</th>\n",
       "      <td>None</td>\n",
       "      <td>Hombre</td>\n",
       "      <td>60</td>\n",
       "      <td>Fonasa</td>\n",
       "      <td>Privado</td>\n",
       "      <td>Clínica Familia</td>\n",
       "      <td>2</td>\n",
       "      <td>Muerto</td>\n",
       "      <td>C780</td>\n",
       "      <td>TUMOR MALIGNO SECUNDARIO DEL PULMÓN</td>\n",
       "      <td>2001</td>\n",
       "    </tr>\n",
       "    <tr>\n",
       "      <th>1</th>\n",
       "      <td>None</td>\n",
       "      <td>Hombre</td>\n",
       "      <td>74</td>\n",
       "      <td>Fonasa</td>\n",
       "      <td>Publico</td>\n",
       "      <td>Hospital Del Salvador (Santiago, Providencia)</td>\n",
       "      <td>58</td>\n",
       "      <td>Muerto</td>\n",
       "      <td>E145</td>\n",
       "      <td>DIABETES MELLITUS NO ESPECIFICADA, CON COMPLIC...</td>\n",
       "      <td>2001</td>\n",
       "    </tr>\n",
       "    <tr>\n",
       "      <th>2</th>\n",
       "      <td>None</td>\n",
       "      <td>Hombre</td>\n",
       "      <td>71</td>\n",
       "      <td>Fonasa</td>\n",
       "      <td>Publico</td>\n",
       "      <td>Hospital Del Salvador (Santiago, Providencia)</td>\n",
       "      <td>12</td>\n",
       "      <td>Muerto</td>\n",
       "      <td>J189</td>\n",
       "      <td>NEUMONIA, NO ESPECIFICADA</td>\n",
       "      <td>2001</td>\n",
       "    </tr>\n",
       "    <tr>\n",
       "      <th>3</th>\n",
       "      <td>None</td>\n",
       "      <td>Hombre</td>\n",
       "      <td>2</td>\n",
       "      <td>Fonasa</td>\n",
       "      <td>Publico</td>\n",
       "      <td>Instituto de Neurocirugía Dr. Alfonso Asenjo</td>\n",
       "      <td>1</td>\n",
       "      <td>Muerto</td>\n",
       "      <td>S065</td>\n",
       "      <td>HEMORRAGIA SUBDURAL TRAUMÁTICA</td>\n",
       "      <td>2001</td>\n",
       "    </tr>\n",
       "    <tr>\n",
       "      <th>4</th>\n",
       "      <td>None</td>\n",
       "      <td>Hombre</td>\n",
       "      <td>81</td>\n",
       "      <td>Fonasa</td>\n",
       "      <td>Publico</td>\n",
       "      <td>Hospital Dr. Leonardo Guzmán (Antofagasta)</td>\n",
       "      <td>7</td>\n",
       "      <td>Vivo</td>\n",
       "      <td>K830</td>\n",
       "      <td>COLANGITIS</td>\n",
       "      <td>2001</td>\n",
       "    </tr>\n",
       "  </tbody>\n",
       "</table>\n",
       "</div>"
      ],
      "text/plain": [
       "  Patient ID     Sex  Age Health insurance Healthcare facility type  \\\n",
       "0       None  Hombre   60           Fonasa                  Privado   \n",
       "1       None  Hombre   74           Fonasa                  Publico   \n",
       "2       None  Hombre   71           Fonasa                  Publico   \n",
       "3       None  Hombre    2           Fonasa                  Publico   \n",
       "4       None  Hombre   81           Fonasa                  Publico   \n",
       "\n",
       "                        Healthcare facility name  Length of stay  \\\n",
       "0                               Clínica Familia                2   \n",
       "1  Hospital Del Salvador (Santiago, Providencia)              58   \n",
       "2  Hospital Del Salvador (Santiago, Providencia)              12   \n",
       "3   Instituto de Neurocirugía Dr. Alfonso Asenjo               1   \n",
       "4     Hospital Dr. Leonardo Guzmán (Antofagasta)               7   \n",
       "\n",
       "  Discharge condition Primary diagnosis code  \\\n",
       "0              Muerto                   C780   \n",
       "1              Muerto                   E145   \n",
       "2              Muerto                   J189   \n",
       "3              Muerto                   S065   \n",
       "4                Vivo                   K830   \n",
       "\n",
       "                              Primary diagnosis name  Year  \n",
       "0                TUMOR MALIGNO SECUNDARIO DEL PULMÓN  2001  \n",
       "1  DIABETES MELLITUS NO ESPECIFICADA, CON COMPLIC...  2001  \n",
       "2                          NEUMONIA, NO ESPECIFICADA  2001  \n",
       "3                     HEMORRAGIA SUBDURAL TRAUMÁTICA  2001  \n",
       "4                                         COLANGITIS  2001  "
      ]
     },
     "execution_count": 5,
     "metadata": {},
     "output_type": "execute_result"
    }
   ],
   "source": [
    "# A quick view of the data\n",
    "df_final.head()"
   ]
  },
  {
   "cell_type": "code",
   "execution_count": 7,
   "id": "e9930a99-07b3-4b46-a96f-b44c29852222",
   "metadata": {},
   "outputs": [
    {
     "name": "stdout",
     "output_type": "stream",
     "text": [
      "<class 'pandas.core.frame.DataFrame'>\n",
      "RangeIndex: 26340655 entries, 0 to 26340654\n",
      "Data columns (total 11 columns):\n",
      " #   Column                    Dtype   \n",
      "---  ------                    -----   \n",
      " 0   Patient ID                object  \n",
      " 1   Sex                       object  \n",
      " 2   Age                       int32   \n",
      " 3   Health insurance          category\n",
      " 4   Healthcare facility type  category\n",
      " 5   Healthcare facility name  object  \n",
      " 6   Length of stay            int32   \n",
      " 7   Discharge condition       category\n",
      " 8   Primary diagnosis code    object  \n",
      " 9   Primary diagnosis name    object  \n",
      " 10  Year                      int64   \n",
      "dtypes: category(3), int32(2), int64(1), object(5)\n",
      "memory usage: 1.4+ GB\n"
     ]
    }
   ],
   "source": [
    "# the datatype of each column was established in the notebook \"Data_Importation\"\n",
    "df_final.info()"
   ]
  },
  {
   "cell_type": "markdown",
   "id": "0b024608-b0d0-42bb-a601-27d014c8b510",
   "metadata": {},
   "source": [
    "Missing data in \"ID_PACIENTE\" column"
   ]
  },
  {
   "cell_type": "code",
   "execution_count": 9,
   "id": "dc40f69f-617e-45b4-8c1d-d173ed0fe24e",
   "metadata": {},
   "outputs": [
    {
     "data": {
      "text/plain": [
       "Patient ID                  1944331\n",
       "Sex                               0\n",
       "Age                               0\n",
       "Health insurance                  0\n",
       "Healthcare facility type          0\n",
       "Healthcare facility name       2753\n",
       "Length of stay                    0\n",
       "Discharge condition               0\n",
       "Primary diagnosis code            0\n",
       "Primary diagnosis name            0\n",
       "Year                              0\n",
       "dtype: int64"
      ]
     },
     "execution_count": 9,
     "metadata": {},
     "output_type": "execute_result"
    }
   ],
   "source": [
    "# All missing data was deleted on the importation process, except on \"GLOSA_ESTABLECIMIENTO_SALUD\" and \"ID_PACIENTE\" columns\n",
    "df_final.isnull().sum()"
   ]
  },
  {
   "cell_type": "code",
   "execution_count": 11,
   "id": "61bf1a16-6d12-4bc7-b437-7859128d41a5",
   "metadata": {},
   "outputs": [
    {
     "data": {
      "text/plain": [
       "(26340655, 11)"
      ]
     },
     "execution_count": 11,
     "metadata": {},
     "output_type": "execute_result"
    }
   ],
   "source": [
    "df_final.shape"
   ]
  },
  {
   "cell_type": "markdown",
   "id": "aab846e5-ad88-4496-a407-4b2f75c28a71",
   "metadata": {},
   "source": [
    "# Exploring \"ID_Patient\" column"
   ]
  },
  {
   "cell_type": "markdown",
   "id": "cf21915f-277b-4bb3-810d-8195e38c53ec",
   "metadata": {},
   "source": [
    "Null IDs:\n",
    "If missing IDs correlate with missing key data → Drop those rows.\n",
    "If missing IDs appear in specific hospitals → Check their policies.\n",
    "If missing IDs are mostly from deceased patients → It might be a reporting issue.\n",
    "If missing IDs follow a pattern over time → Investigate policy changes.\n",
    "If missing IDs belong to frequent diagnoses → Maybe these visits don’t require ID."
   ]
  },
  {
   "cell_type": "code",
   "execution_count": 14,
   "id": "5fdf1794-0c25-488a-9540-fffcd8ab8574",
   "metadata": {},
   "outputs": [
    {
     "data": {
      "text/plain": [
       "0.07381483110423792"
      ]
     },
     "execution_count": 14,
     "metadata": {},
     "output_type": "execute_result"
    }
   ],
   "source": [
    "# The percentage of null values is 7% and is too high to delete all those rows, because a large amount of valuable data could be lost\n",
    "df_final['Patient ID'].isna().mean()"
   ]
  },
  {
   "cell_type": "code",
   "execution_count": 4,
   "id": "8ee5af6c-d8f9-47b9-be3f-9702d0c7882b",
   "metadata": {},
   "outputs": [],
   "source": [
    "# Groupby to understand if there is a pattern associated to the missing data in the column\n",
    "df_nanID = df_final.loc[df_final['Patient ID'].isnull()]"
   ]
  },
  {
   "cell_type": "code",
   "execution_count": 36,
   "id": "37166d5a-6dc9-4583-b564-2571064c0e5f",
   "metadata": {},
   "outputs": [
    {
     "data": {
      "text/plain": [
       "<Axes: xlabel='Age'>"
      ]
     },
     "execution_count": 36,
     "metadata": {},
     "output_type": "execute_result"
    },
    {
     "data": {
      "image/png": "[encoded data removed]",
      "text/plain": [
       "<Figure size 640x480 with 1 Axes>"
      ]
     },
     "metadata": {},
     "output_type": "display_data"
    }
   ],
   "source": [
    "df_nanID.groupby(['Age'], sort = True).size().plot.line()\n",
    "# There are not more NaN values in certain age apart of newborns who are the majority"
   ]
  },
  {
   "cell_type": "code",
   "execution_count": 64,
   "id": "ee83840f-dd7b-4ee7-86f9-15a540910ba9",
   "metadata": {},
   "outputs": [
    {
     "data": {
      "text/html": [
       "<div>\n",
       "<style scoped>\n",
       "    .dataframe tbody tr th:only-of-type {\n",
       "        vertical-align: middle;\n",
       "    }\n",
       "\n",
       "    .dataframe tbody tr th {\n",
       "        vertical-align: top;\n",
       "    }\n",
       "\n",
       "    .dataframe thead th {\n",
       "        text-align: right;\n",
       "    }\n",
       "</style>\n",
       "<table border=\"1\" class=\"dataframe\">\n",
       "  <thead>\n",
       "    <tr style=\"text-align: right;\">\n",
       "      <th></th>\n",
       "      <th>size</th>\n",
       "    </tr>\n",
       "    <tr>\n",
       "      <th>Healthcare facility name</th>\n",
       "      <th></th>\n",
       "    </tr>\n",
       "  </thead>\n",
       "  <tbody>\n",
       "    <tr>\n",
       "      <th>Hospital Clínico Universidad Católica</th>\n",
       "      <td>255693</td>\n",
       "    </tr>\n",
       "    <tr>\n",
       "      <th>Hospital Clínico Regional Dr. Guillermo Grant Benavente (Concepción)</th>\n",
       "      <td>76542</td>\n",
       "    </tr>\n",
       "    <tr>\n",
       "      <th>Hospital Dr. Juan Noé Crevanni (Arica)</th>\n",
       "      <td>71319</td>\n",
       "    </tr>\n",
       "    <tr>\n",
       "      <th>Hospital San Juan de Dios (Santiago, Santiago)</th>\n",
       "      <td>70280</td>\n",
       "    </tr>\n",
       "    <tr>\n",
       "      <th>Complejo Asistencial Dr. Víctor Ríos Ruiz (Los Ángeles)</th>\n",
       "      <td>58896</td>\n",
       "    </tr>\n",
       "    <tr>\n",
       "      <th>Clínica Dávila</th>\n",
       "      <td>48652</td>\n",
       "    </tr>\n",
       "    <tr>\n",
       "      <th>Hospital Dr. Hernán Henríquez Aravena (Temuco)</th>\n",
       "      <td>41478</td>\n",
       "    </tr>\n",
       "    <tr>\n",
       "      <th>Clínica Iquique</th>\n",
       "      <td>35365</td>\n",
       "    </tr>\n",
       "    <tr>\n",
       "      <th>Hospital Dr. Leonardo Guzmán (Antofagasta)</th>\n",
       "      <td>34095</td>\n",
       "    </tr>\n",
       "    <tr>\n",
       "      <th>Complejo Hospitalario San José (Santiago, Independencia)</th>\n",
       "      <td>33192</td>\n",
       "    </tr>\n",
       "  </tbody>\n",
       "</table>\n",
       "</div>"
      ],
      "text/plain": [
       "                                                      size\n",
       "Healthcare facility name                                  \n",
       "Hospital Clínico Universidad Católica               255693\n",
       "Hospital Clínico Regional Dr. Guillermo Grant B...   76542\n",
       "Hospital Dr. Juan Noé Crevanni (Arica)               71319\n",
       "Hospital San Juan de Dios (Santiago, Santiago)       70280\n",
       "Complejo Asistencial Dr. Víctor Ríos Ruiz (Los ...   58896\n",
       "Clínica Dávila                                       48652\n",
       "Hospital Dr. Hernán Henríquez Aravena (Temuco)       41478\n",
       "Clínica Iquique                                      35365\n",
       "Hospital Dr. Leonardo Guzmán (Antofagasta)           34095\n",
       "Complejo Hospitalario San José (Santiago, Indep...   33192"
      ]
     },
     "execution_count": 64,
     "metadata": {},
     "output_type": "execute_result"
    }
   ],
   "source": [
    "# Identify If Certain Hospitals Have More Missing IDs\n",
    "df_nanID.groupby(['Healthcare facility name']).size().to_frame('size').sort_values(['size'],ascending=False).head(10)\n",
    "# Research about policies in Hospital Clinico Universidad catolica"
   ]
  },
  {
   "cell_type": "markdown",
   "id": "ce344003-3751-4b72-a721-c1d406cf5f8f",
   "metadata": {},
   "source": [
    "# lenght of stay (VER COMO MANEJAR OUTLIERS ANTES DE ANALIZAR NAN IDS)"
   ]
  },
  {
   "cell_type": "code",
   "execution_count": 55,
   "id": "6076f30f-50d6-4a23-b452-7a7cc7807fa5",
   "metadata": {},
   "outputs": [
    {
     "data": {
      "text/plain": [
       "array([    2,    58,    12,     1,     7,     3,    14,     5,    45,\n",
       "          19,     6,   105,    83,    55,    13,    24,    15,    74,\n",
       "          65,     4,     9,    82,    27,    10,    26,    30,    37,\n",
       "          16,    35,     8,    20,   102,    25,   796,    11,    17,\n",
       "          18,    64,    34,    39,    78,    22,    21,    66,    29,\n",
       "          36,    40,    46,    61,    69,    97,    33,    42,    43,\n",
       "          41,    72,    70,    28,   129,    44,    49,   137,    75,\n",
       "          84,    89,   119,    23,    52,   197,    50,    63,    85,\n",
       "          54,    31,    59,    32,    53,    51,    48,    60,    76,\n",
       "          90,    86,   109,  3849,    67,    68,   262,    57,   104,\n",
       "         163,   185,    56,   134,    81,    38,   110,    80,   115,\n",
       "          73,   152,    71,    91,   297,   228,    79,    62,   103,\n",
       "         153,   182,   181,    47,   122,   125,    95,    77,   116,\n",
       "         140,   108,   114,   168,   179,   189,   118,    87,   507,\n",
       "         202,   333,   188,   100,   148,   198,   120,   180,   107,\n",
       "         195,   307,   112,   124,    99,   150,   121,   210,   117,\n",
       "          93,   204,   269,   216,   111,    98,    96,   123,   162,\n",
       "         128,   270,    88,   160,   518,   151,   106,    92,    94,\n",
       "         407,   416,   425,   456,   233,   614,   212,   141,   290,\n",
       "         176,   170,   138,   156,   207,   194,   218,   277,   302,\n",
       "         127,   135,   154,   165,   169,   217,   247,   279,   308,\n",
       "         315,   335,   342,   347,   348,   167,   126,   101,   143,\n",
       "         192,   286,   330,   227,   166,   142,   208,   144,   146,\n",
       "         145,   251,   132,   385,   289,   360,   113,   475,   274,\n",
       "         239,   374,   136,   175,   486,   398,   133,   206,   358,\n",
       "         249,   224,   314,   357,   155,   331,   256,   285,    -7,\n",
       "         174,   159,   280,   215,   252,   221,   272,   423,   257,\n",
       "         282,   312,   409,   171,   295,   139,   131,   254,   173,\n",
       "         178,   345,   161,   288,   349,   177,   326,   253,   241,\n",
       "         223,   225,   231,   401,   184,   305,   240,   242,   222,\n",
       "         329,   248,   147,   366,   219,   292,   453,   454,   299,\n",
       "         317,   209,   310,   417,  4067,   157,   186,   283,   199,\n",
       "         230,   532,   318,   294,   203,   729,   187,   259,   281,\n",
       "         211,   183,   149,   309,  5374,   383, 15763,  3853,   191,\n",
       "         238,   428,   220,   402,   245,   320,   591,   130,   229,\n",
       "         323,   244,   352,   196,   205,   190,   234,   278,   393,\n",
       "         287,   520,   201,   158,   214,   164,   246,   603,   261,\n",
       "         420,   370,   232,   243,   258,   368,   763,   479,   351,\n",
       "         237,   172,   364,   506,   380,   365,   731,   346,   741,\n",
       "         736,   296,   546,   669,   578,   560,   899,   449,   686,\n",
       "        2592,  3356,   802,   998,  2643,   200,   376,  7147,   367,\n",
       "         322,   372,  8021,  1456,   264,   250,  3017,   544,  5544,\n",
       "        2556,   536,   303,  1945,   634,  1422,   363,   501,   679,\n",
       "         808,   226,  4344,   344,   691,   511,  1263,   213,   268,\n",
       "         389,   337,   732,   293,   341,   300,   319,   564,   427,\n",
       "         193,   377,   461,   542,   421,   588,   882,   566,   436,\n",
       "         905,   471,   822,  1034,   275,   811,  2646,   563,  1357,\n",
       "        1131,  1133,  1868,  1697,   878,   403,   382,   369,   734,\n",
       "         260,   362,   484,   236,   255,   328,   488,   465,   336,\n",
       "         316,   301,   391,   304,   334,   373,   267,   325,   306,\n",
       "        1878,   284,   551, 17639,  1306,   378,  3983,  2190,   689,\n",
       "         514,   908,   392,  2850,  6553,  9840,   567,  1169,   773,\n",
       "         733,   694,   907,   995,   381,   451,  6604, 10406,   699,\n",
       "        3852,  1003,  1189,   575,   386,   408,   375,  3131,   476,\n",
       "         332,   266,   291,   424,   481,   271,   359,  1111,   371,\n",
       "        1097,  4103,   565,  1098,   263,   397, 23308, 11603,  1247,\n",
       "        2167,   339,  1056,   276,  5432,  1378,  1652,  2025,  2901,\n",
       "        2048,  1800,   298,   984,   842,  1104,   356,   489,   670,\n",
       "         617,   559,   265,   405,  1096,  1099,   435,  1673,  1401,\n",
       "       13365,  1813,   586,   521,   350,  9285,  1308,  2628,   986,\n",
       "        5571,   355,   498,  2702,  3297,  2262,   895,  3465,  3880,\n",
       "         491,  1107, 32452,   570,  1043,   720,  4363,   490,   431,\n",
       "        5412,  3058,  8025,   835,  5708,  2196,  1338,   470,   746,\n",
       "         581,  4968,  1751,  1747,   354,   513,  1923,   540,   438,\n",
       "         458,   457,   415,  1798,  2165,   643,   663,   235,   430,\n",
       "         327,   487,  1836,   394,  1834,   395,   655,   273,  3024,\n",
       "        1123,   508,  5076, 17299,   625,   917,   539,   803,   638,\n",
       "        3391,  3858,  4840,   667,   593,  1115,   313,   662,   974,\n",
       "         627,   665,  1640,   959,   647,   706,   843,   912,  3624,\n",
       "        3401,   480,  2849,  3638,  5459,  2169,   900,   517,   608,\n",
       "         713,   909,   396,   388,   497,   510,   384,   390,   529,\n",
       "         340,   343,   467,   419,   571,   656,   473,   426,   569,\n",
       "         524,   893,   750,   568,   338,   673,   528,   432,  1129,\n",
       "        1002,   747,   496,   674,   989,   527,   455,   690])"
      ]
     },
     "execution_count": 55,
     "metadata": {},
     "output_type": "execute_result"
    }
   ],
   "source": [
    "df_nanID['Length of stay'].unique()"
   ]
  },
  {
   "cell_type": "code",
   "execution_count": 51,
   "id": "8cd93e3c-6244-4fb9-a00f-e9ddd1e71e89",
   "metadata": {},
   "outputs": [
    {
     "data": {
      "text/plain": [
       "<Axes: xlabel='Length of stay'>"
      ]
     },
     "execution_count": 51,
     "metadata": {},
     "output_type": "execute_result"
    },
    {
     "data": {
      "image/png": "[encoded data removed]",
      "text/plain": [
       "<Figure size 640x480 with 1 Axes>"
      ]
     },
     "metadata": {},
     "output_type": "display_data"
    }
   ],
   "source": [
    "# Analyze by lenght of stay\n",
    "df_nanID.groupby(['Length of stay'], sort = True).size().plot.line()"
   ]
  },
  {
   "cell_type": "code",
   "execution_count": 47,
   "id": "e64ee4bc-e38f-45ae-85af-9752942fa405",
   "metadata": {},
   "outputs": [
    {
     "name": "stderr",
     "output_type": "stream",
     "text": [
      "C:\\Users\\mirko\\AppData\\Local\\Temp\\ipykernel_13752\\3554200689.py:2: FutureWarning: The default of observed=False is deprecated and will be changed to True in a future version of pandas. Pass observed=False to retain current behavior or observed=True to adopt the future default and silence this warning.\n",
      "  df_nanID.groupby(['Health insurance']).size()\n"
     ]
    },
    {
     "data": {
      "text/plain": [
       "Health insurance\n",
       "Fonasa    1502248\n",
       "Isapre     442083\n",
       "dtype: int64"
      ]
     },
     "execution_count": 47,
     "metadata": {},
     "output_type": "execute_result"
    }
   ],
   "source": [
    "# Analyze by patient health insurance\n",
    "df_nanID.groupby(['Health insurance']).size()"
   ]
  },
  {
   "cell_type": "code",
   "execution_count": 66,
   "id": "58fdc456-24a1-4e64-bda6-6944cac422c3",
   "metadata": {},
   "outputs": [
    {
     "name": "stderr",
     "output_type": "stream",
     "text": [
      "C:\\Users\\mirko\\AppData\\Local\\Temp\\ipykernel_18680\\999373616.py:2: FutureWarning: The default of observed=False is deprecated and will be changed to True in a future version of pandas. Pass observed=False to retain current behavior or observed=True to adopt the future default and silence this warning.\n",
      "  df_nanID.groupby(['Discharge condition']).size()\n"
     ]
    },
    {
     "data": {
      "text/plain": [
       "Discharge condition\n",
       "Muerto      37246\n",
       "Vivo      1907085\n",
       "dtype: int64"
      ]
     },
     "execution_count": 66,
     "metadata": {},
     "output_type": "execute_result"
    }
   ],
   "source": [
    "# Analyze by Patient Condition (CONDICION_EGRESO)\n",
    "df_nanID.groupby(['Discharge condition']).size()"
   ]
  },
  {
   "cell_type": "code",
   "execution_count": 39,
   "id": "55b15921-368d-4e93-8d14-3cb03c73f88d",
   "metadata": {},
   "outputs": [
    {
     "data": {
      "image/png": "[encoded data removed]",
      "text/plain": [
       "<Figure size 640x480 with 1 Axes>"
      ]
     },
     "metadata": {},
     "output_type": "display_data"
    }
   ],
   "source": [
    "# Check Trends Over Time\n",
    "plt.figure()\n",
    "df_nanID.groupby(['Year'], sort = True).size().plot.line(style='.-')\n",
    "plt.xticks(list(df_final[\"Year\"].unique()), rotation = 45)\n",
    "plt.show()"
   ]
  },
  {
   "cell_type": "code",
   "execution_count": 41,
   "id": "8e53dce0-bb44-4138-b54d-39ee540e35a8",
   "metadata": {},
   "outputs": [
    {
     "data": {
      "text/plain": [
       "Sex\n",
       "Hombre    981351\n",
       "Mujer     962980\n",
       "dtype: int64"
      ]
     },
     "execution_count": 41,
     "metadata": {},
     "output_type": "execute_result"
    }
   ],
   "source": [
    "# Compare with Gender\n",
    "df_nanID.groupby(['Sex']).size()"
   ]
  },
  {
   "cell_type": "markdown",
   "id": "50e0e98a-bc7d-4f62-9e44-3b9fb0dfc4b0",
   "metadata": {},
   "source": [
    "# Diagnosis"
   ]
  },
  {
   "cell_type": "code",
   "execution_count": 7,
   "id": "16f5d28b-481b-44de-8a36-9c4bbb036941",
   "metadata": {},
   "outputs": [],
   "source": [
    "# Count valid and nan ID values for each diagnosis\n",
    "counts_nan = df_nanID[\"Primary diagnosis name\"].value_counts()\n",
    "counts_values = df_final[\"Primary diagnosis name\"].value_counts()"
   ]
  },
  {
   "cell_type": "code",
   "execution_count": 8,
   "id": "30448d25-a72f-4d48-8783-0f803629f34b",
   "metadata": {},
   "outputs": [],
   "source": [
    "# Convert the value counts output series to a dataframe\n",
    "counts_df = counts_values.rename_axis('Primary diagnosis name').reset_index(name='Frequency of values')\n",
    "counts_nanvals = counts_nan.rename_axis('Primary diagnosis name').reset_index(name='Frequency of nan')"
   ]
  },
  {
   "cell_type": "code",
   "execution_count": 10,
   "id": "981e05b7-1458-444d-b319-b94cf2c37a1d",
   "metadata": {},
   "outputs": [],
   "source": [
    "# Create a dataframe object to save the percent of nan values for each diagnosis out of the total for each of them\n",
    "nanID_disease = pd.DataFrame(counts_nan/counts_values*100).reset_index().sort_values(by='count', ascending=False)"
   ]
  },
  {
   "cell_type": "code",
   "execution_count": 13,
   "id": "b9b73993-df27-4d5f-93ff-b70ce611f2c8",
   "metadata": {},
   "outputs": [],
   "source": [
    "# Merge the 3 dataframes to have the count of people (IDs) for each diangosis, the nan values and the percent of nan values out of the total cases for each diagnosis\n",
    "df_diseases = nanID_disease.merge(counts_df, on='Primary diagnosis name', how='left')\n",
    "df_diseases = df_diseases.merge(counts_nanvals, on='Primary diagnosis name', how='left')\n",
    "df_diseases = df_diseases.rename(columns={\"count\": \"Percent of nan\"})"
   ]
  },
  {
   "cell_type": "code",
   "execution_count": 15,
   "id": "b1404401-0b0c-4782-b5f4-ac624fc5263c",
   "metadata": {},
   "outputs": [
    {
     "data": {
      "text/plain": [
       "Primary diagnosis name       0\n",
       "Percent of nan            1874\n",
       "Frequency of values          0\n",
       "Frequency of nan          1874\n",
       "dtype: int64"
      ]
     },
     "execution_count": 15,
     "metadata": {},
     "output_type": "execute_result"
    }
   ],
   "source": [
    "# This shows that when there are not NaN IDs the percent is NaN and should be 0%. Lets replace that value\n",
    "df_diseases.isnull().sum()"
   ]
  },
  {
   "cell_type": "code",
   "execution_count": 17,
   "id": "43beb8af-65e8-44ec-9502-00a8726c52db",
   "metadata": {},
   "outputs": [],
   "source": [
    "# NaN values in percent mean that is 0%\n",
    "df_diseases['Percent of nan'] = df_diseases['Percent of nan'].fillna(0)"
   ]
  },
  {
   "cell_type": "code",
   "execution_count": 19,
   "id": "868af398-3db1-4ac6-a1c4-c6696c3a75e9",
   "metadata": {},
   "outputs": [
    {
     "data": {
      "text/html": [
       "<div>\n",
       "<style scoped>\n",
       "    .dataframe tbody tr th:only-of-type {\n",
       "        vertical-align: middle;\n",
       "    }\n",
       "\n",
       "    .dataframe tbody tr th {\n",
       "        vertical-align: top;\n",
       "    }\n",
       "\n",
       "    .dataframe thead th {\n",
       "        text-align: right;\n",
       "    }\n",
       "</style>\n",
       "<table border=\"1\" class=\"dataframe\">\n",
       "  <thead>\n",
       "    <tr style=\"text-align: right;\">\n",
       "      <th></th>\n",
       "      <th>Primary diagnosis name</th>\n",
       "      <th>Percent of nan</th>\n",
       "      <th>Frequency of values</th>\n",
       "      <th>Frequency of nan</th>\n",
       "    </tr>\n",
       "  </thead>\n",
       "  <tbody>\n",
       "    <tr>\n",
       "      <th>5</th>\n",
       "      <td>DISFUNCION HIPOTALAMICA, NO CLASIFICADA EN OTR...</td>\n",
       "      <td>100.0</td>\n",
       "      <td>4</td>\n",
       "      <td>4.0</td>\n",
       "    </tr>\n",
       "    <tr>\n",
       "      <th>28</th>\n",
       "      <td>PRESENCIA DE VALVULA CARDIACA PROTESICA</td>\n",
       "      <td>100.0</td>\n",
       "      <td>4</td>\n",
       "      <td>4.0</td>\n",
       "    </tr>\n",
       "    <tr>\n",
       "      <th>15</th>\n",
       "      <td>TUMOR MALIGNO DEL CLITORIS</td>\n",
       "      <td>100.0</td>\n",
       "      <td>3</td>\n",
       "      <td>3.0</td>\n",
       "    </tr>\n",
       "    <tr>\n",
       "      <th>30</th>\n",
       "      <td>PALUDISMO CONGENITO POR PLASMODIUM FALCIPARUM</td>\n",
       "      <td>100.0</td>\n",
       "      <td>3</td>\n",
       "      <td>3.0</td>\n",
       "    </tr>\n",
       "    <tr>\n",
       "      <th>39</th>\n",
       "      <td>CONSULTA PARA ATENCION Y SUPERVISION DE LA SAL...</td>\n",
       "      <td>100.0</td>\n",
       "      <td>2</td>\n",
       "      <td>2.0</td>\n",
       "    </tr>\n",
       "  </tbody>\n",
       "</table>\n",
       "</div>"
      ],
      "text/plain": [
       "                               Primary diagnosis name  Percent of nan  \\\n",
       "5   DISFUNCION HIPOTALAMICA, NO CLASIFICADA EN OTR...           100.0   \n",
       "28            PRESENCIA DE VALVULA CARDIACA PROTESICA           100.0   \n",
       "15                         TUMOR MALIGNO DEL CLITORIS           100.0   \n",
       "30      PALUDISMO CONGENITO POR PLASMODIUM FALCIPARUM           100.0   \n",
       "39  CONSULTA PARA ATENCION Y SUPERVISION DE LA SAL...           100.0   \n",
       "\n",
       "    Frequency of values  Frequency of nan  \n",
       "5                     4               4.0  \n",
       "28                    4               4.0  \n",
       "15                    3               3.0  \n",
       "30                    3               3.0  \n",
       "39                    2               2.0  "
      ]
     },
     "execution_count": 19,
     "metadata": {},
     "output_type": "execute_result"
    }
   ],
   "source": [
    "# Diagnosis with only nan IDs: This shows that very rare diagnosis have 100% of NaN Patient IDs with maximun 4 IDs. \n",
    "df_diseases[df_diseases['Percent of nan'] == 100].sort_values(by='Frequency of values', ascending=False).head(5)"
   ]
  },
  {
   "cell_type": "code",
   "execution_count": 21,
   "id": "db7e0ea1-344c-48b7-9135-0beada43623d",
   "metadata": {},
   "outputs": [
    {
     "data": {
      "text/html": [
       "<div>\n",
       "<style scoped>\n",
       "    .dataframe tbody tr th:only-of-type {\n",
       "        vertical-align: middle;\n",
       "    }\n",
       "\n",
       "    .dataframe tbody tr th {\n",
       "        vertical-align: top;\n",
       "    }\n",
       "\n",
       "    .dataframe thead th {\n",
       "        text-align: right;\n",
       "    }\n",
       "</style>\n",
       "<table border=\"1\" class=\"dataframe\">\n",
       "  <thead>\n",
       "    <tr style=\"text-align: right;\">\n",
       "      <th></th>\n",
       "      <th>Primary diagnosis name</th>\n",
       "      <th>Percent of nan</th>\n",
       "      <th>Frequency of values</th>\n",
       "      <th>Frequency of nan</th>\n",
       "    </tr>\n",
       "  </thead>\n",
       "  <tbody>\n",
       "    <tr>\n",
       "      <th>5695</th>\n",
       "      <td>PARTO UNICO ESPONTANEO, SIN OTRA ESPECIFICACION</td>\n",
       "      <td>5.845318</td>\n",
       "      <td>965713</td>\n",
       "      <td>56449.0</td>\n",
       "    </tr>\n",
       "    <tr>\n",
       "      <th>6038</th>\n",
       "      <td>PARTO UNICO ESPONTANEO, PRESENTACION CEFALICA ...</td>\n",
       "      <td>5.409004</td>\n",
       "      <td>693270</td>\n",
       "      <td>37499.0</td>\n",
       "    </tr>\n",
       "    <tr>\n",
       "      <th>7581</th>\n",
       "      <td>PARTO POR CESAREA, SIN OTRA ESPECIFICACION</td>\n",
       "      <td>3.399915</td>\n",
       "      <td>608280</td>\n",
       "      <td>20681.0</td>\n",
       "    </tr>\n",
       "    <tr>\n",
       "      <th>4958</th>\n",
       "      <td>NEUMONIA, NO ESPECIFICADA</td>\n",
       "      <td>6.761687</td>\n",
       "      <td>578332</td>\n",
       "      <td>39105.0</td>\n",
       "    </tr>\n",
       "    <tr>\n",
       "      <th>6587</th>\n",
       "      <td>CALCULO DE LA VESICULA BILIAR SIN COLECISTITIS</td>\n",
       "      <td>4.715302</td>\n",
       "      <td>440396</td>\n",
       "      <td>20766.0</td>\n",
       "    </tr>\n",
       "    <tr>\n",
       "      <th>7785</th>\n",
       "      <td>PARTO POR CESAREA ELECTIVA</td>\n",
       "      <td>3.039879</td>\n",
       "      <td>366429</td>\n",
       "      <td>11139.0</td>\n",
       "    </tr>\n",
       "    <tr>\n",
       "      <th>8631</th>\n",
       "      <td>OTRAS APENDICITIS AGUDAS Y LAS NO ESPECIFICADAS</td>\n",
       "      <td>1.048422</td>\n",
       "      <td>290341</td>\n",
       "      <td>3044.0</td>\n",
       "    </tr>\n",
       "    <tr>\n",
       "      <th>4944</th>\n",
       "      <td>HERNIA INGUINAL UNILATERAL O NO ESPECIFICADA, ...</td>\n",
       "      <td>6.788624</td>\n",
       "      <td>268891</td>\n",
       "      <td>18254.0</td>\n",
       "    </tr>\n",
       "    <tr>\n",
       "      <th>1905</th>\n",
       "      <td>APENDICITIS AGUDA NO ESPECIFICADA</td>\n",
       "      <td>13.938155</td>\n",
       "      <td>254345</td>\n",
       "      <td>35451.0</td>\n",
       "    </tr>\n",
       "    <tr>\n",
       "      <th>6183</th>\n",
       "      <td>INFECCION DE VÍAS URINARIAS, SITIO NO ESPECIFI...</td>\n",
       "      <td>5.243365</td>\n",
       "      <td>222033</td>\n",
       "      <td>11642.0</td>\n",
       "    </tr>\n",
       "  </tbody>\n",
       "</table>\n",
       "</div>"
      ],
      "text/plain": [
       "                                 Primary diagnosis name  Percent of nan  \\\n",
       "5695    PARTO UNICO ESPONTANEO, SIN OTRA ESPECIFICACION        5.845318   \n",
       "6038  PARTO UNICO ESPONTANEO, PRESENTACION CEFALICA ...        5.409004   \n",
       "7581         PARTO POR CESAREA, SIN OTRA ESPECIFICACION        3.399915   \n",
       "4958                          NEUMONIA, NO ESPECIFICADA        6.761687   \n",
       "6587     CALCULO DE LA VESICULA BILIAR SIN COLECISTITIS        4.715302   \n",
       "7785                         PARTO POR CESAREA ELECTIVA        3.039879   \n",
       "8631    OTRAS APENDICITIS AGUDAS Y LAS NO ESPECIFICADAS        1.048422   \n",
       "4944  HERNIA INGUINAL UNILATERAL O NO ESPECIFICADA, ...        6.788624   \n",
       "1905                  APENDICITIS AGUDA NO ESPECIFICADA       13.938155   \n",
       "6183  INFECCION DE VÍAS URINARIAS, SITIO NO ESPECIFI...        5.243365   \n",
       "\n",
       "      Frequency of values  Frequency of nan  \n",
       "5695               965713           56449.0  \n",
       "6038               693270           37499.0  \n",
       "7581               608280           20681.0  \n",
       "4958               578332           39105.0  \n",
       "6587               440396           20766.0  \n",
       "7785               366429           11139.0  \n",
       "8631               290341            3044.0  \n",
       "4944               268891           18254.0  \n",
       "1905               254345           35451.0  \n",
       "6183               222033           11642.0  "
      ]
     },
     "execution_count": 21,
     "metadata": {},
     "output_type": "execute_result"
    }
   ],
   "source": [
    "# About the frequency of NaN Patient IDs, it is higher for births and other common or prevalent diseases, as expected\n",
    "df_diseases[df_diseases['Percent of nan'] != 100].sort_values(by='Frequency of values', ascending=False).head(10)"
   ]
  },
  {
   "cell_type": "code",
   "execution_count": 23,
   "id": "a0615fd4-1c82-48af-a9d5-28a15403182a",
   "metadata": {},
   "outputs": [],
   "source": [
    "# Lets check the diagnosis with high percent of NaN IDs that also are the most frequent among that group"
   ]
  },
  {
   "cell_type": "code",
   "execution_count": 25,
   "id": "32305233-2298-446f-a0b5-969f9c7b602d",
   "metadata": {},
   "outputs": [
    {
     "name": "stdout",
     "output_type": "stream",
     "text": [
      "         Primary diagnosis name  Percent of nan  Frequency of values     score\n",
      "5695  PARTO UNICO ESPONTANEO, S        5.845318               965713  1.058453\n",
      "41    FETO Y RECIEN NACIDO AFEC       90.909091                   11  0.909101\n",
      "42    FETO Y RECIEN NACIDO AFEC       90.048251                 1658  0.902198\n",
      "44    FETO Y RECIEN NACIDO AFEC       88.714003                14168  0.901810\n",
      "43       OTRAS TERAPIAS FISICAS       89.912281                  228  0.899358\n",
      "45    OTRAS INFECCIONES VIRALES       88.095238                   42  0.880995\n",
      "46    OTROS NACIMIENTOS MULTIPL       83.333333                    6  0.833339\n",
      "47    OTRAS DISFUNCIONES OVARIC       80.000000                    5  0.800004\n",
      "6038  PARTO UNICO ESPONTANEO, P        5.409004               693270  0.771974\n",
      "49    LESION (NEOPLASICA) DE SI       76.190476                   42  0.761947\n"
     ]
    }
   ],
   "source": [
    "# The table shows that only births are diagnosis with a high percent of NaN IDs AND high amount or frequency of IDs.\n",
    "\n",
    "# If df_norm is a slice, make a real copy\n",
    "df_norm = df_diseases[df_diseases['Percent of nan'] != 100].copy()\n",
    "\n",
    "# Normalize 'Percent of nan' (assuming it's between 0 and 100)\n",
    "df_norm['percent_norm'] = df_norm['Percent of nan'] / 100\n",
    "\n",
    "# Normalize 'Frequency of values'\n",
    "df_norm['count_norm'] = (\n",
    "    (df_norm['Frequency of values'] - df_norm['Frequency of values'].min()) /\n",
    "    (df_norm['Frequency of values'].max() - df_norm['Frequency of values'].min())\n",
    ")\n",
    "\n",
    "# Create a combined score\n",
    "df_norm['score'] = df_norm['percent_norm'] + df_norm['count_norm']\n",
    "\n",
    "# Sort by score descending\n",
    "df_sorted = df_norm.sort_values(by='score', ascending=False)\n",
    "\n",
    "# Makes diagnosis names shorter to display\n",
    "df_sorted['Primary diagnosis name'] = df_sorted['Primary diagnosis name'].str.slice(0, 25)\n",
    "\n",
    "\n",
    "# Show the top 10 disgnosis with the higher percent of NaN patient IDs and higher amount of IDs with that diagnosis\n",
    "print(df_sorted[['Primary diagnosis name', 'Percent of nan', 'Frequency of values', 'score']].head(10))\n"
   ]
  },
  {
   "cell_type": "markdown",
   "id": "709762d0-4f91-440a-aacd-f1a29d41b200",
   "metadata": {},
   "source": [
    "# Export data to analyze readmissions"
   ]
  },
  {
   "cell_type": "code",
   "execution_count": 43,
   "id": "ea34245e-4b2c-479d-8f2a-68318804100b",
   "metadata": {},
   "outputs": [],
   "source": [
    "mask = df_final['Patient ID'].notna() & (df_final['Year'] >= 2008)\n",
    "df_revisit = df_final[mask]"
   ]
  },
  {
   "cell_type": "code",
   "execution_count": 45,
   "id": "f5679435-18f3-444c-bb11-1a35c0494965",
   "metadata": {},
   "outputs": [],
   "source": [
    "df_revisit.to_parquet(\"Readmissions.parquet\", engine=\"pyarrow\", compression=\"snappy\")"
   ]
  },
  {
   "cell_type": "markdown",
   "id": "721a0bd5-0031-4fb0-a25a-f1d7c379ecee",
   "metadata": {},
   "source": [
    "Duplicates IDs and re-hospitalizations:\n",
    "If duplicates are exact copies → Drop them.\n",
    "If a patient was hospitalized multiple times in a year for the same issue → Decide whether to count all visits or keep only the first one.\n",
    "If duplicates exist across multiple years → It could indicate chronic conditions.\n",
    "If duplicate entries have different conditions → Keep them, as they indicate separate illnesses."
   ]
  },
  {
   "cell_type": "code",
   "execution_count": null,
   "id": "fb866525-725a-4a4b-addf-21a52ca4e44d",
   "metadata": {},
   "outputs": [],
   "source": [
    "# Count duplicated and see top 10 most frequent"
   ]
  },
  {
   "cell_type": "code",
   "execution_count": null,
   "id": "a43b7be4-0592-4f77-b684-70fcdaabb28f",
   "metadata": {},
   "outputs": [],
   "source": [
    "# See exact duplicates (same values in every column)"
   ]
  },
  {
   "cell_type": "code",
   "execution_count": null,
   "id": "e096f84b-03e0-443e-ac05-487fde19e3ac",
   "metadata": {},
   "outputs": [],
   "source": [
    "# Check Duplicates within the Same Year (Multiple hospitalizations for a chronic disease or many different health problems)"
   ]
  },
  {
   "cell_type": "code",
   "execution_count": null,
   "id": "c7f7fb4f-8972-4352-bacb-93d236528eca",
   "metadata": {},
   "outputs": [],
   "source": [
    "# Duplicates across the years"
   ]
  },
  {
   "cell_type": "code",
   "execution_count": 27,
   "id": "1a51f74c-ee06-48fa-a1a7-eaec5875c238",
   "metadata": {},
   "outputs": [
    {
     "data": {
      "text/plain": [
       "0                                                NaN\n",
       "1                                                NaN\n",
       "2                                                NaN\n",
       "3                                                NaN\n",
       "4                                                NaN\n",
       "                              ...                   \n",
       "26340649    9F742AA5C59C96EF9B07F3EDBCF55F8DA744EE02\n",
       "26340650    18C7CA0C9694DF3E3011E270C912D11B1BF2C257\n",
       "26340651    18C7CA0C9694DF3E3011E270C912D11B1BF2C257\n",
       "26340652    BB8EE4EAF297C191FFB91B1DADB935D6AEC58CE3\n",
       "26340653    44A39983F8C088BBB8EFA4B103865EE1948CFD1A\n",
       "Name: ID_PACIENTE, Length: 21314957, dtype: object"
      ]
     },
     "execution_count": 27,
     "metadata": {},
     "output_type": "execute_result"
    }
   ],
   "source": [
    "df[\"ID_PACIENTE\"][df[\"ID_PACIENTE\"].duplicated(keep=False)]"
   ]
  },
  {
   "cell_type": "code",
   "execution_count": null,
   "id": "dcd2e765-603f-4ed2-bc13-6c9773ed5657",
   "metadata": {},
   "outputs": [],
   "source": []
  },
  {
   "cell_type": "markdown",
   "id": "4b4fdd28-13dd-4401-bb18-bddb80e75097",
   "metadata": {},
   "source": [
    "## Exploratory analysis and visualizations with matplotlib and seaborn"
   ]
  },
  {
   "cell_type": "code",
   "execution_count": null,
   "id": "124f4109-cd4b-4f71-92ea-c9f78cdfad2c",
   "metadata": {},
   "outputs": [],
   "source": []
  },
  {
   "cell_type": "markdown",
   "id": "79a8be7c-00aa-4f72-8af1-3e4bfcb0d1ab",
   "metadata": {},
   "source": [
    "## Preguntas que surjan"
   ]
  },
  {
   "cell_type": "markdown",
   "id": "6ab2b887-56e3-4ed1-b3f7-e76abde0175b",
   "metadata": {},
   "source": [
    "1. ¿Cual es la tendencia en la evolución de la prevalencia de los problemas de salud a lo largo de los años?\n",
    "2. dfsdf\n",
    "3. dsf\n",
    "4. sdf\n",
    "5. sd\n",
    "6. *Bonus: \n",
    "\n",
    "*Bonus: revisitas: Let’s say your goal is:\n",
    "“Track how often and when patients are readmitted after a previous hospitalization.”\n",
    "\n",
    "In this case, you need to group visits by patient to:\n",
    "\n",
    "Calculate time between visits.\n",
    "\n",
    "Identify patterns of recurrence.\n",
    "\n",
    "Count how many times someone was admitted within a year.\n",
    "   "
   ]
  },
  {
   "cell_type": "code",
   "execution_count": null,
   "id": "9b5a108e-5a26-4e39-88bd-adb4cbfdb868",
   "metadata": {},
   "outputs": [],
   "source": []
  },
  {
   "cell_type": "code",
   "execution_count": null,
   "id": "faf16c1d-2993-44fa-82bf-56dcb97274d5",
   "metadata": {},
   "outputs": [],
   "source": []
  }
 ],
 "metadata": {
  "kernelspec": {
   "display_name": "Python 3 (ipykernel)",
   "language": "python",
   "name": "python3"
  },
  "language_info": {
   "codemirror_mode": {
    "name": "ipython",
    "version": 3
   },
   "file_extension": ".py",
   "mimetype": "text/x-python",
   "name": "python",
   "nbconvert_exporter": "python",
   "pygments_lexer": "ipython3",
   "version": "3.12.4"
  }
 },
 "nbformat": 4,
 "nbformat_minor": 5
}
