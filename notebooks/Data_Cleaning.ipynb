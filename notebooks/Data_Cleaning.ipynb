{
 "cells": [
  {
   "cell_type": "code",
   "execution_count": 1,
   "id": "8793fc92-b265-4725-867f-4adf63d39b36",
   "metadata": {},
   "outputs": [],
   "source": [
    "import pandas as pd\n",
    "import numpy as np"
   ]
  },
  {
   "cell_type": "markdown",
   "id": "7c3b793c-eab2-4027-a0a0-9c8890ae46d3",
   "metadata": {},
   "source": [
    "## Data importation and cleaning"
   ]
  },
  {
   "cell_type": "code",
   "execution_count": 17,
   "id": "2dd22660-6d63-43e9-a7cc-a6e5b243acb9",
   "metadata": {},
   "outputs": [
    {
     "name": "stderr",
     "output_type": "stream",
     "text": [
      "C:\\Users\\mirko\\AppData\\Local\\Temp\\ipykernel_11092\\3040402395.py:2: DtypeWarning: Columns (1) have mixed types. Specify dtype option on import or set low_memory=False.\n",
      "  df = pd.read_csv(r'C:\\Users\\mirko\\Desktop\\Curso Data Science DL\\ProyectoEDA_Egresos_Hospitalarios_2001-2020\\notebooks\\Egresos_2001-2020.csv')\n"
     ]
    }
   ],
   "source": [
    "# Parquet file is lighter than a CSV and helps to make the analysis faster.\n",
    "df = pd.read_csv(r'C:\\Users\\mirko\\Desktop\\Curso Data Science DL\\ProyectoEDA_Egresos_Hospitalarios_2001-2020\\notebooks\\Egresos_2001-2020.csv')"
   ]
  },
  {
   "cell_type": "markdown",
   "id": "81c84d4a-7f1c-490b-8334-05d773b59831",
   "metadata": {},
   "source": [
    "Basic information about the data"
   ]
  },
  {
   "cell_type": "code",
   "execution_count": 19,
   "id": "eff19010-8677-43cf-a172-cf5933cacb02",
   "metadata": {},
   "outputs": [
    {
     "data": {
      "text/html": [
       "<div>\n",
       "<style scoped>\n",
       "    .dataframe tbody tr th:only-of-type {\n",
       "        vertical-align: middle;\n",
       "    }\n",
       "\n",
       "    .dataframe tbody tr th {\n",
       "        vertical-align: top;\n",
       "    }\n",
       "\n",
       "    .dataframe thead th {\n",
       "        text-align: right;\n",
       "    }\n",
       "</style>\n",
       "<table border=\"1\" class=\"dataframe\">\n",
       "  <thead>\n",
       "    <tr style=\"text-align: right;\">\n",
       "      <th></th>\n",
       "      <th>Unnamed: 0</th>\n",
       "      <th>ID_PACIENTE</th>\n",
       "      <th>SEXO</th>\n",
       "      <th>EDAD_A_OS</th>\n",
       "      <th>PREVISION</th>\n",
       "      <th>PERTENENCIA_ESTABLECIMIENTO_SALUD</th>\n",
       "      <th>GLOSA_ESTABLECIMIENTO_SALUD</th>\n",
       "      <th>DIAS_ESTADA</th>\n",
       "      <th>CONDICION_EGRESO</th>\n",
       "      <th>DIAG1</th>\n",
       "      <th>GLOSA_DIAG1</th>\n",
       "      <th>Año</th>\n",
       "    </tr>\n",
       "  </thead>\n",
       "  <tbody>\n",
       "    <tr>\n",
       "      <th>0</th>\n",
       "      <td>0</td>\n",
       "      <td>NaN</td>\n",
       "      <td>Hombre</td>\n",
       "      <td>60.0</td>\n",
       "      <td>Fonasa</td>\n",
       "      <td>Privado</td>\n",
       "      <td>Clínica Familia</td>\n",
       "      <td>2.0</td>\n",
       "      <td>Muerto</td>\n",
       "      <td>C780</td>\n",
       "      <td>TUMOR MALIGNO SECUNDARIO DEL PULMÓN</td>\n",
       "      <td>2001</td>\n",
       "    </tr>\n",
       "    <tr>\n",
       "      <th>1</th>\n",
       "      <td>1</td>\n",
       "      <td>NaN</td>\n",
       "      <td>Hombre</td>\n",
       "      <td>74.0</td>\n",
       "      <td>Fonasa</td>\n",
       "      <td>Publico</td>\n",
       "      <td>Hospital Del Salvador (Santiago, Providencia)</td>\n",
       "      <td>58.0</td>\n",
       "      <td>Muerto</td>\n",
       "      <td>E145</td>\n",
       "      <td>DIABETES MELLITUS NO ESPECIFICADA, CON COMPLIC...</td>\n",
       "      <td>2001</td>\n",
       "    </tr>\n",
       "    <tr>\n",
       "      <th>2</th>\n",
       "      <td>2</td>\n",
       "      <td>NaN</td>\n",
       "      <td>Hombre</td>\n",
       "      <td>71.0</td>\n",
       "      <td>Fonasa</td>\n",
       "      <td>Publico</td>\n",
       "      <td>Hospital Del Salvador (Santiago, Providencia)</td>\n",
       "      <td>12.0</td>\n",
       "      <td>Muerto</td>\n",
       "      <td>J189</td>\n",
       "      <td>NEUMONIA, NO ESPECIFICADA</td>\n",
       "      <td>2001</td>\n",
       "    </tr>\n",
       "    <tr>\n",
       "      <th>3</th>\n",
       "      <td>3</td>\n",
       "      <td>NaN</td>\n",
       "      <td>Hombre</td>\n",
       "      <td>2.0</td>\n",
       "      <td>Fonasa</td>\n",
       "      <td>Publico</td>\n",
       "      <td>Instituto de Neurocirugía Dr. Alfonso Asenjo</td>\n",
       "      <td>1.0</td>\n",
       "      <td>Muerto</td>\n",
       "      <td>S065</td>\n",
       "      <td>HEMORRAGIA SUBDURAL TRAUMÁTICA</td>\n",
       "      <td>2001</td>\n",
       "    </tr>\n",
       "    <tr>\n",
       "      <th>4</th>\n",
       "      <td>4</td>\n",
       "      <td>NaN</td>\n",
       "      <td>Hombre</td>\n",
       "      <td>81.0</td>\n",
       "      <td>Fonasa</td>\n",
       "      <td>Publico</td>\n",
       "      <td>Hospital Dr. Leonardo Guzmán (Antofagasta)</td>\n",
       "      <td>7.0</td>\n",
       "      <td>Vivo</td>\n",
       "      <td>K830</td>\n",
       "      <td>COLANGITIS</td>\n",
       "      <td>2001</td>\n",
       "    </tr>\n",
       "  </tbody>\n",
       "</table>\n",
       "</div>"
      ],
      "text/plain": [
       "   Unnamed: 0 ID_PACIENTE    SEXO  EDAD_A_OS PREVISION  \\\n",
       "0           0         NaN  Hombre       60.0    Fonasa   \n",
       "1           1         NaN  Hombre       74.0    Fonasa   \n",
       "2           2         NaN  Hombre       71.0    Fonasa   \n",
       "3           3         NaN  Hombre        2.0    Fonasa   \n",
       "4           4         NaN  Hombre       81.0    Fonasa   \n",
       "\n",
       "  PERTENENCIA_ESTABLECIMIENTO_SALUD  \\\n",
       "0                           Privado   \n",
       "1                           Publico   \n",
       "2                           Publico   \n",
       "3                           Publico   \n",
       "4                           Publico   \n",
       "\n",
       "                     GLOSA_ESTABLECIMIENTO_SALUD  DIAS_ESTADA  \\\n",
       "0                               Clínica Familia           2.0   \n",
       "1  Hospital Del Salvador (Santiago, Providencia)         58.0   \n",
       "2  Hospital Del Salvador (Santiago, Providencia)         12.0   \n",
       "3   Instituto de Neurocirugía Dr. Alfonso Asenjo          1.0   \n",
       "4     Hospital Dr. Leonardo Guzmán (Antofagasta)          7.0   \n",
       "\n",
       "  CONDICION_EGRESO DIAG1                                        GLOSA_DIAG1  \\\n",
       "0           Muerto  C780                TUMOR MALIGNO SECUNDARIO DEL PULMÓN   \n",
       "1           Muerto  E145  DIABETES MELLITUS NO ESPECIFICADA, CON COMPLIC...   \n",
       "2           Muerto  J189                          NEUMONIA, NO ESPECIFICADA   \n",
       "3           Muerto  S065                     HEMORRAGIA SUBDURAL TRAUMÁTICA   \n",
       "4             Vivo  K830                                         COLANGITIS   \n",
       "\n",
       "    Año  \n",
       "0  2001  \n",
       "1  2001  \n",
       "2  2001  \n",
       "3  2001  \n",
       "4  2001  "
      ]
     },
     "execution_count": 19,
     "metadata": {},
     "output_type": "execute_result"
    }
   ],
   "source": [
    "# A quick view of the data\n",
    "df.head()"
   ]
  },
  {
   "cell_type": "code",
   "execution_count": 21,
   "id": "e9930a99-07b3-4b46-a96f-b44c29852222",
   "metadata": {},
   "outputs": [
    {
     "name": "stdout",
     "output_type": "stream",
     "text": [
      "<class 'pandas.core.frame.DataFrame'>\n",
      "RangeIndex: 26340655 entries, 0 to 26340654\n",
      "Data columns (total 12 columns):\n",
      " #   Column                             Dtype  \n",
      "---  ------                             -----  \n",
      " 0   Unnamed: 0                         int64  \n",
      " 1   ID_PACIENTE                        object \n",
      " 2   SEXO                               object \n",
      " 3   EDAD_A_OS                          float64\n",
      " 4   PREVISION                          object \n",
      " 5   PERTENENCIA_ESTABLECIMIENTO_SALUD  object \n",
      " 6   GLOSA_ESTABLECIMIENTO_SALUD        object \n",
      " 7   DIAS_ESTADA                        float64\n",
      " 8   CONDICION_EGRESO                   object \n",
      " 9   DIAG1                              object \n",
      " 10  GLOSA_DIAG1                        object \n",
      " 11  Año                                int64  \n",
      "dtypes: float64(2), int64(2), object(8)\n",
      "memory usage: 2.4+ GB\n"
     ]
    }
   ],
   "source": [
    "# the datatype of each column was established in the notebook \"Data_Importation\"\n",
    "df.info()"
   ]
  },
  {
   "cell_type": "markdown",
   "id": "0b024608-b0d0-42bb-a601-27d014c8b510",
   "metadata": {},
   "source": [
    "Missing data in \"ID_PACIENTE\" column"
   ]
  },
  {
   "cell_type": "code",
   "execution_count": 23,
   "id": "dc40f69f-617e-45b4-8c1d-d173ed0fe24e",
   "metadata": {},
   "outputs": [
    {
     "data": {
      "text/plain": [
       "Unnamed: 0                                 0\n",
       "ID_PACIENTE                          1944331\n",
       "SEXO                                       0\n",
       "EDAD_A_OS                                  0\n",
       "PREVISION                                  0\n",
       "PERTENENCIA_ESTABLECIMIENTO_SALUD          0\n",
       "GLOSA_ESTABLECIMIENTO_SALUD             2753\n",
       "DIAS_ESTADA                                0\n",
       "CONDICION_EGRESO                           0\n",
       "DIAG1                                      0\n",
       "GLOSA_DIAG1                                0\n",
       "Año                                        0\n",
       "dtype: int64"
      ]
     },
     "execution_count": 23,
     "metadata": {},
     "output_type": "execute_result"
    }
   ],
   "source": [
    "# All missing data was deleted on the importation process, except on \"GLOSA_ESTABLECIMIENTO_SALUD\" and \"ID_PACIENTE\" columns\n",
    "df.isnull().sum()"
   ]
  },
  {
   "cell_type": "code",
   "execution_count": 25,
   "id": "61bf1a16-6d12-4bc7-b437-7859128d41a5",
   "metadata": {},
   "outputs": [
    {
     "data": {
      "text/plain": [
       "(26340655, 12)"
      ]
     },
     "execution_count": 25,
     "metadata": {},
     "output_type": "execute_result"
    }
   ],
   "source": [
    "df.shape"
   ]
  },
  {
   "cell_type": "code",
   "execution_count": null,
   "id": "5fdf1794-0c25-488a-9540-fffcd8ab8574",
   "metadata": {},
   "outputs": [],
   "source": [
    "df['ID'].isna().mean()"
   ]
  },
  {
   "cell_type": "markdown",
   "id": "721a0bd5-0031-4fb0-a25a-f1d7c379ecee",
   "metadata": {},
   "source": [
    "Fixing missing or incorrect values (outilers, duplicates)"
   ]
  },
  {
   "cell_type": "code",
   "execution_count": 27,
   "id": "1a51f74c-ee06-48fa-a1a7-eaec5875c238",
   "metadata": {},
   "outputs": [
    {
     "data": {
      "text/plain": [
       "0                                                NaN\n",
       "1                                                NaN\n",
       "2                                                NaN\n",
       "3                                                NaN\n",
       "4                                                NaN\n",
       "                              ...                   \n",
       "26340649    9F742AA5C59C96EF9B07F3EDBCF55F8DA744EE02\n",
       "26340650    18C7CA0C9694DF3E3011E270C912D11B1BF2C257\n",
       "26340651    18C7CA0C9694DF3E3011E270C912D11B1BF2C257\n",
       "26340652    BB8EE4EAF297C191FFB91B1DADB935D6AEC58CE3\n",
       "26340653    44A39983F8C088BBB8EFA4B103865EE1948CFD1A\n",
       "Name: ID_PACIENTE, Length: 21314957, dtype: object"
      ]
     },
     "execution_count": 27,
     "metadata": {},
     "output_type": "execute_result"
    }
   ],
   "source": [
    "df[\"ID_PACIENTE\"][df[\"ID_PACIENTE\"].duplicated(keep=False)]"
   ]
  },
  {
   "cell_type": "code",
   "execution_count": null,
   "id": "dcd2e765-603f-4ed2-bc13-6c9773ed5657",
   "metadata": {},
   "outputs": [],
   "source": []
  },
  {
   "cell_type": "markdown",
   "id": "4b4fdd28-13dd-4401-bb18-bddb80e75097",
   "metadata": {},
   "source": [
    "## Exploratory analysis and visualizations with matplotlib and seaborn"
   ]
  },
  {
   "cell_type": "code",
   "execution_count": null,
   "id": "124f4109-cd4b-4f71-92ea-c9f78cdfad2c",
   "metadata": {},
   "outputs": [],
   "source": []
  },
  {
   "cell_type": "markdown",
   "id": "79a8be7c-00aa-4f72-8af1-3e4bfcb0d1ab",
   "metadata": {},
   "source": [
    "## Preguntas que surjan"
   ]
  },
  {
   "cell_type": "markdown",
   "id": "6ab2b887-56e3-4ed1-b3f7-e76abde0175b",
   "metadata": {},
   "source": [
    "1. ¿Cual es la tendencia en la evolución de la prevalencia de los problemas de salud a lo largo de los años?\n",
    "2. dfsdf\n",
    "3. dsf\n",
    "4. sdf\n",
    "5. sd\n",
    "\n",
    "   "
   ]
  },
  {
   "cell_type": "code",
   "execution_count": null,
   "id": "9b5a108e-5a26-4e39-88bd-adb4cbfdb868",
   "metadata": {},
   "outputs": [],
   "source": []
  },
  {
   "cell_type": "code",
   "execution_count": null,
   "id": "faf16c1d-2993-44fa-82bf-56dcb97274d5",
   "metadata": {},
   "outputs": [],
   "source": []
  }
 ],
 "metadata": {
  "kernelspec": {
   "display_name": "Python 3 (ipykernel)",
   "language": "python",
   "name": "python3"
  },
  "language_info": {
   "codemirror_mode": {
    "name": "ipython",
    "version": 3
   },
   "file_extension": ".py",
   "mimetype": "text/x-python",
   "name": "python",
   "nbconvert_exporter": "python",
   "pygments_lexer": "ipython3",
   "version": "3.12.4"
  }
 },
 "nbformat": 4,
 "nbformat_minor": 5
}
