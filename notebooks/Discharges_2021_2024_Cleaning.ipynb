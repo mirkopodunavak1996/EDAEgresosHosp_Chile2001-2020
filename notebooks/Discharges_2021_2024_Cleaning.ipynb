{
 "cells": [
  {
   "cell_type": "markdown",
   "id": "7cd69986-f8c1-4bbd-bf57-428b88702ae0",
   "metadata": {},
   "source": [
    "# Import libraries"
   ]
  },
  {
   "cell_type": "code",
   "execution_count": 2,
   "id": "1b0ac1bb-8549-4fa4-83fa-7a579341b717",
   "metadata": {},
   "outputs": [],
   "source": [
    "# Import libraries\n",
    "import numpy as np\n",
    "import pandas as pd\n",
    "import seaborn as sns\n",
    "import matplotlib.pyplot as plt"
   ]
  },
  {
   "cell_type": "markdown",
   "id": "a8103ff6-b48e-4d99-b37c-af7587a992b0",
   "metadata": {},
   "source": [
    "# General view of the dataframe"
   ]
  },
  {
   "cell_type": "code",
   "execution_count": 4,
   "id": "628fe95c-c336-4220-8259-0256a51e649d",
   "metadata": {},
   "outputs": [],
   "source": [
    "# Import hospital discharges from 2021 to 2024\n",
    "df = pd.read_parquet(r\"C:\\Users\\mirko\\Desktop\\Curso Data Science DL\\ProyectoEDA_Egresos_Hospitalarios_2001-2020\\data\\processed\\Discharges_2021-2024_messy.parquet\")"
   ]
  },
  {
   "cell_type": "code",
   "execution_count": 5,
   "id": "b62d7799-44d2-487a-af1b-09466c9aa618",
   "metadata": {},
   "outputs": [
    {
     "data": {
      "text/html": [
       "<div>\n",
       "<style scoped>\n",
       "    .dataframe tbody tr th:only-of-type {\n",
       "        vertical-align: middle;\n",
       "    }\n",
       "\n",
       "    .dataframe tbody tr th {\n",
       "        vertical-align: top;\n",
       "    }\n",
       "\n",
       "    .dataframe thead th {\n",
       "        text-align: right;\n",
       "    }\n",
       "</style>\n",
       "<table border=\"1\" class=\"dataframe\">\n",
       "  <thead>\n",
       "    <tr style=\"text-align: right;\">\n",
       "      <th></th>\n",
       "      <th>Healthcare facility type</th>\n",
       "      <th>Sex</th>\n",
       "      <th>Age</th>\n",
       "      <th>Health insurance</th>\n",
       "      <th>Year_with_nans</th>\n",
       "      <th>Primary diagnosis code</th>\n",
       "      <th>Length of stay</th>\n",
       "      <th>Discharge condition</th>\n",
       "      <th>Year</th>\n",
       "    </tr>\n",
       "  </thead>\n",
       "  <tbody>\n",
       "    <tr>\n",
       "      <th>0</th>\n",
       "      <td>No Pertenecientes al Sistema Nacional de Servi...</td>\n",
       "      <td>1</td>\n",
       "      <td>1 A 4 AÑOS</td>\n",
       "      <td>ISAPRE</td>\n",
       "      <td>2021</td>\n",
       "      <td>K590</td>\n",
       "      <td>1</td>\n",
       "      <td>1</td>\n",
       "      <td>2021</td>\n",
       "    </tr>\n",
       "    <tr>\n",
       "      <th>1</th>\n",
       "      <td>No Pertenecientes al Sistema Nacional de Servi...</td>\n",
       "      <td>1</td>\n",
       "      <td>1 A 4 AÑOS</td>\n",
       "      <td>NINGUNA</td>\n",
       "      <td>2021</td>\n",
       "      <td>S015</td>\n",
       "      <td>1</td>\n",
       "      <td>1</td>\n",
       "      <td>2021</td>\n",
       "    </tr>\n",
       "    <tr>\n",
       "      <th>2</th>\n",
       "      <td>No Pertenecientes al Sistema Nacional de Servi...</td>\n",
       "      <td>1</td>\n",
       "      <td>1 A 4 AÑOS</td>\n",
       "      <td>ISAPRE</td>\n",
       "      <td>2021</td>\n",
       "      <td>T181</td>\n",
       "      <td>1</td>\n",
       "      <td>1</td>\n",
       "      <td>2021</td>\n",
       "    </tr>\n",
       "    <tr>\n",
       "      <th>3</th>\n",
       "      <td>No Pertenecientes al Sistema Nacional de Servi...</td>\n",
       "      <td>1</td>\n",
       "      <td>1 A 4 AÑOS</td>\n",
       "      <td>FONASA</td>\n",
       "      <td>2021</td>\n",
       "      <td>Q381</td>\n",
       "      <td>1</td>\n",
       "      <td>1</td>\n",
       "      <td>2021</td>\n",
       "    </tr>\n",
       "    <tr>\n",
       "      <th>4</th>\n",
       "      <td>No Pertenecientes al Sistema Nacional de Servi...</td>\n",
       "      <td>1</td>\n",
       "      <td>1 A 4 AÑOS</td>\n",
       "      <td>FONASA</td>\n",
       "      <td>2021</td>\n",
       "      <td>Q531</td>\n",
       "      <td>1</td>\n",
       "      <td>1</td>\n",
       "      <td>2021</td>\n",
       "    </tr>\n",
       "  </tbody>\n",
       "</table>\n",
       "</div>"
      ],
      "text/plain": [
       "                            Healthcare facility type Sex         Age  \\\n",
       "0  No Pertenecientes al Sistema Nacional de Servi...   1  1 A 4 AÑOS   \n",
       "1  No Pertenecientes al Sistema Nacional de Servi...   1  1 A 4 AÑOS   \n",
       "2  No Pertenecientes al Sistema Nacional de Servi...   1  1 A 4 AÑOS   \n",
       "3  No Pertenecientes al Sistema Nacional de Servi...   1  1 A 4 AÑOS   \n",
       "4  No Pertenecientes al Sistema Nacional de Servi...   1  1 A 4 AÑOS   \n",
       "\n",
       "  Health insurance Year_with_nans Primary diagnosis code  Length of stay  \\\n",
       "0           ISAPRE           2021                   K590               1   \n",
       "1          NINGUNA           2021                   S015               1   \n",
       "2           ISAPRE           2021                   T181               1   \n",
       "3           FONASA           2021                   Q381               1   \n",
       "4           FONASA           2021                   Q531               1   \n",
       "\n",
       "  Discharge condition  Year  \n",
       "0                   1  2021  \n",
       "1                   1  2021  \n",
       "2                   1  2021  \n",
       "3                   1  2021  \n",
       "4                   1  2021  "
      ]
     },
     "execution_count": 5,
     "metadata": {},
     "output_type": "execute_result"
    }
   ],
   "source": [
    "# A general idea of the rows and columns\n",
    "df.head()"
   ]
  },
  {
   "cell_type": "code",
   "execution_count": 6,
   "id": "3c690e17-18e1-4b8e-8644-7a8d1ba5b90a",
   "metadata": {},
   "outputs": [
    {
     "data": {
      "text/plain": [
       "(6343796, 9)"
      ]
     },
     "execution_count": 6,
     "metadata": {},
     "output_type": "execute_result"
    }
   ],
   "source": [
    "# shape of the dataframe\n",
    "df.shape                         "
   ]
  },
  {
   "cell_type": "code",
   "execution_count": 7,
   "id": "52b67fb2-0ad7-4630-8d5c-6e058f193fce",
   "metadata": {},
   "outputs": [
    {
     "name": "stdout",
     "output_type": "stream",
     "text": [
      "<class 'pandas.core.frame.DataFrame'>\n",
      "Index: 6343796 entries, 0 to 1667348\n",
      "Data columns (total 9 columns):\n",
      " #   Column                    Dtype   \n",
      "---  ------                    -----   \n",
      " 0   Healthcare facility type  category\n",
      " 1   Sex                       category\n",
      " 2   Age                       category\n",
      " 3   Health insurance          category\n",
      " 4   Year_with_nans            category\n",
      " 5   Primary diagnosis code    category\n",
      " 6   Length of stay            int32   \n",
      " 7   Discharge condition       category\n",
      " 8   Year                      int16   \n",
      "dtypes: category(7), int16(1), int32(1)\n",
      "memory usage: 133.4 MB\n"
     ]
    }
   ],
   "source": [
    "# Datatypes are as light as possible\n",
    "df.info()"
   ]
  },
  {
   "cell_type": "code",
   "execution_count": 8,
   "id": "2c3e433d-6729-4dc6-9dd9-ab8ab97bf41c",
   "metadata": {},
   "outputs": [
    {
     "data": {
      "text/plain": [
       "count    6.343796e+06\n",
       "mean     6.247676e+00\n",
       "std      4.637814e+01\n",
       "min      1.000000e+00\n",
       "25%      1.000000e+00\n",
       "50%      2.000000e+00\n",
       "75%      6.000000e+00\n",
       "max      2.223900e+04\n",
       "Name: Length of stay, dtype: float64"
      ]
     },
     "execution_count": 8,
     "metadata": {},
     "output_type": "execute_result"
    }
   ],
   "source": [
    "# The only numeric column is length of stay: mean a median differ suggesting there are outliers affecting the distribution of the data\n",
    "df[\"Length of stay\"].describe()  "
   ]
  },
  {
   "cell_type": "code",
   "execution_count": 9,
   "id": "af9e01f8-dad6-4326-b256-7ec5b4584b57",
   "metadata": {},
   "outputs": [
    {
     "data": {
      "text/plain": [
       "Index(['Healthcare facility type', 'Sex', 'Age', 'Health insurance',\n",
       "       'Year_with_nans', 'Primary diagnosis code', 'Length of stay',\n",
       "       'Discharge condition', 'Year'],\n",
       "      dtype='object')"
      ]
     },
     "execution_count": 9,
     "metadata": {},
     "output_type": "execute_result"
    }
   ],
   "source": [
    "# Columns in the dataframe\n",
    "df.columns"
   ]
  },
  {
   "cell_type": "code",
   "execution_count": 10,
   "id": "b89c2c37-5a27-44d1-b4b3-7b02e8358d14",
   "metadata": {},
   "outputs": [
    {
     "data": {
      "text/plain": [
       "Healthcare facility type    1651836\n",
       "Sex                          173892\n",
       "Age                          167677\n",
       "Health insurance             173892\n",
       "Year_with_nans               167677\n",
       "Primary diagnosis code            0\n",
       "Length of stay                    0\n",
       "Discharge condition               0\n",
       "Year                              0\n",
       "dtype: int64"
      ]
     },
     "execution_count": 10,
     "metadata": {},
     "output_type": "execute_result"
    }
   ],
   "source": [
    "# Apparently the missingness of the data is structured following a pattern\n",
    "df.isna().sum()"
   ]
  },
  {
   "cell_type": "code",
   "execution_count": 11,
   "id": "5f073ac2-d50f-4cb3-9d3a-8a7622536fe8",
   "metadata": {},
   "outputs": [
    {
     "data": {
      "text/plain": [
       "Healthcare facility type    0.260386\n",
       "Sex                         0.027411\n",
       "Age                         0.026432\n",
       "Health insurance            0.027411\n",
       "Year_with_nans              0.026432\n",
       "Primary diagnosis code      0.000000\n",
       "Length of stay              0.000000\n",
       "Discharge condition         0.000000\n",
       "Year                        0.000000\n",
       "dtype: float64"
      ]
     },
     "execution_count": 11,
     "metadata": {},
     "output_type": "execute_result"
    }
   ],
   "source": [
    "# Only the \"Healthcare facility type\" column has many null values (around 26%), but is important to understand the dinamic of the missing values\n",
    "# before making decisions about them\n",
    "df.isna().mean()"
   ]
  },
  {
   "cell_type": "markdown",
   "id": "a42a42d1-cb4a-44ff-aada-9b2e10a4abf9",
   "metadata": {},
   "source": [
    "# Handling missing data on each column"
   ]
  },
  {
   "cell_type": "markdown",
   "id": "5e142dc9-dfb8-47d2-baa5-c53d8df3b908",
   "metadata": {},
   "source": [
    "Healthcare facility type"
   ]
  },
  {
   "cell_type": "code",
   "execution_count": 14,
   "id": "1c7babdf-b63e-4e49-a083-96ee64461a91",
   "metadata": {},
   "outputs": [
    {
     "data": {
      "text/plain": [
       "Healthcare facility type\n",
       "Pertenecientes al Sistema Nacional de Servicios de Salud, SNSS       2779010\n",
       "No Pertenecientes al Sistema Nacional de Servicios de Salud, SNSS    1912950\n",
       "Name: count, dtype: int64"
      ]
     },
     "execution_count": 14,
     "metadata": {},
     "output_type": "execute_result"
    }
   ],
   "source": [
    "# The facilities are public (SNSS) or private (not SNSS)\n",
    "df[\"Healthcare facility type\"].value_counts()"
   ]
  },
  {
   "cell_type": "code",
   "execution_count": 15,
   "id": "768be5c1-4f7f-4adf-a40a-2897370e99f7",
   "metadata": {},
   "outputs": [
    {
     "data": {
      "text/plain": [
       "Healthcare facility type    1651836\n",
       "Sex                          167677\n",
       "Age                          167677\n",
       "Health insurance             167677\n",
       "Year_with_nans               167677\n",
       "Primary diagnosis code            0\n",
       "Length of stay                    0\n",
       "Discharge condition               0\n",
       "Year                              0\n",
       "dtype: int64"
      ]
     },
     "execution_count": 15,
     "metadata": {},
     "output_type": "execute_result"
    }
   ],
   "source": [
    "# Out of 1651836 rows that have missing healthcare facility type, there are 167677 patients without identified sex, insurance, age and year of discharge\n",
    "df.loc[df['Healthcare facility type'].isnull()].isna().sum()"
   ]
  },
  {
   "cell_type": "code",
   "execution_count": 16,
   "id": "4882a2ac-0425-497e-a14d-49ab3cef2ba6",
   "metadata": {},
   "outputs": [
    {
     "name": "stdout",
     "output_type": "stream",
     "text": [
      "Empty DataFrame\n",
      "Columns: [Healthcare facility type, Sex, Age, Health insurance, Year_with_nans, Primary diagnosis code, Length of stay, Discharge condition, Year]\n",
      "Index: []\n",
      "Empty DataFrame\n",
      "Columns: [Healthcare facility type, Sex, Age, Health insurance, Year_with_nans, Primary diagnosis code, Length of stay, Discharge condition, Year]\n",
      "Index: []\n",
      "Empty DataFrame\n",
      "Columns: [Healthcare facility type, Sex, Age, Health insurance, Year_with_nans, Primary diagnosis code, Length of stay, Discharge condition, Year]\n",
      "Index: []\n",
      "Empty DataFrame\n",
      "Columns: [Healthcare facility type, Sex, Age, Health insurance, Year_with_nans, Primary diagnosis code, Length of stay, Discharge condition, Year]\n",
      "Index: []\n"
     ]
    }
   ],
   "source": [
    "# Always when age, sex, health insurance or year_with_nans are missing, there are not valid values in healthcare facility type and the rest of the variables\n",
    "# This is proven beacuse the dataframes are empty\n",
    "print(df[df['Healthcare facility type'].notna() & df['Age'].isna() & df['Sex'].notna() & df['Health insurance'].notna() & df['Year_with_nans'].notna()])\n",
    "print(df[df['Healthcare facility type'].notna() & df['Age'].notna() & df['Sex'].isna() & df['Health insurance'].notna() & df['Year_with_nans'].notna()])\n",
    "print(df[df['Healthcare facility type'].notna() & df['Age'].notna() & df['Sex'].notna() & df['Health insurance'].isna() & df['Year_with_nans'].notna()])\n",
    "print(df[df['Healthcare facility type'].notna() & df['Age'].notna() & df['Sex'].notna() & df['Health insurance'].notna() & df['Year_with_nans'].isna()])"
   ]
  },
  {
   "cell_type": "code",
   "execution_count": 17,
   "id": "f36c9e64-5f21-4d95-8faf-5e789c2a12ec",
   "metadata": {},
   "outputs": [
    {
     "data": {
      "text/html": [
       "<div>\n",
       "<style scoped>\n",
       "    .dataframe tbody tr th:only-of-type {\n",
       "        vertical-align: middle;\n",
       "    }\n",
       "\n",
       "    .dataframe tbody tr th {\n",
       "        vertical-align: top;\n",
       "    }\n",
       "\n",
       "    .dataframe thead th {\n",
       "        text-align: right;\n",
       "    }\n",
       "</style>\n",
       "<table border=\"1\" class=\"dataframe\">\n",
       "  <thead>\n",
       "    <tr style=\"text-align: right;\">\n",
       "      <th></th>\n",
       "      <th>Healthcare facility type</th>\n",
       "      <th>Sex</th>\n",
       "      <th>Age</th>\n",
       "      <th>Health insurance</th>\n",
       "      <th>Year_with_nans</th>\n",
       "      <th>Primary diagnosis code</th>\n",
       "      <th>Length of stay</th>\n",
       "      <th>Discharge condition</th>\n",
       "      <th>Year</th>\n",
       "    </tr>\n",
       "  </thead>\n",
       "  <tbody>\n",
       "    <tr>\n",
       "      <th>0</th>\n",
       "      <td>NaN</td>\n",
       "      <td>HOMBRE</td>\n",
       "      <td>1 a 9</td>\n",
       "      <td>FONASA</td>\n",
       "      <td>2023</td>\n",
       "      <td>D180</td>\n",
       "      <td>7</td>\n",
       "      <td>1</td>\n",
       "      <td>2023</td>\n",
       "    </tr>\n",
       "    <tr>\n",
       "      <th>1</th>\n",
       "      <td>NaN</td>\n",
       "      <td>HOMBRE</td>\n",
       "      <td>1 a 9</td>\n",
       "      <td>FONASA</td>\n",
       "      <td>2023</td>\n",
       "      <td>T181</td>\n",
       "      <td>2</td>\n",
       "      <td>1</td>\n",
       "      <td>2023</td>\n",
       "    </tr>\n",
       "    <tr>\n",
       "      <th>2</th>\n",
       "      <td>NaN</td>\n",
       "      <td>HOMBRE</td>\n",
       "      <td>1 a 9</td>\n",
       "      <td>FONASA</td>\n",
       "      <td>2023</td>\n",
       "      <td>K358</td>\n",
       "      <td>1</td>\n",
       "      <td>1</td>\n",
       "      <td>2023</td>\n",
       "    </tr>\n",
       "    <tr>\n",
       "      <th>3</th>\n",
       "      <td>NaN</td>\n",
       "      <td>HOMBRE</td>\n",
       "      <td>1 a 9</td>\n",
       "      <td>FONASA</td>\n",
       "      <td>2023</td>\n",
       "      <td>K353</td>\n",
       "      <td>6</td>\n",
       "      <td>1</td>\n",
       "      <td>2023</td>\n",
       "    </tr>\n",
       "    <tr>\n",
       "      <th>4</th>\n",
       "      <td>NaN</td>\n",
       "      <td>HOMBRE</td>\n",
       "      <td>1 a 9</td>\n",
       "      <td>FONASA</td>\n",
       "      <td>2023</td>\n",
       "      <td>K353</td>\n",
       "      <td>1</td>\n",
       "      <td>1</td>\n",
       "      <td>2023</td>\n",
       "    </tr>\n",
       "    <tr>\n",
       "      <th>...</th>\n",
       "      <td>...</td>\n",
       "      <td>...</td>\n",
       "      <td>...</td>\n",
       "      <td>...</td>\n",
       "      <td>...</td>\n",
       "      <td>...</td>\n",
       "      <td>...</td>\n",
       "      <td>...</td>\n",
       "      <td>...</td>\n",
       "    </tr>\n",
       "    <tr>\n",
       "      <th>1484154</th>\n",
       "      <td>NaN</td>\n",
       "      <td>HOMBRE</td>\n",
       "      <td>menor de un año</td>\n",
       "      <td>FONASA</td>\n",
       "      <td>2023</td>\n",
       "      <td>Q249</td>\n",
       "      <td>2</td>\n",
       "      <td>1</td>\n",
       "      <td>2023</td>\n",
       "    </tr>\n",
       "    <tr>\n",
       "      <th>1484155</th>\n",
       "      <td>NaN</td>\n",
       "      <td>HOMBRE</td>\n",
       "      <td>menor de un año</td>\n",
       "      <td>FONASA</td>\n",
       "      <td>2023</td>\n",
       "      <td>D807</td>\n",
       "      <td>3</td>\n",
       "      <td>1</td>\n",
       "      <td>2023</td>\n",
       "    </tr>\n",
       "    <tr>\n",
       "      <th>1484156</th>\n",
       "      <td>NaN</td>\n",
       "      <td>HOMBRE</td>\n",
       "      <td>menor de un año</td>\n",
       "      <td>FONASA</td>\n",
       "      <td>2023</td>\n",
       "      <td>A499</td>\n",
       "      <td>4</td>\n",
       "      <td>1</td>\n",
       "      <td>2023</td>\n",
       "    </tr>\n",
       "    <tr>\n",
       "      <th>1484157</th>\n",
       "      <td>NaN</td>\n",
       "      <td>HOMBRE</td>\n",
       "      <td>menor de un año</td>\n",
       "      <td>FONASA</td>\n",
       "      <td>2023</td>\n",
       "      <td>T182</td>\n",
       "      <td>1</td>\n",
       "      <td>1</td>\n",
       "      <td>2023</td>\n",
       "    </tr>\n",
       "    <tr>\n",
       "      <th>1484158</th>\n",
       "      <td>NaN</td>\n",
       "      <td>HOMBRE</td>\n",
       "      <td>menor de un año</td>\n",
       "      <td>FONASA</td>\n",
       "      <td>2023</td>\n",
       "      <td>A099</td>\n",
       "      <td>3</td>\n",
       "      <td>1</td>\n",
       "      <td>2023</td>\n",
       "    </tr>\n",
       "  </tbody>\n",
       "</table>\n",
       "<p>1484159 rows × 9 columns</p>\n",
       "</div>"
      ],
      "text/plain": [
       "        Healthcare facility type     Sex              Age Health insurance  \\\n",
       "0                            NaN  HOMBRE            1 a 9           FONASA   \n",
       "1                            NaN  HOMBRE            1 a 9           FONASA   \n",
       "2                            NaN  HOMBRE            1 a 9           FONASA   \n",
       "3                            NaN  HOMBRE            1 a 9           FONASA   \n",
       "4                            NaN  HOMBRE            1 a 9           FONASA   \n",
       "...                          ...     ...              ...              ...   \n",
       "1484154                      NaN  HOMBRE  menor de un año           FONASA   \n",
       "1484155                      NaN  HOMBRE  menor de un año           FONASA   \n",
       "1484156                      NaN  HOMBRE  menor de un año           FONASA   \n",
       "1484157                      NaN  HOMBRE  menor de un año           FONASA   \n",
       "1484158                      NaN  HOMBRE  menor de un año           FONASA   \n",
       "\n",
       "        Year_with_nans Primary diagnosis code  Length of stay  \\\n",
       "0                 2023                   D180               7   \n",
       "1                 2023                   T181               2   \n",
       "2                 2023                   K358               1   \n",
       "3                 2023                   K353               6   \n",
       "4                 2023                   K353               1   \n",
       "...                ...                    ...             ...   \n",
       "1484154           2023                   Q249               2   \n",
       "1484155           2023                   D807               3   \n",
       "1484156           2023                   A499               4   \n",
       "1484157           2023                   T182               1   \n",
       "1484158           2023                   A099               3   \n",
       "\n",
       "        Discharge condition  Year  \n",
       "0                         1  2023  \n",
       "1                         1  2023  \n",
       "2                         1  2023  \n",
       "3                         1  2023  \n",
       "4                         1  2023  \n",
       "...                     ...   ...  \n",
       "1484154                   1  2023  \n",
       "1484155                   1  2023  \n",
       "1484156                   1  2023  \n",
       "1484157                   1  2023  \n",
       "1484158                   1  2023  \n",
       "\n",
       "[1484159 rows x 9 columns]"
      ]
     },
     "execution_count": 17,
     "metadata": {},
     "output_type": "execute_result"
    }
   ],
   "source": [
    "# By the other hand, there are rows that that having missing healthcare facility type are valid in the rest of the columns.\n",
    "# It does not happen in the opposite way around as shown above\n",
    "df[df['Healthcare facility type'].isna() & df['Age'].notna() & df['Sex'].notna() & df['Health insurance'].notna() & df['Year_with_nans'].notna()]"
   ]
  },
  {
   "cell_type": "code",
   "execution_count": 18,
   "id": "c615b1df-7242-4791-b1b8-62f128ad793b",
   "metadata": {},
   "outputs": [
    {
     "data": {
      "text/plain": [
       "Year_with_nans\n",
       "2023    1484159\n",
       "2021          0\n",
       "2022          0\n",
       "2024          0\n",
       "Name: count, dtype: int64"
      ]
     },
     "execution_count": 18,
     "metadata": {},
     "output_type": "execute_result"
    }
   ],
   "source": [
    "# The missing values for healthcare facility type when the rest of the columns are valid can follow a certaint pattern.\n",
    "# In this case, always when the healthcare facility type is missing, the year of discharge was 2023\n",
    "df[df['Healthcare facility type'].isna() & df['Age'].notna() & df['Sex'].notna() & df['Health insurance'].notna() & df['Year_with_nans'].notna()][\"Year_with_nans\"].value_counts()"
   ]
  },
  {
   "cell_type": "code",
   "execution_count": 19,
   "id": "995bb030-3498-4767-89b0-f82ac688270d",
   "metadata": {},
   "outputs": [
    {
     "name": "stdout",
     "output_type": "stream",
     "text": [
      "Dataframes are equeal? True\n"
     ]
    }
   ],
   "source": [
    "# Healthcare facility type is missing for the year 2023 or when the year or age is also missing.\n",
    "# 167677 (year, insurance, sex and age is missing) + 1484159 (year is 2023) = 1651836 (total amount of NaNs for healthvare facility type column)\n",
    "# Example\n",
    "example = df[df['Healthcare facility type'].isna()& df['Age'].isna()].equals(df[df['Healthcare facility type'].isna()& df['Year_with_nans'].isna()])\n",
    "print(\"Dataframes are equeal?\",example)"
   ]
  },
  {
   "cell_type": "code",
   "execution_count": 20,
   "id": "cc717896-cb0b-45f8-b516-d38a30552cd8",
   "metadata": {},
   "outputs": [
    {
     "data": {
      "text/plain": [
       "Sex\n",
       "MUJER                        854914\n",
       "HOMBRE                       629245\n",
       "1                                 0\n",
       "2                                 0\n",
       "3                                 0\n",
       "9                                 0\n",
       "INTERSEX (INDETERMINDADO)         0\n",
       "Name: count, dtype: int64"
      ]
     },
     "execution_count": 20,
     "metadata": {},
     "output_type": "execute_result"
    }
   ],
   "source": [
    "# The proportion of men and women when the healthcare facility type is missing follow an usual pattern, where there are more women in hospital\n",
    "df[df['Healthcare facility type'].isna()].Sex.value_counts()"
   ]
  },
  {
   "cell_type": "code",
   "execution_count": 21,
   "id": "1a333340-b48d-4f4a-a804-1bc01545f59d",
   "metadata": {},
   "outputs": [
    {
     "data": {
      "text/plain": [
       "Health insurance\n",
       "FONASA         1148342\n",
       "ISAPRE          275904\n",
       "DESCONOCIDO      16496\n",
       "DIPRECA          13588\n",
       "CAPREDENA        11553\n",
       "NINGUNA          10170\n",
       "SISA              8106\n",
       "Name: count, dtype: int64"
      ]
     },
     "execution_count": 21,
     "metadata": {},
     "output_type": "execute_result"
    }
   ],
   "source": [
    "# The healthcare insurance also follow an usual pattern, where Fonasa (public insurance) is more frequent than Isapre (private insurance)\n",
    "df[df['Healthcare facility type'].isna()][\"Health insurance\"].value_counts()"
   ]
  },
  {
   "cell_type": "code",
   "execution_count": 22,
   "id": "30618349-d8ca-4bac-9bdd-00e0d95a1a89",
   "metadata": {},
   "outputs": [
    {
     "data": {
      "text/plain": [
       "Age\n",
       "30 a 39                     16.185597\n",
       "60 a 69                     13.870818\n",
       "20 a 29                     12.336347\n",
       "50 a 59                     11.689516\n",
       "70 a 79                     11.439340\n",
       "40 a 49                     11.325539\n",
       "80 a 89                      6.382133\n",
       "1 a 9                        6.133844\n",
       "10 a 19                      5.865477\n",
       "menor de un año              3.350248\n",
       "90 y más                     1.421142\n",
       "60 A 64 AÑOS                 0.000000\n",
       "80 A 84 AÑOS                 0.000000\n",
       "70 A 74 AÑOS                 0.000000\n",
       "7 A 27 DIAS                  0.000000\n",
       "85 A MAS                     0.000000\n",
       "65 A 69 AÑOS                 0.000000\n",
       "menor a 7 días               0.000000\n",
       "75 A 79 AÑOS                 0.000000\n",
       "1 A 4 AÑOS                   0.000000\n",
       "55 A 59 AÑOS                 0.000000\n",
       "50 A 54 AÑOS                 0.000000\n",
       "45 A 49 AÑOS                 0.000000\n",
       "40 A 44 AÑOS                 0.000000\n",
       "35 A 39 AÑOS                 0.000000\n",
       "30 A 34 AÑOS                 0.000000\n",
       "28 DIAS A 2 MES              0.000000\n",
       "25 A 29 AÑOS                 0.000000\n",
       "20 A 24 AÑOS                 0.000000\n",
       "2 MESES A MENOS DE 1 AÑO     0.000000\n",
       "15 A 19 AÑOS                 0.000000\n",
       "10 A 14 AÑOS                 0.000000\n",
       "5 A 9 AÑOS                   0.000000\n",
       "Name: proportion, dtype: float64"
      ]
     },
     "execution_count": 22,
     "metadata": {},
     "output_type": "execute_result"
    }
   ],
   "source": [
    "nan_facility_type_age = df[df['Healthcare facility type'].isna()][\"Age\"].value_counts(normalize=True) * 100\n",
    "nan_facility_type_age"
   ]
  },
  {
   "cell_type": "code",
   "execution_count": 23,
   "id": "5c5a4471-edf2-4a25-8d9e-7e266cd28164",
   "metadata": {},
   "outputs": [
    {
     "data": {
      "text/plain": [
       "Age\n",
       "30 a 39                     8.160044\n",
       "60 a 69                     6.658372\n",
       "20 a 29                     6.282068\n",
       "50 a 59                     5.767959\n",
       "40 a 49                     5.639415\n",
       "70 a 79                     5.460598\n",
       "30 A 34 AÑOS                4.468923\n",
       "35 A 39 AÑOS                3.951608\n",
       "25 A 29 AÑOS                3.699864\n",
       "60 A 64 AÑOS                3.478706\n",
       "65 A 69 AÑOS                3.378044\n",
       "55 A 59 AÑOS                3.264720\n",
       "40 A 44 AÑOS                3.113460\n",
       "80 a 89                     3.064416\n",
       "70 A 74 AÑOS                2.981549\n",
       "1 a 9                       2.914144\n",
       "50 A 54 AÑOS                2.892885\n",
       "45 A 49 AÑOS                2.840975\n",
       "10 a 19                     2.831455\n",
       "20 A 24 AÑOS                2.635150\n",
       "75 A 79 AÑOS                2.609341\n",
       "85 A MAS                    1.997031\n",
       "80 A 84 AÑOS                1.936961\n",
       "menor de un año             1.745692\n",
       "15 A 19 AÑOS                1.636675\n",
       "1 A 4 AÑOS                  1.449308\n",
       "5 A 9 AÑOS                  1.402952\n",
       "10 A 14 AÑOS                1.314240\n",
       "menor a 7 días              0.899319\n",
       "90 y más                    0.725342\n",
       "2 MESES A MENOS DE 1 AÑO    0.508378\n",
       "7 A 27 DIAS                 0.170576\n",
       "28 DIAS A 2 MES             0.119833\n",
       "Name: proportion, dtype: float64"
      ]
     },
     "execution_count": 23,
     "metadata": {},
     "output_type": "execute_result"
    }
   ],
   "source": [
    "all_facility_type_age = df.Age.value_counts(normalize=True) * 100\n",
    "all_facility_type_age"
   ]
  },
  {
   "cell_type": "code",
   "execution_count": 24,
   "id": "30d2ea58-d2e7-4b5c-9f7e-3f682da95404",
   "metadata": {},
   "outputs": [
    {
     "data": {
      "text/html": [
       "<div>\n",
       "<style scoped>\n",
       "    .dataframe tbody tr th:only-of-type {\n",
       "        vertical-align: middle;\n",
       "    }\n",
       "\n",
       "    .dataframe tbody tr th {\n",
       "        vertical-align: top;\n",
       "    }\n",
       "\n",
       "    .dataframe thead th {\n",
       "        text-align: right;\n",
       "    }\n",
       "</style>\n",
       "<table border=\"1\" class=\"dataframe\">\n",
       "  <thead>\n",
       "    <tr style=\"text-align: right;\">\n",
       "      <th></th>\n",
       "      <th>all_facility_type_age</th>\n",
       "      <th>nan_facility_type_age</th>\n",
       "    </tr>\n",
       "    <tr>\n",
       "      <th>Age</th>\n",
       "      <th></th>\n",
       "      <th></th>\n",
       "    </tr>\n",
       "  </thead>\n",
       "  <tbody>\n",
       "    <tr>\n",
       "      <th>30 a 39</th>\n",
       "      <td>8.160044</td>\n",
       "      <td>16.185597</td>\n",
       "    </tr>\n",
       "    <tr>\n",
       "      <th>60 a 69</th>\n",
       "      <td>6.658372</td>\n",
       "      <td>13.870818</td>\n",
       "    </tr>\n",
       "    <tr>\n",
       "      <th>20 a 29</th>\n",
       "      <td>6.282068</td>\n",
       "      <td>12.336347</td>\n",
       "    </tr>\n",
       "    <tr>\n",
       "      <th>50 a 59</th>\n",
       "      <td>5.767959</td>\n",
       "      <td>11.689516</td>\n",
       "    </tr>\n",
       "    <tr>\n",
       "      <th>40 a 49</th>\n",
       "      <td>5.639415</td>\n",
       "      <td>11.325539</td>\n",
       "    </tr>\n",
       "    <tr>\n",
       "      <th>70 a 79</th>\n",
       "      <td>5.460598</td>\n",
       "      <td>11.439340</td>\n",
       "    </tr>\n",
       "    <tr>\n",
       "      <th>30 A 34 AÑOS</th>\n",
       "      <td>4.468923</td>\n",
       "      <td>0.000000</td>\n",
       "    </tr>\n",
       "    <tr>\n",
       "      <th>35 A 39 AÑOS</th>\n",
       "      <td>3.951608</td>\n",
       "      <td>0.000000</td>\n",
       "    </tr>\n",
       "    <tr>\n",
       "      <th>25 A 29 AÑOS</th>\n",
       "      <td>3.699864</td>\n",
       "      <td>0.000000</td>\n",
       "    </tr>\n",
       "    <tr>\n",
       "      <th>60 A 64 AÑOS</th>\n",
       "      <td>3.478706</td>\n",
       "      <td>0.000000</td>\n",
       "    </tr>\n",
       "    <tr>\n",
       "      <th>65 A 69 AÑOS</th>\n",
       "      <td>3.378044</td>\n",
       "      <td>0.000000</td>\n",
       "    </tr>\n",
       "    <tr>\n",
       "      <th>55 A 59 AÑOS</th>\n",
       "      <td>3.264720</td>\n",
       "      <td>0.000000</td>\n",
       "    </tr>\n",
       "    <tr>\n",
       "      <th>40 A 44 AÑOS</th>\n",
       "      <td>3.113460</td>\n",
       "      <td>0.000000</td>\n",
       "    </tr>\n",
       "    <tr>\n",
       "      <th>80 a 89</th>\n",
       "      <td>3.064416</td>\n",
       "      <td>6.382133</td>\n",
       "    </tr>\n",
       "    <tr>\n",
       "      <th>70 A 74 AÑOS</th>\n",
       "      <td>2.981549</td>\n",
       "      <td>0.000000</td>\n",
       "    </tr>\n",
       "    <tr>\n",
       "      <th>1 a 9</th>\n",
       "      <td>2.914144</td>\n",
       "      <td>6.133844</td>\n",
       "    </tr>\n",
       "    <tr>\n",
       "      <th>50 A 54 AÑOS</th>\n",
       "      <td>2.892885</td>\n",
       "      <td>0.000000</td>\n",
       "    </tr>\n",
       "    <tr>\n",
       "      <th>45 A 49 AÑOS</th>\n",
       "      <td>2.840975</td>\n",
       "      <td>0.000000</td>\n",
       "    </tr>\n",
       "    <tr>\n",
       "      <th>10 a 19</th>\n",
       "      <td>2.831455</td>\n",
       "      <td>5.865477</td>\n",
       "    </tr>\n",
       "    <tr>\n",
       "      <th>20 A 24 AÑOS</th>\n",
       "      <td>2.635150</td>\n",
       "      <td>0.000000</td>\n",
       "    </tr>\n",
       "    <tr>\n",
       "      <th>75 A 79 AÑOS</th>\n",
       "      <td>2.609341</td>\n",
       "      <td>0.000000</td>\n",
       "    </tr>\n",
       "    <tr>\n",
       "      <th>85 A MAS</th>\n",
       "      <td>1.997031</td>\n",
       "      <td>0.000000</td>\n",
       "    </tr>\n",
       "    <tr>\n",
       "      <th>80 A 84 AÑOS</th>\n",
       "      <td>1.936961</td>\n",
       "      <td>0.000000</td>\n",
       "    </tr>\n",
       "    <tr>\n",
       "      <th>menor de un año</th>\n",
       "      <td>1.745692</td>\n",
       "      <td>3.350248</td>\n",
       "    </tr>\n",
       "    <tr>\n",
       "      <th>15 A 19 AÑOS</th>\n",
       "      <td>1.636675</td>\n",
       "      <td>0.000000</td>\n",
       "    </tr>\n",
       "    <tr>\n",
       "      <th>1 A 4 AÑOS</th>\n",
       "      <td>1.449308</td>\n",
       "      <td>0.000000</td>\n",
       "    </tr>\n",
       "    <tr>\n",
       "      <th>5 A 9 AÑOS</th>\n",
       "      <td>1.402952</td>\n",
       "      <td>0.000000</td>\n",
       "    </tr>\n",
       "    <tr>\n",
       "      <th>10 A 14 AÑOS</th>\n",
       "      <td>1.314240</td>\n",
       "      <td>0.000000</td>\n",
       "    </tr>\n",
       "    <tr>\n",
       "      <th>menor a 7 días</th>\n",
       "      <td>0.899319</td>\n",
       "      <td>0.000000</td>\n",
       "    </tr>\n",
       "    <tr>\n",
       "      <th>90 y más</th>\n",
       "      <td>0.725342</td>\n",
       "      <td>1.421142</td>\n",
       "    </tr>\n",
       "    <tr>\n",
       "      <th>2 MESES A MENOS DE 1 AÑO</th>\n",
       "      <td>0.508378</td>\n",
       "      <td>0.000000</td>\n",
       "    </tr>\n",
       "    <tr>\n",
       "      <th>7 A 27 DIAS</th>\n",
       "      <td>0.170576</td>\n",
       "      <td>0.000000</td>\n",
       "    </tr>\n",
       "    <tr>\n",
       "      <th>28 DIAS A 2 MES</th>\n",
       "      <td>0.119833</td>\n",
       "      <td>0.000000</td>\n",
       "    </tr>\n",
       "  </tbody>\n",
       "</table>\n",
       "</div>"
      ],
      "text/plain": [
       "                          all_facility_type_age  nan_facility_type_age\n",
       "Age                                                                   \n",
       "30 a 39                                8.160044              16.185597\n",
       "60 a 69                                6.658372              13.870818\n",
       "20 a 29                                6.282068              12.336347\n",
       "50 a 59                                5.767959              11.689516\n",
       "40 a 49                                5.639415              11.325539\n",
       "70 a 79                                5.460598              11.439340\n",
       "30 A 34 AÑOS                           4.468923               0.000000\n",
       "35 A 39 AÑOS                           3.951608               0.000000\n",
       "25 A 29 AÑOS                           3.699864               0.000000\n",
       "60 A 64 AÑOS                           3.478706               0.000000\n",
       "65 A 69 AÑOS                           3.378044               0.000000\n",
       "55 A 59 AÑOS                           3.264720               0.000000\n",
       "40 A 44 AÑOS                           3.113460               0.000000\n",
       "80 a 89                                3.064416               6.382133\n",
       "70 A 74 AÑOS                           2.981549               0.000000\n",
       "1 a 9                                  2.914144               6.133844\n",
       "50 A 54 AÑOS                           2.892885               0.000000\n",
       "45 A 49 AÑOS                           2.840975               0.000000\n",
       "10 a 19                                2.831455               5.865477\n",
       "20 A 24 AÑOS                           2.635150               0.000000\n",
       "75 A 79 AÑOS                           2.609341               0.000000\n",
       "85 A MAS                               1.997031               0.000000\n",
       "80 A 84 AÑOS                           1.936961               0.000000\n",
       "menor de un año                        1.745692               3.350248\n",
       "15 A 19 AÑOS                           1.636675               0.000000\n",
       "1 A 4 AÑOS                             1.449308               0.000000\n",
       "5 A 9 AÑOS                             1.402952               0.000000\n",
       "10 A 14 AÑOS                           1.314240               0.000000\n",
       "menor a 7 días                         0.899319               0.000000\n",
       "90 y más                               0.725342               1.421142\n",
       "2 MESES A MENOS DE 1 AÑO               0.508378               0.000000\n",
       "7 A 27 DIAS                            0.170576               0.000000\n",
       "28 DIAS A 2 MES                        0.119833               0.000000"
      ]
     },
     "execution_count": 24,
     "metadata": {},
     "output_type": "execute_result"
    }
   ],
   "source": [
    "# The age groups overlap with each other. For example \"Age 30 to 39\" includes \"Age 30 to 34\" and \"Age 35 to 39\"\n",
    "# For some reason this overlapping does not happen when the healtcare facility type is nan. See the cell for more details.\n",
    "# The way the data was grouped shows different percents for healthcare facility type when is valid or NaN, but in reality are quite similar. See example below\n",
    "# So the question is: is there a reason behind of grouping the age of the people differently when the healthcare facility type is valid compared to NaN?\n",
    "# When the column \"Age\" is cleaned, this is going to be clearer\n",
    "pd.DataFrame({'all_facility_type_age': all_facility_type_age, 'nan_facility_type_age': nan_facility_type_age}).sort_values(by=['all_facility_type_age'], ascending = False)"
   ]
  },
  {
   "cell_type": "code",
   "execution_count": 25,
   "id": "2ddcf0a7-316c-482c-99a8-8c99337db79a",
   "metadata": {},
   "outputs": [
    {
     "name": "stdout",
     "output_type": "stream",
     "text": [
      "16.580575\n",
      "16.185597\n"
     ]
    }
   ],
   "source": [
    "# Example:\n",
    "\n",
    "# Valid heathcare facility types for Age 30-39, 30-34, 35-39, respectively\n",
    "print(8.160044 + 4.468923 + 3.951608)\n",
    "# NaN heathcare facility types for Age 30-39, 30-34, 35-39, respectively\n",
    "print(16.185597 + 0 + 0)"
   ]
  },
  {
   "cell_type": "markdown",
   "id": "97a1ebf4-60be-41ca-be0b-0d4b75369b63",
   "metadata": {},
   "source": [
    "Sex"
   ]
  },
  {
   "cell_type": "code",
   "execution_count": 27,
   "id": "8f5b6426-59b6-4a44-ad76-dfde6390ccbc",
   "metadata": {},
   "outputs": [
    {
     "data": {
      "text/plain": [
       "Sex\n",
       "2                            1789953\n",
       "MUJER                        1761041\n",
       "1                            1338190\n",
       "HOMBRE                       1280652\n",
       "3                                 49\n",
       "INTERSEX (INDETERMINDADO)         15\n",
       "9                                  4\n",
       "Name: count, dtype: int64"
      ]
     },
     "execution_count": 27,
     "metadata": {},
     "output_type": "execute_result"
    }
   ],
   "source": [
    "# There are different ways to label each sex, so a function is defined to fix that and consider just men and women\n",
    "df[\"Sex\"].value_counts()"
   ]
  },
  {
   "cell_type": "code",
   "execution_count": 28,
   "id": "81259085-fecb-48cd-a259-e52afd1dc72f",
   "metadata": {},
   "outputs": [],
   "source": [
    "  def sexo(x):\n",
    "        if x == \"2\" or x == \"MUJER\":\n",
    "            x = \"Mujer\"\n",
    "        elif x == \"1\" or x == \"HOMBRE\":\n",
    "            x = \"Hombre\"\n",
    "        else:\n",
    "            x = \"Otro\"\n",
    "        \n",
    "        return x"
   ]
  },
  {
   "cell_type": "code",
   "execution_count": 29,
   "id": "5e892914-f3d1-41c5-bf61-13ed324976e5",
   "metadata": {},
   "outputs": [],
   "source": [
    "# Function is applied over the column\n",
    "df[\"Sex\"] = df[\"Sex\"].apply(sexo)"
   ]
  },
  {
   "cell_type": "code",
   "execution_count": 30,
   "id": "d28d8b47-7cd1-4d79-acf7-7cd30c4986f6",
   "metadata": {},
   "outputs": [],
   "source": [
    "# Just men and women are kept in the dataframe\n",
    "df = df[df['Sex'] != 'Otro']"
   ]
  },
  {
   "cell_type": "code",
   "execution_count": 31,
   "id": "9dfd495f-c7d9-485e-a83a-3c6e63e881c5",
   "metadata": {},
   "outputs": [
    {
     "data": {
      "text/plain": [
       "Sex\n",
       "Mujer     3550994\n",
       "Hombre    2618842\n",
       "Name: count, dtype: int64"
      ]
     },
     "execution_count": 31,
     "metadata": {},
     "output_type": "execute_result"
    }
   ],
   "source": [
    "# There are more women than men, as usual\n",
    "df[\"Sex\"].value_counts()"
   ]
  },
  {
   "cell_type": "code",
   "execution_count": 32,
   "id": "fe6a83be-7bbe-4744-9e40-5609cd103f0c",
   "metadata": {},
   "outputs": [],
   "source": [
    "# is there another variable related to the missingness in sex?"
   ]
  },
  {
   "cell_type": "code",
   "execution_count": 33,
   "id": "0bb8f6aa-6154-45d3-a2ec-97a37e6b0482",
   "metadata": {},
   "outputs": [
    {
     "data": {
      "text/plain": [
       "Healthcare facility type    167677\n",
       "Sex                         173892\n",
       "Age                         167677\n",
       "Health insurance            173892\n",
       "Year_with_nans              167677\n",
       "Primary diagnosis code           0\n",
       "Length of stay                   0\n",
       "Discharge condition              0\n",
       "Year                             0\n",
       "dtype: int64"
      ]
     },
     "execution_count": 33,
     "metadata": {},
     "output_type": "execute_result"
    }
   ],
   "source": [
    "# Apparently the missingess is structured, so this will be explored\n",
    "df.loc[df['Sex'].isnull()].isna().sum()"
   ]
  },
  {
   "cell_type": "code",
   "execution_count": 34,
   "id": "55860161-7659-4f43-8b57-c4a644d02eee",
   "metadata": {},
   "outputs": [],
   "source": [
    "# A dataframe that contains only rows when value column in sex is missing is created\n",
    "nan_sex = df.loc[df['Sex'].isnull()]"
   ]
  },
  {
   "cell_type": "code",
   "execution_count": 35,
   "id": "48d5c6b7-958f-4996-9b03-209a2a61ce63",
   "metadata": {},
   "outputs": [
    {
     "data": {
      "text/html": [
       "<div>\n",
       "<style scoped>\n",
       "    .dataframe tbody tr th:only-of-type {\n",
       "        vertical-align: middle;\n",
       "    }\n",
       "\n",
       "    .dataframe tbody tr th {\n",
       "        vertical-align: top;\n",
       "    }\n",
       "\n",
       "    .dataframe thead th {\n",
       "        text-align: right;\n",
       "    }\n",
       "</style>\n",
       "<table border=\"1\" class=\"dataframe\">\n",
       "  <thead>\n",
       "    <tr style=\"text-align: right;\">\n",
       "      <th></th>\n",
       "      <th>Healthcare facility type</th>\n",
       "      <th>Sex</th>\n",
       "      <th>Age</th>\n",
       "      <th>Health insurance</th>\n",
       "      <th>Year_with_nans</th>\n",
       "      <th>Primary diagnosis code</th>\n",
       "      <th>Length of stay</th>\n",
       "      <th>Discharge condition</th>\n",
       "      <th>Year</th>\n",
       "    </tr>\n",
       "  </thead>\n",
       "  <tbody>\n",
       "    <tr>\n",
       "      <th>1557549</th>\n",
       "      <td>NaN</td>\n",
       "      <td>NaN</td>\n",
       "      <td>NaN</td>\n",
       "      <td>NaN</td>\n",
       "      <td>NaN</td>\n",
       "      <td>I702</td>\n",
       "      <td>16</td>\n",
       "      <td>1</td>\n",
       "      <td>2022</td>\n",
       "    </tr>\n",
       "    <tr>\n",
       "      <th>1557550</th>\n",
       "      <td>NaN</td>\n",
       "      <td>NaN</td>\n",
       "      <td>NaN</td>\n",
       "      <td>NaN</td>\n",
       "      <td>NaN</td>\n",
       "      <td>N764</td>\n",
       "      <td>9</td>\n",
       "      <td>1</td>\n",
       "      <td>2022</td>\n",
       "    </tr>\n",
       "    <tr>\n",
       "      <th>1557551</th>\n",
       "      <td>NaN</td>\n",
       "      <td>NaN</td>\n",
       "      <td>NaN</td>\n",
       "      <td>NaN</td>\n",
       "      <td>NaN</td>\n",
       "      <td>S299</td>\n",
       "      <td>5</td>\n",
       "      <td>1</td>\n",
       "      <td>2022</td>\n",
       "    </tr>\n",
       "    <tr>\n",
       "      <th>1557552</th>\n",
       "      <td>NaN</td>\n",
       "      <td>NaN</td>\n",
       "      <td>NaN</td>\n",
       "      <td>NaN</td>\n",
       "      <td>NaN</td>\n",
       "      <td>P220</td>\n",
       "      <td>6</td>\n",
       "      <td>1</td>\n",
       "      <td>2022</td>\n",
       "    </tr>\n",
       "    <tr>\n",
       "      <th>1557553</th>\n",
       "      <td>NaN</td>\n",
       "      <td>NaN</td>\n",
       "      <td>NaN</td>\n",
       "      <td>NaN</td>\n",
       "      <td>NaN</td>\n",
       "      <td>P220</td>\n",
       "      <td>20</td>\n",
       "      <td>1</td>\n",
       "      <td>2022</td>\n",
       "    </tr>\n",
       "    <tr>\n",
       "      <th>...</th>\n",
       "      <td>...</td>\n",
       "      <td>...</td>\n",
       "      <td>...</td>\n",
       "      <td>...</td>\n",
       "      <td>...</td>\n",
       "      <td>...</td>\n",
       "      <td>...</td>\n",
       "      <td>...</td>\n",
       "      <td>...</td>\n",
       "    </tr>\n",
       "    <tr>\n",
       "      <th>1667344</th>\n",
       "      <td>Pertenecientes al Sistema Nacional de Servicio...</td>\n",
       "      <td>NaN</td>\n",
       "      <td>7 A 27 DIAS</td>\n",
       "      <td>NaN</td>\n",
       "      <td>2024</td>\n",
       "      <td>P073</td>\n",
       "      <td>4</td>\n",
       "      <td>1</td>\n",
       "      <td>2024</td>\n",
       "    </tr>\n",
       "    <tr>\n",
       "      <th>1667345</th>\n",
       "      <td>Pertenecientes al Sistema Nacional de Servicio...</td>\n",
       "      <td>NaN</td>\n",
       "      <td>7 A 27 DIAS</td>\n",
       "      <td>NaN</td>\n",
       "      <td>2024</td>\n",
       "      <td>P590</td>\n",
       "      <td>2</td>\n",
       "      <td>1</td>\n",
       "      <td>2024</td>\n",
       "    </tr>\n",
       "    <tr>\n",
       "      <th>1667346</th>\n",
       "      <td>Pertenecientes al Sistema Nacional de Servicio...</td>\n",
       "      <td>NaN</td>\n",
       "      <td>7 A 27 DIAS</td>\n",
       "      <td>NaN</td>\n",
       "      <td>2024</td>\n",
       "      <td>P599</td>\n",
       "      <td>2</td>\n",
       "      <td>1</td>\n",
       "      <td>2024</td>\n",
       "    </tr>\n",
       "    <tr>\n",
       "      <th>1667347</th>\n",
       "      <td>Pertenecientes al Sistema Nacional de Servicio...</td>\n",
       "      <td>NaN</td>\n",
       "      <td>menor a 7 días</td>\n",
       "      <td>NaN</td>\n",
       "      <td>2024</td>\n",
       "      <td>E250</td>\n",
       "      <td>52</td>\n",
       "      <td>1</td>\n",
       "      <td>2024</td>\n",
       "    </tr>\n",
       "    <tr>\n",
       "      <th>1667348</th>\n",
       "      <td>Pertenecientes al Sistema Nacional de Servicio...</td>\n",
       "      <td>NaN</td>\n",
       "      <td>menor a 7 días</td>\n",
       "      <td>NaN</td>\n",
       "      <td>2024</td>\n",
       "      <td>P073</td>\n",
       "      <td>2</td>\n",
       "      <td>2</td>\n",
       "      <td>2024</td>\n",
       "    </tr>\n",
       "  </tbody>\n",
       "</table>\n",
       "<p>173892 rows × 9 columns</p>\n",
       "</div>"
      ],
      "text/plain": [
       "                                  Healthcare facility type  Sex  \\\n",
       "1557549                                                NaN  NaN   \n",
       "1557550                                                NaN  NaN   \n",
       "1557551                                                NaN  NaN   \n",
       "1557552                                                NaN  NaN   \n",
       "1557553                                                NaN  NaN   \n",
       "...                                                    ...  ...   \n",
       "1667344  Pertenecientes al Sistema Nacional de Servicio...  NaN   \n",
       "1667345  Pertenecientes al Sistema Nacional de Servicio...  NaN   \n",
       "1667346  Pertenecientes al Sistema Nacional de Servicio...  NaN   \n",
       "1667347  Pertenecientes al Sistema Nacional de Servicio...  NaN   \n",
       "1667348  Pertenecientes al Sistema Nacional de Servicio...  NaN   \n",
       "\n",
       "                    Age Health insurance Year_with_nans  \\\n",
       "1557549             NaN              NaN            NaN   \n",
       "1557550             NaN              NaN            NaN   \n",
       "1557551             NaN              NaN            NaN   \n",
       "1557552             NaN              NaN            NaN   \n",
       "1557553             NaN              NaN            NaN   \n",
       "...                 ...              ...            ...   \n",
       "1667344     7 A 27 DIAS              NaN           2024   \n",
       "1667345     7 A 27 DIAS              NaN           2024   \n",
       "1667346     7 A 27 DIAS              NaN           2024   \n",
       "1667347  menor a 7 días              NaN           2024   \n",
       "1667348  menor a 7 días              NaN           2024   \n",
       "\n",
       "        Primary diagnosis code  Length of stay Discharge condition  Year  \n",
       "1557549                   I702              16                   1  2022  \n",
       "1557550                   N764               9                   1  2022  \n",
       "1557551                   S299               5                   1  2022  \n",
       "1557552                   P220               6                   1  2022  \n",
       "1557553                   P220              20                   1  2022  \n",
       "...                        ...             ...                 ...   ...  \n",
       "1667344                   P073               4                   1  2024  \n",
       "1667345                   P590               2                   1  2024  \n",
       "1667346                   P599               2                   1  2024  \n",
       "1667347                   E250              52                   1  2024  \n",
       "1667348                   P073               2                   2  2024  \n",
       "\n",
       "[173892 rows x 9 columns]"
      ]
     },
     "execution_count": 35,
     "metadata": {},
     "output_type": "execute_result"
    }
   ],
   "source": [
    "nan_sex"
   ]
  },
  {
   "cell_type": "code",
   "execution_count": 36,
   "id": "5a36c939-ca34-468e-b2ae-2dabaaabf55e",
   "metadata": {},
   "outputs": [
    {
     "name": "stdout",
     "output_type": "stream",
     "text": [
      "Value counts for 'Healthcare facility type':\n",
      "Healthcare facility type\n",
      "NaN                                                                  167677\n",
      "No Pertenecientes al Sistema Nacional de Servicios de Salud, SNSS      4620\n",
      "Pertenecientes al Sistema Nacional de Servicios de Salud, SNSS         1595\n",
      "Name: count, dtype: int64\n",
      "\n",
      "----------------------------------------\n",
      "\n",
      "Value counts for 'Sex':\n",
      "Sex\n",
      "NaN    173892\n",
      "Name: count, dtype: int64\n",
      "\n",
      "----------------------------------------\n",
      "\n",
      "Value counts for 'Age':\n",
      "Age\n",
      "NaN                         167677\n",
      "65 A 69 AÑOS                   528\n",
      "30 A 34 AÑOS                   480\n",
      "60 A 64 AÑOS                   471\n",
      "70 A 74 AÑOS                   459\n",
      "35 A 39 AÑOS                   450\n",
      "40 A 44 AÑOS                   393\n",
      "45 A 49 AÑOS                   359\n",
      "50 A 54 AÑOS                   359\n",
      "55 A 59 AÑOS                   353\n",
      "25 A 29 AÑOS                   345\n",
      "75 A 79 AÑOS                   273\n",
      "20 A 24 AÑOS                   269\n",
      "menor a 7 días                 259\n",
      "85 A MAS                       248\n",
      "80 A 84 AÑOS                   225\n",
      "15 A 19 AÑOS                   195\n",
      "5 A 9 AÑOS                     179\n",
      "1 A 4 AÑOS                     143\n",
      "10 A 14 AÑOS                   136\n",
      "2 MESES A MENOS DE 1 AÑO        46\n",
      "7 A 27 DIAS                     30\n",
      "28 DIAS A 2 MES                 15\n",
      "10 a 19                          0\n",
      "50 a 59                          0\n",
      "70 a 79                          0\n",
      "1 a 9                            0\n",
      "40 a 49                          0\n",
      "80 a 89                          0\n",
      "20 a 29                          0\n",
      "90 y más                         0\n",
      "30 a 39                          0\n",
      "menor de un año                  0\n",
      "60 a 69                          0\n",
      "Name: count, dtype: int64\n",
      "\n",
      "----------------------------------------\n",
      "\n",
      "Value counts for 'Health insurance':\n",
      "Health insurance\n",
      "NaN            173892\n",
      "CAPREDENA           0\n",
      "DESCONOCIDO         0\n",
      "DIPRECA             0\n",
      "FONASA              0\n",
      "ISAPRE              0\n",
      "NINGUNA             0\n",
      "SISA                0\n",
      "Name: count, dtype: int64\n",
      "\n",
      "----------------------------------------\n",
      "\n",
      "Value counts for 'Year_with_nans':\n",
      "Year_with_nans\n",
      "NaN     167677\n",
      "2024      6215\n",
      "2021         0\n",
      "2022         0\n",
      "2023         0\n",
      "Name: count, dtype: int64\n",
      "\n",
      "----------------------------------------\n",
      "\n",
      "Value counts for 'Primary diagnosis code':\n",
      "Primary diagnosis code\n",
      "O820    3435\n",
      "O800    3207\n",
      "P599    2987\n",
      "K802    2481\n",
      "O829    2456\n",
      "        ... \n",
      "L438       0\n",
      "L439       0\n",
      "L441       0\n",
      "L442       0\n",
      "z518       0\n",
      "Name: count, Length: 7872, dtype: int64\n",
      "\n",
      "----------------------------------------\n",
      "\n",
      "Value counts for 'Length of stay':\n",
      "Length of stay\n",
      "1      61691\n",
      "2      36954\n",
      "3      19278\n",
      "4      11480\n",
      "5       7763\n",
      "       ...  \n",
      "262        1\n",
      "168        1\n",
      "275        1\n",
      "342        1\n",
      "288        1\n",
      "Name: count, Length: 297, dtype: int64\n",
      "\n",
      "----------------------------------------\n",
      "\n",
      "Value counts for 'Discharge condition':\n",
      "Discharge condition\n",
      "1    170214\n",
      "2      3678\n",
      "Name: count, dtype: int64\n",
      "\n",
      "----------------------------------------\n",
      "\n",
      "Value counts for 'Year':\n",
      "Year\n",
      "2023    128108\n",
      "2022     39569\n",
      "2024      6215\n",
      "Name: count, dtype: int64\n",
      "\n",
      "----------------------------------------\n",
      "\n"
     ]
    }
   ],
   "source": [
    "# loop over the columns to count the values on each one\n",
    "# Age, year_with_nans and healthcare facility type have 6215 values that are valid when in sex are NaN. The year is always 2024\n",
    "for col in nan_sex.columns:\n",
    "    print(f\"Value counts for '{col}':\")\n",
    "    print(nan_sex[col].value_counts(dropna = False))\n",
    "    print(\"\\n\" + \"-\"*40 + \"\\n\")"
   ]
  },
  {
   "cell_type": "code",
   "execution_count": 37,
   "id": "a162e64d-9fc1-40f7-adf2-42e2b30be7c3",
   "metadata": {},
   "outputs": [
    {
     "name": "stdout",
     "output_type": "stream",
     "text": [
      "6215\n",
      "6215\n"
     ]
    }
   ],
   "source": [
    "# Example: Total valid values for column \"Age\" and \"Healthcare facility type\" when \"Sex\" is not valid\n",
    "print(nan_sex[\"Age\"].value_counts(dropna = True).sum())\n",
    "print(nan_sex[\"Healthcare facility type\"].value_counts(dropna = True).sum())"
   ]
  },
  {
   "cell_type": "markdown",
   "id": "e79cb2df-f15c-4639-bf18-454418afa0f0",
   "metadata": {},
   "source": [
    "When sex is NaN this is the summary of what happens in the other columns:\n",
    "\n",
    "1. Age: There are 6215 valid values distributed among the different age ranges. The rest are NaNs\n",
    "2. Healthcare facility type: There are 6215 valid values. The rest are NaNs, also when the year is 2023\n",
    "3. Health insurance: if the sex is not valid, the same happens with the health insurance. 0 valid values here and all NaNs\n",
    "4. Year_with_nans: There are 6215 valid values only for year 2024. The rest are NaNs\n",
    "5. Primary diagnosis code, Length of stay and discharge condition: All valid values beacuse there are not NaNs in the whole dataframe\n",
    "6. Year (column created by me based on the year of the dataframe): The missingness of the data will not be analyzed with this column as it was created by me"
   ]
  },
  {
   "cell_type": "markdown",
   "id": "36c8fcc8-e0cf-41a1-afd6-cfb8c5448361",
   "metadata": {},
   "source": [
    "Age"
   ]
  },
  {
   "cell_type": "code",
   "execution_count": 40,
   "id": "1c01a928-5773-4e79-bf80-35f2b17bbc93",
   "metadata": {},
   "outputs": [
    {
     "data": {
      "text/plain": [
       "Age\n",
       "30 a 39                     503974\n",
       "60 a 69                     411229\n",
       "20 a 29                     387988\n",
       "50 a 59                     356236\n",
       "40 a 49                     348297\n",
       "70 a 79                     337253\n",
       "30 A 34 AÑOS                276004\n",
       "35 A 39 AÑOS                244056\n",
       "25 A 29 AÑOS                228508\n",
       "60 A 64 AÑOS                214849\n",
       "65 A 69 AÑOS                208632\n",
       "55 A 59 AÑOS                201633\n",
       "40 A 44 AÑOS                192291\n",
       "80 a 89                     189262\n",
       "70 A 74 AÑOS                184144\n",
       "1 a 9                       179981\n",
       "50 A 54 AÑOS                178668\n",
       "45 A 49 AÑOS                175462\n",
       "10 a 19                     174869\n",
       "20 A 24 AÑOS                162748\n",
       "75 A 79 AÑOS                161156\n",
       "85 A MAS                    123338\n",
       "80 A 84 AÑOS                119629\n",
       "menor de un año             107806\n",
       "15 A 19 AÑOS                101076\n",
       "1 A 4 AÑOS                   89511\n",
       "5 A 9 AÑOS                   86648\n",
       "10 A 14 AÑOS                 81169\n",
       "menor a 7 días               55508\n",
       "90 y más                     44798\n",
       "2 MESES A MENOS DE 1 AÑO     31394\n",
       "7 A 27 DIAS                  10533\n",
       "28 DIAS A 2 MES               7401\n",
       "Name: count, dtype: int64"
      ]
     },
     "execution_count": 40,
     "metadata": {},
     "output_type": "execute_result"
    }
   ],
   "source": [
    "# There are many age groups and some overlap with each other, so it is necessary tu customize it\n",
    "df[\"Age\"].value_counts()"
   ]
  },
  {
   "cell_type": "code",
   "execution_count": 41,
   "id": "7c9f8128-56c0-41d0-a0ec-9e926d605249",
   "metadata": {},
   "outputs": [
    {
     "data": {
      "text/plain": [
       "167677"
      ]
     },
     "execution_count": 41,
     "metadata": {},
     "output_type": "execute_result"
    }
   ],
   "source": [
    "# According to the previous findings, the rows are NaN in 'Healthcare facility type', 'Sex', Health insurance', 'Year_with_nans' and 'Age' for some reason\n",
    "# Also there are 6215 values that are valid for 'Age', 'Healthcare facility type' and 'Health insurance', while NaN in the rest of the columns mentioned\n",
    "df[\"Age\"].isna().sum()"
   ]
  },
  {
   "cell_type": "code",
   "execution_count": 42,
   "id": "2bb405a9-96dc-4558-a624-66f586c57c64",
   "metadata": {},
   "outputs": [],
   "source": [
    "# A quick look of the data, whose dataframe is the same as in 'years_with_nans'. Look cell below\n",
    "nan_age = df.loc[df['Age'].isnull()]\n",
    "nan_years = df.loc[df[\"Year_with_nans\"].isnull()]"
   ]
  },
  {
   "cell_type": "code",
   "execution_count": 43,
   "id": "f76dc00b-768f-44cd-b39f-c0bd4e579498",
   "metadata": {},
   "outputs": [
    {
     "data": {
      "text/plain": [
       "True"
      ]
     },
     "execution_count": 43,
     "metadata": {},
     "output_type": "execute_result"
    }
   ],
   "source": [
    "# Dataframes are identic\n",
    "nan_age.equals(nan_years)"
   ]
  },
  {
   "cell_type": "code",
   "execution_count": 44,
   "id": "f693b147-755d-42c4-8450-32a0c19cebff",
   "metadata": {},
   "outputs": [
    {
     "data": {
      "text/plain": [
       "(167677, 9)"
      ]
     },
     "execution_count": 44,
     "metadata": {},
     "output_type": "execute_result"
    }
   ],
   "source": [
    "nan_age.shape"
   ]
  },
  {
   "cell_type": "code",
   "execution_count": 45,
   "id": "51ff2c4f-5d2e-439a-9b7b-084f4f026a63",
   "metadata": {},
   "outputs": [
    {
     "data": {
      "text/html": [
       "<div>\n",
       "<style scoped>\n",
       "    .dataframe tbody tr th:only-of-type {\n",
       "        vertical-align: middle;\n",
       "    }\n",
       "\n",
       "    .dataframe tbody tr th {\n",
       "        vertical-align: top;\n",
       "    }\n",
       "\n",
       "    .dataframe thead th {\n",
       "        text-align: right;\n",
       "    }\n",
       "</style>\n",
       "<table border=\"1\" class=\"dataframe\">\n",
       "  <thead>\n",
       "    <tr style=\"text-align: right;\">\n",
       "      <th></th>\n",
       "      <th>Healthcare facility type</th>\n",
       "      <th>Sex</th>\n",
       "      <th>Age</th>\n",
       "      <th>Health insurance</th>\n",
       "      <th>Year_with_nans</th>\n",
       "      <th>Primary diagnosis code</th>\n",
       "      <th>Length of stay</th>\n",
       "      <th>Discharge condition</th>\n",
       "      <th>Year</th>\n",
       "    </tr>\n",
       "  </thead>\n",
       "  <tbody>\n",
       "    <tr>\n",
       "      <th>1557549</th>\n",
       "      <td>NaN</td>\n",
       "      <td>NaN</td>\n",
       "      <td>NaN</td>\n",
       "      <td>NaN</td>\n",
       "      <td>NaN</td>\n",
       "      <td>I702</td>\n",
       "      <td>16</td>\n",
       "      <td>1</td>\n",
       "      <td>2022</td>\n",
       "    </tr>\n",
       "    <tr>\n",
       "      <th>1557550</th>\n",
       "      <td>NaN</td>\n",
       "      <td>NaN</td>\n",
       "      <td>NaN</td>\n",
       "      <td>NaN</td>\n",
       "      <td>NaN</td>\n",
       "      <td>N764</td>\n",
       "      <td>9</td>\n",
       "      <td>1</td>\n",
       "      <td>2022</td>\n",
       "    </tr>\n",
       "    <tr>\n",
       "      <th>1557551</th>\n",
       "      <td>NaN</td>\n",
       "      <td>NaN</td>\n",
       "      <td>NaN</td>\n",
       "      <td>NaN</td>\n",
       "      <td>NaN</td>\n",
       "      <td>S299</td>\n",
       "      <td>5</td>\n",
       "      <td>1</td>\n",
       "      <td>2022</td>\n",
       "    </tr>\n",
       "    <tr>\n",
       "      <th>1557552</th>\n",
       "      <td>NaN</td>\n",
       "      <td>NaN</td>\n",
       "      <td>NaN</td>\n",
       "      <td>NaN</td>\n",
       "      <td>NaN</td>\n",
       "      <td>P220</td>\n",
       "      <td>6</td>\n",
       "      <td>1</td>\n",
       "      <td>2022</td>\n",
       "    </tr>\n",
       "    <tr>\n",
       "      <th>1557553</th>\n",
       "      <td>NaN</td>\n",
       "      <td>NaN</td>\n",
       "      <td>NaN</td>\n",
       "      <td>NaN</td>\n",
       "      <td>NaN</td>\n",
       "      <td>P220</td>\n",
       "      <td>20</td>\n",
       "      <td>1</td>\n",
       "      <td>2022</td>\n",
       "    </tr>\n",
       "  </tbody>\n",
       "</table>\n",
       "</div>"
      ],
      "text/plain": [
       "        Healthcare facility type  Sex  Age Health insurance Year_with_nans  \\\n",
       "1557549                      NaN  NaN  NaN              NaN            NaN   \n",
       "1557550                      NaN  NaN  NaN              NaN            NaN   \n",
       "1557551                      NaN  NaN  NaN              NaN            NaN   \n",
       "1557552                      NaN  NaN  NaN              NaN            NaN   \n",
       "1557553                      NaN  NaN  NaN              NaN            NaN   \n",
       "\n",
       "        Primary diagnosis code  Length of stay Discharge condition  Year  \n",
       "1557549                   I702              16                   1  2022  \n",
       "1557550                   N764               9                   1  2022  \n",
       "1557551                   S299               5                   1  2022  \n",
       "1557552                   P220               6                   1  2022  \n",
       "1557553                   P220              20                   1  2022  "
      ]
     },
     "execution_count": 45,
     "metadata": {},
     "output_type": "execute_result"
    }
   ],
   "source": [
    "nan_age.head()"
   ]
  },
  {
   "cell_type": "markdown",
   "id": "ef40c1c5-eeea-43cf-8c42-31c4ab529e08",
   "metadata": {},
   "source": [
    "# Valid values column Age"
   ]
  },
  {
   "cell_type": "code",
   "execution_count": 47,
   "id": "853c4916-38b4-47df-ba12-97ade2267e5b",
   "metadata": {},
   "outputs": [],
   "source": [
    "# Back to the valid values in the column\n",
    "age_groups = list(df[\"Age\"].unique())"
   ]
  },
  {
   "cell_type": "code",
   "execution_count": 48,
   "id": "849c3bd9-20e6-419a-b6a4-7a53e1c5080a",
   "metadata": {},
   "outputs": [
    {
     "data": {
      "text/plain": [
       "['1 A 4 AÑOS',\n",
       " '10 A 14 AÑOS',\n",
       " '15 A 19 AÑOS',\n",
       " '2 MESES A MENOS DE 1 AÑO',\n",
       " '20 A 24 AÑOS',\n",
       " '25 A 29 AÑOS',\n",
       " '28 DIAS A 2 MES',\n",
       " '30 A 34 AÑOS',\n",
       " '35 A 39 AÑOS',\n",
       " '40 A 44 AÑOS',\n",
       " '45 A 49 AÑOS',\n",
       " '5 A 9 AÑOS',\n",
       " '50 A 54 AÑOS',\n",
       " '55 A 59 AÑOS',\n",
       " '60 A 64 AÑOS',\n",
       " '65 A 69 AÑOS',\n",
       " '7 A 27 DIAS',\n",
       " '70 A 74 AÑOS',\n",
       " '75 A 79 AÑOS',\n",
       " '80 A 84 AÑOS',\n",
       " '85 A MAS',\n",
       " 'menor a 7 días',\n",
       " '1 a 9',\n",
       " '10 a 19',\n",
       " '20 a 29',\n",
       " '30 a 39',\n",
       " '40 a 49',\n",
       " '50 a 59',\n",
       " '60 a 69',\n",
       " '70 a 79',\n",
       " '80 a 89',\n",
       " '90 y más',\n",
       " 'menor de un año',\n",
       " nan]"
      ]
     },
     "execution_count": 48,
     "metadata": {},
     "output_type": "execute_result"
    }
   ],
   "source": [
    "# There are many groups and some of them overlap with each other. It is a good choice to reduce them: helps future modeling and visualizations\n",
    "age_groups"
   ]
  },
  {
   "cell_type": "code",
   "execution_count": 49,
   "id": "f5a3986a-6215-4c3c-9057-c9d979681124",
   "metadata": {},
   "outputs": [],
   "source": [
    "# This function helps to fix the format of the data\n",
    "def age(x):\n",
    "    if x == \"menor de un año\" or x == \"menor a 7 días\" or x == \"2 MESES A MENOS DE 1 AÑO\" or x == \"7 A 27 DIAS\" or x == \"28 DIAS A 2 MES\":\n",
    "        x = \"0 a 1\"\n",
    "    elif x == \"90 y más\":\n",
    "        x = \"90 a más\"\n",
    "    elif x == \"85 A MAS\":\n",
    "        x = \"85 a más\"\n",
    "    return x"
   ]
  },
  {
   "cell_type": "code",
   "execution_count": 50,
   "id": "f1ab9d7f-67c9-4411-9a9f-738f493e4f3c",
   "metadata": {},
   "outputs": [],
   "source": [
    "# The function is applied and only one more step is needed to have the same format across the age groups\n",
    "df[\"Age\"] = df[\"Age\"].apply(age)\n",
    "age_groups = list(df[\"Age\"].unique())\n",
    "df[\"Age\"] = df['Age'].str.lower().str.replace('años', '').str.rstrip()\n",
    "age_groups_updated = list(df[\"Age\"].unique())"
   ]
  },
  {
   "cell_type": "code",
   "execution_count": 51,
   "id": "73dec641-c42e-484c-b09c-fd2ee5da7edf",
   "metadata": {
    "scrolled": true
   },
   "outputs": [
    {
     "data": {
      "text/plain": [
       "['1 a 4',\n",
       " '10 a 14',\n",
       " '15 a 19',\n",
       " '0 a 1',\n",
       " '20 a 24',\n",
       " '25 a 29',\n",
       " '30 a 34',\n",
       " '35 a 39',\n",
       " '40 a 44',\n",
       " '45 a 49',\n",
       " '5 a 9',\n",
       " '50 a 54',\n",
       " '55 a 59',\n",
       " '60 a 64',\n",
       " '65 a 69',\n",
       " '70 a 74',\n",
       " '75 a 79',\n",
       " '80 a 84',\n",
       " '85 a más',\n",
       " '1 a 9',\n",
       " '10 a 19',\n",
       " '20 a 29',\n",
       " '30 a 39',\n",
       " '40 a 49',\n",
       " '50 a 59',\n",
       " '60 a 69',\n",
       " '70 a 79',\n",
       " '80 a 89',\n",
       " '90 a más',\n",
       " nan]"
      ]
     },
     "execution_count": 51,
     "metadata": {},
     "output_type": "execute_result"
    }
   ],
   "source": [
    "age_groups_updated"
   ]
  },
  {
   "cell_type": "code",
   "execution_count": 52,
   "id": "b4f81022-d54d-419e-b84c-49f2f7a7d559",
   "metadata": {},
   "outputs": [],
   "source": [
    "# Split the string into 2 values inside a list\n",
    "df[\"Age\"] = df[\"Age\"].str.split(\"a\")"
   ]
  },
  {
   "cell_type": "code",
   "execution_count": 53,
   "id": "78418048-2665-4195-8a0a-d2c24e066b00",
   "metadata": {},
   "outputs": [],
   "source": [
    "# Drop nan values to only have a list of lists with the minimum and maximum value ina group age as strings\n",
    "ages_list = df[\"Age\"].dropna()"
   ]
  },
  {
   "cell_type": "code",
   "execution_count": 54,
   "id": "950f79d1-4f02-487a-914b-45e284995444",
   "metadata": {},
   "outputs": [],
   "source": [
    "# Step: Keep only rows where 'más' is exactly one of the elements in the list\n",
    "ages_with_mas = ages_list[ages_list.apply(lambda x: x[0].strip() == 'más' or x[1].strip() == 'más')]\n"
   ]
  },
  {
   "cell_type": "code",
   "execution_count": 55,
   "id": "ac28c915-1542-4ca3-af8b-9ece05451a83",
   "metadata": {},
   "outputs": [
    {
     "data": {
      "text/plain": [
       "254675     [85 ,  más]\n",
       "254676     [85 ,  más]\n",
       "254677     [85 ,  más]\n",
       "254678     [85 ,  más]\n",
       "254679     [85 ,  más]\n",
       "              ...     \n",
       "1667156    [85 ,  más]\n",
       "1667157    [85 ,  más]\n",
       "1667158    [85 ,  más]\n",
       "1667159    [85 ,  más]\n",
       "1667160    [85 ,  más]\n",
       "Name: Age, Length: 168136, dtype: object"
      ]
     },
     "execution_count": 55,
     "metadata": {},
     "output_type": "execute_result"
    }
   ],
   "source": [
    "ages_with_mas"
   ]
  },
  {
   "cell_type": "code",
   "execution_count": 56,
   "id": "f0a399fa-4324-4f2c-b647-c627ae3d5ac5",
   "metadata": {},
   "outputs": [],
   "source": [
    "# The string \"más\" is replaced by age 120 as a fixed maximum value to consider and strings are turned into integers\n",
    "def convert_age_range(age_list):\n",
    "    start = int(age_list[0].strip())\n",
    "    end_raw = age_list[1].strip()\n",
    "    end = 120 if end_raw == 'más' else int(end_raw)\n",
    "    return [start, end]\n",
    "\n",
    "ages_final = ages_list.apply(convert_age_range)\n"
   ]
  },
  {
   "cell_type": "code",
   "execution_count": 57,
   "id": "972d8c85-4504-41af-ae43-ceb6973a24a5",
   "metadata": {},
   "outputs": [
    {
     "data": {
      "text/plain": [
       "0          [1, 4]\n",
       "1          [1, 4]\n",
       "2          [1, 4]\n",
       "3          [1, 4]\n",
       "4          [1, 4]\n",
       "            ...  \n",
       "1667344    [0, 1]\n",
       "1667345    [0, 1]\n",
       "1667346    [0, 1]\n",
       "1667347    [0, 1]\n",
       "1667348    [0, 1]\n",
       "Name: Age, Length: 6176051, dtype: object"
      ]
     },
     "execution_count": 57,
     "metadata": {},
     "output_type": "execute_result"
    }
   ],
   "source": [
    "ages_final"
   ]
  },
  {
   "cell_type": "code",
   "execution_count": 58,
   "id": "15a52391-ea42-4251-bbf4-be79ee692220",
   "metadata": {},
   "outputs": [],
   "source": [
    "# Step 0: Save original index\n",
    "original_index = df.index\n",
    "\n",
    "# Step 1: Reset index to have a unique one for safe operations\n",
    "df_reset = df.reset_index(drop=True)\n",
    "\n",
    "# Step 2: Drop NaNs in Age column and transform those rows\n",
    "ages_list = df_reset[\"Age\"].dropna()\n",
    "ages_final = ages_list.apply(convert_age_range)\n",
    "\n",
    "# Step 3: Create a new empty column in df_reset\n",
    "df_reset[\"Age_range\"] = pd.NA\n",
    "\n",
    "# Step 4: Assign transformed values back to the matching rows by index\n",
    "df_reset.loc[ages_final.index, \"Age_range\"] = ages_final\n",
    "\n",
    "# Step 5: Restore original index to df_reset\n",
    "df_reset.index = original_index\n",
    "\n",
    "# Optional: If you want, assign df_reset back to df or keep working with df_reset\n",
    "df = df_reset\n"
   ]
  },
  {
   "cell_type": "code",
   "execution_count": 59,
   "id": "38a9d64d-8daf-4b7b-9981-5c6c73fc3393",
   "metadata": {},
   "outputs": [],
   "source": [
    "# Replace missing Age_range with [pd.NA, pd.NA] to avoid errors\n",
    "df['Age_range_filled'] = df['Age_range'].apply(lambda x: x if isinstance(x, list) else [pd.NA, pd.NA])\n",
    "\n",
    "# Now split into two columns\n",
    "df[['age_min', 'age_max']] = pd.DataFrame(df['Age_range_filled'].tolist(), index=df.index)\n"
   ]
  },
  {
   "cell_type": "code",
   "execution_count": 60,
   "id": "698d748f-c784-48db-8251-abf3f8b496f1",
   "metadata": {},
   "outputs": [
    {
     "data": {
      "text/html": [
       "<div>\n",
       "<style scoped>\n",
       "    .dataframe tbody tr th:only-of-type {\n",
       "        vertical-align: middle;\n",
       "    }\n",
       "\n",
       "    .dataframe tbody tr th {\n",
       "        vertical-align: top;\n",
       "    }\n",
       "\n",
       "    .dataframe thead th {\n",
       "        text-align: right;\n",
       "    }\n",
       "</style>\n",
       "<table border=\"1\" class=\"dataframe\">\n",
       "  <thead>\n",
       "    <tr style=\"text-align: right;\">\n",
       "      <th></th>\n",
       "      <th>Healthcare facility type</th>\n",
       "      <th>Sex</th>\n",
       "      <th>Age</th>\n",
       "      <th>Health insurance</th>\n",
       "      <th>Year_with_nans</th>\n",
       "      <th>Primary diagnosis code</th>\n",
       "      <th>Length of stay</th>\n",
       "      <th>Discharge condition</th>\n",
       "      <th>Year</th>\n",
       "      <th>Age_range</th>\n",
       "      <th>Age_range_filled</th>\n",
       "      <th>age_min</th>\n",
       "      <th>age_max</th>\n",
       "    </tr>\n",
       "  </thead>\n",
       "  <tbody>\n",
       "    <tr>\n",
       "      <th>0</th>\n",
       "      <td>No Pertenecientes al Sistema Nacional de Servi...</td>\n",
       "      <td>Hombre</td>\n",
       "      <td>[1 ,  4]</td>\n",
       "      <td>ISAPRE</td>\n",
       "      <td>2021</td>\n",
       "      <td>K590</td>\n",
       "      <td>1</td>\n",
       "      <td>1</td>\n",
       "      <td>2021</td>\n",
       "      <td>[1, 4]</td>\n",
       "      <td>[1, 4]</td>\n",
       "      <td>1</td>\n",
       "      <td>4</td>\n",
       "    </tr>\n",
       "    <tr>\n",
       "      <th>1</th>\n",
       "      <td>No Pertenecientes al Sistema Nacional de Servi...</td>\n",
       "      <td>Hombre</td>\n",
       "      <td>[1 ,  4]</td>\n",
       "      <td>NINGUNA</td>\n",
       "      <td>2021</td>\n",
       "      <td>S015</td>\n",
       "      <td>1</td>\n",
       "      <td>1</td>\n",
       "      <td>2021</td>\n",
       "      <td>[1, 4]</td>\n",
       "      <td>[1, 4]</td>\n",
       "      <td>1</td>\n",
       "      <td>4</td>\n",
       "    </tr>\n",
       "    <tr>\n",
       "      <th>2</th>\n",
       "      <td>No Pertenecientes al Sistema Nacional de Servi...</td>\n",
       "      <td>Hombre</td>\n",
       "      <td>[1 ,  4]</td>\n",
       "      <td>ISAPRE</td>\n",
       "      <td>2021</td>\n",
       "      <td>T181</td>\n",
       "      <td>1</td>\n",
       "      <td>1</td>\n",
       "      <td>2021</td>\n",
       "      <td>[1, 4]</td>\n",
       "      <td>[1, 4]</td>\n",
       "      <td>1</td>\n",
       "      <td>4</td>\n",
       "    </tr>\n",
       "    <tr>\n",
       "      <th>3</th>\n",
       "      <td>No Pertenecientes al Sistema Nacional de Servi...</td>\n",
       "      <td>Hombre</td>\n",
       "      <td>[1 ,  4]</td>\n",
       "      <td>FONASA</td>\n",
       "      <td>2021</td>\n",
       "      <td>Q381</td>\n",
       "      <td>1</td>\n",
       "      <td>1</td>\n",
       "      <td>2021</td>\n",
       "      <td>[1, 4]</td>\n",
       "      <td>[1, 4]</td>\n",
       "      <td>1</td>\n",
       "      <td>4</td>\n",
       "    </tr>\n",
       "    <tr>\n",
       "      <th>4</th>\n",
       "      <td>No Pertenecientes al Sistema Nacional de Servi...</td>\n",
       "      <td>Hombre</td>\n",
       "      <td>[1 ,  4]</td>\n",
       "      <td>FONASA</td>\n",
       "      <td>2021</td>\n",
       "      <td>Q531</td>\n",
       "      <td>1</td>\n",
       "      <td>1</td>\n",
       "      <td>2021</td>\n",
       "      <td>[1, 4]</td>\n",
       "      <td>[1, 4]</td>\n",
       "      <td>1</td>\n",
       "      <td>4</td>\n",
       "    </tr>\n",
       "    <tr>\n",
       "      <th>...</th>\n",
       "      <td>...</td>\n",
       "      <td>...</td>\n",
       "      <td>...</td>\n",
       "      <td>...</td>\n",
       "      <td>...</td>\n",
       "      <td>...</td>\n",
       "      <td>...</td>\n",
       "      <td>...</td>\n",
       "      <td>...</td>\n",
       "      <td>...</td>\n",
       "      <td>...</td>\n",
       "      <td>...</td>\n",
       "      <td>...</td>\n",
       "    </tr>\n",
       "    <tr>\n",
       "      <th>1667344</th>\n",
       "      <td>Pertenecientes al Sistema Nacional de Servicio...</td>\n",
       "      <td>NaN</td>\n",
       "      <td>[0 ,  1]</td>\n",
       "      <td>NaN</td>\n",
       "      <td>2024</td>\n",
       "      <td>P073</td>\n",
       "      <td>4</td>\n",
       "      <td>1</td>\n",
       "      <td>2024</td>\n",
       "      <td>[0, 1]</td>\n",
       "      <td>[0, 1]</td>\n",
       "      <td>0</td>\n",
       "      <td>1</td>\n",
       "    </tr>\n",
       "    <tr>\n",
       "      <th>1667345</th>\n",
       "      <td>Pertenecientes al Sistema Nacional de Servicio...</td>\n",
       "      <td>NaN</td>\n",
       "      <td>[0 ,  1]</td>\n",
       "      <td>NaN</td>\n",
       "      <td>2024</td>\n",
       "      <td>P590</td>\n",
       "      <td>2</td>\n",
       "      <td>1</td>\n",
       "      <td>2024</td>\n",
       "      <td>[0, 1]</td>\n",
       "      <td>[0, 1]</td>\n",
       "      <td>0</td>\n",
       "      <td>1</td>\n",
       "    </tr>\n",
       "    <tr>\n",
       "      <th>1667346</th>\n",
       "      <td>Pertenecientes al Sistema Nacional de Servicio...</td>\n",
       "      <td>NaN</td>\n",
       "      <td>[0 ,  1]</td>\n",
       "      <td>NaN</td>\n",
       "      <td>2024</td>\n",
       "      <td>P599</td>\n",
       "      <td>2</td>\n",
       "      <td>1</td>\n",
       "      <td>2024</td>\n",
       "      <td>[0, 1]</td>\n",
       "      <td>[0, 1]</td>\n",
       "      <td>0</td>\n",
       "      <td>1</td>\n",
       "    </tr>\n",
       "    <tr>\n",
       "      <th>1667347</th>\n",
       "      <td>Pertenecientes al Sistema Nacional de Servicio...</td>\n",
       "      <td>NaN</td>\n",
       "      <td>[0 ,  1]</td>\n",
       "      <td>NaN</td>\n",
       "      <td>2024</td>\n",
       "      <td>E250</td>\n",
       "      <td>52</td>\n",
       "      <td>1</td>\n",
       "      <td>2024</td>\n",
       "      <td>[0, 1]</td>\n",
       "      <td>[0, 1]</td>\n",
       "      <td>0</td>\n",
       "      <td>1</td>\n",
       "    </tr>\n",
       "    <tr>\n",
       "      <th>1667348</th>\n",
       "      <td>Pertenecientes al Sistema Nacional de Servicio...</td>\n",
       "      <td>NaN</td>\n",
       "      <td>[0 ,  1]</td>\n",
       "      <td>NaN</td>\n",
       "      <td>2024</td>\n",
       "      <td>P073</td>\n",
       "      <td>2</td>\n",
       "      <td>2</td>\n",
       "      <td>2024</td>\n",
       "      <td>[0, 1]</td>\n",
       "      <td>[0, 1]</td>\n",
       "      <td>0</td>\n",
       "      <td>1</td>\n",
       "    </tr>\n",
       "  </tbody>\n",
       "</table>\n",
       "<p>6343728 rows × 13 columns</p>\n",
       "</div>"
      ],
      "text/plain": [
       "                                  Healthcare facility type     Sex       Age  \\\n",
       "0        No Pertenecientes al Sistema Nacional de Servi...  Hombre  [1 ,  4]   \n",
       "1        No Pertenecientes al Sistema Nacional de Servi...  Hombre  [1 ,  4]   \n",
       "2        No Pertenecientes al Sistema Nacional de Servi...  Hombre  [1 ,  4]   \n",
       "3        No Pertenecientes al Sistema Nacional de Servi...  Hombre  [1 ,  4]   \n",
       "4        No Pertenecientes al Sistema Nacional de Servi...  Hombre  [1 ,  4]   \n",
       "...                                                    ...     ...       ...   \n",
       "1667344  Pertenecientes al Sistema Nacional de Servicio...     NaN  [0 ,  1]   \n",
       "1667345  Pertenecientes al Sistema Nacional de Servicio...     NaN  [0 ,  1]   \n",
       "1667346  Pertenecientes al Sistema Nacional de Servicio...     NaN  [0 ,  1]   \n",
       "1667347  Pertenecientes al Sistema Nacional de Servicio...     NaN  [0 ,  1]   \n",
       "1667348  Pertenecientes al Sistema Nacional de Servicio...     NaN  [0 ,  1]   \n",
       "\n",
       "        Health insurance Year_with_nans Primary diagnosis code  \\\n",
       "0                 ISAPRE           2021                   K590   \n",
       "1                NINGUNA           2021                   S015   \n",
       "2                 ISAPRE           2021                   T181   \n",
       "3                 FONASA           2021                   Q381   \n",
       "4                 FONASA           2021                   Q531   \n",
       "...                  ...            ...                    ...   \n",
       "1667344              NaN           2024                   P073   \n",
       "1667345              NaN           2024                   P590   \n",
       "1667346              NaN           2024                   P599   \n",
       "1667347              NaN           2024                   E250   \n",
       "1667348              NaN           2024                   P073   \n",
       "\n",
       "         Length of stay Discharge condition  Year Age_range Age_range_filled  \\\n",
       "0                     1                   1  2021    [1, 4]           [1, 4]   \n",
       "1                     1                   1  2021    [1, 4]           [1, 4]   \n",
       "2                     1                   1  2021    [1, 4]           [1, 4]   \n",
       "3                     1                   1  2021    [1, 4]           [1, 4]   \n",
       "4                     1                   1  2021    [1, 4]           [1, 4]   \n",
       "...                 ...                 ...   ...       ...              ...   \n",
       "1667344               4                   1  2024    [0, 1]           [0, 1]   \n",
       "1667345               2                   1  2024    [0, 1]           [0, 1]   \n",
       "1667346               2                   1  2024    [0, 1]           [0, 1]   \n",
       "1667347              52                   1  2024    [0, 1]           [0, 1]   \n",
       "1667348               2                   2  2024    [0, 1]           [0, 1]   \n",
       "\n",
       "        age_min age_max  \n",
       "0             1       4  \n",
       "1             1       4  \n",
       "2             1       4  \n",
       "3             1       4  \n",
       "4             1       4  \n",
       "...         ...     ...  \n",
       "1667344       0       1  \n",
       "1667345       0       1  \n",
       "1667346       0       1  \n",
       "1667347       0       1  \n",
       "1667348       0       1  \n",
       "\n",
       "[6343728 rows x 13 columns]"
      ]
     },
     "execution_count": 60,
     "metadata": {},
     "output_type": "execute_result"
    }
   ],
   "source": [
    "df"
   ]
  },
  {
   "cell_type": "code",
   "execution_count": 61,
   "id": "a39afabe-b32f-40ae-b3c5-c2ff41539ed7",
   "metadata": {},
   "outputs": [
    {
     "data": {
      "text/plain": [
       "Age_range_filled\n",
       "[30, 39]        503974\n",
       "[60, 69]        411229\n",
       "[20, 29]        387988\n",
       "[50, 59]        356236\n",
       "[40, 49]        348297\n",
       "[70, 79]        337253\n",
       "[30, 34]        276004\n",
       "[35, 39]        244056\n",
       "[25, 29]        228508\n",
       "[60, 64]        214849\n",
       "[0, 1]          212642\n",
       "[65, 69]        208632\n",
       "[55, 59]        201633\n",
       "[40, 44]        192291\n",
       "[80, 89]        189262\n",
       "[70, 74]        184144\n",
       "[1, 9]          179981\n",
       "[50, 54]        178668\n",
       "[45, 49]        175462\n",
       "[10, 19]        174869\n",
       "[<NA>, <NA>]    167677\n",
       "[20, 24]        162748\n",
       "[75, 79]        161156\n",
       "[85, 120]       123338\n",
       "[80, 84]        119629\n",
       "[15, 19]        101076\n",
       "[1, 4]           89511\n",
       "[5, 9]           86648\n",
       "[10, 14]         81169\n",
       "[90, 120]        44798\n",
       "Name: count, dtype: int64"
      ]
     },
     "execution_count": 61,
     "metadata": {},
     "output_type": "execute_result"
    }
   ],
   "source": [
    "df[\"Age_range_filled\"].value_counts()"
   ]
  },
  {
   "cell_type": "code",
   "execution_count": 62,
   "id": "f3315806-43b8-49ea-a3df-1ca9c3a99b5e",
   "metadata": {},
   "outputs": [],
   "source": [
    "# A copy of the original dataframe is made to work safely. The plan is to set the age ranges and merge the ones that overlap with each other\n",
    "df_age = df.copy()"
   ]
  },
  {
   "cell_type": "code",
   "execution_count": 63,
   "id": "50948125-621e-4521-b7c2-10a2fa421cfc",
   "metadata": {},
   "outputs": [],
   "source": [
    "def fix_age_ranges(x):\n",
    "    # list of age lists\n",
    "    age_range_list = [[0, 1], [1, 9], [10, 19], [20, 29], [30, 39], [40, 49], [50, 59], [60, 69], [70, 79], [80, 120]]\n",
    "    # value in column \"age_range_filled\"\n",
    "    rango_evaluado = x\n",
    "    new_range = rango_evaluado.copy()\n",
    "    # Logic of the loop\n",
    "    for l in age_range_list:\n",
    "        if pd.isna(rango_evaluado[0]) or pd.isna(rango_evaluado[1]):\n",
    "            continue\n",
    "        elif rango_evaluado[0] >= l[0] and rango_evaluado[1] <= l[1]:\n",
    "            rango_evaluado = l\n",
    "            new_range = [rango_evaluado[0], rango_evaluado[1]]\n",
    "            break\n",
    "    return new_range"
   ]
  },
  {
   "cell_type": "code",
   "execution_count": 64,
   "id": "32e8f317-005a-4f8f-ae22-04914e847ff9",
   "metadata": {},
   "outputs": [],
   "source": [
    "# Function is applied\n",
    "df_age[\"Age_range_filled\"] = df_age[\"Age_range_filled\"].apply(fix_age_ranges)"
   ]
  },
  {
   "cell_type": "code",
   "execution_count": 65,
   "id": "6bd35037-8231-458f-8814-80f5028b08ef",
   "metadata": {},
   "outputs": [
    {
     "data": {
      "text/plain": [
       "Age_range_filled\n",
       "[30, 39]        1024034\n",
       "[60, 69]         834710\n",
       "[20, 29]         779244\n",
       "[50, 59]         736537\n",
       "[40, 49]         716050\n",
       "[70, 79]         682553\n",
       "[80, 120]        477027\n",
       "[10, 19]         357114\n",
       "[1, 9]           356140\n",
       "[0, 1]           212642\n",
       "[<NA>, <NA>]     167677\n",
       "Name: count, dtype: int64"
      ]
     },
     "execution_count": 65,
     "metadata": {},
     "output_type": "execute_result"
    }
   ],
   "source": [
    "# The number of age groups is less and those which were overlapping now belong to the same one\n",
    "df_age[\"Age_range_filled\"].value_counts()"
   ]
  },
  {
   "cell_type": "code",
   "execution_count": 66,
   "id": "34b062ed-357a-4118-9da9-169053b0e62d",
   "metadata": {},
   "outputs": [],
   "source": [
    "# Split the updated 'Age_range_filled' into two columns directly\n",
    "df_age[['age_min', 'age_max']] = pd.DataFrame(df_age['Age_range_filled'].tolist(), index=df_age.index)"
   ]
  },
  {
   "cell_type": "code",
   "execution_count": 67,
   "id": "a59e8b27-b571-4fe6-8954-b41e34ce1234",
   "metadata": {},
   "outputs": [],
   "source": [
    "# Save the changes in the original dataframe\n",
    "df = df_age"
   ]
  },
  {
   "cell_type": "code",
   "execution_count": 68,
   "id": "11caccf1-0bae-4cb9-a787-967de4891365",
   "metadata": {},
   "outputs": [
    {
     "data": {
      "text/html": [
       "<div>\n",
       "<style scoped>\n",
       "    .dataframe tbody tr th:only-of-type {\n",
       "        vertical-align: middle;\n",
       "    }\n",
       "\n",
       "    .dataframe tbody tr th {\n",
       "        vertical-align: top;\n",
       "    }\n",
       "\n",
       "    .dataframe thead th {\n",
       "        text-align: right;\n",
       "    }\n",
       "</style>\n",
       "<table border=\"1\" class=\"dataframe\">\n",
       "  <thead>\n",
       "    <tr style=\"text-align: right;\">\n",
       "      <th></th>\n",
       "      <th>Healthcare facility type</th>\n",
       "      <th>Sex</th>\n",
       "      <th>Age</th>\n",
       "      <th>Health insurance</th>\n",
       "      <th>Year_with_nans</th>\n",
       "      <th>Primary diagnosis code</th>\n",
       "      <th>Length of stay</th>\n",
       "      <th>Discharge condition</th>\n",
       "      <th>Year</th>\n",
       "      <th>Age_range</th>\n",
       "      <th>Age_range_filled</th>\n",
       "      <th>age_min</th>\n",
       "      <th>age_max</th>\n",
       "    </tr>\n",
       "  </thead>\n",
       "  <tbody>\n",
       "    <tr>\n",
       "      <th>0</th>\n",
       "      <td>No Pertenecientes al Sistema Nacional de Servi...</td>\n",
       "      <td>Hombre</td>\n",
       "      <td>[1 ,  4]</td>\n",
       "      <td>ISAPRE</td>\n",
       "      <td>2021</td>\n",
       "      <td>K590</td>\n",
       "      <td>1</td>\n",
       "      <td>1</td>\n",
       "      <td>2021</td>\n",
       "      <td>[1, 4]</td>\n",
       "      <td>[1, 9]</td>\n",
       "      <td>1</td>\n",
       "      <td>9</td>\n",
       "    </tr>\n",
       "    <tr>\n",
       "      <th>1</th>\n",
       "      <td>No Pertenecientes al Sistema Nacional de Servi...</td>\n",
       "      <td>Hombre</td>\n",
       "      <td>[1 ,  4]</td>\n",
       "      <td>NINGUNA</td>\n",
       "      <td>2021</td>\n",
       "      <td>S015</td>\n",
       "      <td>1</td>\n",
       "      <td>1</td>\n",
       "      <td>2021</td>\n",
       "      <td>[1, 4]</td>\n",
       "      <td>[1, 9]</td>\n",
       "      <td>1</td>\n",
       "      <td>9</td>\n",
       "    </tr>\n",
       "    <tr>\n",
       "      <th>2</th>\n",
       "      <td>No Pertenecientes al Sistema Nacional de Servi...</td>\n",
       "      <td>Hombre</td>\n",
       "      <td>[1 ,  4]</td>\n",
       "      <td>ISAPRE</td>\n",
       "      <td>2021</td>\n",
       "      <td>T181</td>\n",
       "      <td>1</td>\n",
       "      <td>1</td>\n",
       "      <td>2021</td>\n",
       "      <td>[1, 4]</td>\n",
       "      <td>[1, 9]</td>\n",
       "      <td>1</td>\n",
       "      <td>9</td>\n",
       "    </tr>\n",
       "    <tr>\n",
       "      <th>3</th>\n",
       "      <td>No Pertenecientes al Sistema Nacional de Servi...</td>\n",
       "      <td>Hombre</td>\n",
       "      <td>[1 ,  4]</td>\n",
       "      <td>FONASA</td>\n",
       "      <td>2021</td>\n",
       "      <td>Q381</td>\n",
       "      <td>1</td>\n",
       "      <td>1</td>\n",
       "      <td>2021</td>\n",
       "      <td>[1, 4]</td>\n",
       "      <td>[1, 9]</td>\n",
       "      <td>1</td>\n",
       "      <td>9</td>\n",
       "    </tr>\n",
       "    <tr>\n",
       "      <th>4</th>\n",
       "      <td>No Pertenecientes al Sistema Nacional de Servi...</td>\n",
       "      <td>Hombre</td>\n",
       "      <td>[1 ,  4]</td>\n",
       "      <td>FONASA</td>\n",
       "      <td>2021</td>\n",
       "      <td>Q531</td>\n",
       "      <td>1</td>\n",
       "      <td>1</td>\n",
       "      <td>2021</td>\n",
       "      <td>[1, 4]</td>\n",
       "      <td>[1, 9]</td>\n",
       "      <td>1</td>\n",
       "      <td>9</td>\n",
       "    </tr>\n",
       "  </tbody>\n",
       "</table>\n",
       "</div>"
      ],
      "text/plain": [
       "                            Healthcare facility type     Sex       Age  \\\n",
       "0  No Pertenecientes al Sistema Nacional de Servi...  Hombre  [1 ,  4]   \n",
       "1  No Pertenecientes al Sistema Nacional de Servi...  Hombre  [1 ,  4]   \n",
       "2  No Pertenecientes al Sistema Nacional de Servi...  Hombre  [1 ,  4]   \n",
       "3  No Pertenecientes al Sistema Nacional de Servi...  Hombre  [1 ,  4]   \n",
       "4  No Pertenecientes al Sistema Nacional de Servi...  Hombre  [1 ,  4]   \n",
       "\n",
       "  Health insurance Year_with_nans Primary diagnosis code  Length of stay  \\\n",
       "0           ISAPRE           2021                   K590               1   \n",
       "1          NINGUNA           2021                   S015               1   \n",
       "2           ISAPRE           2021                   T181               1   \n",
       "3           FONASA           2021                   Q381               1   \n",
       "4           FONASA           2021                   Q531               1   \n",
       "\n",
       "  Discharge condition  Year Age_range Age_range_filled age_min age_max  \n",
       "0                   1  2021    [1, 4]           [1, 9]       1       9  \n",
       "1                   1  2021    [1, 4]           [1, 9]       1       9  \n",
       "2                   1  2021    [1, 4]           [1, 9]       1       9  \n",
       "3                   1  2021    [1, 4]           [1, 9]       1       9  \n",
       "4                   1  2021    [1, 4]           [1, 9]       1       9  "
      ]
     },
     "execution_count": 68,
     "metadata": {},
     "output_type": "execute_result"
    }
   ],
   "source": [
    "df.head()"
   ]
  },
  {
   "cell_type": "code",
   "execution_count": 69,
   "id": "3608f891-7dde-4675-8d7f-8ac320311d52",
   "metadata": {},
   "outputs": [],
   "source": [
    "# Drop intermediate columns\n",
    "df = df.drop(columns=['Age_range', 'age_min', \"age_max\", \"Age\"])"
   ]
  },
  {
   "cell_type": "code",
   "execution_count": 70,
   "id": "a7725861-ecd3-4a28-8e88-4463944efe50",
   "metadata": {},
   "outputs": [],
   "source": [
    "# Rename column for future merging with data from 2001 to 2020\n",
    "df.rename(columns={'Age_range_filled': 'Age'}, inplace=True)"
   ]
  },
  {
   "cell_type": "code",
   "execution_count": 71,
   "id": "12909c79-33dd-416b-83e5-27bf0cb747d0",
   "metadata": {},
   "outputs": [],
   "source": [
    "# Set NaNs as pandas NaNs to perform future analysis effectively\n",
    "df['Age'] = df['Age'].apply(lambda x: pd.NA if isinstance(x, list) and all(pd.isna(i) for i in x) else x)"
   ]
  },
  {
   "cell_type": "code",
   "execution_count": 72,
   "id": "06489715-34bb-4741-b0f1-1d2aa3ed09c4",
   "metadata": {},
   "outputs": [
    {
     "data": {
      "text/html": [
       "<div>\n",
       "<style scoped>\n",
       "    .dataframe tbody tr th:only-of-type {\n",
       "        vertical-align: middle;\n",
       "    }\n",
       "\n",
       "    .dataframe tbody tr th {\n",
       "        vertical-align: top;\n",
       "    }\n",
       "\n",
       "    .dataframe thead th {\n",
       "        text-align: right;\n",
       "    }\n",
       "</style>\n",
       "<table border=\"1\" class=\"dataframe\">\n",
       "  <thead>\n",
       "    <tr style=\"text-align: right;\">\n",
       "      <th></th>\n",
       "      <th>Healthcare facility type</th>\n",
       "      <th>Sex</th>\n",
       "      <th>Health insurance</th>\n",
       "      <th>Year_with_nans</th>\n",
       "      <th>Primary diagnosis code</th>\n",
       "      <th>Length of stay</th>\n",
       "      <th>Discharge condition</th>\n",
       "      <th>Year</th>\n",
       "      <th>Age</th>\n",
       "    </tr>\n",
       "  </thead>\n",
       "  <tbody>\n",
       "    <tr>\n",
       "      <th>1667344</th>\n",
       "      <td>Pertenecientes al Sistema Nacional de Servicio...</td>\n",
       "      <td>NaN</td>\n",
       "      <td>NaN</td>\n",
       "      <td>2024</td>\n",
       "      <td>P073</td>\n",
       "      <td>4</td>\n",
       "      <td>1</td>\n",
       "      <td>2024</td>\n",
       "      <td>[0, 1]</td>\n",
       "    </tr>\n",
       "    <tr>\n",
       "      <th>1667345</th>\n",
       "      <td>Pertenecientes al Sistema Nacional de Servicio...</td>\n",
       "      <td>NaN</td>\n",
       "      <td>NaN</td>\n",
       "      <td>2024</td>\n",
       "      <td>P590</td>\n",
       "      <td>2</td>\n",
       "      <td>1</td>\n",
       "      <td>2024</td>\n",
       "      <td>[0, 1]</td>\n",
       "    </tr>\n",
       "    <tr>\n",
       "      <th>1667346</th>\n",
       "      <td>Pertenecientes al Sistema Nacional de Servicio...</td>\n",
       "      <td>NaN</td>\n",
       "      <td>NaN</td>\n",
       "      <td>2024</td>\n",
       "      <td>P599</td>\n",
       "      <td>2</td>\n",
       "      <td>1</td>\n",
       "      <td>2024</td>\n",
       "      <td>[0, 1]</td>\n",
       "    </tr>\n",
       "    <tr>\n",
       "      <th>1667347</th>\n",
       "      <td>Pertenecientes al Sistema Nacional de Servicio...</td>\n",
       "      <td>NaN</td>\n",
       "      <td>NaN</td>\n",
       "      <td>2024</td>\n",
       "      <td>E250</td>\n",
       "      <td>52</td>\n",
       "      <td>1</td>\n",
       "      <td>2024</td>\n",
       "      <td>[0, 1]</td>\n",
       "    </tr>\n",
       "    <tr>\n",
       "      <th>1667348</th>\n",
       "      <td>Pertenecientes al Sistema Nacional de Servicio...</td>\n",
       "      <td>NaN</td>\n",
       "      <td>NaN</td>\n",
       "      <td>2024</td>\n",
       "      <td>P073</td>\n",
       "      <td>2</td>\n",
       "      <td>2</td>\n",
       "      <td>2024</td>\n",
       "      <td>[0, 1]</td>\n",
       "    </tr>\n",
       "  </tbody>\n",
       "</table>\n",
       "</div>"
      ],
      "text/plain": [
       "                                  Healthcare facility type  Sex  \\\n",
       "1667344  Pertenecientes al Sistema Nacional de Servicio...  NaN   \n",
       "1667345  Pertenecientes al Sistema Nacional de Servicio...  NaN   \n",
       "1667346  Pertenecientes al Sistema Nacional de Servicio...  NaN   \n",
       "1667347  Pertenecientes al Sistema Nacional de Servicio...  NaN   \n",
       "1667348  Pertenecientes al Sistema Nacional de Servicio...  NaN   \n",
       "\n",
       "        Health insurance Year_with_nans Primary diagnosis code  \\\n",
       "1667344              NaN           2024                   P073   \n",
       "1667345              NaN           2024                   P590   \n",
       "1667346              NaN           2024                   P599   \n",
       "1667347              NaN           2024                   E250   \n",
       "1667348              NaN           2024                   P073   \n",
       "\n",
       "         Length of stay Discharge condition  Year     Age  \n",
       "1667344               4                   1  2024  [0, 1]  \n",
       "1667345               2                   1  2024  [0, 1]  \n",
       "1667346               2                   1  2024  [0, 1]  \n",
       "1667347              52                   1  2024  [0, 1]  \n",
       "1667348               2                   2  2024  [0, 1]  "
      ]
     },
     "execution_count": 72,
     "metadata": {},
     "output_type": "execute_result"
    }
   ],
   "source": [
    "df.tail()"
   ]
  },
  {
   "cell_type": "code",
   "execution_count": 73,
   "id": "bae0818b-e6e8-418b-a0c5-f4e6f29296e8",
   "metadata": {},
   "outputs": [
    {
     "data": {
      "text/plain": [
       "(6343728, 9)"
      ]
     },
     "execution_count": 73,
     "metadata": {},
     "output_type": "execute_result"
    }
   ],
   "source": [
    "df.shape"
   ]
  },
  {
   "cell_type": "markdown",
   "id": "e06bfbe4-edc0-46fa-bdc3-9f2c9057cb95",
   "metadata": {},
   "source": [
    "Health insurance"
   ]
  },
  {
   "cell_type": "code",
   "execution_count": 75,
   "id": "57cdaacc-62fa-46f7-a468-d8a5d974baba",
   "metadata": {},
   "outputs": [
    {
     "data": {
      "text/plain": [
       "Health insurance\n",
       "FONASA         4623950\n",
       "ISAPRE         1205759\n",
       "DESCONOCIDO      86854\n",
       "DIPRECA          78281\n",
       "NINGUNA          77315\n",
       "CAPREDENA        56787\n",
       "SISA             40890\n",
       "Name: count, dtype: int64"
      ]
     },
     "execution_count": 75,
     "metadata": {},
     "output_type": "execute_result"
    }
   ],
   "source": [
    "# Only Fonasa and Isapre will be considered in the analysis\n",
    "df[\"Health insurance\"].value_counts()"
   ]
  },
  {
   "cell_type": "code",
   "execution_count": 76,
   "id": "e33caadc-79d7-4dd4-9b7c-1aae8d5bda62",
   "metadata": {},
   "outputs": [],
   "source": [
    "# Function to delete values that are not Fonasa or Isapre\n",
    "def insurance(x):\n",
    "    if x == \"FONASA\":\n",
    "        x = \"Fonasa\"\n",
    "    elif x == \"ISAPRE\":\n",
    "        x = \"Isapre\"\n",
    "    else:\n",
    "        x = \"Eliminar\"\n",
    "        \n",
    "    return x"
   ]
  },
  {
   "cell_type": "code",
   "execution_count": 77,
   "id": "e194ec88-5117-4701-b291-9d16c5c253d2",
   "metadata": {},
   "outputs": [],
   "source": [
    "# Applying function\n",
    "df[\"Health insurance\"] = df[\"Health insurance\"].apply(insurance)"
   ]
  },
  {
   "cell_type": "code",
   "execution_count": 78,
   "id": "c33460e0-a90f-4de3-ad82-ec749829728c",
   "metadata": {},
   "outputs": [],
   "source": [
    "# Filering dataframe and deleting other values\n",
    "df = df[df[\"Health insurance\"]!= \"Eliminar\"]"
   ]
  },
  {
   "cell_type": "code",
   "execution_count": 79,
   "id": "dd8a2ac3-b28e-4197-af47-627ecc2d32b3",
   "metadata": {},
   "outputs": [],
   "source": [
    "# dataframe that includes rows where health insurance is nan\n",
    "nan_insurance = df.loc[df['Health insurance'].isnull()]"
   ]
  },
  {
   "cell_type": "code",
   "execution_count": 80,
   "id": "c2e03fcc-9c6b-4708-a5ad-6f4a00edd150",
   "metadata": {},
   "outputs": [
    {
     "data": {
      "text/plain": [
       "(6003601, 9)"
      ]
     },
     "execution_count": 80,
     "metadata": {},
     "output_type": "execute_result"
    }
   ],
   "source": [
    "df.shape"
   ]
  },
  {
   "cell_type": "markdown",
   "id": "65bbc2f0-0c8f-429e-a4a9-a79a6c89f30e",
   "metadata": {},
   "source": [
    "Year_with_nans"
   ]
  },
  {
   "cell_type": "code",
   "execution_count": 82,
   "id": "da577cda-35d5-4d9d-8f13-daa1077db454",
   "metadata": {},
   "outputs": [
    {
     "data": {
      "text/plain": [
       "Year_with_nans\n",
       "2024    1574632\n",
       "2022    1465952\n",
       "2023    1424246\n",
       "2021    1371094\n",
       "NaN      167677\n",
       "Name: count, dtype: int64"
      ]
     },
     "execution_count": 82,
     "metadata": {},
     "output_type": "execute_result"
    }
   ],
   "source": [
    "# Discharges grew over the years\n",
    "df[\"Year_with_nans\"].value_counts(dropna = False)"
   ]
  },
  {
   "cell_type": "code",
   "execution_count": 83,
   "id": "773acca7-239a-447b-b13a-c3ddccd3176d",
   "metadata": {},
   "outputs": [
    {
     "data": {
      "text/plain": [
       "Healthcare facility type    167677\n",
       "Sex                         167677\n",
       "Health insurance            167677\n",
       "Year_with_nans              167677\n",
       "Primary diagnosis code           0\n",
       "Length of stay                   0\n",
       "Discharge condition              0\n",
       "Year                             0\n",
       "Age                         167677\n",
       "dtype: int64"
      ]
     },
     "execution_count": 83,
     "metadata": {},
     "output_type": "execute_result"
    }
   ],
   "source": [
    "# Remind sex and health insurance have 6125 extra nan values, but all columns share 167.677 NaN values\n",
    "df.loc[df[\"Year_with_nans\"].isnull()].isna().sum()"
   ]
  },
  {
   "cell_type": "markdown",
   "id": "a70f9ddf-2f84-4556-acf3-2313e98b2314",
   "metadata": {},
   "source": [
    "# Handling duplicates"
   ]
  },
  {
   "cell_type": "code",
   "execution_count": 85,
   "id": "c1cb1ef5-81b5-4b25-844d-daeccb3eb852",
   "metadata": {},
   "outputs": [],
   "source": [
    "# copy of the dataframe to work safely\n",
    "df_duplicates = df.copy()"
   ]
  },
  {
   "cell_type": "code",
   "execution_count": 86,
   "id": "0435f342-eb0d-46a5-b4e1-f839f1cd7f06",
   "metadata": {},
   "outputs": [],
   "source": [
    "# Lists are not hashable so in the column \"Age\" are turned into tuples\n",
    "df_duplicates['Age'] = df_duplicates['Age'].apply(lambda x: tuple(x) if type(x) is list else x)"
   ]
  },
  {
   "cell_type": "code",
   "execution_count": 87,
   "id": "91ce7036-a168-401f-b897-ff980627c143",
   "metadata": {},
   "outputs": [
    {
     "data": {
      "text/html": [
       "<div>\n",
       "<style scoped>\n",
       "    .dataframe tbody tr th:only-of-type {\n",
       "        vertical-align: middle;\n",
       "    }\n",
       "\n",
       "    .dataframe tbody tr th {\n",
       "        vertical-align: top;\n",
       "    }\n",
       "\n",
       "    .dataframe thead th {\n",
       "        text-align: right;\n",
       "    }\n",
       "</style>\n",
       "<table border=\"1\" class=\"dataframe\">\n",
       "  <thead>\n",
       "    <tr style=\"text-align: right;\">\n",
       "      <th></th>\n",
       "      <th>Healthcare facility type</th>\n",
       "      <th>Sex</th>\n",
       "      <th>Health insurance</th>\n",
       "      <th>Year_with_nans</th>\n",
       "      <th>Primary diagnosis code</th>\n",
       "      <th>Length of stay</th>\n",
       "      <th>Discharge condition</th>\n",
       "      <th>Year</th>\n",
       "      <th>Age</th>\n",
       "    </tr>\n",
       "  </thead>\n",
       "  <tbody>\n",
       "    <tr>\n",
       "      <th>0</th>\n",
       "      <td>No Pertenecientes al Sistema Nacional de Servi...</td>\n",
       "      <td>Hombre</td>\n",
       "      <td>Isapre</td>\n",
       "      <td>2021</td>\n",
       "      <td>K590</td>\n",
       "      <td>1</td>\n",
       "      <td>1</td>\n",
       "      <td>2021</td>\n",
       "      <td>(1, 9)</td>\n",
       "    </tr>\n",
       "    <tr>\n",
       "      <th>2</th>\n",
       "      <td>No Pertenecientes al Sistema Nacional de Servi...</td>\n",
       "      <td>Hombre</td>\n",
       "      <td>Isapre</td>\n",
       "      <td>2021</td>\n",
       "      <td>T181</td>\n",
       "      <td>1</td>\n",
       "      <td>1</td>\n",
       "      <td>2021</td>\n",
       "      <td>(1, 9)</td>\n",
       "    </tr>\n",
       "    <tr>\n",
       "      <th>3</th>\n",
       "      <td>No Pertenecientes al Sistema Nacional de Servi...</td>\n",
       "      <td>Hombre</td>\n",
       "      <td>Fonasa</td>\n",
       "      <td>2021</td>\n",
       "      <td>Q381</td>\n",
       "      <td>1</td>\n",
       "      <td>1</td>\n",
       "      <td>2021</td>\n",
       "      <td>(1, 9)</td>\n",
       "    </tr>\n",
       "    <tr>\n",
       "      <th>4</th>\n",
       "      <td>No Pertenecientes al Sistema Nacional de Servi...</td>\n",
       "      <td>Hombre</td>\n",
       "      <td>Fonasa</td>\n",
       "      <td>2021</td>\n",
       "      <td>Q531</td>\n",
       "      <td>1</td>\n",
       "      <td>1</td>\n",
       "      <td>2021</td>\n",
       "      <td>(1, 9)</td>\n",
       "    </tr>\n",
       "    <tr>\n",
       "      <th>5</th>\n",
       "      <td>No Pertenecientes al Sistema Nacional de Servi...</td>\n",
       "      <td>Hombre</td>\n",
       "      <td>Fonasa</td>\n",
       "      <td>2021</td>\n",
       "      <td>Q539</td>\n",
       "      <td>1</td>\n",
       "      <td>1</td>\n",
       "      <td>2021</td>\n",
       "      <td>(1, 9)</td>\n",
       "    </tr>\n",
       "    <tr>\n",
       "      <th>...</th>\n",
       "      <td>...</td>\n",
       "      <td>...</td>\n",
       "      <td>...</td>\n",
       "      <td>...</td>\n",
       "      <td>...</td>\n",
       "      <td>...</td>\n",
       "      <td>...</td>\n",
       "      <td>...</td>\n",
       "      <td>...</td>\n",
       "    </tr>\n",
       "    <tr>\n",
       "      <th>1667335</th>\n",
       "      <td>Pertenecientes al Sistema Nacional de Servicio...</td>\n",
       "      <td>NaN</td>\n",
       "      <td>NaN</td>\n",
       "      <td>2024</td>\n",
       "      <td>C189</td>\n",
       "      <td>2</td>\n",
       "      <td>1</td>\n",
       "      <td>2024</td>\n",
       "      <td>(40, 49)</td>\n",
       "    </tr>\n",
       "    <tr>\n",
       "      <th>1667336</th>\n",
       "      <td>Pertenecientes al Sistema Nacional de Servicio...</td>\n",
       "      <td>NaN</td>\n",
       "      <td>NaN</td>\n",
       "      <td>2024</td>\n",
       "      <td>C189</td>\n",
       "      <td>2</td>\n",
       "      <td>1</td>\n",
       "      <td>2024</td>\n",
       "      <td>(40, 49)</td>\n",
       "    </tr>\n",
       "    <tr>\n",
       "      <th>1667344</th>\n",
       "      <td>Pertenecientes al Sistema Nacional de Servicio...</td>\n",
       "      <td>NaN</td>\n",
       "      <td>NaN</td>\n",
       "      <td>2024</td>\n",
       "      <td>P073</td>\n",
       "      <td>4</td>\n",
       "      <td>1</td>\n",
       "      <td>2024</td>\n",
       "      <td>(0, 1)</td>\n",
       "    </tr>\n",
       "    <tr>\n",
       "      <th>1667345</th>\n",
       "      <td>Pertenecientes al Sistema Nacional de Servicio...</td>\n",
       "      <td>NaN</td>\n",
       "      <td>NaN</td>\n",
       "      <td>2024</td>\n",
       "      <td>P590</td>\n",
       "      <td>2</td>\n",
       "      <td>1</td>\n",
       "      <td>2024</td>\n",
       "      <td>(0, 1)</td>\n",
       "    </tr>\n",
       "    <tr>\n",
       "      <th>1667346</th>\n",
       "      <td>Pertenecientes al Sistema Nacional de Servicio...</td>\n",
       "      <td>NaN</td>\n",
       "      <td>NaN</td>\n",
       "      <td>2024</td>\n",
       "      <td>P599</td>\n",
       "      <td>2</td>\n",
       "      <td>1</td>\n",
       "      <td>2024</td>\n",
       "      <td>(0, 1)</td>\n",
       "    </tr>\n",
       "  </tbody>\n",
       "</table>\n",
       "<p>5015551 rows × 9 columns</p>\n",
       "</div>"
      ],
      "text/plain": [
       "                                  Healthcare facility type     Sex  \\\n",
       "0        No Pertenecientes al Sistema Nacional de Servi...  Hombre   \n",
       "2        No Pertenecientes al Sistema Nacional de Servi...  Hombre   \n",
       "3        No Pertenecientes al Sistema Nacional de Servi...  Hombre   \n",
       "4        No Pertenecientes al Sistema Nacional de Servi...  Hombre   \n",
       "5        No Pertenecientes al Sistema Nacional de Servi...  Hombre   \n",
       "...                                                    ...     ...   \n",
       "1667335  Pertenecientes al Sistema Nacional de Servicio...     NaN   \n",
       "1667336  Pertenecientes al Sistema Nacional de Servicio...     NaN   \n",
       "1667344  Pertenecientes al Sistema Nacional de Servicio...     NaN   \n",
       "1667345  Pertenecientes al Sistema Nacional de Servicio...     NaN   \n",
       "1667346  Pertenecientes al Sistema Nacional de Servicio...     NaN   \n",
       "\n",
       "        Health insurance Year_with_nans Primary diagnosis code  \\\n",
       "0                 Isapre           2021                   K590   \n",
       "2                 Isapre           2021                   T181   \n",
       "3                 Fonasa           2021                   Q381   \n",
       "4                 Fonasa           2021                   Q531   \n",
       "5                 Fonasa           2021                   Q539   \n",
       "...                  ...            ...                    ...   \n",
       "1667335              NaN           2024                   C189   \n",
       "1667336              NaN           2024                   C189   \n",
       "1667344              NaN           2024                   P073   \n",
       "1667345              NaN           2024                   P590   \n",
       "1667346              NaN           2024                   P599   \n",
       "\n",
       "         Length of stay Discharge condition  Year       Age  \n",
       "0                     1                   1  2021    (1, 9)  \n",
       "2                     1                   1  2021    (1, 9)  \n",
       "3                     1                   1  2021    (1, 9)  \n",
       "4                     1                   1  2021    (1, 9)  \n",
       "5                     1                   1  2021    (1, 9)  \n",
       "...                 ...                 ...   ...       ...  \n",
       "1667335               2                   1  2024  (40, 49)  \n",
       "1667336               2                   1  2024  (40, 49)  \n",
       "1667344               4                   1  2024    (0, 1)  \n",
       "1667345               2                   1  2024    (0, 1)  \n",
       "1667346               2                   1  2024    (0, 1)  \n",
       "\n",
       "[5015551 rows x 9 columns]"
      ]
     },
     "execution_count": 87,
     "metadata": {},
     "output_type": "execute_result"
    }
   ],
   "source": [
    "# Considering there are not patient IDs or hospital name linked to each row is not possible to make a distinction between data entry issues and real patients\n",
    "# when rows are duplicated, so no data will be deleted to avoid losing valuable information\n",
    "df_duplicates[df_duplicates.duplicated(keep=False)]"
   ]
  },
  {
   "cell_type": "code",
   "execution_count": 88,
   "id": "6de014cc-e177-4d17-9264-277fb06c9de5",
   "metadata": {},
   "outputs": [
    {
     "data": {
      "text/plain": [
       "74.65321229708637"
      ]
     },
     "execution_count": 88,
     "metadata": {},
     "output_type": "execute_result"
    }
   ],
   "source": [
    "# 74,6% of values are duplicated at least once. It would be a mistake to delete them both because are too many and maybe are not data entry issues\n",
    "df_duplicates.duplicated().sum() / len(df) * 100"
   ]
  },
  {
   "cell_type": "code",
   "execution_count": 89,
   "id": "fa1dd0ea-47e9-4978-8aff-9255d1c5f955",
   "metadata": {},
   "outputs": [
    {
     "data": {
      "text/plain": [
       "count\n",
       "1       744294\n",
       "2       156171\n",
       "3        68069\n",
       "4        37578\n",
       "5        23982\n",
       "         ...  \n",
       "678          1\n",
       "677          1\n",
       "674          1\n",
       "671          1\n",
       "7634         1\n",
       "Name: count, Length: 822, dtype: int64"
      ]
     },
     "execution_count": 89,
     "metadata": {},
     "output_type": "execute_result"
    }
   ],
   "source": [
    "# This shows the count of duplicates, or how many times a value is duplicated; for example one of them is 7634 times\n",
    "# So it is important to see which are those values with many duplicates\n",
    "df_duplicates.value_counts().value_counts()"
   ]
  },
  {
   "cell_type": "code",
   "execution_count": 90,
   "id": "c910ab58-f05a-4720-ba94-3359288c0bc2",
   "metadata": {},
   "outputs": [],
   "source": [
    "# Many duplicates are in the birth and they will be deleted as the do not represent a disease or the linked problems are external to the mother\n",
    "\n",
    "# Example of 1 row that has 671 duplicates\n",
    "row_counts = df_duplicates.apply(lambda row: tuple(row), axis=1).value_counts()\n",
    "rows_x_times = row_counts[row_counts == 7634].index\n",
    "df_result = df_duplicates[df_duplicates.apply(lambda row: tuple(row), axis=1).isin(rows_x_times)]\n"
   ]
  },
  {
   "cell_type": "code",
   "execution_count": 91,
   "id": "dc31e6c9-f976-400f-8c99-676274d3eea0",
   "metadata": {},
   "outputs": [
    {
     "data": {
      "text/html": [
       "<div>\n",
       "<style scoped>\n",
       "    .dataframe tbody tr th:only-of-type {\n",
       "        vertical-align: middle;\n",
       "    }\n",
       "\n",
       "    .dataframe tbody tr th {\n",
       "        vertical-align: top;\n",
       "    }\n",
       "\n",
       "    .dataframe thead th {\n",
       "        text-align: right;\n",
       "    }\n",
       "</style>\n",
       "<table border=\"1\" class=\"dataframe\">\n",
       "  <thead>\n",
       "    <tr style=\"text-align: right;\">\n",
       "      <th></th>\n",
       "      <th>Healthcare facility type</th>\n",
       "      <th>Sex</th>\n",
       "      <th>Health insurance</th>\n",
       "      <th>Year_with_nans</th>\n",
       "      <th>Primary diagnosis code</th>\n",
       "      <th>Length of stay</th>\n",
       "      <th>Discharge condition</th>\n",
       "      <th>Year</th>\n",
       "      <th>Age</th>\n",
       "    </tr>\n",
       "  </thead>\n",
       "  <tbody>\n",
       "    <tr>\n",
       "      <th>177905</th>\n",
       "      <td>Pertenecientes al Sistema Nacional de Servicio...</td>\n",
       "      <td>Mujer</td>\n",
       "      <td>Fonasa</td>\n",
       "      <td>2022</td>\n",
       "      <td>O800</td>\n",
       "      <td>2</td>\n",
       "      <td>1</td>\n",
       "      <td>2022</td>\n",
       "      <td>(20, 29)</td>\n",
       "    </tr>\n",
       "    <tr>\n",
       "      <th>177914</th>\n",
       "      <td>Pertenecientes al Sistema Nacional de Servicio...</td>\n",
       "      <td>Mujer</td>\n",
       "      <td>Fonasa</td>\n",
       "      <td>2022</td>\n",
       "      <td>O800</td>\n",
       "      <td>2</td>\n",
       "      <td>1</td>\n",
       "      <td>2022</td>\n",
       "      <td>(20, 29)</td>\n",
       "    </tr>\n",
       "    <tr>\n",
       "      <th>177930</th>\n",
       "      <td>Pertenecientes al Sistema Nacional de Servicio...</td>\n",
       "      <td>Mujer</td>\n",
       "      <td>Fonasa</td>\n",
       "      <td>2022</td>\n",
       "      <td>O800</td>\n",
       "      <td>2</td>\n",
       "      <td>1</td>\n",
       "      <td>2022</td>\n",
       "      <td>(20, 29)</td>\n",
       "    </tr>\n",
       "    <tr>\n",
       "      <th>177943</th>\n",
       "      <td>Pertenecientes al Sistema Nacional de Servicio...</td>\n",
       "      <td>Mujer</td>\n",
       "      <td>Fonasa</td>\n",
       "      <td>2022</td>\n",
       "      <td>O800</td>\n",
       "      <td>2</td>\n",
       "      <td>1</td>\n",
       "      <td>2022</td>\n",
       "      <td>(20, 29)</td>\n",
       "    </tr>\n",
       "    <tr>\n",
       "      <th>177968</th>\n",
       "      <td>Pertenecientes al Sistema Nacional de Servicio...</td>\n",
       "      <td>Mujer</td>\n",
       "      <td>Fonasa</td>\n",
       "      <td>2022</td>\n",
       "      <td>O800</td>\n",
       "      <td>2</td>\n",
       "      <td>1</td>\n",
       "      <td>2022</td>\n",
       "      <td>(20, 29)</td>\n",
       "    </tr>\n",
       "  </tbody>\n",
       "</table>\n",
       "</div>"
      ],
      "text/plain": [
       "                                 Healthcare facility type    Sex  \\\n",
       "177905  Pertenecientes al Sistema Nacional de Servicio...  Mujer   \n",
       "177914  Pertenecientes al Sistema Nacional de Servicio...  Mujer   \n",
       "177930  Pertenecientes al Sistema Nacional de Servicio...  Mujer   \n",
       "177943  Pertenecientes al Sistema Nacional de Servicio...  Mujer   \n",
       "177968  Pertenecientes al Sistema Nacional de Servicio...  Mujer   \n",
       "\n",
       "       Health insurance Year_with_nans Primary diagnosis code  Length of stay  \\\n",
       "177905           Fonasa           2022                   O800               2   \n",
       "177914           Fonasa           2022                   O800               2   \n",
       "177930           Fonasa           2022                   O800               2   \n",
       "177943           Fonasa           2022                   O800               2   \n",
       "177968           Fonasa           2022                   O800               2   \n",
       "\n",
       "       Discharge condition  Year       Age  \n",
       "177905                   1  2022  (20, 29)  \n",
       "177914                   1  2022  (20, 29)  \n",
       "177930                   1  2022  (20, 29)  \n",
       "177943                   1  2022  (20, 29)  \n",
       "177968                   1  2022  (20, 29)  "
      ]
     },
     "execution_count": 91,
     "metadata": {},
     "output_type": "execute_result"
    }
   ],
   "source": [
    "df_result.head()"
   ]
  },
  {
   "cell_type": "code",
   "execution_count": 92,
   "id": "4163a1c3-3a75-4aec-8f25-c2bd9cc3d429",
   "metadata": {},
   "outputs": [],
   "source": [
    "df_duplicates = df_duplicates[~df_duplicates[\"Primary diagnosis code\"].str.startswith(\"O\")]"
   ]
  },
  {
   "cell_type": "code",
   "execution_count": 93,
   "id": "bf1e5a68-1719-4d6a-8196-8901ffafcbab",
   "metadata": {},
   "outputs": [
    {
     "data": {
      "text/html": [
       "<div>\n",
       "<style scoped>\n",
       "    .dataframe tbody tr th:only-of-type {\n",
       "        vertical-align: middle;\n",
       "    }\n",
       "\n",
       "    .dataframe tbody tr th {\n",
       "        vertical-align: top;\n",
       "    }\n",
       "\n",
       "    .dataframe thead th {\n",
       "        text-align: right;\n",
       "    }\n",
       "</style>\n",
       "<table border=\"1\" class=\"dataframe\">\n",
       "  <thead>\n",
       "    <tr style=\"text-align: right;\">\n",
       "      <th></th>\n",
       "      <th>Healthcare facility type</th>\n",
       "      <th>Sex</th>\n",
       "      <th>Health insurance</th>\n",
       "      <th>Year_with_nans</th>\n",
       "      <th>Primary diagnosis code</th>\n",
       "      <th>Length of stay</th>\n",
       "      <th>Discharge condition</th>\n",
       "      <th>Year</th>\n",
       "      <th>Age</th>\n",
       "    </tr>\n",
       "  </thead>\n",
       "  <tbody>\n",
       "    <tr>\n",
       "      <th>0</th>\n",
       "      <td>No Pertenecientes al Sistema Nacional de Servi...</td>\n",
       "      <td>Hombre</td>\n",
       "      <td>Isapre</td>\n",
       "      <td>2021</td>\n",
       "      <td>K590</td>\n",
       "      <td>1</td>\n",
       "      <td>1</td>\n",
       "      <td>2021</td>\n",
       "      <td>(1, 9)</td>\n",
       "    </tr>\n",
       "    <tr>\n",
       "      <th>2</th>\n",
       "      <td>No Pertenecientes al Sistema Nacional de Servi...</td>\n",
       "      <td>Hombre</td>\n",
       "      <td>Isapre</td>\n",
       "      <td>2021</td>\n",
       "      <td>T181</td>\n",
       "      <td>1</td>\n",
       "      <td>1</td>\n",
       "      <td>2021</td>\n",
       "      <td>(1, 9)</td>\n",
       "    </tr>\n",
       "    <tr>\n",
       "      <th>3</th>\n",
       "      <td>No Pertenecientes al Sistema Nacional de Servi...</td>\n",
       "      <td>Hombre</td>\n",
       "      <td>Fonasa</td>\n",
       "      <td>2021</td>\n",
       "      <td>Q381</td>\n",
       "      <td>1</td>\n",
       "      <td>1</td>\n",
       "      <td>2021</td>\n",
       "      <td>(1, 9)</td>\n",
       "    </tr>\n",
       "    <tr>\n",
       "      <th>4</th>\n",
       "      <td>No Pertenecientes al Sistema Nacional de Servi...</td>\n",
       "      <td>Hombre</td>\n",
       "      <td>Fonasa</td>\n",
       "      <td>2021</td>\n",
       "      <td>Q531</td>\n",
       "      <td>1</td>\n",
       "      <td>1</td>\n",
       "      <td>2021</td>\n",
       "      <td>(1, 9)</td>\n",
       "    </tr>\n",
       "    <tr>\n",
       "      <th>5</th>\n",
       "      <td>No Pertenecientes al Sistema Nacional de Servi...</td>\n",
       "      <td>Hombre</td>\n",
       "      <td>Fonasa</td>\n",
       "      <td>2021</td>\n",
       "      <td>Q539</td>\n",
       "      <td>1</td>\n",
       "      <td>1</td>\n",
       "      <td>2021</td>\n",
       "      <td>(1, 9)</td>\n",
       "    </tr>\n",
       "    <tr>\n",
       "      <th>...</th>\n",
       "      <td>...</td>\n",
       "      <td>...</td>\n",
       "      <td>...</td>\n",
       "      <td>...</td>\n",
       "      <td>...</td>\n",
       "      <td>...</td>\n",
       "      <td>...</td>\n",
       "      <td>...</td>\n",
       "      <td>...</td>\n",
       "    </tr>\n",
       "    <tr>\n",
       "      <th>1667344</th>\n",
       "      <td>Pertenecientes al Sistema Nacional de Servicio...</td>\n",
       "      <td>NaN</td>\n",
       "      <td>NaN</td>\n",
       "      <td>2024</td>\n",
       "      <td>P073</td>\n",
       "      <td>4</td>\n",
       "      <td>1</td>\n",
       "      <td>2024</td>\n",
       "      <td>(0, 1)</td>\n",
       "    </tr>\n",
       "    <tr>\n",
       "      <th>1667345</th>\n",
       "      <td>Pertenecientes al Sistema Nacional de Servicio...</td>\n",
       "      <td>NaN</td>\n",
       "      <td>NaN</td>\n",
       "      <td>2024</td>\n",
       "      <td>P590</td>\n",
       "      <td>2</td>\n",
       "      <td>1</td>\n",
       "      <td>2024</td>\n",
       "      <td>(0, 1)</td>\n",
       "    </tr>\n",
       "    <tr>\n",
       "      <th>1667346</th>\n",
       "      <td>Pertenecientes al Sistema Nacional de Servicio...</td>\n",
       "      <td>NaN</td>\n",
       "      <td>NaN</td>\n",
       "      <td>2024</td>\n",
       "      <td>P599</td>\n",
       "      <td>2</td>\n",
       "      <td>1</td>\n",
       "      <td>2024</td>\n",
       "      <td>(0, 1)</td>\n",
       "    </tr>\n",
       "    <tr>\n",
       "      <th>1667347</th>\n",
       "      <td>Pertenecientes al Sistema Nacional de Servicio...</td>\n",
       "      <td>NaN</td>\n",
       "      <td>NaN</td>\n",
       "      <td>2024</td>\n",
       "      <td>E250</td>\n",
       "      <td>52</td>\n",
       "      <td>1</td>\n",
       "      <td>2024</td>\n",
       "      <td>(0, 1)</td>\n",
       "    </tr>\n",
       "    <tr>\n",
       "      <th>1667348</th>\n",
       "      <td>Pertenecientes al Sistema Nacional de Servicio...</td>\n",
       "      <td>NaN</td>\n",
       "      <td>NaN</td>\n",
       "      <td>2024</td>\n",
       "      <td>P073</td>\n",
       "      <td>2</td>\n",
       "      <td>2</td>\n",
       "      <td>2024</td>\n",
       "      <td>(0, 1)</td>\n",
       "    </tr>\n",
       "  </tbody>\n",
       "</table>\n",
       "<p>5119848 rows × 9 columns</p>\n",
       "</div>"
      ],
      "text/plain": [
       "                                  Healthcare facility type     Sex  \\\n",
       "0        No Pertenecientes al Sistema Nacional de Servi...  Hombre   \n",
       "2        No Pertenecientes al Sistema Nacional de Servi...  Hombre   \n",
       "3        No Pertenecientes al Sistema Nacional de Servi...  Hombre   \n",
       "4        No Pertenecientes al Sistema Nacional de Servi...  Hombre   \n",
       "5        No Pertenecientes al Sistema Nacional de Servi...  Hombre   \n",
       "...                                                    ...     ...   \n",
       "1667344  Pertenecientes al Sistema Nacional de Servicio...     NaN   \n",
       "1667345  Pertenecientes al Sistema Nacional de Servicio...     NaN   \n",
       "1667346  Pertenecientes al Sistema Nacional de Servicio...     NaN   \n",
       "1667347  Pertenecientes al Sistema Nacional de Servicio...     NaN   \n",
       "1667348  Pertenecientes al Sistema Nacional de Servicio...     NaN   \n",
       "\n",
       "        Health insurance Year_with_nans Primary diagnosis code  \\\n",
       "0                 Isapre           2021                   K590   \n",
       "2                 Isapre           2021                   T181   \n",
       "3                 Fonasa           2021                   Q381   \n",
       "4                 Fonasa           2021                   Q531   \n",
       "5                 Fonasa           2021                   Q539   \n",
       "...                  ...            ...                    ...   \n",
       "1667344              NaN           2024                   P073   \n",
       "1667345              NaN           2024                   P590   \n",
       "1667346              NaN           2024                   P599   \n",
       "1667347              NaN           2024                   E250   \n",
       "1667348              NaN           2024                   P073   \n",
       "\n",
       "         Length of stay Discharge condition  Year     Age  \n",
       "0                     1                   1  2021  (1, 9)  \n",
       "2                     1                   1  2021  (1, 9)  \n",
       "3                     1                   1  2021  (1, 9)  \n",
       "4                     1                   1  2021  (1, 9)  \n",
       "5                     1                   1  2021  (1, 9)  \n",
       "...                 ...                 ...   ...     ...  \n",
       "1667344               4                   1  2024  (0, 1)  \n",
       "1667345               2                   1  2024  (0, 1)  \n",
       "1667346               2                   1  2024  (0, 1)  \n",
       "1667347              52                   1  2024  (0, 1)  \n",
       "1667348               2                   2  2024  (0, 1)  \n",
       "\n",
       "[5119848 rows x 9 columns]"
      ]
     },
     "execution_count": 93,
     "metadata": {},
     "output_type": "execute_result"
    }
   ],
   "source": [
    "df_duplicates"
   ]
  },
  {
   "cell_type": "code",
   "execution_count": 94,
   "id": "1642ddfc-3af8-40ec-8cd5-69b96a3af390",
   "metadata": {},
   "outputs": [
    {
     "data": {
      "text/plain": [
       "count\n",
       "1       727907\n",
       "2       151022\n",
       "3        65338\n",
       "4        35895\n",
       "5        22836\n",
       "         ...  \n",
       "596          1\n",
       "600          1\n",
       "602          1\n",
       "606          1\n",
       "3085         1\n",
       "Name: count, Length: 642, dtype: int64"
      ]
     },
     "execution_count": 94,
     "metadata": {},
     "output_type": "execute_result"
    }
   ],
   "source": [
    "df_duplicates.value_counts().sort_values(ascending = True).value_counts()"
   ]
  },
  {
   "cell_type": "code",
   "execution_count": 95,
   "id": "ba7716d1-2dc1-4ea0-8b59-1aa17ce8eaa3",
   "metadata": {},
   "outputs": [],
   "source": [
    "# This is a problem reltaed to amygdala. In this case the duplicates show men between 1 to 9 years old in the 2024. The disease it is very common\n",
    "# Despite the amount of duplicates for the same row they will not be deleted as they do not neceesarily represent a data entry issue\n",
    "\n",
    "# Example of 1 row that has 3085 duplicates\n",
    "row_counts = df_duplicates.apply(lambda row: tuple(row), axis=1).value_counts()\n",
    "rows_x_times = row_counts[row_counts == 3085].index\n",
    "df_result = df_duplicates[df_duplicates.apply(lambda row: tuple(row), axis=1).isin(rows_x_times)]\n",
    "\n",
    "\n"
   ]
  },
  {
   "cell_type": "code",
   "execution_count": 96,
   "id": "d163b327-038b-4674-a13f-37656bf33c4a",
   "metadata": {},
   "outputs": [
    {
     "data": {
      "text/html": [
       "<div>\n",
       "<style scoped>\n",
       "    .dataframe tbody tr th:only-of-type {\n",
       "        vertical-align: middle;\n",
       "    }\n",
       "\n",
       "    .dataframe tbody tr th {\n",
       "        vertical-align: top;\n",
       "    }\n",
       "\n",
       "    .dataframe thead th {\n",
       "        text-align: right;\n",
       "    }\n",
       "</style>\n",
       "<table border=\"1\" class=\"dataframe\">\n",
       "  <thead>\n",
       "    <tr style=\"text-align: right;\">\n",
       "      <th></th>\n",
       "      <th>Healthcare facility type</th>\n",
       "      <th>Sex</th>\n",
       "      <th>Health insurance</th>\n",
       "      <th>Year_with_nans</th>\n",
       "      <th>Primary diagnosis code</th>\n",
       "      <th>Length of stay</th>\n",
       "      <th>Discharge condition</th>\n",
       "      <th>Year</th>\n",
       "      <th>Age</th>\n",
       "    </tr>\n",
       "  </thead>\n",
       "  <tbody>\n",
       "    <tr>\n",
       "      <th>21</th>\n",
       "      <td>No Pertenecientes al Sistema Nacional de Servi...</td>\n",
       "      <td>Hombre</td>\n",
       "      <td>Fonasa</td>\n",
       "      <td>2024</td>\n",
       "      <td>J353</td>\n",
       "      <td>1</td>\n",
       "      <td>1</td>\n",
       "      <td>2024</td>\n",
       "      <td>(1, 9)</td>\n",
       "    </tr>\n",
       "    <tr>\n",
       "      <th>29</th>\n",
       "      <td>No Pertenecientes al Sistema Nacional de Servi...</td>\n",
       "      <td>Hombre</td>\n",
       "      <td>Fonasa</td>\n",
       "      <td>2024</td>\n",
       "      <td>J353</td>\n",
       "      <td>1</td>\n",
       "      <td>1</td>\n",
       "      <td>2024</td>\n",
       "      <td>(1, 9)</td>\n",
       "    </tr>\n",
       "    <tr>\n",
       "      <th>30</th>\n",
       "      <td>No Pertenecientes al Sistema Nacional de Servi...</td>\n",
       "      <td>Hombre</td>\n",
       "      <td>Fonasa</td>\n",
       "      <td>2024</td>\n",
       "      <td>J353</td>\n",
       "      <td>1</td>\n",
       "      <td>1</td>\n",
       "      <td>2024</td>\n",
       "      <td>(1, 9)</td>\n",
       "    </tr>\n",
       "    <tr>\n",
       "      <th>45</th>\n",
       "      <td>No Pertenecientes al Sistema Nacional de Servi...</td>\n",
       "      <td>Hombre</td>\n",
       "      <td>Fonasa</td>\n",
       "      <td>2024</td>\n",
       "      <td>J353</td>\n",
       "      <td>1</td>\n",
       "      <td>1</td>\n",
       "      <td>2024</td>\n",
       "      <td>(1, 9)</td>\n",
       "    </tr>\n",
       "    <tr>\n",
       "      <th>771</th>\n",
       "      <td>No Pertenecientes al Sistema Nacional de Servi...</td>\n",
       "      <td>Hombre</td>\n",
       "      <td>Fonasa</td>\n",
       "      <td>2024</td>\n",
       "      <td>J353</td>\n",
       "      <td>1</td>\n",
       "      <td>1</td>\n",
       "      <td>2024</td>\n",
       "      <td>(1, 9)</td>\n",
       "    </tr>\n",
       "    <tr>\n",
       "      <th>...</th>\n",
       "      <td>...</td>\n",
       "      <td>...</td>\n",
       "      <td>...</td>\n",
       "      <td>...</td>\n",
       "      <td>...</td>\n",
       "      <td>...</td>\n",
       "      <td>...</td>\n",
       "      <td>...</td>\n",
       "      <td>...</td>\n",
       "    </tr>\n",
       "    <tr>\n",
       "      <th>1642398</th>\n",
       "      <td>No Pertenecientes al Sistema Nacional de Servi...</td>\n",
       "      <td>Hombre</td>\n",
       "      <td>Fonasa</td>\n",
       "      <td>2024</td>\n",
       "      <td>J353</td>\n",
       "      <td>1</td>\n",
       "      <td>1</td>\n",
       "      <td>2024</td>\n",
       "      <td>(1, 9)</td>\n",
       "    </tr>\n",
       "    <tr>\n",
       "      <th>1642399</th>\n",
       "      <td>No Pertenecientes al Sistema Nacional de Servi...</td>\n",
       "      <td>Hombre</td>\n",
       "      <td>Fonasa</td>\n",
       "      <td>2024</td>\n",
       "      <td>J353</td>\n",
       "      <td>1</td>\n",
       "      <td>1</td>\n",
       "      <td>2024</td>\n",
       "      <td>(1, 9)</td>\n",
       "    </tr>\n",
       "    <tr>\n",
       "      <th>1642400</th>\n",
       "      <td>No Pertenecientes al Sistema Nacional de Servi...</td>\n",
       "      <td>Hombre</td>\n",
       "      <td>Fonasa</td>\n",
       "      <td>2024</td>\n",
       "      <td>J353</td>\n",
       "      <td>1</td>\n",
       "      <td>1</td>\n",
       "      <td>2024</td>\n",
       "      <td>(1, 9)</td>\n",
       "    </tr>\n",
       "    <tr>\n",
       "      <th>1642402</th>\n",
       "      <td>No Pertenecientes al Sistema Nacional de Servi...</td>\n",
       "      <td>Hombre</td>\n",
       "      <td>Fonasa</td>\n",
       "      <td>2024</td>\n",
       "      <td>J353</td>\n",
       "      <td>1</td>\n",
       "      <td>1</td>\n",
       "      <td>2024</td>\n",
       "      <td>(1, 9)</td>\n",
       "    </tr>\n",
       "    <tr>\n",
       "      <th>1642403</th>\n",
       "      <td>No Pertenecientes al Sistema Nacional de Servi...</td>\n",
       "      <td>Hombre</td>\n",
       "      <td>Fonasa</td>\n",
       "      <td>2024</td>\n",
       "      <td>J353</td>\n",
       "      <td>1</td>\n",
       "      <td>1</td>\n",
       "      <td>2024</td>\n",
       "      <td>(1, 9)</td>\n",
       "    </tr>\n",
       "  </tbody>\n",
       "</table>\n",
       "<p>3085 rows × 9 columns</p>\n",
       "</div>"
      ],
      "text/plain": [
       "                                  Healthcare facility type     Sex  \\\n",
       "21       No Pertenecientes al Sistema Nacional de Servi...  Hombre   \n",
       "29       No Pertenecientes al Sistema Nacional de Servi...  Hombre   \n",
       "30       No Pertenecientes al Sistema Nacional de Servi...  Hombre   \n",
       "45       No Pertenecientes al Sistema Nacional de Servi...  Hombre   \n",
       "771      No Pertenecientes al Sistema Nacional de Servi...  Hombre   \n",
       "...                                                    ...     ...   \n",
       "1642398  No Pertenecientes al Sistema Nacional de Servi...  Hombre   \n",
       "1642399  No Pertenecientes al Sistema Nacional de Servi...  Hombre   \n",
       "1642400  No Pertenecientes al Sistema Nacional de Servi...  Hombre   \n",
       "1642402  No Pertenecientes al Sistema Nacional de Servi...  Hombre   \n",
       "1642403  No Pertenecientes al Sistema Nacional de Servi...  Hombre   \n",
       "\n",
       "        Health insurance Year_with_nans Primary diagnosis code  \\\n",
       "21                Fonasa           2024                   J353   \n",
       "29                Fonasa           2024                   J353   \n",
       "30                Fonasa           2024                   J353   \n",
       "45                Fonasa           2024                   J353   \n",
       "771               Fonasa           2024                   J353   \n",
       "...                  ...            ...                    ...   \n",
       "1642398           Fonasa           2024                   J353   \n",
       "1642399           Fonasa           2024                   J353   \n",
       "1642400           Fonasa           2024                   J353   \n",
       "1642402           Fonasa           2024                   J353   \n",
       "1642403           Fonasa           2024                   J353   \n",
       "\n",
       "         Length of stay Discharge condition  Year     Age  \n",
       "21                    1                   1  2024  (1, 9)  \n",
       "29                    1                   1  2024  (1, 9)  \n",
       "30                    1                   1  2024  (1, 9)  \n",
       "45                    1                   1  2024  (1, 9)  \n",
       "771                   1                   1  2024  (1, 9)  \n",
       "...                 ...                 ...   ...     ...  \n",
       "1642398               1                   1  2024  (1, 9)  \n",
       "1642399               1                   1  2024  (1, 9)  \n",
       "1642400               1                   1  2024  (1, 9)  \n",
       "1642402               1                   1  2024  (1, 9)  \n",
       "1642403               1                   1  2024  (1, 9)  \n",
       "\n",
       "[3085 rows x 9 columns]"
      ]
     },
     "execution_count": 96,
     "metadata": {},
     "output_type": "execute_result"
    }
   ],
   "source": [
    "df_result"
   ]
  },
  {
   "cell_type": "code",
   "execution_count": 97,
   "id": "bed1a4c7-8dfe-4c42-83d7-d83558010266",
   "metadata": {},
   "outputs": [
    {
     "data": {
      "text/plain": [
       "(6003601, 9)"
      ]
     },
     "execution_count": 97,
     "metadata": {},
     "output_type": "execute_result"
    }
   ],
   "source": [
    "df.shape"
   ]
  },
  {
   "cell_type": "markdown",
   "id": "e1ad29e3-c9bb-4226-b46d-4d46abea8eac",
   "metadata": {},
   "source": [
    "# Column Primary diagnosis code analysis"
   ]
  },
  {
   "cell_type": "markdown",
   "id": "d8045d88-44d4-48f0-906c-f46c51ae8d03",
   "metadata": {},
   "source": [
    "# Guiding question: ¿Is this structured missingness biasing or distorting the insights I can draw from the complete variables?"
   ]
  },
  {
   "cell_type": "markdown",
   "id": "bf4ca661-922b-4438-a768-ca3a33af9c5f",
   "metadata": {},
   "source": [
    "4 Dataframes to be created to compare valid values in Primary diagnosis code, Length of stay and Discharge condition columns\n",
    "\n",
    "-> only valid values in the dataframe\n",
    "-> when 167677 are nan in all the rest of the columns\n",
    "-> when 6215 are valid for Age and Year_with_nans but NaN in Sex and Health insurance\n",
    "-> when only are NaN in Healthcare facility type (it matches that the year_with_nans is always 2023)"
   ]
  },
  {
   "cell_type": "markdown",
   "id": "cbc888ae-e566-4a7c-8269-e882fc2c1cb5",
   "metadata": {},
   "source": [
    "Only valid values in the dataframe"
   ]
  },
  {
   "cell_type": "code",
   "execution_count": 102,
   "id": "5fa6a6dc-351c-4e66-b52c-844a006ed16c",
   "metadata": {},
   "outputs": [],
   "source": [
    "# Copy of the dataframe to edit safely\n",
    "df_pld_valid = df.copy()"
   ]
  },
  {
   "cell_type": "code",
   "execution_count": 103,
   "id": "d9ab8651-f1b8-4bf3-88fa-625442276cc6",
   "metadata": {},
   "outputs": [],
   "source": [
    "# Just keep valid values from the original dataframe\n",
    "df_pld_valid = df_pld_valid.dropna()"
   ]
  },
  {
   "cell_type": "code",
   "execution_count": 104,
   "id": "a3e0194d-1926-4aba-afea-29ded2588722",
   "metadata": {},
   "outputs": [
    {
     "data": {
      "text/plain": [
       "(6003601, 9)"
      ]
     },
     "execution_count": 104,
     "metadata": {},
     "output_type": "execute_result"
    }
   ],
   "source": [
    "df.shape"
   ]
  },
  {
   "cell_type": "markdown",
   "id": "f25e0ba1-36ab-4113-a409-7752decb99a4",
   "metadata": {},
   "source": [
    "When 167677 are nan in all the rest of the columns"
   ]
  },
  {
   "cell_type": "code",
   "execution_count": 106,
   "id": "8f151bd5-8555-4990-a6ad-50dfa0a9f6e9",
   "metadata": {},
   "outputs": [],
   "source": [
    "df_167677 = df.copy()"
   ]
  },
  {
   "cell_type": "code",
   "execution_count": 107,
   "id": "233740c0-56a5-4c8c-ac54-f95c382cb3b4",
   "metadata": {},
   "outputs": [],
   "source": [
    "df_167677 = df_167677[df_167677[\"Age\"].isna() & df_167677[\"Sex\"].isna() & df_167677[\"Healthcare facility type\"].isna() & df_167677[\"Health insurance\"].isna() & df_167677[\"Year_with_nans\"].isna()]"
   ]
  },
  {
   "cell_type": "markdown",
   "id": "6d84bc0c-61d9-4981-a380-a3295ac8fb94",
   "metadata": {},
   "source": [
    "When 6215 are valid for Age, healthcare facility type and Year_with_nans but NaN in Sex and Health insurance"
   ]
  },
  {
   "cell_type": "code",
   "execution_count": 109,
   "id": "daa3f973-c99c-427d-917f-fe3693204a58",
   "metadata": {},
   "outputs": [],
   "source": [
    "df_6215 = df.copy()"
   ]
  },
  {
   "cell_type": "code",
   "execution_count": 110,
   "id": "981b50f4-f7b9-42ce-a669-88a6b218f7fa",
   "metadata": {},
   "outputs": [],
   "source": [
    "df_6215 = df_6215[df_6215[\"Age\"].notna() & df_6215[\"Sex\"].isna() & df_6215[\"Health insurance\"].isna() & df_6215[\"Year_with_nans\"].notna()]"
   ]
  },
  {
   "cell_type": "markdown",
   "id": "ae969a35-34ff-4ff3-b7bb-755b3585c376",
   "metadata": {},
   "source": [
    "When only are NaN in Healthcare facility type (it matches that the year_with_nans is always 2023)"
   ]
  },
  {
   "cell_type": "code",
   "execution_count": 112,
   "id": "d1076c84-a6b2-4669-93e4-4a4c9f42ef9a",
   "metadata": {},
   "outputs": [],
   "source": [
    "df_facility_type = df.copy()"
   ]
  },
  {
   "cell_type": "code",
   "execution_count": 113,
   "id": "175e257f-9e74-4cfe-b732-3d6c3efc6dd8",
   "metadata": {},
   "outputs": [
    {
     "data": {
      "text/html": [
       "<div>\n",
       "<style scoped>\n",
       "    .dataframe tbody tr th:only-of-type {\n",
       "        vertical-align: middle;\n",
       "    }\n",
       "\n",
       "    .dataframe tbody tr th {\n",
       "        vertical-align: top;\n",
       "    }\n",
       "\n",
       "    .dataframe thead th {\n",
       "        text-align: right;\n",
       "    }\n",
       "</style>\n",
       "<table border=\"1\" class=\"dataframe\">\n",
       "  <thead>\n",
       "    <tr style=\"text-align: right;\">\n",
       "      <th></th>\n",
       "      <th>Healthcare facility type</th>\n",
       "      <th>Sex</th>\n",
       "      <th>Health insurance</th>\n",
       "      <th>Year_with_nans</th>\n",
       "      <th>Primary diagnosis code</th>\n",
       "      <th>Length of stay</th>\n",
       "      <th>Discharge condition</th>\n",
       "      <th>Year</th>\n",
       "      <th>Age</th>\n",
       "    </tr>\n",
       "  </thead>\n",
       "  <tbody>\n",
       "    <tr>\n",
       "      <th>0</th>\n",
       "      <td>NaN</td>\n",
       "      <td>Hombre</td>\n",
       "      <td>Fonasa</td>\n",
       "      <td>2023</td>\n",
       "      <td>D180</td>\n",
       "      <td>7</td>\n",
       "      <td>1</td>\n",
       "      <td>2023</td>\n",
       "      <td>[1, 9]</td>\n",
       "    </tr>\n",
       "    <tr>\n",
       "      <th>1</th>\n",
       "      <td>NaN</td>\n",
       "      <td>Hombre</td>\n",
       "      <td>Fonasa</td>\n",
       "      <td>2023</td>\n",
       "      <td>T181</td>\n",
       "      <td>2</td>\n",
       "      <td>1</td>\n",
       "      <td>2023</td>\n",
       "      <td>[1, 9]</td>\n",
       "    </tr>\n",
       "    <tr>\n",
       "      <th>2</th>\n",
       "      <td>NaN</td>\n",
       "      <td>Hombre</td>\n",
       "      <td>Fonasa</td>\n",
       "      <td>2023</td>\n",
       "      <td>K358</td>\n",
       "      <td>1</td>\n",
       "      <td>1</td>\n",
       "      <td>2023</td>\n",
       "      <td>[1, 9]</td>\n",
       "    </tr>\n",
       "    <tr>\n",
       "      <th>3</th>\n",
       "      <td>NaN</td>\n",
       "      <td>Hombre</td>\n",
       "      <td>Fonasa</td>\n",
       "      <td>2023</td>\n",
       "      <td>K353</td>\n",
       "      <td>6</td>\n",
       "      <td>1</td>\n",
       "      <td>2023</td>\n",
       "      <td>[1, 9]</td>\n",
       "    </tr>\n",
       "    <tr>\n",
       "      <th>4</th>\n",
       "      <td>NaN</td>\n",
       "      <td>Hombre</td>\n",
       "      <td>Fonasa</td>\n",
       "      <td>2023</td>\n",
       "      <td>K353</td>\n",
       "      <td>1</td>\n",
       "      <td>1</td>\n",
       "      <td>2023</td>\n",
       "      <td>[1, 9]</td>\n",
       "    </tr>\n",
       "    <tr>\n",
       "      <th>...</th>\n",
       "      <td>...</td>\n",
       "      <td>...</td>\n",
       "      <td>...</td>\n",
       "      <td>...</td>\n",
       "      <td>...</td>\n",
       "      <td>...</td>\n",
       "      <td>...</td>\n",
       "      <td>...</td>\n",
       "      <td>...</td>\n",
       "    </tr>\n",
       "    <tr>\n",
       "      <th>1484154</th>\n",
       "      <td>NaN</td>\n",
       "      <td>Hombre</td>\n",
       "      <td>Fonasa</td>\n",
       "      <td>2023</td>\n",
       "      <td>Q249</td>\n",
       "      <td>2</td>\n",
       "      <td>1</td>\n",
       "      <td>2023</td>\n",
       "      <td>[0, 1]</td>\n",
       "    </tr>\n",
       "    <tr>\n",
       "      <th>1484155</th>\n",
       "      <td>NaN</td>\n",
       "      <td>Hombre</td>\n",
       "      <td>Fonasa</td>\n",
       "      <td>2023</td>\n",
       "      <td>D807</td>\n",
       "      <td>3</td>\n",
       "      <td>1</td>\n",
       "      <td>2023</td>\n",
       "      <td>[0, 1]</td>\n",
       "    </tr>\n",
       "    <tr>\n",
       "      <th>1484156</th>\n",
       "      <td>NaN</td>\n",
       "      <td>Hombre</td>\n",
       "      <td>Fonasa</td>\n",
       "      <td>2023</td>\n",
       "      <td>A499</td>\n",
       "      <td>4</td>\n",
       "      <td>1</td>\n",
       "      <td>2023</td>\n",
       "      <td>[0, 1]</td>\n",
       "    </tr>\n",
       "    <tr>\n",
       "      <th>1484157</th>\n",
       "      <td>NaN</td>\n",
       "      <td>Hombre</td>\n",
       "      <td>Fonasa</td>\n",
       "      <td>2023</td>\n",
       "      <td>T182</td>\n",
       "      <td>1</td>\n",
       "      <td>1</td>\n",
       "      <td>2023</td>\n",
       "      <td>[0, 1]</td>\n",
       "    </tr>\n",
       "    <tr>\n",
       "      <th>1484158</th>\n",
       "      <td>NaN</td>\n",
       "      <td>Hombre</td>\n",
       "      <td>Fonasa</td>\n",
       "      <td>2023</td>\n",
       "      <td>A099</td>\n",
       "      <td>3</td>\n",
       "      <td>1</td>\n",
       "      <td>2023</td>\n",
       "      <td>[0, 1]</td>\n",
       "    </tr>\n",
       "  </tbody>\n",
       "</table>\n",
       "<p>1424246 rows × 9 columns</p>\n",
       "</div>"
      ],
      "text/plain": [
       "        Healthcare facility type     Sex Health insurance Year_with_nans  \\\n",
       "0                            NaN  Hombre           Fonasa           2023   \n",
       "1                            NaN  Hombre           Fonasa           2023   \n",
       "2                            NaN  Hombre           Fonasa           2023   \n",
       "3                            NaN  Hombre           Fonasa           2023   \n",
       "4                            NaN  Hombre           Fonasa           2023   \n",
       "...                          ...     ...              ...            ...   \n",
       "1484154                      NaN  Hombre           Fonasa           2023   \n",
       "1484155                      NaN  Hombre           Fonasa           2023   \n",
       "1484156                      NaN  Hombre           Fonasa           2023   \n",
       "1484157                      NaN  Hombre           Fonasa           2023   \n",
       "1484158                      NaN  Hombre           Fonasa           2023   \n",
       "\n",
       "        Primary diagnosis code  Length of stay Discharge condition  Year  \\\n",
       "0                         D180               7                   1  2023   \n",
       "1                         T181               2                   1  2023   \n",
       "2                         K358               1                   1  2023   \n",
       "3                         K353               6                   1  2023   \n",
       "4                         K353               1                   1  2023   \n",
       "...                        ...             ...                 ...   ...   \n",
       "1484154                   Q249               2                   1  2023   \n",
       "1484155                   D807               3                   1  2023   \n",
       "1484156                   A499               4                   1  2023   \n",
       "1484157                   T182               1                   1  2023   \n",
       "1484158                   A099               3                   1  2023   \n",
       "\n",
       "            Age  \n",
       "0        [1, 9]  \n",
       "1        [1, 9]  \n",
       "2        [1, 9]  \n",
       "3        [1, 9]  \n",
       "4        [1, 9]  \n",
       "...         ...  \n",
       "1484154  [0, 1]  \n",
       "1484155  [0, 1]  \n",
       "1484156  [0, 1]  \n",
       "1484157  [0, 1]  \n",
       "1484158  [0, 1]  \n",
       "\n",
       "[1424246 rows x 9 columns]"
      ]
     },
     "execution_count": 113,
     "metadata": {},
     "output_type": "execute_result"
    }
   ],
   "source": [
    "mask1 = df_facility_type[\"Healthcare facility type\"].isna()\n",
    "mask2 = df_facility_type[\"Year_with_nans\"] == \"2023\"\n",
    "df_facility_type[mask1 & mask2]"
   ]
  },
  {
   "cell_type": "code",
   "execution_count": 114,
   "id": "066c4236-f2cc-4267-a077-30bf478e20d2",
   "metadata": {},
   "outputs": [
    {
     "data": {
      "text/html": [
       "<div>\n",
       "<style scoped>\n",
       "    .dataframe tbody tr th:only-of-type {\n",
       "        vertical-align: middle;\n",
       "    }\n",
       "\n",
       "    .dataframe tbody tr th {\n",
       "        vertical-align: top;\n",
       "    }\n",
       "\n",
       "    .dataframe thead th {\n",
       "        text-align: right;\n",
       "    }\n",
       "</style>\n",
       "<table border=\"1\" class=\"dataframe\">\n",
       "  <thead>\n",
       "    <tr style=\"text-align: right;\">\n",
       "      <th></th>\n",
       "      <th>Healthcare facility type</th>\n",
       "      <th>Sex</th>\n",
       "      <th>Health insurance</th>\n",
       "      <th>Year_with_nans</th>\n",
       "      <th>Primary diagnosis code</th>\n",
       "      <th>Length of stay</th>\n",
       "      <th>Discharge condition</th>\n",
       "      <th>Year</th>\n",
       "      <th>Age</th>\n",
       "    </tr>\n",
       "  </thead>\n",
       "  <tbody>\n",
       "    <tr>\n",
       "      <th>0</th>\n",
       "      <td>NaN</td>\n",
       "      <td>Hombre</td>\n",
       "      <td>Fonasa</td>\n",
       "      <td>2023</td>\n",
       "      <td>D180</td>\n",
       "      <td>7</td>\n",
       "      <td>1</td>\n",
       "      <td>2023</td>\n",
       "      <td>[1, 9]</td>\n",
       "    </tr>\n",
       "    <tr>\n",
       "      <th>1</th>\n",
       "      <td>NaN</td>\n",
       "      <td>Hombre</td>\n",
       "      <td>Fonasa</td>\n",
       "      <td>2023</td>\n",
       "      <td>T181</td>\n",
       "      <td>2</td>\n",
       "      <td>1</td>\n",
       "      <td>2023</td>\n",
       "      <td>[1, 9]</td>\n",
       "    </tr>\n",
       "    <tr>\n",
       "      <th>2</th>\n",
       "      <td>NaN</td>\n",
       "      <td>Hombre</td>\n",
       "      <td>Fonasa</td>\n",
       "      <td>2023</td>\n",
       "      <td>K358</td>\n",
       "      <td>1</td>\n",
       "      <td>1</td>\n",
       "      <td>2023</td>\n",
       "      <td>[1, 9]</td>\n",
       "    </tr>\n",
       "    <tr>\n",
       "      <th>3</th>\n",
       "      <td>NaN</td>\n",
       "      <td>Hombre</td>\n",
       "      <td>Fonasa</td>\n",
       "      <td>2023</td>\n",
       "      <td>K353</td>\n",
       "      <td>6</td>\n",
       "      <td>1</td>\n",
       "      <td>2023</td>\n",
       "      <td>[1, 9]</td>\n",
       "    </tr>\n",
       "    <tr>\n",
       "      <th>4</th>\n",
       "      <td>NaN</td>\n",
       "      <td>Hombre</td>\n",
       "      <td>Fonasa</td>\n",
       "      <td>2023</td>\n",
       "      <td>K353</td>\n",
       "      <td>1</td>\n",
       "      <td>1</td>\n",
       "      <td>2023</td>\n",
       "      <td>[1, 9]</td>\n",
       "    </tr>\n",
       "    <tr>\n",
       "      <th>...</th>\n",
       "      <td>...</td>\n",
       "      <td>...</td>\n",
       "      <td>...</td>\n",
       "      <td>...</td>\n",
       "      <td>...</td>\n",
       "      <td>...</td>\n",
       "      <td>...</td>\n",
       "      <td>...</td>\n",
       "      <td>...</td>\n",
       "    </tr>\n",
       "    <tr>\n",
       "      <th>1484154</th>\n",
       "      <td>NaN</td>\n",
       "      <td>Hombre</td>\n",
       "      <td>Fonasa</td>\n",
       "      <td>2023</td>\n",
       "      <td>Q249</td>\n",
       "      <td>2</td>\n",
       "      <td>1</td>\n",
       "      <td>2023</td>\n",
       "      <td>[0, 1]</td>\n",
       "    </tr>\n",
       "    <tr>\n",
       "      <th>1484155</th>\n",
       "      <td>NaN</td>\n",
       "      <td>Hombre</td>\n",
       "      <td>Fonasa</td>\n",
       "      <td>2023</td>\n",
       "      <td>D807</td>\n",
       "      <td>3</td>\n",
       "      <td>1</td>\n",
       "      <td>2023</td>\n",
       "      <td>[0, 1]</td>\n",
       "    </tr>\n",
       "    <tr>\n",
       "      <th>1484156</th>\n",
       "      <td>NaN</td>\n",
       "      <td>Hombre</td>\n",
       "      <td>Fonasa</td>\n",
       "      <td>2023</td>\n",
       "      <td>A499</td>\n",
       "      <td>4</td>\n",
       "      <td>1</td>\n",
       "      <td>2023</td>\n",
       "      <td>[0, 1]</td>\n",
       "    </tr>\n",
       "    <tr>\n",
       "      <th>1484157</th>\n",
       "      <td>NaN</td>\n",
       "      <td>Hombre</td>\n",
       "      <td>Fonasa</td>\n",
       "      <td>2023</td>\n",
       "      <td>T182</td>\n",
       "      <td>1</td>\n",
       "      <td>1</td>\n",
       "      <td>2023</td>\n",
       "      <td>[0, 1]</td>\n",
       "    </tr>\n",
       "    <tr>\n",
       "      <th>1484158</th>\n",
       "      <td>NaN</td>\n",
       "      <td>Hombre</td>\n",
       "      <td>Fonasa</td>\n",
       "      <td>2023</td>\n",
       "      <td>A099</td>\n",
       "      <td>3</td>\n",
       "      <td>1</td>\n",
       "      <td>2023</td>\n",
       "      <td>[0, 1]</td>\n",
       "    </tr>\n",
       "  </tbody>\n",
       "</table>\n",
       "<p>1424246 rows × 9 columns</p>\n",
       "</div>"
      ],
      "text/plain": [
       "        Healthcare facility type     Sex Health insurance Year_with_nans  \\\n",
       "0                            NaN  Hombre           Fonasa           2023   \n",
       "1                            NaN  Hombre           Fonasa           2023   \n",
       "2                            NaN  Hombre           Fonasa           2023   \n",
       "3                            NaN  Hombre           Fonasa           2023   \n",
       "4                            NaN  Hombre           Fonasa           2023   \n",
       "...                          ...     ...              ...            ...   \n",
       "1484154                      NaN  Hombre           Fonasa           2023   \n",
       "1484155                      NaN  Hombre           Fonasa           2023   \n",
       "1484156                      NaN  Hombre           Fonasa           2023   \n",
       "1484157                      NaN  Hombre           Fonasa           2023   \n",
       "1484158                      NaN  Hombre           Fonasa           2023   \n",
       "\n",
       "        Primary diagnosis code  Length of stay Discharge condition  Year  \\\n",
       "0                         D180               7                   1  2023   \n",
       "1                         T181               2                   1  2023   \n",
       "2                         K358               1                   1  2023   \n",
       "3                         K353               6                   1  2023   \n",
       "4                         K353               1                   1  2023   \n",
       "...                        ...             ...                 ...   ...   \n",
       "1484154                   Q249               2                   1  2023   \n",
       "1484155                   D807               3                   1  2023   \n",
       "1484156                   A499               4                   1  2023   \n",
       "1484157                   T182               1                   1  2023   \n",
       "1484158                   A099               3                   1  2023   \n",
       "\n",
       "            Age  \n",
       "0        [1, 9]  \n",
       "1        [1, 9]  \n",
       "2        [1, 9]  \n",
       "3        [1, 9]  \n",
       "4        [1, 9]  \n",
       "...         ...  \n",
       "1484154  [0, 1]  \n",
       "1484155  [0, 1]  \n",
       "1484156  [0, 1]  \n",
       "1484157  [0, 1]  \n",
       "1484158  [0, 1]  \n",
       "\n",
       "[1424246 rows x 9 columns]"
      ]
     },
     "execution_count": 114,
     "metadata": {},
     "output_type": "execute_result"
    }
   ],
   "source": [
    "df_facility_type[df_facility_type[\"Age\"].notna() & df_facility_type[\"Sex\"].notna() & df_facility_type[\"Health insurance\"].notna() & df_facility_type[\"Year_with_nans\"].notna() & df_facility_type[\"Healthcare facility type\"].isna()]"
   ]
  },
  {
   "cell_type": "code",
   "execution_count": 115,
   "id": "800d73d3-1601-46cf-bd0a-7e8213050397",
   "metadata": {},
   "outputs": [
    {
     "data": {
      "text/plain": [
       "True"
      ]
     },
     "execution_count": 115,
     "metadata": {},
     "output_type": "execute_result"
    }
   ],
   "source": [
    "df_facility_type[mask1 & mask2].equals(df_facility_type[df_facility_type[\"Age\"].notna() & df_facility_type[\"Sex\"].notna() & df_facility_type[\"Health insurance\"].notna() & df_facility_type[\"Year_with_nans\"].notna() & df_facility_type[\"Healthcare facility type\"].isna()])"
   ]
  },
  {
   "cell_type": "code",
   "execution_count": 116,
   "id": "ca6f4925-0562-4444-aa4c-c0e20fcfc0cf",
   "metadata": {},
   "outputs": [],
   "source": [
    "df1 = df_facility_type[mask1 & mask2]\n",
    "df2 = df_facility_type[df_facility_type[\"Age\"].notna() & df_facility_type[\"Sex\"].notna() & df_facility_type[\"Health insurance\"].notna() & df_facility_type[\"Year_with_nans\"].notna() & df_facility_type[\"Healthcare facility type\"].isna()]"
   ]
  },
  {
   "cell_type": "code",
   "execution_count": 117,
   "id": "62628c1f-f15a-47e4-92a0-615455bc8ed3",
   "metadata": {},
   "outputs": [
    {
     "data": {
      "text/plain": [
       "True"
      ]
     },
     "execution_count": 117,
     "metadata": {},
     "output_type": "execute_result"
    }
   ],
   "source": [
    "# Just checking that when healthcare facility type is nan for age 2023 the rest of the columns do not have any NaN value\n",
    "df1.equals(df2)"
   ]
  },
  {
   "cell_type": "code",
   "execution_count": 118,
   "id": "d505f48e-9499-4b01-8672-64f513025f67",
   "metadata": {},
   "outputs": [],
   "source": [
    "df_facility_type = df1"
   ]
  },
  {
   "cell_type": "code",
   "execution_count": 119,
   "id": "25babbe9-df9e-4ed2-8c54-161c726f6773",
   "metadata": {},
   "outputs": [
    {
     "data": {
      "text/plain": [
       "(6003601, 9)"
      ]
     },
     "execution_count": 119,
     "metadata": {},
     "output_type": "execute_result"
    }
   ],
   "source": [
    "df.shape"
   ]
  },
  {
   "cell_type": "markdown",
   "id": "86f37849-333a-421b-a0c6-ed48a6beeb2f",
   "metadata": {},
   "source": [
    "# Use the 4 dataframes that were just created and compare the column: Primary diagnosis code"
   ]
  },
  {
   "cell_type": "markdown",
   "id": "18bd947e-6f01-4e75-9377-2356f769bc7c",
   "metadata": {},
   "source": [
    "Primary diagnosis code"
   ]
  },
  {
   "cell_type": "code",
   "execution_count": 122,
   "id": "f17b75d5-0cd3-4bd6-afb2-800d3ae968cf",
   "metadata": {},
   "outputs": [
    {
     "data": {
      "text/html": [
       "<div>\n",
       "<style scoped>\n",
       "    .dataframe tbody tr th:only-of-type {\n",
       "        vertical-align: middle;\n",
       "    }\n",
       "\n",
       "    .dataframe tbody tr th {\n",
       "        vertical-align: top;\n",
       "    }\n",
       "\n",
       "    .dataframe thead th {\n",
       "        text-align: right;\n",
       "    }\n",
       "</style>\n",
       "<table border=\"1\" class=\"dataframe\">\n",
       "  <thead>\n",
       "    <tr style=\"text-align: right;\">\n",
       "      <th></th>\n",
       "      <th>Healthcare facility type</th>\n",
       "      <th>Sex</th>\n",
       "      <th>Health insurance</th>\n",
       "      <th>Year_with_nans</th>\n",
       "      <th>Primary diagnosis code</th>\n",
       "      <th>Length of stay</th>\n",
       "      <th>Discharge condition</th>\n",
       "      <th>Year</th>\n",
       "      <th>Age</th>\n",
       "    </tr>\n",
       "  </thead>\n",
       "  <tbody>\n",
       "    <tr>\n",
       "      <th>0</th>\n",
       "      <td>No Pertenecientes al Sistema Nacional de Servi...</td>\n",
       "      <td>Hombre</td>\n",
       "      <td>Isapre</td>\n",
       "      <td>2021</td>\n",
       "      <td>K590</td>\n",
       "      <td>1</td>\n",
       "      <td>1</td>\n",
       "      <td>2021</td>\n",
       "      <td>[1, 9]</td>\n",
       "    </tr>\n",
       "    <tr>\n",
       "      <th>2</th>\n",
       "      <td>No Pertenecientes al Sistema Nacional de Servi...</td>\n",
       "      <td>Hombre</td>\n",
       "      <td>Isapre</td>\n",
       "      <td>2021</td>\n",
       "      <td>T181</td>\n",
       "      <td>1</td>\n",
       "      <td>1</td>\n",
       "      <td>2021</td>\n",
       "      <td>[1, 9]</td>\n",
       "    </tr>\n",
       "    <tr>\n",
       "      <th>3</th>\n",
       "      <td>No Pertenecientes al Sistema Nacional de Servi...</td>\n",
       "      <td>Hombre</td>\n",
       "      <td>Fonasa</td>\n",
       "      <td>2021</td>\n",
       "      <td>Q381</td>\n",
       "      <td>1</td>\n",
       "      <td>1</td>\n",
       "      <td>2021</td>\n",
       "      <td>[1, 9]</td>\n",
       "    </tr>\n",
       "    <tr>\n",
       "      <th>4</th>\n",
       "      <td>No Pertenecientes al Sistema Nacional de Servi...</td>\n",
       "      <td>Hombre</td>\n",
       "      <td>Fonasa</td>\n",
       "      <td>2021</td>\n",
       "      <td>Q531</td>\n",
       "      <td>1</td>\n",
       "      <td>1</td>\n",
       "      <td>2021</td>\n",
       "      <td>[1, 9]</td>\n",
       "    </tr>\n",
       "    <tr>\n",
       "      <th>5</th>\n",
       "      <td>No Pertenecientes al Sistema Nacional de Servi...</td>\n",
       "      <td>Hombre</td>\n",
       "      <td>Fonasa</td>\n",
       "      <td>2021</td>\n",
       "      <td>Q539</td>\n",
       "      <td>1</td>\n",
       "      <td>1</td>\n",
       "      <td>2021</td>\n",
       "      <td>[1, 9]</td>\n",
       "    </tr>\n",
       "  </tbody>\n",
       "</table>\n",
       "</div>"
      ],
      "text/plain": [
       "                            Healthcare facility type     Sex Health insurance  \\\n",
       "0  No Pertenecientes al Sistema Nacional de Servi...  Hombre           Isapre   \n",
       "2  No Pertenecientes al Sistema Nacional de Servi...  Hombre           Isapre   \n",
       "3  No Pertenecientes al Sistema Nacional de Servi...  Hombre           Fonasa   \n",
       "4  No Pertenecientes al Sistema Nacional de Servi...  Hombre           Fonasa   \n",
       "5  No Pertenecientes al Sistema Nacional de Servi...  Hombre           Fonasa   \n",
       "\n",
       "  Year_with_nans Primary diagnosis code  Length of stay Discharge condition  \\\n",
       "0           2021                   K590               1                   1   \n",
       "2           2021                   T181               1                   1   \n",
       "3           2021                   Q381               1                   1   \n",
       "4           2021                   Q531               1                   1   \n",
       "5           2021                   Q539               1                   1   \n",
       "\n",
       "   Year     Age  \n",
       "0  2021  [1, 9]  \n",
       "2  2021  [1, 9]  \n",
       "3  2021  [1, 9]  \n",
       "4  2021  [1, 9]  \n",
       "5  2021  [1, 9]  "
      ]
     },
     "execution_count": 122,
     "metadata": {},
     "output_type": "execute_result"
    }
   ],
   "source": [
    "# Only valid rows\n",
    "df_pld_valid.head()"
   ]
  },
  {
   "cell_type": "code",
   "execution_count": 123,
   "id": "0a32821c-3ed7-445a-8bef-36b1d2523e9b",
   "metadata": {},
   "outputs": [
    {
     "data": {
      "text/html": [
       "<div>\n",
       "<style scoped>\n",
       "    .dataframe tbody tr th:only-of-type {\n",
       "        vertical-align: middle;\n",
       "    }\n",
       "\n",
       "    .dataframe tbody tr th {\n",
       "        vertical-align: top;\n",
       "    }\n",
       "\n",
       "    .dataframe thead th {\n",
       "        text-align: right;\n",
       "    }\n",
       "</style>\n",
       "<table border=\"1\" class=\"dataframe\">\n",
       "  <thead>\n",
       "    <tr style=\"text-align: right;\">\n",
       "      <th></th>\n",
       "      <th>Healthcare facility type</th>\n",
       "      <th>Sex</th>\n",
       "      <th>Health insurance</th>\n",
       "      <th>Year_with_nans</th>\n",
       "      <th>Primary diagnosis code</th>\n",
       "      <th>Length of stay</th>\n",
       "      <th>Discharge condition</th>\n",
       "      <th>Year</th>\n",
       "      <th>Age</th>\n",
       "    </tr>\n",
       "  </thead>\n",
       "  <tbody>\n",
       "    <tr>\n",
       "      <th>1557549</th>\n",
       "      <td>NaN</td>\n",
       "      <td>NaN</td>\n",
       "      <td>NaN</td>\n",
       "      <td>NaN</td>\n",
       "      <td>I702</td>\n",
       "      <td>16</td>\n",
       "      <td>1</td>\n",
       "      <td>2022</td>\n",
       "      <td>&lt;NA&gt;</td>\n",
       "    </tr>\n",
       "    <tr>\n",
       "      <th>1557550</th>\n",
       "      <td>NaN</td>\n",
       "      <td>NaN</td>\n",
       "      <td>NaN</td>\n",
       "      <td>NaN</td>\n",
       "      <td>N764</td>\n",
       "      <td>9</td>\n",
       "      <td>1</td>\n",
       "      <td>2022</td>\n",
       "      <td>&lt;NA&gt;</td>\n",
       "    </tr>\n",
       "    <tr>\n",
       "      <th>1557551</th>\n",
       "      <td>NaN</td>\n",
       "      <td>NaN</td>\n",
       "      <td>NaN</td>\n",
       "      <td>NaN</td>\n",
       "      <td>S299</td>\n",
       "      <td>5</td>\n",
       "      <td>1</td>\n",
       "      <td>2022</td>\n",
       "      <td>&lt;NA&gt;</td>\n",
       "    </tr>\n",
       "    <tr>\n",
       "      <th>1557552</th>\n",
       "      <td>NaN</td>\n",
       "      <td>NaN</td>\n",
       "      <td>NaN</td>\n",
       "      <td>NaN</td>\n",
       "      <td>P220</td>\n",
       "      <td>6</td>\n",
       "      <td>1</td>\n",
       "      <td>2022</td>\n",
       "      <td>&lt;NA&gt;</td>\n",
       "    </tr>\n",
       "    <tr>\n",
       "      <th>1557553</th>\n",
       "      <td>NaN</td>\n",
       "      <td>NaN</td>\n",
       "      <td>NaN</td>\n",
       "      <td>NaN</td>\n",
       "      <td>P220</td>\n",
       "      <td>20</td>\n",
       "      <td>1</td>\n",
       "      <td>2022</td>\n",
       "      <td>&lt;NA&gt;</td>\n",
       "    </tr>\n",
       "  </tbody>\n",
       "</table>\n",
       "</div>"
      ],
      "text/plain": [
       "        Healthcare facility type  Sex Health insurance Year_with_nans  \\\n",
       "1557549                      NaN  NaN              NaN            NaN   \n",
       "1557550                      NaN  NaN              NaN            NaN   \n",
       "1557551                      NaN  NaN              NaN            NaN   \n",
       "1557552                      NaN  NaN              NaN            NaN   \n",
       "1557553                      NaN  NaN              NaN            NaN   \n",
       "\n",
       "        Primary diagnosis code  Length of stay Discharge condition  Year   Age  \n",
       "1557549                   I702              16                   1  2022  <NA>  \n",
       "1557550                   N764               9                   1  2022  <NA>  \n",
       "1557551                   S299               5                   1  2022  <NA>  \n",
       "1557552                   P220               6                   1  2022  <NA>  \n",
       "1557553                   P220              20                   1  2022  <NA>  "
      ]
     },
     "execution_count": 123,
     "metadata": {},
     "output_type": "execute_result"
    }
   ],
   "source": [
    "# Only NaNs in the rest of the columns\n",
    "df_167677.head()"
   ]
  },
  {
   "cell_type": "code",
   "execution_count": 124,
   "id": "b810ea0d-38e1-443a-99b7-990b440da844",
   "metadata": {},
   "outputs": [
    {
     "data": {
      "text/html": [
       "<div>\n",
       "<style scoped>\n",
       "    .dataframe tbody tr th:only-of-type {\n",
       "        vertical-align: middle;\n",
       "    }\n",
       "\n",
       "    .dataframe tbody tr th {\n",
       "        vertical-align: top;\n",
       "    }\n",
       "\n",
       "    .dataframe thead th {\n",
       "        text-align: right;\n",
       "    }\n",
       "</style>\n",
       "<table border=\"1\" class=\"dataframe\">\n",
       "  <thead>\n",
       "    <tr style=\"text-align: right;\">\n",
       "      <th></th>\n",
       "      <th>Healthcare facility type</th>\n",
       "      <th>Sex</th>\n",
       "      <th>Health insurance</th>\n",
       "      <th>Year_with_nans</th>\n",
       "      <th>Primary diagnosis code</th>\n",
       "      <th>Length of stay</th>\n",
       "      <th>Discharge condition</th>\n",
       "      <th>Year</th>\n",
       "      <th>Age</th>\n",
       "    </tr>\n",
       "  </thead>\n",
       "  <tbody>\n",
       "    <tr>\n",
       "      <th>1661134</th>\n",
       "      <td>No Pertenecientes al Sistema Nacional de Servi...</td>\n",
       "      <td>NaN</td>\n",
       "      <td>NaN</td>\n",
       "      <td>2024</td>\n",
       "      <td>J189</td>\n",
       "      <td>2</td>\n",
       "      <td>1</td>\n",
       "      <td>2024</td>\n",
       "      <td>[1, 9]</td>\n",
       "    </tr>\n",
       "    <tr>\n",
       "      <th>1661135</th>\n",
       "      <td>No Pertenecientes al Sistema Nacional de Servi...</td>\n",
       "      <td>NaN</td>\n",
       "      <td>NaN</td>\n",
       "      <td>2024</td>\n",
       "      <td>J209</td>\n",
       "      <td>2</td>\n",
       "      <td>1</td>\n",
       "      <td>2024</td>\n",
       "      <td>[1, 9]</td>\n",
       "    </tr>\n",
       "    <tr>\n",
       "      <th>1661136</th>\n",
       "      <td>No Pertenecientes al Sistema Nacional de Servi...</td>\n",
       "      <td>NaN</td>\n",
       "      <td>NaN</td>\n",
       "      <td>2024</td>\n",
       "      <td>J353</td>\n",
       "      <td>1</td>\n",
       "      <td>1</td>\n",
       "      <td>2024</td>\n",
       "      <td>[1, 9]</td>\n",
       "    </tr>\n",
       "    <tr>\n",
       "      <th>1661137</th>\n",
       "      <td>No Pertenecientes al Sistema Nacional de Servi...</td>\n",
       "      <td>NaN</td>\n",
       "      <td>NaN</td>\n",
       "      <td>2024</td>\n",
       "      <td>Z470</td>\n",
       "      <td>1</td>\n",
       "      <td>1</td>\n",
       "      <td>2024</td>\n",
       "      <td>[1, 9]</td>\n",
       "    </tr>\n",
       "    <tr>\n",
       "      <th>1661138</th>\n",
       "      <td>No Pertenecientes al Sistema Nacional de Servi...</td>\n",
       "      <td>NaN</td>\n",
       "      <td>NaN</td>\n",
       "      <td>2024</td>\n",
       "      <td>R683</td>\n",
       "      <td>1</td>\n",
       "      <td>1</td>\n",
       "      <td>2024</td>\n",
       "      <td>[1, 9]</td>\n",
       "    </tr>\n",
       "  </tbody>\n",
       "</table>\n",
       "</div>"
      ],
      "text/plain": [
       "                                  Healthcare facility type  Sex  \\\n",
       "1661134  No Pertenecientes al Sistema Nacional de Servi...  NaN   \n",
       "1661135  No Pertenecientes al Sistema Nacional de Servi...  NaN   \n",
       "1661136  No Pertenecientes al Sistema Nacional de Servi...  NaN   \n",
       "1661137  No Pertenecientes al Sistema Nacional de Servi...  NaN   \n",
       "1661138  No Pertenecientes al Sistema Nacional de Servi...  NaN   \n",
       "\n",
       "        Health insurance Year_with_nans Primary diagnosis code  \\\n",
       "1661134              NaN           2024                   J189   \n",
       "1661135              NaN           2024                   J209   \n",
       "1661136              NaN           2024                   J353   \n",
       "1661137              NaN           2024                   Z470   \n",
       "1661138              NaN           2024                   R683   \n",
       "\n",
       "         Length of stay Discharge condition  Year     Age  \n",
       "1661134               2                   1  2024  [1, 9]  \n",
       "1661135               2                   1  2024  [1, 9]  \n",
       "1661136               1                   1  2024  [1, 9]  \n",
       "1661137               1                   1  2024  [1, 9]  \n",
       "1661138               1                   1  2024  [1, 9]  "
      ]
     },
     "execution_count": 124,
     "metadata": {},
     "output_type": "execute_result"
    }
   ],
   "source": [
    "# 6215 are valid for Age, healthcare facility type and Year_with_nans but NaN in Sex and Health insurance\n",
    "df_6215.head()"
   ]
  },
  {
   "cell_type": "code",
   "execution_count": 125,
   "id": "ca5d718f-0bfc-4f63-9f6d-38564cd14f5a",
   "metadata": {},
   "outputs": [
    {
     "data": {
      "text/html": [
       "<div>\n",
       "<style scoped>\n",
       "    .dataframe tbody tr th:only-of-type {\n",
       "        vertical-align: middle;\n",
       "    }\n",
       "\n",
       "    .dataframe tbody tr th {\n",
       "        vertical-align: top;\n",
       "    }\n",
       "\n",
       "    .dataframe thead th {\n",
       "        text-align: right;\n",
       "    }\n",
       "</style>\n",
       "<table border=\"1\" class=\"dataframe\">\n",
       "  <thead>\n",
       "    <tr style=\"text-align: right;\">\n",
       "      <th></th>\n",
       "      <th>Healthcare facility type</th>\n",
       "      <th>Sex</th>\n",
       "      <th>Health insurance</th>\n",
       "      <th>Year_with_nans</th>\n",
       "      <th>Primary diagnosis code</th>\n",
       "      <th>Length of stay</th>\n",
       "      <th>Discharge condition</th>\n",
       "      <th>Year</th>\n",
       "      <th>Age</th>\n",
       "    </tr>\n",
       "  </thead>\n",
       "  <tbody>\n",
       "    <tr>\n",
       "      <th>0</th>\n",
       "      <td>NaN</td>\n",
       "      <td>Hombre</td>\n",
       "      <td>Fonasa</td>\n",
       "      <td>2023</td>\n",
       "      <td>D180</td>\n",
       "      <td>7</td>\n",
       "      <td>1</td>\n",
       "      <td>2023</td>\n",
       "      <td>[1, 9]</td>\n",
       "    </tr>\n",
       "    <tr>\n",
       "      <th>1</th>\n",
       "      <td>NaN</td>\n",
       "      <td>Hombre</td>\n",
       "      <td>Fonasa</td>\n",
       "      <td>2023</td>\n",
       "      <td>T181</td>\n",
       "      <td>2</td>\n",
       "      <td>1</td>\n",
       "      <td>2023</td>\n",
       "      <td>[1, 9]</td>\n",
       "    </tr>\n",
       "    <tr>\n",
       "      <th>2</th>\n",
       "      <td>NaN</td>\n",
       "      <td>Hombre</td>\n",
       "      <td>Fonasa</td>\n",
       "      <td>2023</td>\n",
       "      <td>K358</td>\n",
       "      <td>1</td>\n",
       "      <td>1</td>\n",
       "      <td>2023</td>\n",
       "      <td>[1, 9]</td>\n",
       "    </tr>\n",
       "    <tr>\n",
       "      <th>3</th>\n",
       "      <td>NaN</td>\n",
       "      <td>Hombre</td>\n",
       "      <td>Fonasa</td>\n",
       "      <td>2023</td>\n",
       "      <td>K353</td>\n",
       "      <td>6</td>\n",
       "      <td>1</td>\n",
       "      <td>2023</td>\n",
       "      <td>[1, 9]</td>\n",
       "    </tr>\n",
       "    <tr>\n",
       "      <th>4</th>\n",
       "      <td>NaN</td>\n",
       "      <td>Hombre</td>\n",
       "      <td>Fonasa</td>\n",
       "      <td>2023</td>\n",
       "      <td>K353</td>\n",
       "      <td>1</td>\n",
       "      <td>1</td>\n",
       "      <td>2023</td>\n",
       "      <td>[1, 9]</td>\n",
       "    </tr>\n",
       "  </tbody>\n",
       "</table>\n",
       "</div>"
      ],
      "text/plain": [
       "  Healthcare facility type     Sex Health insurance Year_with_nans  \\\n",
       "0                      NaN  Hombre           Fonasa           2023   \n",
       "1                      NaN  Hombre           Fonasa           2023   \n",
       "2                      NaN  Hombre           Fonasa           2023   \n",
       "3                      NaN  Hombre           Fonasa           2023   \n",
       "4                      NaN  Hombre           Fonasa           2023   \n",
       "\n",
       "  Primary diagnosis code  Length of stay Discharge condition  Year     Age  \n",
       "0                   D180               7                   1  2023  [1, 9]  \n",
       "1                   T181               2                   1  2023  [1, 9]  \n",
       "2                   K358               1                   1  2023  [1, 9]  \n",
       "3                   K353               6                   1  2023  [1, 9]  \n",
       "4                   K353               1                   1  2023  [1, 9]  "
      ]
     },
     "execution_count": 125,
     "metadata": {},
     "output_type": "execute_result"
    }
   ],
   "source": [
    "# When only are NaN in Healthcare facility type (it matches that the year_with_nans is always 2023)\n",
    "df_facility_type.head()"
   ]
  },
  {
   "cell_type": "code",
   "execution_count": 126,
   "id": "eac5b464-c2ff-4c35-b973-c5ebbd58cf37",
   "metadata": {},
   "outputs": [
    {
     "data": {
      "text/plain": [
       "(6003601, 9)"
      ]
     },
     "execution_count": 126,
     "metadata": {},
     "output_type": "execute_result"
    }
   ],
   "source": [
    "df.shape"
   ]
  },
  {
   "cell_type": "markdown",
   "id": "67292a1c-920e-422d-9818-a74c5843e4a4",
   "metadata": {},
   "source": [
    "Top 20 Categories"
   ]
  },
  {
   "cell_type": "code",
   "execution_count": 128,
   "id": "6cec791d-237f-42f1-9120-10fc81539cc8",
   "metadata": {},
   "outputs": [
    {
     "name": "stdout",
     "output_type": "stream",
     "text": [
      "Primary diagnosis code\n",
      "U071    107049\n",
      "K358     64467\n",
      "K802     61977\n",
      "K808     42328\n",
      "J189     39790\n",
      "N390     39447\n",
      "K409     37254\n",
      "K810     36572\n",
      "N47X     31006\n",
      "N10X     30665\n",
      "Z302     29413\n",
      "N40X     28069\n",
      "D259     27841\n",
      "J960     27649\n",
      "J342     26734\n",
      "E669     26467\n",
      "K800     25304\n",
      "I219     24559\n",
      "I500     24137\n",
      "Z511     22175\n",
      "Name: count, dtype: int64\n"
     ]
    }
   ],
   "source": [
    "# exclude all the diagnosis codes that start with \"O\", so that births are not included.\n",
    "valid = df_pld_valid[\"Primary diagnosis code\"][~df_pld_valid[\"Primary diagnosis code\"].str.startswith(\"O\")].value_counts().sort_values(ascending = False).head(20)\n",
    "print(valid)"
   ]
  },
  {
   "cell_type": "code",
   "execution_count": 129,
   "id": "30545ba6-7efe-4d39-8fea-d1d257dab846",
   "metadata": {},
   "outputs": [
    {
     "name": "stdout",
     "output_type": "stream",
     "text": [
      "Primary diagnosis code\n",
      "P599    2937\n",
      "K802    2396\n",
      "J353    1998\n",
      "K409    1817\n",
      "E668    1767\n",
      "J189    1630\n",
      "N47X    1607\n",
      "K358    1583\n",
      "K808    1583\n",
      "E669    1545\n",
      "N40X    1513\n",
      "N390    1455\n",
      "P073    1406\n",
      "J210    1293\n",
      "J960    1188\n",
      "P034    1164\n",
      "P220    1123\n",
      "Z411    1048\n",
      "U071    1017\n",
      "K810     974\n",
      "Name: count, dtype: int64\n"
     ]
    }
   ],
   "source": [
    "# exclude all the diagnosis codes that start with \"O\", so that births are not included.\n",
    "only_nans = df_167677[\"Primary diagnosis code\"][~df_167677[\"Primary diagnosis code\"].str.startswith(\"O\")].value_counts().sort_values(ascending = False).head(20)\n",
    "print(only_nans)"
   ]
  },
  {
   "cell_type": "code",
   "execution_count": 130,
   "id": "512d579e-a919-43b3-b3ba-adb7f94c9ea9",
   "metadata": {},
   "outputs": [
    {
     "name": "stdout",
     "output_type": "stream",
     "text": [
      "Primary diagnosis code\n",
      "Z411    135\n",
      "E881    100\n",
      "J342     91\n",
      "K802     85\n",
      "K358     83\n",
      "Z512     77\n",
      "N40X     64\n",
      "N390     62\n",
      "M169     58\n",
      "K808     58\n",
      "J960     57\n",
      "K409     55\n",
      "C509     54\n",
      "P599     50\n",
      "J353     49\n",
      "I219     48\n",
      "N62X     43\n",
      "J189     43\n",
      "E669     42\n",
      "N47X     40\n",
      "Name: count, dtype: int64\n"
     ]
    }
   ],
   "source": [
    "# exclude all the diagnosis codes that start with \"O\", so that births are not included.\n",
    "small_6215 = df_6215[\"Primary diagnosis code\"][~df_6215[\"Primary diagnosis code\"].str.startswith(\"O\")].value_counts().sort_values(ascending = False).head(20)\n",
    "print(small_6215)"
   ]
  },
  {
   "cell_type": "code",
   "execution_count": 131,
   "id": "846a1f2f-9773-443c-9d71-e94ac887eae3",
   "metadata": {},
   "outputs": [
    {
     "name": "stdout",
     "output_type": "stream",
     "text": [
      "Primary diagnosis code\n",
      "K358    19274\n",
      "K802    18429\n",
      "J189    16410\n",
      "N390    13339\n",
      "K808    12583\n",
      "K810    11571\n",
      "K409    11246\n",
      "N10X    10797\n",
      "J960    10498\n",
      "N40X     9818\n",
      "E669     9596\n",
      "D259     8890\n",
      "I500     8438\n",
      "J159     8313\n",
      "I219     8068\n",
      "K800     7878\n",
      "C509     7865\n",
      "E668     7641\n",
      "J342     7550\n",
      "N47X     7400\n",
      "Name: count, dtype: int64\n"
     ]
    }
   ],
   "source": [
    "# exclude all the diagnosis codes that start with \"O\", so that births are not included.\n",
    "type_facility = df_facility_type[\"Primary diagnosis code\"][~df_facility_type[\"Primary diagnosis code\"].str.startswith(\"O\")].value_counts().sort_values(ascending = False).head(20)\n",
    "print(type_facility)"
   ]
  },
  {
   "cell_type": "code",
   "execution_count": 132,
   "id": "c8683608-c511-4327-b23c-72f655d038f4",
   "metadata": {},
   "outputs": [
    {
     "name": "stdout",
     "output_type": "stream",
     "text": [
      "{'J189', 'K808', 'N47X', 'K358', 'E669', 'K409', 'J960', 'N40X', 'N390', 'K802'}\n"
     ]
    }
   ],
   "source": [
    "# Among the top 20 most frequent diagnoses, these are shared by all the dataframes (10/20)\n",
    "shared_set = set(valid.index.tolist()).intersection(set(only_nans.index.tolist()), set(small_6215.index.tolist()), set(type_facility.index.tolist()))\n",
    "print(shared_set)"
   ]
  },
  {
   "cell_type": "code",
   "execution_count": 133,
   "id": "38ec0281-36c9-4184-829d-5df6508083f1",
   "metadata": {},
   "outputs": [
    {
     "data": {
      "text/plain": [
       "(6003601, 9)"
      ]
     },
     "execution_count": 133,
     "metadata": {},
     "output_type": "execute_result"
    }
   ],
   "source": [
    "df.shape"
   ]
  },
  {
   "cell_type": "markdown",
   "id": "d0aefc8c-bfd4-4a72-8f17-38fdc23d3a17",
   "metadata": {},
   "source": [
    "Relative Frequencies / Proportions: Compare not just which values occur, but how often (as % of total)."
   ]
  },
  {
   "cell_type": "code",
   "execution_count": 135,
   "id": "6710270d-e77a-48c9-9459-f2138aa16687",
   "metadata": {},
   "outputs": [],
   "source": [
    "# Step 1: Define your shared categories (as a list or sorted set)\n",
    "shared_categories = sorted(list(shared_set))  # replace with your actual set if needed\n",
    "\n",
    "# Step 2: Create a dictionary to hold the relative frequencies from each DataFrame\n",
    "data = {\n",
    "    \"valid\": df_pld_valid[\"Primary diagnosis code\"].value_counts(normalize=True).reindex(shared_categories),\n",
    "    \"only_nans\": df_167677[\"Primary diagnosis code\"].value_counts(normalize=True).reindex(shared_categories),\n",
    "    \"small_6215\": df_6215[\"Primary diagnosis code\"].value_counts(normalize=True).reindex(shared_categories),\n",
    "    \"facility_type_nans\": df_facility_type[\"Primary diagnosis code\"].value_counts(normalize=True).reindex(shared_categories),\n",
    "}\n",
    "\n",
    "# Step 3: Build the comparison DataFrame\n",
    "comparison_df = pd.DataFrame(data, index=shared_categories)\n",
    "\n",
    "# Step 4 (optional): Replace NaN with 0 if needed\n",
    "comparison_df = comparison_df.fillna(0)\n",
    "\n",
    "# Now you have a DataFrame where:\n",
    "# - rows = shared categories\n",
    "# - columns = each original DataFrame\n",
    "# - values = relative frequency\n"
   ]
  },
  {
   "cell_type": "code",
   "execution_count": 136,
   "id": "61d4c2bb-62f2-4177-96b2-7506bb441162",
   "metadata": {},
   "outputs": [
    {
     "data": {
      "text/html": [
       "<div>\n",
       "<style scoped>\n",
       "    .dataframe tbody tr th:only-of-type {\n",
       "        vertical-align: middle;\n",
       "    }\n",
       "\n",
       "    .dataframe tbody tr th {\n",
       "        vertical-align: top;\n",
       "    }\n",
       "\n",
       "    .dataframe thead th {\n",
       "        text-align: right;\n",
       "    }\n",
       "</style>\n",
       "<table border=\"1\" class=\"dataframe\">\n",
       "  <thead>\n",
       "    <tr style=\"text-align: right;\">\n",
       "      <th></th>\n",
       "      <th>valid</th>\n",
       "      <th>only_nans</th>\n",
       "      <th>small_6215</th>\n",
       "      <th>facility_type_nans</th>\n",
       "    </tr>\n",
       "  </thead>\n",
       "  <tbody>\n",
       "    <tr>\n",
       "      <th>E669</th>\n",
       "      <td>0.006008</td>\n",
       "      <td>0.009214</td>\n",
       "      <td>0.006758</td>\n",
       "      <td>0.006738</td>\n",
       "    </tr>\n",
       "    <tr>\n",
       "      <th>J189</th>\n",
       "      <td>0.009032</td>\n",
       "      <td>0.009721</td>\n",
       "      <td>0.006919</td>\n",
       "      <td>0.011522</td>\n",
       "    </tr>\n",
       "    <tr>\n",
       "      <th>J960</th>\n",
       "      <td>0.006276</td>\n",
       "      <td>0.007085</td>\n",
       "      <td>0.009171</td>\n",
       "      <td>0.007371</td>\n",
       "    </tr>\n",
       "    <tr>\n",
       "      <th>K358</th>\n",
       "      <td>0.014633</td>\n",
       "      <td>0.009441</td>\n",
       "      <td>0.013355</td>\n",
       "      <td>0.013533</td>\n",
       "    </tr>\n",
       "    <tr>\n",
       "      <th>K409</th>\n",
       "      <td>0.008456</td>\n",
       "      <td>0.010836</td>\n",
       "      <td>0.008850</td>\n",
       "      <td>0.007896</td>\n",
       "    </tr>\n",
       "    <tr>\n",
       "      <th>K802</th>\n",
       "      <td>0.014068</td>\n",
       "      <td>0.014289</td>\n",
       "      <td>0.013677</td>\n",
       "      <td>0.012939</td>\n",
       "    </tr>\n",
       "    <tr>\n",
       "      <th>K808</th>\n",
       "      <td>0.009608</td>\n",
       "      <td>0.009441</td>\n",
       "      <td>0.009332</td>\n",
       "      <td>0.008835</td>\n",
       "    </tr>\n",
       "    <tr>\n",
       "      <th>N390</th>\n",
       "      <td>0.008954</td>\n",
       "      <td>0.008677</td>\n",
       "      <td>0.009976</td>\n",
       "      <td>0.009366</td>\n",
       "    </tr>\n",
       "    <tr>\n",
       "      <th>N40X</th>\n",
       "      <td>0.006371</td>\n",
       "      <td>0.009023</td>\n",
       "      <td>0.010298</td>\n",
       "      <td>0.006893</td>\n",
       "    </tr>\n",
       "    <tr>\n",
       "      <th>N47X</th>\n",
       "      <td>0.007038</td>\n",
       "      <td>0.009584</td>\n",
       "      <td>0.006436</td>\n",
       "      <td>0.005196</td>\n",
       "    </tr>\n",
       "  </tbody>\n",
       "</table>\n",
       "</div>"
      ],
      "text/plain": [
       "         valid  only_nans  small_6215  facility_type_nans\n",
       "E669  0.006008   0.009214    0.006758            0.006738\n",
       "J189  0.009032   0.009721    0.006919            0.011522\n",
       "J960  0.006276   0.007085    0.009171            0.007371\n",
       "K358  0.014633   0.009441    0.013355            0.013533\n",
       "K409  0.008456   0.010836    0.008850            0.007896\n",
       "K802  0.014068   0.014289    0.013677            0.012939\n",
       "K808  0.009608   0.009441    0.009332            0.008835\n",
       "N390  0.008954   0.008677    0.009976            0.009366\n",
       "N40X  0.006371   0.009023    0.010298            0.006893\n",
       "N47X  0.007038   0.009584    0.006436            0.005196"
      ]
     },
     "execution_count": 136,
     "metadata": {},
     "output_type": "execute_result"
    }
   ],
   "source": [
    "# The diagnoses are diverse and non of them are more frequent that 1%\n",
    "comparison_df"
   ]
  },
  {
   "cell_type": "code",
   "execution_count": 137,
   "id": "1a812e5d-9666-4206-8805-8073ddbae7de",
   "metadata": {},
   "outputs": [
    {
     "data": {
      "text/plain": [
       "(6003601, 9)"
      ]
     },
     "execution_count": 137,
     "metadata": {},
     "output_type": "execute_result"
    }
   ],
   "source": [
    "df.shape"
   ]
  },
  {
   "cell_type": "markdown",
   "id": "2dfaa87e-adb0-483c-81a1-accb0c7b2fce",
   "metadata": {},
   "source": [
    "Shannon Entropy (or other diversity metrics): Measures how diverse or uniform the categories are in each dataset."
   ]
  },
  {
   "cell_type": "code",
   "execution_count": 139,
   "id": "8a66c8ea-1ecc-4ea9-8c8b-a6e7d6f11d6b",
   "metadata": {},
   "outputs": [
    {
     "name": "stdout",
     "output_type": "stream",
     "text": [
      "Entropy for only valid values: 9.7539\n",
      "Entropy for only nan values: 9.5726\n",
      "Entropy for small 6215 valid values: 9.1792\n",
      "Entropy for only facility type nan values: 9.8439\n"
     ]
    }
   ],
   "source": [
    "def shannon_entropy(series):\n",
    "    proportions = series.value_counts(normalize=True)\n",
    "    proportions = proportions[proportions > 0] \n",
    "    entropy = -np.sum(proportions * np.log2(proportions))\n",
    "    return entropy\n",
    "\n",
    "# Replace these with your actual DataFrame names and column\n",
    "column_name = \"Primary diagnosis code\"\n",
    "\n",
    "entropy_df1 = shannon_entropy(df_pld_valid[column_name])\n",
    "entropy_df2 = shannon_entropy(df_167677[column_name])\n",
    "entropy_df3 = shannon_entropy(df_6215[column_name])\n",
    "entropy_df4 = shannon_entropy(df_facility_type[column_name])\n",
    "\n",
    "# Show results\n",
    "print(f\"Entropy for only valid values: {entropy_df1:.4f}\")\n",
    "print(f\"Entropy for only nan values: {entropy_df2:.4f}\")\n",
    "print(f\"Entropy for small 6215 valid values: {entropy_df3:.4f}\")\n",
    "print(f\"Entropy for only facility type nan values: {entropy_df4:.4f}\")\n"
   ]
  },
  {
   "cell_type": "code",
   "execution_count": 140,
   "id": "66def844-21c9-40b6-bd87-86873680409d",
   "metadata": {},
   "outputs": [
    {
     "data": {
      "text/plain": [
       "(6003601, 9)"
      ]
     },
     "execution_count": 140,
     "metadata": {},
     "output_type": "execute_result"
    }
   ],
   "source": [
    "df.shape"
   ]
  },
  {
   "cell_type": "markdown",
   "id": "a16e6f3c-7152-455e-bd30-0e6f1a4da5cc",
   "metadata": {},
   "source": [
    "The shannon entropy diversity metric shows that, taking df_pld_valid (only valid values across the columns), the diversity of diagnoses is high and quite similar compared to the other dataframes, except of df_6215. This suggests that the missigness is likely not affecting the representativeness of the different diagnoses in the sample and the values are high enough to be close to what a real population would be. About the df_6215 the sample is too small compared to the other ones and it will be assumed as the reason for having less diversity in that dataframe."
   ]
  },
  {
   "cell_type": "markdown",
   "id": "50a6b6ae-5275-4c62-a33a-97c5ad766477",
   "metadata": {},
   "source": [
    "Pairwise Distribution Comparison"
   ]
  },
  {
   "cell_type": "code",
   "execution_count": 143,
   "id": "eb838470-f8ea-4e2f-bfe0-a8880165add5",
   "metadata": {},
   "outputs": [
    {
     "name": "stdout",
     "output_type": "stream",
     "text": [
      "      only valid  only nan  small 6215  nan facility type   average\n",
      "K802    0.014068  0.014289    0.013677           0.012939  0.013743\n",
      "K358    0.014633  0.009441    0.013355           0.013533  0.012740\n",
      "K808    0.009608  0.009441    0.009332           0.008835  0.009304\n",
      "J189    0.009032  0.009721    0.006919           0.011522  0.009298\n",
      "N390    0.008954  0.008677    0.009976           0.009366  0.009243\n",
      "K409    0.008456  0.010836    0.008850           0.007896  0.009010\n",
      "U071    0.024299  0.006065    0.002092           0.003216  0.008918\n",
      "N40X    0.006371  0.009023    0.010298           0.006893  0.008146\n",
      "P599    0.003894  0.017516    0.008045           0.002936  0.008098\n",
      "J342    0.006068  0.005707    0.014642           0.005301  0.007930\n",
      "J960    0.006276  0.007085    0.009171           0.007371  0.007476\n",
      "E669    0.006008  0.009214    0.006758           0.006738  0.007179\n",
      "N47X    0.007038  0.009584    0.006436           0.005196  0.007063\n",
      "J353    0.004092  0.011916    0.007884           0.003789  0.006920\n",
      "K810    0.008302  0.005809    0.004827           0.008124  0.006765\n",
      "E668    0.004740  0.010538    0.005632           0.005365  0.006569\n",
      "N10X    0.006961  0.005332    0.005792           0.007581  0.006416\n",
      "C509    0.004916  0.004175    0.008689           0.005522  0.005825\n",
      "I219    0.005575  0.004163    0.007723           0.005665  0.005781\n",
      "M169    0.003744  0.005350    0.009332           0.004388  0.005703\n"
     ]
    }
   ],
   "source": [
    "# Set the column name\n",
    "column_name = \"Primary diagnosis code\"\n",
    "\n",
    "entropy_df1 = shannon_entropy(df_pld_valid[column_name])\n",
    "entropy_df2 = shannon_entropy(df_167677[column_name])\n",
    "entropy_df3 = shannon_entropy(df_6215[column_name])\n",
    "entropy_df4 = shannon_entropy(df_facility_type[column_name])\n",
    "# Set of your 4 dataframes\n",
    "dfs = [df_pld_valid, df_167677, df_6215, df_facility_type]\n",
    "labels = [\"only valid\", \"only nan\", \"small 6215\", \"nan facility type\"]\n",
    "\n",
    "# Step 1: Get top 50 most common codes across ALL dataframes\n",
    "all_codes = pd.concat([df[column_name] for df in dfs])\n",
    "top_50_codes = all_codes.value_counts().head(50).index.tolist()\n",
    "\n",
    "# Step 2: Create a DataFrame to hold the relative frequencies\n",
    "relative_freq_df = pd.DataFrame(index=top_50_codes)\n",
    "\n",
    "# Step 3: Fill relative frequencies for each dataframe\n",
    "for current_df, label in zip(dfs, labels):\n",
    "    vc = current_df[column_name].value_counts(normalize=True)  # relative freq\n",
    "    vc_top_50 = vc.reindex(top_50_codes).fillna(0)\n",
    "    relative_freq_df[label] = vc_top_50\n",
    "\n",
    "# Step 4 (optional): Sort by one dataset or average\n",
    "relative_freq_df[\"average\"] = relative_freq_df.mean(axis=1)\n",
    "relative_freq_df = relative_freq_df.sort_values(\"average\", ascending=False)\n",
    "\n",
    "# Step 5: Drop the average column if not needed\n",
    "# relative_freq_df = relative_freq_df.drop(columns=\"average\")\n",
    "\n",
    "# Remove diagnosis codes starting with \"O\"\n",
    "relative_freq_df_no_O = relative_freq_df[~relative_freq_df.index.str.startswith(\"O\")]\n",
    "\n",
    "# Final result: top 50 diagnosis codes with relative frequency across datasets\n",
    "print(relative_freq_df_no_O.head(20))\n"
   ]
  },
  {
   "cell_type": "code",
   "execution_count": 144,
   "id": "68644c83-d2eb-45c6-84a9-9154f7375384",
   "metadata": {},
   "outputs": [
    {
     "data": {
      "text/plain": [
       "(6003601, 9)"
      ]
     },
     "execution_count": 144,
     "metadata": {},
     "output_type": "execute_result"
    }
   ],
   "source": [
    "df.shape"
   ]
  },
  {
   "cell_type": "code",
   "execution_count": 145,
   "id": "b6c69ae1-102c-4ab0-8d2e-abcb614b32b3",
   "metadata": {},
   "outputs": [
    {
     "data": {
      "image/png": "[encoded data removed]",
      "text/plain": [
       "<Figure size 1200x1000 with 2 Axes>"
      ]
     },
     "metadata": {},
     "output_type": "display_data"
    }
   ],
   "source": [
    "\n",
    "\n",
    "# Step 2: Drop 'average' column if present\n",
    "if \"average\" in relative_freq_df_no_O.columns:\n",
    "    heatmap_data = relative_freq_df_no_O.drop(columns=\"average\")\n",
    "else:\n",
    "    heatmap_data = relative_freq_df_no_O.copy()\n",
    "\n",
    "# Step 3: Plot\n",
    "plt.figure(figsize=(12, 10))\n",
    "sns.heatmap(\n",
    "    heatmap_data,\n",
    "    cmap=\"Blues\",\n",
    "    linewidths=0.5,\n",
    "    linecolor='gray',\n",
    "    annot=False,  # Set to True if you want to see values\n",
    "    cbar_kws={'label': 'Relative Frequency'}\n",
    ")\n",
    "\n",
    "plt.title(\"Relative Frequency of Diagnosis Codes (Excluding Codes Starting with 'O')\", fontsize=14)\n",
    "plt.xlabel(\"Dataset\")\n",
    "plt.ylabel(\"Diagnosis Code\")\n",
    "plt.tight_layout()\n",
    "plt.show()"
   ]
  },
  {
   "cell_type": "markdown",
   "id": "643b38b5-3d87-4438-91b4-b8a1da7d1818",
   "metadata": {},
   "source": [
    "Comparing the diagnoses between the dataframes that hold valid and missing values in the columns already analyzed, the relative frequency ot is higher than 2% for COVID when all the columns have valid values. This makes sense beecause it was really important to trace the patients and the potencial spread of the disease"
   ]
  },
  {
   "cell_type": "code",
   "execution_count": 147,
   "id": "4523a638-6d55-4e21-964b-18f5de9024d1",
   "metadata": {},
   "outputs": [
    {
     "data": {
      "text/plain": [
       "(6003601, 9)"
      ]
     },
     "execution_count": 147,
     "metadata": {},
     "output_type": "execute_result"
    }
   ],
   "source": [
    "df.shape"
   ]
  },
  {
   "cell_type": "markdown",
   "id": "cba2b4cc-8f09-400c-858e-71a13d46bf37",
   "metadata": {},
   "source": [
    "Length of stay"
   ]
  },
  {
   "cell_type": "code",
   "execution_count": 154,
   "id": "3729bba6-9f25-4120-afa1-96ca8f705c2d",
   "metadata": {},
   "outputs": [
    {
     "data": {
      "text/plain": [
       "count    6.003601e+06\n",
       "mean     6.274454e+00\n",
       "std      4.672092e+01\n",
       "min      1.000000e+00\n",
       "25%      1.000000e+00\n",
       "50%      2.000000e+00\n",
       "75%      6.000000e+00\n",
       "max      2.223900e+04\n",
       "Name: Length of stay, dtype: float64"
      ]
     },
     "execution_count": 154,
     "metadata": {},
     "output_type": "execute_result"
    }
   ],
   "source": [
    "# There are outliers that have to be assesed in the analysis. Probably represent long stays related to mental health issues, as seen in 2001-2020 data\n",
    "df[\"Length of stay\"].describe()"
   ]
  },
  {
   "cell_type": "markdown",
   "id": "992b8cd6-d373-40e9-ac7f-0d98c210fd44",
   "metadata": {},
   "source": [
    "Discharge condition"
   ]
  },
  {
   "cell_type": "code",
   "execution_count": 151,
   "id": "5b983b54-c757-4b9b-81cc-be893459f922",
   "metadata": {},
   "outputs": [
    {
     "data": {
      "text/plain": [
       "Discharge condition\n",
       "1    5844040\n",
       "2     159561\n",
       "Name: count, dtype: int64"
      ]
     },
     "execution_count": 151,
     "metadata": {},
     "output_type": "execute_result"
    }
   ],
   "source": [
    "# Mostly people are alive after the discharge, as expected\n",
    "df[\"Discharge condition\"].value_counts()"
   ]
  },
  {
   "cell_type": "markdown",
   "id": "08341cbd-3516-4e55-bcda-2ed41848dc99",
   "metadata": {},
   "source": [
    "# Export data ready to joint/merge it with data from 2001 to 2020"
   ]
  },
  {
   "cell_type": "code",
   "execution_count": null,
   "id": "1df88cb0-d9e1-48d7-9403-b9a6d4c78643",
   "metadata": {},
   "outputs": [],
   "source": [
    "df.to_parquet('Egresos_2021-2024.parquet', index=False, compression=\"gzip\") "
   ]
  },
  {
   "cell_type": "code",
   "execution_count": null,
   "id": "1db312ea-8be0-4ca6-b147-52b678575c2c",
   "metadata": {},
   "outputs": [],
   "source": [
    "df.to_csv(\"Egresos_2021-2024.csv\", index = False)"
   ]
  },
  {
   "cell_type": "code",
   "execution_count": null,
   "id": "117b38c7-22d3-4ae6-8428-0e86fd69be08",
   "metadata": {},
   "outputs": [],
   "source": []
  },
  {
   "cell_type": "code",
   "execution_count": null,
   "id": "fb65ccf8-bb9f-419d-961c-04a7ba669b81",
   "metadata": {},
   "outputs": [],
   "source": []
  },
  {
   "cell_type": "markdown",
   "id": "fa1433cd-3191-49b0-81d7-2b70bab76cc0",
   "metadata": {},
   "source": [
    "# Summary of key decisions and insights:\n",
    "\n",
    "Insights:\n",
    "1. The missigness of the data followed a structured pattern which did not show a significative diffrence between valid and null data for key columns (discharge condition, length of stay, diagnoses)\n",
    "2. Just the column \"Healthcare facilty type\" has a high amount of null values (around 26%), always for the year 2023 (1.484.159 out of 1.651.836 values)  when the rest of the columns are valid\n",
    "3. The structured missingness is not biasing or distorting the insights that will be drawn from the complete variables\n",
    "4. 74% of the data are duplicates, showing that the variables are not specific to describe a patient (example. dataframes have age ranges, not exact ages)\n",
    "5. Diagnosis codes are diverse and have similar representativeness among valid and null value columns, showing that the missingess is not affecting this variable\n",
    "6. Length of stay have important outliers that disort the distribution of the data. THey will be assesed in the analysis stage\n",
    "\n",
    "Decisions:\n",
    "1. Null values were kept considering are not biasing insights. Doing this matters to avoid losing valuable data from valid value columns. However, null values will be flagged in the analysis\n",
    "2. Only men and women are considered in variable \"Sex\". The rest are deleted\n",
    "3. The ages were grouped properly in certain age ranges that will be used also with data from 2001 to 2020, which has exact ages for each row/patient\n",
    "4. Only Fonasa and Isapres are considered in \"Healthcare insurance\", to focus on the private/public healthcare insurance market dynamic in the analysis\n",
    "5. Duplicates are not deleted because it is not possible to distinguish between data entry errors and real patients, due to a lack of patient IDs or Hospital names in the dataframes. Representing 74%, deleting duplicates would mean the loss of valuable data.\n",
    "6. Births will be excluded from the joint dataframe before the analysis, as the do not represent healthcare issues neccesarily. This helps reducing the dataframe size, enhancing processing efficiency."
   ]
  },
  {
   "cell_type": "markdown",
   "id": "108e9361-6c88-480f-9da7-3eb6cfe829c5",
   "metadata": {},
   "source": [
    "# PASAR TODO A README E INFORME ¡¡ESTO TOCA!!"
   ]
  },
  {
   "cell_type": "code",
   "execution_count": null,
   "id": "974f5a9c-6657-4e54-923e-8baaa2b91703",
   "metadata": {},
   "outputs": [],
   "source": []
  },
  {
   "cell_type": "code",
   "execution_count": null,
   "id": "e88e5246-f33d-43e3-a25f-d7d561028e37",
   "metadata": {},
   "outputs": [],
   "source": []
  },
  {
   "cell_type": "markdown",
   "id": "0d95e2de-07f5-4eab-9cb0-0327b43cfc15",
   "metadata": {},
   "source": [
    "# insights por escalerecer:\n",
    "1. Porque healthcare facility tiene tantos NaN el año 2023?\n",
    "2. Por qué la agrupación de pacientes según año es mejor cuando healthcare facility type es nulo?\n",
    "3. is there a reason behind of grouping the age of the people differently when the healthcare facility type is valid compared to NaN?"
   ]
  }
 ],
 "metadata": {
  "kernelspec": {
   "display_name": "Python 3 (ipykernel)",
   "language": "python",
   "name": "python3"
  },
  "language_info": {
   "codemirror_mode": {
    "name": "ipython",
    "version": 3
   },
   "file_extension": ".py",
   "mimetype": "text/x-python",
   "name": "python",
   "nbconvert_exporter": "python",
   "pygments_lexer": "ipython3",
   "version": "3.12.4"
  }
 },
 "nbformat": 4,
 "nbformat_minor": 5
}
