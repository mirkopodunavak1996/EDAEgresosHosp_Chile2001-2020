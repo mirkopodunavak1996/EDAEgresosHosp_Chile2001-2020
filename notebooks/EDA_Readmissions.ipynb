{
 "cells": [
  {
   "cell_type": "markdown",
   "id": "c5b72923-782b-4f2f-bc1e-308b25188ddf",
   "metadata": {},
   "source": [
    "*Bonus: revisitas: Let’s say your goal is: “Track how often and when patients are readmitted after a previous hospitalization.”\n",
    "\n",
    "In this case, you need to group visits by patient to:\n",
    "\n",
    "Calculate time between visits.\n",
    "\n",
    "Identify patterns of recurrence.\n",
    "\n",
    "Count how many times someone was admitted within a year."
   ]
  },
  {
   "cell_type": "code",
   "execution_count": null,
   "id": "c15d9e67-ca5a-4024-8dc1-5af8346f52d4",
   "metadata": {},
   "outputs": [],
   "source": []
  }
 ],
 "metadata": {
  "kernelspec": {
   "display_name": "Python 3 (ipykernel)",
   "language": "python",
   "name": "python3"
  },
  "language_info": {
   "codemirror_mode": {
    "name": "ipython",
    "version": 3
   },
   "file_extension": ".py",
   "mimetype": "text/x-python",
   "name": "python",
   "nbconvert_exporter": "python",
   "pygments_lexer": "ipython3",
   "version": "3.12.4"
  }
 },
 "nbformat": 4,
 "nbformat_minor": 5
}
