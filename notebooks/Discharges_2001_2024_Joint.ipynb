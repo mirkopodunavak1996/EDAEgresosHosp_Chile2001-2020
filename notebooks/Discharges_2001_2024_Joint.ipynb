{
 "cells": [
  {
   "cell_type": "markdown",
   "id": "45e6fbfb-b53a-4cfd-85f0-fe2abe1071da",
   "metadata": {},
   "source": [
    "Tipo de variables:\n",
    "\n",
    "Caracteristicas individuales:\n",
    "1. Sexo\n",
    "2. Edad\n",
    "3. Previsión o seguro de salud\n",
    "\n",
    "Caracteristicas del centro de salud:\n",
    "1. Nombre\n",
    "2. Público o privado\n",
    "\n",
    "Variables asociadas al disgnostico:\n",
    "1. Nombre del problema de salud (y código problema de salud)\n",
    "\n",
    "Variables asociadas al individuo, centro de salud y enfermedad de forma simultanea:\n",
    "1. Dias de estadia en el centro de salud\n",
    "2. Condicion de egreso (vivo o muerto)\n",
    "\n",
    "Preguntas Guia:\n",
    "1. ¿Cual es la tendencia en la evolución de la prevalencia de los problemas de salud a lo largo de los años? 2001-2024\n",
    "2. ¿Hay alguna relación entre las caractersiticas individuales (sexo, edad, previsión de salud) y problemas de salud especificos? 2001-2024\n",
    "3. ¿Que tipo de centros de salud (publicos o privados) y en especifico utilizan más o menos días-cama en la solución de los problemas de salud? 2001-2024 en general y 2001-2020 en especifico\n",
    "3.1 ¿ En que medida la eficiencia de los centros de salud está ligada a caracteristicas individuales de la población atendida y/o a su financiamiento?\n",
    "Depende de hallazgos P.2 2001-2024 en general y 2001-2020 en especifico\n",
    "* Se entiende que un centro de salud es más eficiente si es que logra reducir los días de estada al mínimo posible\n",
    "y efectivo si es que el paciente egresa vivo. BUSCAR UNA DEFINICION MAS APROPIADA DE EFICIENCIA HOSPITALARIA"
   ]
  },
  {
   "cell_type": "markdown",
   "id": "d91cf0a4-ddc2-442e-bd87-65c4aebeb6f9",
   "metadata": {},
   "source": [
    "# Libraries and Data importation 2001-2020"
   ]
  },
  {
   "cell_type": "code",
   "execution_count": 1,
   "id": "731074ac-dd86-4c11-b449-5ad7863aec7a",
   "metadata": {},
   "outputs": [],
   "source": [
    "import pandas as pd\n",
    "import numpy as np\n",
    "import matplotlib.pyplot as plt\n",
    "import seaborn as sns"
   ]
  },
  {
   "cell_type": "code",
   "execution_count": 2,
   "id": "62458c14-55bb-4aa6-ba9a-318299904782",
   "metadata": {},
   "outputs": [],
   "source": [
    "df_20 = pd.read_parquet(r\"C:\\Users\\mirko\\Desktop\\Curso Data Science DL\\ProyectoEDA_Egresos_Hospitalarios_2001-2020\\data\\processed\\General_analysis_data.parquet\")"
   ]
  },
  {
   "cell_type": "code",
   "execution_count": 5,
   "id": "8bef4c10-6f2b-4167-a79b-c8beee47288b",
   "metadata": {},
   "outputs": [
    {
     "data": {
      "text/html": [
       "<div>\n",
       "<style scoped>\n",
       "    .dataframe tbody tr th:only-of-type {\n",
       "        vertical-align: middle;\n",
       "    }\n",
       "\n",
       "    .dataframe tbody tr th {\n",
       "        vertical-align: top;\n",
       "    }\n",
       "\n",
       "    .dataframe thead th {\n",
       "        text-align: right;\n",
       "    }\n",
       "</style>\n",
       "<table border=\"1\" class=\"dataframe\">\n",
       "  <thead>\n",
       "    <tr style=\"text-align: right;\">\n",
       "      <th></th>\n",
       "      <th>Sex</th>\n",
       "      <th>Age</th>\n",
       "      <th>Health insurance</th>\n",
       "      <th>Healthcare facility type</th>\n",
       "      <th>Healthcare facility name</th>\n",
       "      <th>Length of stay</th>\n",
       "      <th>Discharge condition</th>\n",
       "      <th>Primary diagnosis code</th>\n",
       "      <th>Primary diagnosis name</th>\n",
       "      <th>Year</th>\n",
       "    </tr>\n",
       "  </thead>\n",
       "  <tbody>\n",
       "    <tr>\n",
       "      <th>0</th>\n",
       "      <td>Hombre</td>\n",
       "      <td>60</td>\n",
       "      <td>Fonasa</td>\n",
       "      <td>Privado</td>\n",
       "      <td>Clínica Familia</td>\n",
       "      <td>2</td>\n",
       "      <td>Muerto</td>\n",
       "      <td>C780</td>\n",
       "      <td>TUMOR MALIGNO SECUNDARIO DEL PULMÓN</td>\n",
       "      <td>2001</td>\n",
       "    </tr>\n",
       "    <tr>\n",
       "      <th>1</th>\n",
       "      <td>Hombre</td>\n",
       "      <td>74</td>\n",
       "      <td>Fonasa</td>\n",
       "      <td>Publico</td>\n",
       "      <td>Hospital Del Salvador (Santiago, Providencia)</td>\n",
       "      <td>58</td>\n",
       "      <td>Muerto</td>\n",
       "      <td>E145</td>\n",
       "      <td>DIABETES MELLITUS NO ESPECIFICADA, CON COMPLIC...</td>\n",
       "      <td>2001</td>\n",
       "    </tr>\n",
       "    <tr>\n",
       "      <th>2</th>\n",
       "      <td>Hombre</td>\n",
       "      <td>71</td>\n",
       "      <td>Fonasa</td>\n",
       "      <td>Publico</td>\n",
       "      <td>Hospital Del Salvador (Santiago, Providencia)</td>\n",
       "      <td>12</td>\n",
       "      <td>Muerto</td>\n",
       "      <td>J189</td>\n",
       "      <td>NEUMONIA, NO ESPECIFICADA</td>\n",
       "      <td>2001</td>\n",
       "    </tr>\n",
       "    <tr>\n",
       "      <th>3</th>\n",
       "      <td>Hombre</td>\n",
       "      <td>2</td>\n",
       "      <td>Fonasa</td>\n",
       "      <td>Publico</td>\n",
       "      <td>Instituto de Neurocirugía Dr. Alfonso Asenjo</td>\n",
       "      <td>1</td>\n",
       "      <td>Muerto</td>\n",
       "      <td>S065</td>\n",
       "      <td>HEMORRAGIA SUBDURAL TRAUMÁTICA</td>\n",
       "      <td>2001</td>\n",
       "    </tr>\n",
       "    <tr>\n",
       "      <th>4</th>\n",
       "      <td>Hombre</td>\n",
       "      <td>81</td>\n",
       "      <td>Fonasa</td>\n",
       "      <td>Publico</td>\n",
       "      <td>Hospital Dr. Leonardo Guzmán (Antofagasta)</td>\n",
       "      <td>7</td>\n",
       "      <td>Vivo</td>\n",
       "      <td>K830</td>\n",
       "      <td>COLANGITIS</td>\n",
       "      <td>2001</td>\n",
       "    </tr>\n",
       "  </tbody>\n",
       "</table>\n",
       "</div>"
      ],
      "text/plain": [
       "      Sex  Age Health insurance Healthcare facility type  \\\n",
       "0  Hombre   60           Fonasa                  Privado   \n",
       "1  Hombre   74           Fonasa                  Publico   \n",
       "2  Hombre   71           Fonasa                  Publico   \n",
       "3  Hombre    2           Fonasa                  Publico   \n",
       "4  Hombre   81           Fonasa                  Publico   \n",
       "\n",
       "                        Healthcare facility name  Length of stay  \\\n",
       "0                               Clínica Familia                2   \n",
       "1  Hospital Del Salvador (Santiago, Providencia)              58   \n",
       "2  Hospital Del Salvador (Santiago, Providencia)              12   \n",
       "3   Instituto de Neurocirugía Dr. Alfonso Asenjo               1   \n",
       "4     Hospital Dr. Leonardo Guzmán (Antofagasta)               7   \n",
       "\n",
       "  Discharge condition Primary diagnosis code  \\\n",
       "0              Muerto                   C780   \n",
       "1              Muerto                   E145   \n",
       "2              Muerto                   J189   \n",
       "3              Muerto                   S065   \n",
       "4                Vivo                   K830   \n",
       "\n",
       "                              Primary diagnosis name  Year  \n",
       "0                TUMOR MALIGNO SECUNDARIO DEL PULMÓN  2001  \n",
       "1  DIABETES MELLITUS NO ESPECIFICADA, CON COMPLIC...  2001  \n",
       "2                          NEUMONIA, NO ESPECIFICADA  2001  \n",
       "3                     HEMORRAGIA SUBDURAL TRAUMÁTICA  2001  \n",
       "4                                         COLANGITIS  2001  "
      ]
     },
     "execution_count": 5,
     "metadata": {},
     "output_type": "execute_result"
    }
   ],
   "source": [
    "df_20.head()"
   ]
  },
  {
   "cell_type": "code",
   "execution_count": 7,
   "id": "687e7e8a-c75c-4a7a-9022-76c7edd21e71",
   "metadata": {},
   "outputs": [
    {
     "data": {
      "text/plain": [
       "(25823381, 10)"
      ]
     },
     "execution_count": 7,
     "metadata": {},
     "output_type": "execute_result"
    }
   ],
   "source": [
    "df_20.shape"
   ]
  },
  {
   "cell_type": "code",
   "execution_count": 9,
   "id": "8cb099e4-a8a2-4646-958e-77205d73e441",
   "metadata": {},
   "outputs": [
    {
     "name": "stdout",
     "output_type": "stream",
     "text": [
      "<class 'pandas.core.frame.DataFrame'>\n",
      "RangeIndex: 25823381 entries, 0 to 25823380\n",
      "Data columns (total 10 columns):\n",
      " #   Column                    Dtype   \n",
      "---  ------                    -----   \n",
      " 0   Sex                       object  \n",
      " 1   Age                       int32   \n",
      " 2   Health insurance          category\n",
      " 3   Healthcare facility type  category\n",
      " 4   Healthcare facility name  object  \n",
      " 5   Length of stay            int32   \n",
      " 6   Discharge condition       category\n",
      " 7   Primary diagnosis code    object  \n",
      " 8   Primary diagnosis name    object  \n",
      " 9   Year                      int64   \n",
      "dtypes: category(3), int32(2), int64(1), object(4)\n",
      "memory usage: 1.2+ GB\n"
     ]
    }
   ],
   "source": [
    "df_20.info()"
   ]
  },
  {
   "cell_type": "code",
   "execution_count": 11,
   "id": "c120aef8-1d25-4e30-8f13-1d7f02884e2c",
   "metadata": {},
   "outputs": [],
   "source": [
    "# Deleting births\n",
    "mask_births = df_20[\"Primary diagnosis code\"].str.startswith(\"O\")"
   ]
  },
  {
   "cell_type": "code",
   "execution_count": 13,
   "id": "4795ea06-ebda-4400-9b3e-164aa0d512d0",
   "metadata": {},
   "outputs": [],
   "source": [
    "df_20 = df_20[~mask_births]"
   ]
  },
  {
   "cell_type": "markdown",
   "id": "366a2aab-2a8b-4a16-a47e-6f4b0495ad4b",
   "metadata": {},
   "source": [
    "# Importing data from 2021 to 2024"
   ]
  },
  {
   "cell_type": "code",
   "execution_count": 16,
   "id": "555f179b-756a-434c-9038-d680df4f20eb",
   "metadata": {},
   "outputs": [],
   "source": [
    "df_24 = pd.read_parquet(r\"C:\\Users\\mirko\\Desktop\\Curso Data Science DL\\ProyectoEDA_Egresos_Hospitalarios_2001-2020\\notebooks\\Egresos_2021-2024.parquet\")"
   ]
  },
  {
   "cell_type": "code",
   "execution_count": 26,
   "id": "a0fc7baf-d21c-46c6-af02-38b47f1f9b42",
   "metadata": {},
   "outputs": [
    {
     "data": {
      "text/html": [
       "<div>\n",
       "<style scoped>\n",
       "    .dataframe tbody tr th:only-of-type {\n",
       "        vertical-align: middle;\n",
       "    }\n",
       "\n",
       "    .dataframe tbody tr th {\n",
       "        vertical-align: top;\n",
       "    }\n",
       "\n",
       "    .dataframe thead th {\n",
       "        text-align: right;\n",
       "    }\n",
       "</style>\n",
       "<table border=\"1\" class=\"dataframe\">\n",
       "  <thead>\n",
       "    <tr style=\"text-align: right;\">\n",
       "      <th></th>\n",
       "      <th>Healthcare facility type</th>\n",
       "      <th>Sex</th>\n",
       "      <th>Health insurance</th>\n",
       "      <th>Year_with_nans</th>\n",
       "      <th>Primary diagnosis code</th>\n",
       "      <th>Length of stay</th>\n",
       "      <th>Discharge condition</th>\n",
       "      <th>Year</th>\n",
       "      <th>Age</th>\n",
       "    </tr>\n",
       "  </thead>\n",
       "  <tbody>\n",
       "    <tr>\n",
       "      <th>0</th>\n",
       "      <td>No Pertenecientes al Sistema Nacional de Servi...</td>\n",
       "      <td>Hombre</td>\n",
       "      <td>Isapre</td>\n",
       "      <td>2021</td>\n",
       "      <td>K590</td>\n",
       "      <td>1</td>\n",
       "      <td>1</td>\n",
       "      <td>2021</td>\n",
       "      <td>[1, 9]</td>\n",
       "    </tr>\n",
       "    <tr>\n",
       "      <th>1</th>\n",
       "      <td>No Pertenecientes al Sistema Nacional de Servi...</td>\n",
       "      <td>Hombre</td>\n",
       "      <td>Isapre</td>\n",
       "      <td>2021</td>\n",
       "      <td>T181</td>\n",
       "      <td>1</td>\n",
       "      <td>1</td>\n",
       "      <td>2021</td>\n",
       "      <td>[1, 9]</td>\n",
       "    </tr>\n",
       "    <tr>\n",
       "      <th>2</th>\n",
       "      <td>No Pertenecientes al Sistema Nacional de Servi...</td>\n",
       "      <td>Hombre</td>\n",
       "      <td>Fonasa</td>\n",
       "      <td>2021</td>\n",
       "      <td>Q381</td>\n",
       "      <td>1</td>\n",
       "      <td>1</td>\n",
       "      <td>2021</td>\n",
       "      <td>[1, 9]</td>\n",
       "    </tr>\n",
       "    <tr>\n",
       "      <th>3</th>\n",
       "      <td>No Pertenecientes al Sistema Nacional de Servi...</td>\n",
       "      <td>Hombre</td>\n",
       "      <td>Fonasa</td>\n",
       "      <td>2021</td>\n",
       "      <td>Q531</td>\n",
       "      <td>1</td>\n",
       "      <td>1</td>\n",
       "      <td>2021</td>\n",
       "      <td>[1, 9]</td>\n",
       "    </tr>\n",
       "    <tr>\n",
       "      <th>4</th>\n",
       "      <td>No Pertenecientes al Sistema Nacional de Servi...</td>\n",
       "      <td>Hombre</td>\n",
       "      <td>Fonasa</td>\n",
       "      <td>2021</td>\n",
       "      <td>Q539</td>\n",
       "      <td>1</td>\n",
       "      <td>1</td>\n",
       "      <td>2021</td>\n",
       "      <td>[1, 9]</td>\n",
       "    </tr>\n",
       "    <tr>\n",
       "      <th>...</th>\n",
       "      <td>...</td>\n",
       "      <td>...</td>\n",
       "      <td>...</td>\n",
       "      <td>...</td>\n",
       "      <td>...</td>\n",
       "      <td>...</td>\n",
       "      <td>...</td>\n",
       "      <td>...</td>\n",
       "      <td>...</td>\n",
       "    </tr>\n",
       "    <tr>\n",
       "      <th>4970759</th>\n",
       "      <td>Pertenecientes al Sistema Nacional de Servicio...</td>\n",
       "      <td>Mujer</td>\n",
       "      <td>Isapre</td>\n",
       "      <td>2024</td>\n",
       "      <td>S525</td>\n",
       "      <td>5</td>\n",
       "      <td>1</td>\n",
       "      <td>2024</td>\n",
       "      <td>[70, 79]</td>\n",
       "    </tr>\n",
       "    <tr>\n",
       "      <th>4970760</th>\n",
       "      <td>Pertenecientes al Sistema Nacional de Servicio...</td>\n",
       "      <td>Mujer</td>\n",
       "      <td>Isapre</td>\n",
       "      <td>2024</td>\n",
       "      <td>K805</td>\n",
       "      <td>9</td>\n",
       "      <td>1</td>\n",
       "      <td>2024</td>\n",
       "      <td>[80, 120]</td>\n",
       "    </tr>\n",
       "    <tr>\n",
       "      <th>4970761</th>\n",
       "      <td>Pertenecientes al Sistema Nacional de Servicio...</td>\n",
       "      <td>Mujer</td>\n",
       "      <td>Isapre</td>\n",
       "      <td>2024</td>\n",
       "      <td>M169</td>\n",
       "      <td>7</td>\n",
       "      <td>1</td>\n",
       "      <td>2024</td>\n",
       "      <td>[80, 120]</td>\n",
       "    </tr>\n",
       "    <tr>\n",
       "      <th>4970762</th>\n",
       "      <td>Pertenecientes al Sistema Nacional de Servicio...</td>\n",
       "      <td>Mujer</td>\n",
       "      <td>Isapre</td>\n",
       "      <td>2024</td>\n",
       "      <td>I489</td>\n",
       "      <td>9</td>\n",
       "      <td>2</td>\n",
       "      <td>2024</td>\n",
       "      <td>[80, 120]</td>\n",
       "    </tr>\n",
       "    <tr>\n",
       "      <th>4970763</th>\n",
       "      <td>Pertenecientes al Sistema Nacional de Servicio...</td>\n",
       "      <td>Mujer</td>\n",
       "      <td>Isapre</td>\n",
       "      <td>2024</td>\n",
       "      <td>P073</td>\n",
       "      <td>23</td>\n",
       "      <td>1</td>\n",
       "      <td>2024</td>\n",
       "      <td>[0, 1]</td>\n",
       "    </tr>\n",
       "  </tbody>\n",
       "</table>\n",
       "<p>4970764 rows × 9 columns</p>\n",
       "</div>"
      ],
      "text/plain": [
       "                                  Healthcare facility type     Sex  \\\n",
       "0        No Pertenecientes al Sistema Nacional de Servi...  Hombre   \n",
       "1        No Pertenecientes al Sistema Nacional de Servi...  Hombre   \n",
       "2        No Pertenecientes al Sistema Nacional de Servi...  Hombre   \n",
       "3        No Pertenecientes al Sistema Nacional de Servi...  Hombre   \n",
       "4        No Pertenecientes al Sistema Nacional de Servi...  Hombre   \n",
       "...                                                    ...     ...   \n",
       "4970759  Pertenecientes al Sistema Nacional de Servicio...   Mujer   \n",
       "4970760  Pertenecientes al Sistema Nacional de Servicio...   Mujer   \n",
       "4970761  Pertenecientes al Sistema Nacional de Servicio...   Mujer   \n",
       "4970762  Pertenecientes al Sistema Nacional de Servicio...   Mujer   \n",
       "4970763  Pertenecientes al Sistema Nacional de Servicio...   Mujer   \n",
       "\n",
       "        Health insurance Year_with_nans Primary diagnosis code  \\\n",
       "0                 Isapre           2021                   K590   \n",
       "1                 Isapre           2021                   T181   \n",
       "2                 Fonasa           2021                   Q381   \n",
       "3                 Fonasa           2021                   Q531   \n",
       "4                 Fonasa           2021                   Q539   \n",
       "...                  ...            ...                    ...   \n",
       "4970759           Isapre           2024                   S525   \n",
       "4970760           Isapre           2024                   K805   \n",
       "4970761           Isapre           2024                   M169   \n",
       "4970762           Isapre           2024                   I489   \n",
       "4970763           Isapre           2024                   P073   \n",
       "\n",
       "         Length of stay Discharge condition  Year        Age  \n",
       "0                     1                   1  2021     [1, 9]  \n",
       "1                     1                   1  2021     [1, 9]  \n",
       "2                     1                   1  2021     [1, 9]  \n",
       "3                     1                   1  2021     [1, 9]  \n",
       "4                     1                   1  2021     [1, 9]  \n",
       "...                 ...                 ...   ...        ...  \n",
       "4970759               5                   1  2024   [70, 79]  \n",
       "4970760               9                   1  2024  [80, 120]  \n",
       "4970761               7                   1  2024  [80, 120]  \n",
       "4970762               9                   2  2024  [80, 120]  \n",
       "4970763              23                   1  2024     [0, 1]  \n",
       "\n",
       "[4970764 rows x 9 columns]"
      ]
     },
     "execution_count": 26,
     "metadata": {},
     "output_type": "execute_result"
    }
   ],
   "source": [
    "df_24"
   ]
  },
  {
   "cell_type": "code",
   "execution_count": 28,
   "id": "809636fb-ddbc-49fc-b90c-e120607611d3",
   "metadata": {},
   "outputs": [
    {
     "data": {
      "text/plain": [
       "(4970764, 9)"
      ]
     },
     "execution_count": 28,
     "metadata": {},
     "output_type": "execute_result"
    }
   ],
   "source": [
    "df_24.shape"
   ]
  },
  {
   "cell_type": "code",
   "execution_count": 30,
   "id": "515cc2f6-9893-4d6c-9e46-1088b88f9fae",
   "metadata": {},
   "outputs": [
    {
     "name": "stdout",
     "output_type": "stream",
     "text": [
      "<class 'pandas.core.frame.DataFrame'>\n",
      "RangeIndex: 4970764 entries, 0 to 4970763\n",
      "Data columns (total 9 columns):\n",
      " #   Column                    Dtype   \n",
      "---  ------                    -----   \n",
      " 0   Healthcare facility type  category\n",
      " 1   Sex                       object  \n",
      " 2   Health insurance          object  \n",
      " 3   Year_with_nans            category\n",
      " 4   Primary diagnosis code    category\n",
      " 5   Length of stay            int32   \n",
      " 6   Discharge condition       category\n",
      " 7   Year                      int16   \n",
      " 8   Age                       object  \n",
      "dtypes: category(4), int16(1), int32(1), object(3)\n",
      "memory usage: 166.2+ MB\n"
     ]
    }
   ],
   "source": [
    "df_24.info()"
   ]
  },
  {
   "cell_type": "markdown",
   "id": "dae7c674-0cc2-4749-a741-cb5c86f4856e",
   "metadata": {},
   "source": [
    "# Joining dataframes"
   ]
  },
  {
   "cell_type": "markdown",
   "id": "206b477b-2fa4-496b-9c5a-850f6fecae7e",
   "metadata": {},
   "source": [
    "Preparing dataframes before joining them"
   ]
  },
  {
   "cell_type": "code",
   "execution_count": 34,
   "id": "c8563a63-58cc-4acf-b801-9ba8c432a9fe",
   "metadata": {},
   "outputs": [],
   "source": [
    "# Both columns have the same data, but the column from the original data will be kept and the column name will be changed to match in both dataframes\n",
    "df_24 = df_24.drop(columns = \"Year\").rename(columns = {\"Year_with_nans\" : \"Year\"})"
   ]
  },
  {
   "cell_type": "code",
   "execution_count": 36,
   "id": "8f438836-994c-428b-a26b-9e96b63bc091",
   "metadata": {},
   "outputs": [],
   "source": [
    "# This column is created to have the same structure between both dataframes\n",
    "df_24[\"Primary diagnosis name\"] = pd.NA\n",
    "df_24[\"healthcare facility name\"] = pd.NA"
   ]
  },
  {
   "cell_type": "code",
   "execution_count": 38,
   "id": "86797c37-5c15-4494-a93b-00c5de269a6c",
   "metadata": {},
   "outputs": [],
   "source": [
    "# Making sure column names do not have unexpected spaces or characters\n",
    "df_20.columns = df_20.columns.str.strip().str.lower()\n",
    "df_24.columns = df_24.columns.str.strip().str.lower()"
   ]
  },
  {
   "cell_type": "code",
   "execution_count": 40,
   "id": "fe75b24c-e003-4589-a164-0b2ff17455a3",
   "metadata": {},
   "outputs": [
    {
     "name": "stdout",
     "output_type": "stream",
     "text": [
      "<class 'pandas.core.frame.DataFrame'>\n",
      "RangeIndex: 4970764 entries, 0 to 4970763\n",
      "Data columns (total 10 columns):\n",
      " #   Column                    Dtype   \n",
      "---  ------                    -----   \n",
      " 0   healthcare facility type  category\n",
      " 1   sex                       object  \n",
      " 2   health insurance          object  \n",
      " 3   year                      category\n",
      " 4   primary diagnosis code    category\n",
      " 5   length of stay            int32   \n",
      " 6   discharge condition       category\n",
      " 7   age                       object  \n",
      " 8   primary diagnosis name    object  \n",
      " 9   healthcare facility name  object  \n",
      "dtypes: category(4), int32(1), object(5)\n",
      "memory usage: 232.6+ MB\n"
     ]
    }
   ],
   "source": [
    "df_24.info()"
   ]
  },
  {
   "cell_type": "code",
   "execution_count": 42,
   "id": "434b8a71-7721-4442-a418-48b668a76021",
   "metadata": {},
   "outputs": [],
   "source": [
    "# Convert dtypes of both dataframes to be able to concatenate\n",
    "df_24.loc[:, \"primary diagnosis name\"] = df_24[\"primary diagnosis name\"].astype(object)\n",
    "df_24.loc[:, \"healthcare facility name\"] = df_24[\"healthcare facility name\"].astype(object)\n",
    "df_24.loc[:, \"healthcare facility type\"] = df_24[\"healthcare facility type\"].astype(str)\n",
    "df_24.loc[:, \"discharge condition\"] = df_24[\"discharge condition\"].astype(str)\n",
    "df_24[\"year\"] = pd.to_numeric(df_24[\"year\"].astype(str), errors=\"coerce\").astype(\"Int64\")\n",
    "df_24.loc[:, \"length of stay\"] = pd.to_numeric(df_24[\"length of stay\"], errors=\"coerce\")\n",
    "df_24.loc[:, \"primary diagnosis code\"] = df_24[\"primary diagnosis code\"].astype(object)\n",
    "df_24.loc[:, \"health insurance\"] = df_24[\"health insurance\"].astype(object)"
   ]
  },
  {
   "cell_type": "code",
   "execution_count": 44,
   "id": "c734b713-effe-42b0-aae8-ae6662fa5be4",
   "metadata": {},
   "outputs": [],
   "source": [
    "df_20.loc[:, \"health insurance\"] = df_20[\"health insurance\"].astype(object)\n",
    "df_20.loc[:, \"healthcare facility type\"] = df_20[\"healthcare facility type\"].astype(str)\n",
    "df_20.loc[:, \"discharge condition\"] = df_20[\"discharge condition\"].astype(str)\n",
    "df_20.loc[:, \"year\"] = pd.to_numeric(df_20[\"year\"], errors=\"coerce\")\n",
    "df_20 = df_20.copy()  # ensures it's not a slice\n",
    "df_20[\"age\"] = df_20[\"age\"].astype(object)\n",
    "df_20.loc[:, \"length of stay\"] = pd.to_numeric(df_20[\"length of stay\"], errors=\"coerce\")\n",
    "df_20.loc[:, \"primary diagnosis name\"] = df_20[\"primary diagnosis name\"].astype(object)"
   ]
  },
  {
   "cell_type": "code",
   "execution_count": 46,
   "id": "29c7ad83-8d3f-4254-8942-8bffe84d937d",
   "metadata": {},
   "outputs": [
    {
     "name": "stdout",
     "output_type": "stream",
     "text": [
      "<class 'pandas.core.frame.DataFrame'>\n",
      "RangeIndex: 4970764 entries, 0 to 4970763\n",
      "Data columns (total 10 columns):\n",
      " #   Column                    Dtype   \n",
      "---  ------                    -----   \n",
      " 0   healthcare facility type  category\n",
      " 1   sex                       object  \n",
      " 2   health insurance          object  \n",
      " 3   year                      Int64   \n",
      " 4   primary diagnosis code    category\n",
      " 5   length of stay            int32   \n",
      " 6   discharge condition       category\n",
      " 7   age                       object  \n",
      " 8   primary diagnosis name    object  \n",
      " 9   healthcare facility name  object  \n",
      "dtypes: Int64(1), category(3), int32(1), object(5)\n",
      "memory usage: 270.5+ MB\n"
     ]
    }
   ],
   "source": [
    "df_24.info()"
   ]
  },
  {
   "cell_type": "code",
   "execution_count": 54,
   "id": "9fd42d44-243f-4acf-b8ee-d296dba3b282",
   "metadata": {},
   "outputs": [
    {
     "name": "stdout",
     "output_type": "stream",
     "text": [
      "<class 'pandas.core.frame.DataFrame'>\n",
      "Index: 20788765 entries, 0 to 25823380\n",
      "Data columns (total 10 columns):\n",
      " #   Column                    Dtype   \n",
      "---  ------                    -----   \n",
      " 0   sex                       object  \n",
      " 1   age                       object  \n",
      " 2   health insurance          category\n",
      " 3   healthcare facility type  category\n",
      " 4   healthcare facility name  object  \n",
      " 5   length of stay            int32   \n",
      " 6   discharge condition       category\n",
      " 7   primary diagnosis code    object  \n",
      " 8   primary diagnosis name    object  \n",
      " 9   year                      int64   \n",
      "dtypes: category(3), int32(1), int64(1), object(5)\n",
      "memory usage: 1.2+ GB\n"
     ]
    }
   ],
   "source": [
    "df_20.info()"
   ]
  },
  {
   "cell_type": "code",
   "execution_count": 56,
   "id": "7e680a22-93c6-458a-b8ac-a83f215581bd",
   "metadata": {},
   "outputs": [],
   "source": [
    "# reste index to concatenate\n",
    "df_24 = df_24.reset_index(drop=True)"
   ]
  },
  {
   "cell_type": "code",
   "execution_count": 58,
   "id": "c05865d0-7cbb-498e-9712-8ac74efc06e1",
   "metadata": {},
   "outputs": [],
   "source": [
    "df_20 = df_20.reset_index(drop=True)"
   ]
  },
  {
   "cell_type": "code",
   "execution_count": 62,
   "id": "bacd6803-c95d-4e20-a62a-b8851e3e7a00",
   "metadata": {},
   "outputs": [],
   "source": [
    "# concatenate data from year 2001 to 2020 and 2021 to 2024\n",
    "df = pd.concat([df_20, df_24], axis=0, ignore_index=True)"
   ]
  },
  {
   "cell_type": "code",
   "execution_count": 63,
   "id": "874ef9bd-f6ef-4e8b-bde8-a3ad33cfd309",
   "metadata": {},
   "outputs": [
    {
     "name": "stdout",
     "output_type": "stream",
     "text": [
      "<class 'pandas.core.frame.DataFrame'>\n",
      "RangeIndex: 25759529 entries, 0 to 25759528\n",
      "Data columns (total 10 columns):\n",
      " #   Column                    Dtype \n",
      "---  ------                    ----- \n",
      " 0   sex                       object\n",
      " 1   age                       object\n",
      " 2   health insurance          object\n",
      " 3   healthcare facility type  object\n",
      " 4   healthcare facility name  object\n",
      " 5   length of stay            int32 \n",
      " 6   discharge condition       object\n",
      " 7   primary diagnosis code    object\n",
      " 8   primary diagnosis name    object\n",
      " 9   year                      Int64 \n",
      "dtypes: Int64(1), int32(1), object(8)\n",
      "memory usage: 1.8+ GB\n"
     ]
    }
   ],
   "source": [
    "df.info()"
   ]
  },
  {
   "cell_type": "code",
   "execution_count": 66,
   "id": "7e0649c1-5850-417e-a026-c068ab514f2f",
   "metadata": {},
   "outputs": [
    {
     "data": {
      "text/html": [
       "<div>\n",
       "<style scoped>\n",
       "    .dataframe tbody tr th:only-of-type {\n",
       "        vertical-align: middle;\n",
       "    }\n",
       "\n",
       "    .dataframe tbody tr th {\n",
       "        vertical-align: top;\n",
       "    }\n",
       "\n",
       "    .dataframe thead th {\n",
       "        text-align: right;\n",
       "    }\n",
       "</style>\n",
       "<table border=\"1\" class=\"dataframe\">\n",
       "  <thead>\n",
       "    <tr style=\"text-align: right;\">\n",
       "      <th></th>\n",
       "      <th>sex</th>\n",
       "      <th>age</th>\n",
       "      <th>health insurance</th>\n",
       "      <th>healthcare facility type</th>\n",
       "      <th>healthcare facility name</th>\n",
       "      <th>length of stay</th>\n",
       "      <th>discharge condition</th>\n",
       "      <th>primary diagnosis code</th>\n",
       "      <th>primary diagnosis name</th>\n",
       "      <th>year</th>\n",
       "    </tr>\n",
       "  </thead>\n",
       "  <tbody>\n",
       "    <tr>\n",
       "      <th>0</th>\n",
       "      <td>Hombre</td>\n",
       "      <td>60</td>\n",
       "      <td>Fonasa</td>\n",
       "      <td>Privado</td>\n",
       "      <td>Clínica Familia</td>\n",
       "      <td>2</td>\n",
       "      <td>Muerto</td>\n",
       "      <td>C780</td>\n",
       "      <td>TUMOR MALIGNO SECUNDARIO DEL PULMÓN</td>\n",
       "      <td>2001</td>\n",
       "    </tr>\n",
       "    <tr>\n",
       "      <th>1</th>\n",
       "      <td>Hombre</td>\n",
       "      <td>74</td>\n",
       "      <td>Fonasa</td>\n",
       "      <td>Publico</td>\n",
       "      <td>Hospital Del Salvador (Santiago, Providencia)</td>\n",
       "      <td>58</td>\n",
       "      <td>Muerto</td>\n",
       "      <td>E145</td>\n",
       "      <td>DIABETES MELLITUS NO ESPECIFICADA, CON COMPLIC...</td>\n",
       "      <td>2001</td>\n",
       "    </tr>\n",
       "    <tr>\n",
       "      <th>2</th>\n",
       "      <td>Hombre</td>\n",
       "      <td>71</td>\n",
       "      <td>Fonasa</td>\n",
       "      <td>Publico</td>\n",
       "      <td>Hospital Del Salvador (Santiago, Providencia)</td>\n",
       "      <td>12</td>\n",
       "      <td>Muerto</td>\n",
       "      <td>J189</td>\n",
       "      <td>NEUMONIA, NO ESPECIFICADA</td>\n",
       "      <td>2001</td>\n",
       "    </tr>\n",
       "    <tr>\n",
       "      <th>3</th>\n",
       "      <td>Hombre</td>\n",
       "      <td>2</td>\n",
       "      <td>Fonasa</td>\n",
       "      <td>Publico</td>\n",
       "      <td>Instituto de Neurocirugía Dr. Alfonso Asenjo</td>\n",
       "      <td>1</td>\n",
       "      <td>Muerto</td>\n",
       "      <td>S065</td>\n",
       "      <td>HEMORRAGIA SUBDURAL TRAUMÁTICA</td>\n",
       "      <td>2001</td>\n",
       "    </tr>\n",
       "    <tr>\n",
       "      <th>4</th>\n",
       "      <td>Hombre</td>\n",
       "      <td>81</td>\n",
       "      <td>Fonasa</td>\n",
       "      <td>Publico</td>\n",
       "      <td>Hospital Dr. Leonardo Guzmán (Antofagasta)</td>\n",
       "      <td>7</td>\n",
       "      <td>Vivo</td>\n",
       "      <td>K830</td>\n",
       "      <td>COLANGITIS</td>\n",
       "      <td>2001</td>\n",
       "    </tr>\n",
       "    <tr>\n",
       "      <th>...</th>\n",
       "      <td>...</td>\n",
       "      <td>...</td>\n",
       "      <td>...</td>\n",
       "      <td>...</td>\n",
       "      <td>...</td>\n",
       "      <td>...</td>\n",
       "      <td>...</td>\n",
       "      <td>...</td>\n",
       "      <td>...</td>\n",
       "      <td>...</td>\n",
       "    </tr>\n",
       "    <tr>\n",
       "      <th>25759524</th>\n",
       "      <td>Mujer</td>\n",
       "      <td>[70, 79]</td>\n",
       "      <td>Isapre</td>\n",
       "      <td>Pertenecientes al Sistema Nacional de Servicio...</td>\n",
       "      <td>NaN</td>\n",
       "      <td>5</td>\n",
       "      <td>1</td>\n",
       "      <td>S525</td>\n",
       "      <td>NaN</td>\n",
       "      <td>2024</td>\n",
       "    </tr>\n",
       "    <tr>\n",
       "      <th>25759525</th>\n",
       "      <td>Mujer</td>\n",
       "      <td>[80, 120]</td>\n",
       "      <td>Isapre</td>\n",
       "      <td>Pertenecientes al Sistema Nacional de Servicio...</td>\n",
       "      <td>NaN</td>\n",
       "      <td>9</td>\n",
       "      <td>1</td>\n",
       "      <td>K805</td>\n",
       "      <td>NaN</td>\n",
       "      <td>2024</td>\n",
       "    </tr>\n",
       "    <tr>\n",
       "      <th>25759526</th>\n",
       "      <td>Mujer</td>\n",
       "      <td>[80, 120]</td>\n",
       "      <td>Isapre</td>\n",
       "      <td>Pertenecientes al Sistema Nacional de Servicio...</td>\n",
       "      <td>NaN</td>\n",
       "      <td>7</td>\n",
       "      <td>1</td>\n",
       "      <td>M169</td>\n",
       "      <td>NaN</td>\n",
       "      <td>2024</td>\n",
       "    </tr>\n",
       "    <tr>\n",
       "      <th>25759527</th>\n",
       "      <td>Mujer</td>\n",
       "      <td>[80, 120]</td>\n",
       "      <td>Isapre</td>\n",
       "      <td>Pertenecientes al Sistema Nacional de Servicio...</td>\n",
       "      <td>NaN</td>\n",
       "      <td>9</td>\n",
       "      <td>2</td>\n",
       "      <td>I489</td>\n",
       "      <td>NaN</td>\n",
       "      <td>2024</td>\n",
       "    </tr>\n",
       "    <tr>\n",
       "      <th>25759528</th>\n",
       "      <td>Mujer</td>\n",
       "      <td>[0, 1]</td>\n",
       "      <td>Isapre</td>\n",
       "      <td>Pertenecientes al Sistema Nacional de Servicio...</td>\n",
       "      <td>NaN</td>\n",
       "      <td>23</td>\n",
       "      <td>1</td>\n",
       "      <td>P073</td>\n",
       "      <td>NaN</td>\n",
       "      <td>2024</td>\n",
       "    </tr>\n",
       "  </tbody>\n",
       "</table>\n",
       "<p>25759529 rows × 10 columns</p>\n",
       "</div>"
      ],
      "text/plain": [
       "             sex        age health insurance  \\\n",
       "0         Hombre         60           Fonasa   \n",
       "1         Hombre         74           Fonasa   \n",
       "2         Hombre         71           Fonasa   \n",
       "3         Hombre          2           Fonasa   \n",
       "4         Hombre         81           Fonasa   \n",
       "...          ...        ...              ...   \n",
       "25759524   Mujer   [70, 79]           Isapre   \n",
       "25759525   Mujer  [80, 120]           Isapre   \n",
       "25759526   Mujer  [80, 120]           Isapre   \n",
       "25759527   Mujer  [80, 120]           Isapre   \n",
       "25759528   Mujer     [0, 1]           Isapre   \n",
       "\n",
       "                                   healthcare facility type  \\\n",
       "0                                                   Privado   \n",
       "1                                                   Publico   \n",
       "2                                                   Publico   \n",
       "3                                                   Publico   \n",
       "4                                                   Publico   \n",
       "...                                                     ...   \n",
       "25759524  Pertenecientes al Sistema Nacional de Servicio...   \n",
       "25759525  Pertenecientes al Sistema Nacional de Servicio...   \n",
       "25759526  Pertenecientes al Sistema Nacional de Servicio...   \n",
       "25759527  Pertenecientes al Sistema Nacional de Servicio...   \n",
       "25759528  Pertenecientes al Sistema Nacional de Servicio...   \n",
       "\n",
       "                               healthcare facility name  length of stay  \\\n",
       "0                                      Clínica Familia                2   \n",
       "1         Hospital Del Salvador (Santiago, Providencia)              58   \n",
       "2         Hospital Del Salvador (Santiago, Providencia)              12   \n",
       "3          Instituto de Neurocirugía Dr. Alfonso Asenjo               1   \n",
       "4            Hospital Dr. Leonardo Guzmán (Antofagasta)               7   \n",
       "...                                                 ...             ...   \n",
       "25759524                                            NaN               5   \n",
       "25759525                                            NaN               9   \n",
       "25759526                                            NaN               7   \n",
       "25759527                                            NaN               9   \n",
       "25759528                                            NaN              23   \n",
       "\n",
       "         discharge condition primary diagnosis code  \\\n",
       "0                     Muerto                   C780   \n",
       "1                     Muerto                   E145   \n",
       "2                     Muerto                   J189   \n",
       "3                     Muerto                   S065   \n",
       "4                       Vivo                   K830   \n",
       "...                      ...                    ...   \n",
       "25759524                   1                   S525   \n",
       "25759525                   1                   K805   \n",
       "25759526                   1                   M169   \n",
       "25759527                   2                   I489   \n",
       "25759528                   1                   P073   \n",
       "\n",
       "                                     primary diagnosis name  year  \n",
       "0                       TUMOR MALIGNO SECUNDARIO DEL PULMÓN  2001  \n",
       "1         DIABETES MELLITUS NO ESPECIFICADA, CON COMPLIC...  2001  \n",
       "2                                 NEUMONIA, NO ESPECIFICADA  2001  \n",
       "3                            HEMORRAGIA SUBDURAL TRAUMÁTICA  2001  \n",
       "4                                                COLANGITIS  2001  \n",
       "...                                                     ...   ...  \n",
       "25759524                                                NaN  2024  \n",
       "25759525                                                NaN  2024  \n",
       "25759526                                                NaN  2024  \n",
       "25759527                                                NaN  2024  \n",
       "25759528                                                NaN  2024  \n",
       "\n",
       "[25759529 rows x 10 columns]"
      ]
     },
     "execution_count": 66,
     "metadata": {},
     "output_type": "execute_result"
    }
   ],
   "source": [
    "df"
   ]
  },
  {
   "cell_type": "code",
   "execution_count": 78,
   "id": "dfd3a4a8-86e2-49cc-8890-0c16c5b206c4",
   "metadata": {},
   "outputs": [],
   "source": [
    "# Functions to fix categories\n",
    "def pubpriv(x):\n",
    "    if x == \"Pertenecientes al Sistema Nacional de Servicios de Salud, SNSS\":\n",
    "        x = \"Publico\"\n",
    "    elif x == \"No Pertenecientes al Sistema Nacional de Servicios de Salud, SNSS\":\n",
    "        x = \"Privado\"\n",
    "    return x\n",
    "\n",
    "def discharge_condition(x):\n",
    "    if x == \"2\":\n",
    "        x = \"Muerto\"\n",
    "    elif x == \"1\":\n",
    "        x = \"Vivo\"\n",
    "    return x"
   ]
  },
  {
   "cell_type": "code",
   "execution_count": 88,
   "id": "584108b1-8aee-4602-9c4b-8ab9927ceacb",
   "metadata": {},
   "outputs": [],
   "source": [
    "df[\"discharge condition\"] = df[\"discharge condition\"].apply(discharge_condition)"
   ]
  },
  {
   "cell_type": "code",
   "execution_count": 90,
   "id": "e093f3f2-8b30-4e1e-9e5f-30e28024be80",
   "metadata": {},
   "outputs": [],
   "source": [
    "df[\"healthcare facility type\"] = df[\"healthcare facility type\"].apply(pubpriv)"
   ]
  },
  {
   "cell_type": "code",
   "execution_count": 102,
   "id": "34c3d135-ddc3-4f09-ab68-9fbd78d1e67c",
   "metadata": {},
   "outputs": [],
   "source": [
    "# Convert dtypes to reduc even more dataframe size\n",
    "cols_to_convert = [\"sex\", \"health insurance\", \"discharge condition\", \"healthcare facility type\"]\n",
    "df[cols_to_convert] = df[cols_to_convert].astype(\"bool\")"
   ]
  },
  {
   "cell_type": "code",
   "execution_count": 98,
   "id": "4abe187d-bfa4-428a-a90f-8729cafeca83",
   "metadata": {},
   "outputs": [],
   "source": [
    "df[\"year\"] = pd.to_datetime(df[\"year\"])"
   ]
  },
  {
   "cell_type": "code",
   "execution_count": 104,
   "id": "1c9b782a-2662-4c8e-909f-aac6906cda52",
   "metadata": {},
   "outputs": [
    {
     "name": "stdout",
     "output_type": "stream",
     "text": [
      "<class 'pandas.core.frame.DataFrame'>\n",
      "RangeIndex: 25759529 entries, 0 to 25759528\n",
      "Data columns (total 10 columns):\n",
      " #   Column                    Dtype         \n",
      "---  ------                    -----         \n",
      " 0   sex                       bool          \n",
      " 1   age                       object        \n",
      " 2   health insurance          bool          \n",
      " 3   healthcare facility type  bool          \n",
      " 4   healthcare facility name  object        \n",
      " 5   length of stay            int32         \n",
      " 6   discharge condition       bool          \n",
      " 7   primary diagnosis code    object        \n",
      " 8   primary diagnosis name    object        \n",
      " 9   year                      datetime64[ns]\n",
      "dtypes: bool(4), datetime64[ns](1), int32(1), object(4)\n",
      "memory usage: 1.2+ GB\n"
     ]
    }
   ],
   "source": [
    "df.info()"
   ]
  },
  {
   "cell_type": "markdown",
   "id": "fe25678d-d952-437e-b148-1cbb5acb870e",
   "metadata": {},
   "source": [
    "# FIX AGE RANGES BEFORE EXPORTING"
   ]
  },
  {
   "cell_type": "code",
   "execution_count": null,
   "id": "a8aea1df-0df9-4bc7-86fc-e66e43b50349",
   "metadata": {},
   "outputs": [],
   "source": []
  },
  {
   "cell_type": "code",
   "execution_count": null,
   "id": "4a346ec9-2fba-42d0-a48a-4cfb920af080",
   "metadata": {},
   "outputs": [],
   "source": []
  },
  {
   "cell_type": "code",
   "execution_count": null,
   "id": "9cd213d3-ad81-4af7-aa64-c69ae1465358",
   "metadata": {},
   "outputs": [],
   "source": []
  },
  {
   "cell_type": "code",
   "execution_count": null,
   "id": "21ef6341-5976-4e96-b081-7120d17902fb",
   "metadata": {},
   "outputs": [],
   "source": []
  },
  {
   "cell_type": "code",
   "execution_count": 106,
   "id": "97270533-a3bd-4e80-bf8c-19df4383431a",
   "metadata": {},
   "outputs": [
    {
     "ename": "ArrowInvalid",
     "evalue": "('cannot mix list and non-list, non-null values', 'Conversion failed for column age with type object')",
     "output_type": "error",
     "traceback": [
      "\u001b[1;31m---------------------------------------------------------------------------\u001b[0m",
      "\u001b[1;31mArrowInvalid\u001b[0m                              Traceback (most recent call last)",
      "Cell \u001b[1;32mIn[106], line 1\u001b[0m\n\u001b[1;32m----> 1\u001b[0m df\u001b[38;5;241m.\u001b[39mto_parquet(\u001b[38;5;124m'\u001b[39m\u001b[38;5;124mDischarges_2001-2024_analysis.parquet\u001b[39m\u001b[38;5;124m'\u001b[39m, index\u001b[38;5;241m=\u001b[39m\u001b[38;5;28;01mFalse\u001b[39;00m, compression\u001b[38;5;241m=\u001b[39m\u001b[38;5;124m\"\u001b[39m\u001b[38;5;124msnappy\u001b[39m\u001b[38;5;124m\"\u001b[39m)\n",
      "File \u001b[1;32m~\\anaconda3\\Lib\\site-packages\\pandas\\util\\_decorators.py:333\u001b[0m, in \u001b[0;36mdeprecate_nonkeyword_arguments.<locals>.decorate.<locals>.wrapper\u001b[1;34m(*args, **kwargs)\u001b[0m\n\u001b[0;32m    327\u001b[0m \u001b[38;5;28;01mif\u001b[39;00m \u001b[38;5;28mlen\u001b[39m(args) \u001b[38;5;241m>\u001b[39m num_allow_args:\n\u001b[0;32m    328\u001b[0m     warnings\u001b[38;5;241m.\u001b[39mwarn(\n\u001b[0;32m    329\u001b[0m         msg\u001b[38;5;241m.\u001b[39mformat(arguments\u001b[38;5;241m=\u001b[39m_format_argument_list(allow_args)),\n\u001b[0;32m    330\u001b[0m         \u001b[38;5;167;01mFutureWarning\u001b[39;00m,\n\u001b[0;32m    331\u001b[0m         stacklevel\u001b[38;5;241m=\u001b[39mfind_stack_level(),\n\u001b[0;32m    332\u001b[0m     )\n\u001b[1;32m--> 333\u001b[0m \u001b[38;5;28;01mreturn\u001b[39;00m func(\u001b[38;5;241m*\u001b[39margs, \u001b[38;5;241m*\u001b[39m\u001b[38;5;241m*\u001b[39mkwargs)\n",
      "File \u001b[1;32m~\\anaconda3\\Lib\\site-packages\\pandas\\core\\frame.py:3113\u001b[0m, in \u001b[0;36mDataFrame.to_parquet\u001b[1;34m(self, path, engine, compression, index, partition_cols, storage_options, **kwargs)\u001b[0m\n\u001b[0;32m   3032\u001b[0m \u001b[38;5;250m\u001b[39m\u001b[38;5;124;03m\"\"\"\u001b[39;00m\n\u001b[0;32m   3033\u001b[0m \u001b[38;5;124;03mWrite a DataFrame to the binary parquet format.\u001b[39;00m\n\u001b[0;32m   3034\u001b[0m \n\u001b[1;32m   (...)\u001b[0m\n\u001b[0;32m   3109\u001b[0m \u001b[38;5;124;03m>>> content = f.read()\u001b[39;00m\n\u001b[0;32m   3110\u001b[0m \u001b[38;5;124;03m\"\"\"\u001b[39;00m\n\u001b[0;32m   3111\u001b[0m \u001b[38;5;28;01mfrom\u001b[39;00m \u001b[38;5;21;01mpandas\u001b[39;00m\u001b[38;5;21;01m.\u001b[39;00m\u001b[38;5;21;01mio\u001b[39;00m\u001b[38;5;21;01m.\u001b[39;00m\u001b[38;5;21;01mparquet\u001b[39;00m \u001b[38;5;28;01mimport\u001b[39;00m to_parquet\n\u001b[1;32m-> 3113\u001b[0m \u001b[38;5;28;01mreturn\u001b[39;00m to_parquet(\n\u001b[0;32m   3114\u001b[0m     \u001b[38;5;28mself\u001b[39m,\n\u001b[0;32m   3115\u001b[0m     path,\n\u001b[0;32m   3116\u001b[0m     engine,\n\u001b[0;32m   3117\u001b[0m     compression\u001b[38;5;241m=\u001b[39mcompression,\n\u001b[0;32m   3118\u001b[0m     index\u001b[38;5;241m=\u001b[39mindex,\n\u001b[0;32m   3119\u001b[0m     partition_cols\u001b[38;5;241m=\u001b[39mpartition_cols,\n\u001b[0;32m   3120\u001b[0m     storage_options\u001b[38;5;241m=\u001b[39mstorage_options,\n\u001b[0;32m   3121\u001b[0m     \u001b[38;5;241m*\u001b[39m\u001b[38;5;241m*\u001b[39mkwargs,\n\u001b[0;32m   3122\u001b[0m )\n",
      "File \u001b[1;32m~\\anaconda3\\Lib\\site-packages\\pandas\\io\\parquet.py:480\u001b[0m, in \u001b[0;36mto_parquet\u001b[1;34m(df, path, engine, compression, index, storage_options, partition_cols, filesystem, **kwargs)\u001b[0m\n\u001b[0;32m    476\u001b[0m impl \u001b[38;5;241m=\u001b[39m get_engine(engine)\n\u001b[0;32m    478\u001b[0m path_or_buf: FilePath \u001b[38;5;241m|\u001b[39m WriteBuffer[\u001b[38;5;28mbytes\u001b[39m] \u001b[38;5;241m=\u001b[39m io\u001b[38;5;241m.\u001b[39mBytesIO() \u001b[38;5;28;01mif\u001b[39;00m path \u001b[38;5;129;01mis\u001b[39;00m \u001b[38;5;28;01mNone\u001b[39;00m \u001b[38;5;28;01melse\u001b[39;00m path\n\u001b[1;32m--> 480\u001b[0m impl\u001b[38;5;241m.\u001b[39mwrite(\n\u001b[0;32m    481\u001b[0m     df,\n\u001b[0;32m    482\u001b[0m     path_or_buf,\n\u001b[0;32m    483\u001b[0m     compression\u001b[38;5;241m=\u001b[39mcompression,\n\u001b[0;32m    484\u001b[0m     index\u001b[38;5;241m=\u001b[39mindex,\n\u001b[0;32m    485\u001b[0m     partition_cols\u001b[38;5;241m=\u001b[39mpartition_cols,\n\u001b[0;32m    486\u001b[0m     storage_options\u001b[38;5;241m=\u001b[39mstorage_options,\n\u001b[0;32m    487\u001b[0m     filesystem\u001b[38;5;241m=\u001b[39mfilesystem,\n\u001b[0;32m    488\u001b[0m     \u001b[38;5;241m*\u001b[39m\u001b[38;5;241m*\u001b[39mkwargs,\n\u001b[0;32m    489\u001b[0m )\n\u001b[0;32m    491\u001b[0m \u001b[38;5;28;01mif\u001b[39;00m path \u001b[38;5;129;01mis\u001b[39;00m \u001b[38;5;28;01mNone\u001b[39;00m:\n\u001b[0;32m    492\u001b[0m     \u001b[38;5;28;01massert\u001b[39;00m \u001b[38;5;28misinstance\u001b[39m(path_or_buf, io\u001b[38;5;241m.\u001b[39mBytesIO)\n",
      "File \u001b[1;32m~\\anaconda3\\Lib\\site-packages\\pandas\\io\\parquet.py:190\u001b[0m, in \u001b[0;36mPyArrowImpl.write\u001b[1;34m(self, df, path, compression, index, storage_options, partition_cols, filesystem, **kwargs)\u001b[0m\n\u001b[0;32m    187\u001b[0m \u001b[38;5;28;01mif\u001b[39;00m index \u001b[38;5;129;01mis\u001b[39;00m \u001b[38;5;129;01mnot\u001b[39;00m \u001b[38;5;28;01mNone\u001b[39;00m:\n\u001b[0;32m    188\u001b[0m     from_pandas_kwargs[\u001b[38;5;124m\"\u001b[39m\u001b[38;5;124mpreserve_index\u001b[39m\u001b[38;5;124m\"\u001b[39m] \u001b[38;5;241m=\u001b[39m index\n\u001b[1;32m--> 190\u001b[0m table \u001b[38;5;241m=\u001b[39m \u001b[38;5;28mself\u001b[39m\u001b[38;5;241m.\u001b[39mapi\u001b[38;5;241m.\u001b[39mTable\u001b[38;5;241m.\u001b[39mfrom_pandas(df, \u001b[38;5;241m*\u001b[39m\u001b[38;5;241m*\u001b[39mfrom_pandas_kwargs)\n\u001b[0;32m    192\u001b[0m \u001b[38;5;28;01mif\u001b[39;00m df\u001b[38;5;241m.\u001b[39mattrs:\n\u001b[0;32m    193\u001b[0m     df_metadata \u001b[38;5;241m=\u001b[39m {\u001b[38;5;124m\"\u001b[39m\u001b[38;5;124mPANDAS_ATTRS\u001b[39m\u001b[38;5;124m\"\u001b[39m: json\u001b[38;5;241m.\u001b[39mdumps(df\u001b[38;5;241m.\u001b[39mattrs)}\n",
      "File \u001b[1;32m~\\anaconda3\\Lib\\site-packages\\pyarrow\\table.pxi:3869\u001b[0m, in \u001b[0;36mpyarrow.lib.Table.from_pandas\u001b[1;34m()\u001b[0m\n",
      "File \u001b[1;32m~\\anaconda3\\Lib\\site-packages\\pyarrow\\pandas_compat.py:626\u001b[0m, in \u001b[0;36mdataframe_to_arrays\u001b[1;34m(df, schema, preserve_index, nthreads, columns, safe)\u001b[0m\n\u001b[0;32m    624\u001b[0m     \u001b[38;5;28;01mfor\u001b[39;00m i, maybe_fut \u001b[38;5;129;01min\u001b[39;00m \u001b[38;5;28menumerate\u001b[39m(arrays):\n\u001b[0;32m    625\u001b[0m         \u001b[38;5;28;01mif\u001b[39;00m \u001b[38;5;28misinstance\u001b[39m(maybe_fut, futures\u001b[38;5;241m.\u001b[39mFuture):\n\u001b[1;32m--> 626\u001b[0m             arrays[i] \u001b[38;5;241m=\u001b[39m maybe_fut\u001b[38;5;241m.\u001b[39mresult()\n\u001b[0;32m    628\u001b[0m types \u001b[38;5;241m=\u001b[39m [x\u001b[38;5;241m.\u001b[39mtype \u001b[38;5;28;01mfor\u001b[39;00m x \u001b[38;5;129;01min\u001b[39;00m arrays]\n\u001b[0;32m    630\u001b[0m \u001b[38;5;28;01mif\u001b[39;00m schema \u001b[38;5;129;01mis\u001b[39;00m \u001b[38;5;28;01mNone\u001b[39;00m:\n",
      "File \u001b[1;32m~\\anaconda3\\Lib\\concurrent\\futures\\_base.py:449\u001b[0m, in \u001b[0;36mFuture.result\u001b[1;34m(self, timeout)\u001b[0m\n\u001b[0;32m    447\u001b[0m     \u001b[38;5;28;01mraise\u001b[39;00m CancelledError()\n\u001b[0;32m    448\u001b[0m \u001b[38;5;28;01melif\u001b[39;00m \u001b[38;5;28mself\u001b[39m\u001b[38;5;241m.\u001b[39m_state \u001b[38;5;241m==\u001b[39m FINISHED:\n\u001b[1;32m--> 449\u001b[0m     \u001b[38;5;28;01mreturn\u001b[39;00m \u001b[38;5;28mself\u001b[39m\u001b[38;5;241m.\u001b[39m__get_result()\n\u001b[0;32m    451\u001b[0m \u001b[38;5;28mself\u001b[39m\u001b[38;5;241m.\u001b[39m_condition\u001b[38;5;241m.\u001b[39mwait(timeout)\n\u001b[0;32m    453\u001b[0m \u001b[38;5;28;01mif\u001b[39;00m \u001b[38;5;28mself\u001b[39m\u001b[38;5;241m.\u001b[39m_state \u001b[38;5;129;01min\u001b[39;00m [CANCELLED, CANCELLED_AND_NOTIFIED]:\n",
      "File \u001b[1;32m~\\anaconda3\\Lib\\concurrent\\futures\\_base.py:401\u001b[0m, in \u001b[0;36mFuture.__get_result\u001b[1;34m(self)\u001b[0m\n\u001b[0;32m    399\u001b[0m \u001b[38;5;28;01mif\u001b[39;00m \u001b[38;5;28mself\u001b[39m\u001b[38;5;241m.\u001b[39m_exception:\n\u001b[0;32m    400\u001b[0m     \u001b[38;5;28;01mtry\u001b[39;00m:\n\u001b[1;32m--> 401\u001b[0m         \u001b[38;5;28;01mraise\u001b[39;00m \u001b[38;5;28mself\u001b[39m\u001b[38;5;241m.\u001b[39m_exception\n\u001b[0;32m    402\u001b[0m     \u001b[38;5;28;01mfinally\u001b[39;00m:\n\u001b[0;32m    403\u001b[0m         \u001b[38;5;66;03m# Break a reference cycle with the exception in self._exception\u001b[39;00m\n\u001b[0;32m    404\u001b[0m         \u001b[38;5;28mself\u001b[39m \u001b[38;5;241m=\u001b[39m \u001b[38;5;28;01mNone\u001b[39;00m\n",
      "File \u001b[1;32m~\\anaconda3\\Lib\\concurrent\\futures\\thread.py:58\u001b[0m, in \u001b[0;36m_WorkItem.run\u001b[1;34m(self)\u001b[0m\n\u001b[0;32m     55\u001b[0m     \u001b[38;5;28;01mreturn\u001b[39;00m\n\u001b[0;32m     57\u001b[0m \u001b[38;5;28;01mtry\u001b[39;00m:\n\u001b[1;32m---> 58\u001b[0m     result \u001b[38;5;241m=\u001b[39m \u001b[38;5;28mself\u001b[39m\u001b[38;5;241m.\u001b[39mfn(\u001b[38;5;241m*\u001b[39m\u001b[38;5;28mself\u001b[39m\u001b[38;5;241m.\u001b[39margs, \u001b[38;5;241m*\u001b[39m\u001b[38;5;241m*\u001b[39m\u001b[38;5;28mself\u001b[39m\u001b[38;5;241m.\u001b[39mkwargs)\n\u001b[0;32m     59\u001b[0m \u001b[38;5;28;01mexcept\u001b[39;00m \u001b[38;5;167;01mBaseException\u001b[39;00m \u001b[38;5;28;01mas\u001b[39;00m exc:\n\u001b[0;32m     60\u001b[0m     \u001b[38;5;28mself\u001b[39m\u001b[38;5;241m.\u001b[39mfuture\u001b[38;5;241m.\u001b[39mset_exception(exc)\n",
      "File \u001b[1;32m~\\anaconda3\\Lib\\site-packages\\pyarrow\\pandas_compat.py:600\u001b[0m, in \u001b[0;36mdataframe_to_arrays.<locals>.convert_column\u001b[1;34m(col, field)\u001b[0m\n\u001b[0;32m    595\u001b[0m \u001b[38;5;28;01mexcept\u001b[39;00m (pa\u001b[38;5;241m.\u001b[39mArrowInvalid,\n\u001b[0;32m    596\u001b[0m         pa\u001b[38;5;241m.\u001b[39mArrowNotImplementedError,\n\u001b[0;32m    597\u001b[0m         pa\u001b[38;5;241m.\u001b[39mArrowTypeError) \u001b[38;5;28;01mas\u001b[39;00m e:\n\u001b[0;32m    598\u001b[0m     e\u001b[38;5;241m.\u001b[39margs \u001b[38;5;241m+\u001b[39m\u001b[38;5;241m=\u001b[39m (\u001b[38;5;124m\"\u001b[39m\u001b[38;5;124mConversion failed for column \u001b[39m\u001b[38;5;132;01m{!s}\u001b[39;00m\u001b[38;5;124m with type \u001b[39m\u001b[38;5;132;01m{!s}\u001b[39;00m\u001b[38;5;124m\"\u001b[39m\n\u001b[0;32m    599\u001b[0m                \u001b[38;5;241m.\u001b[39mformat(col\u001b[38;5;241m.\u001b[39mname, col\u001b[38;5;241m.\u001b[39mdtype),)\n\u001b[1;32m--> 600\u001b[0m     \u001b[38;5;28;01mraise\u001b[39;00m e\n\u001b[0;32m    601\u001b[0m \u001b[38;5;28;01mif\u001b[39;00m \u001b[38;5;129;01mnot\u001b[39;00m field_nullable \u001b[38;5;129;01mand\u001b[39;00m result\u001b[38;5;241m.\u001b[39mnull_count \u001b[38;5;241m>\u001b[39m \u001b[38;5;241m0\u001b[39m:\n\u001b[0;32m    602\u001b[0m     \u001b[38;5;28;01mraise\u001b[39;00m \u001b[38;5;167;01mValueError\u001b[39;00m(\u001b[38;5;124m\"\u001b[39m\u001b[38;5;124mField \u001b[39m\u001b[38;5;132;01m{}\u001b[39;00m\u001b[38;5;124m was non-nullable but pandas column \u001b[39m\u001b[38;5;124m\"\u001b[39m\n\u001b[0;32m    603\u001b[0m                      \u001b[38;5;124m\"\u001b[39m\u001b[38;5;124mhad \u001b[39m\u001b[38;5;132;01m{}\u001b[39;00m\u001b[38;5;124m null values\u001b[39m\u001b[38;5;124m\"\u001b[39m\u001b[38;5;241m.\u001b[39mformat(\u001b[38;5;28mstr\u001b[39m(field),\n\u001b[0;32m    604\u001b[0m                                                  result\u001b[38;5;241m.\u001b[39mnull_count))\n",
      "File \u001b[1;32m~\\anaconda3\\Lib\\site-packages\\pyarrow\\pandas_compat.py:594\u001b[0m, in \u001b[0;36mdataframe_to_arrays.<locals>.convert_column\u001b[1;34m(col, field)\u001b[0m\n\u001b[0;32m    591\u001b[0m     type_ \u001b[38;5;241m=\u001b[39m field\u001b[38;5;241m.\u001b[39mtype\n\u001b[0;32m    593\u001b[0m \u001b[38;5;28;01mtry\u001b[39;00m:\n\u001b[1;32m--> 594\u001b[0m     result \u001b[38;5;241m=\u001b[39m pa\u001b[38;5;241m.\u001b[39marray(col, \u001b[38;5;28mtype\u001b[39m\u001b[38;5;241m=\u001b[39mtype_, from_pandas\u001b[38;5;241m=\u001b[39m\u001b[38;5;28;01mTrue\u001b[39;00m, safe\u001b[38;5;241m=\u001b[39msafe)\n\u001b[0;32m    595\u001b[0m \u001b[38;5;28;01mexcept\u001b[39;00m (pa\u001b[38;5;241m.\u001b[39mArrowInvalid,\n\u001b[0;32m    596\u001b[0m         pa\u001b[38;5;241m.\u001b[39mArrowNotImplementedError,\n\u001b[0;32m    597\u001b[0m         pa\u001b[38;5;241m.\u001b[39mArrowTypeError) \u001b[38;5;28;01mas\u001b[39;00m e:\n\u001b[0;32m    598\u001b[0m     e\u001b[38;5;241m.\u001b[39margs \u001b[38;5;241m+\u001b[39m\u001b[38;5;241m=\u001b[39m (\u001b[38;5;124m\"\u001b[39m\u001b[38;5;124mConversion failed for column \u001b[39m\u001b[38;5;132;01m{!s}\u001b[39;00m\u001b[38;5;124m with type \u001b[39m\u001b[38;5;132;01m{!s}\u001b[39;00m\u001b[38;5;124m\"\u001b[39m\n\u001b[0;32m    599\u001b[0m                \u001b[38;5;241m.\u001b[39mformat(col\u001b[38;5;241m.\u001b[39mname, col\u001b[38;5;241m.\u001b[39mdtype),)\n",
      "File \u001b[1;32m~\\anaconda3\\Lib\\site-packages\\pyarrow\\array.pxi:340\u001b[0m, in \u001b[0;36mpyarrow.lib.array\u001b[1;34m()\u001b[0m\n",
      "File \u001b[1;32m~\\anaconda3\\Lib\\site-packages\\pyarrow\\array.pxi:86\u001b[0m, in \u001b[0;36mpyarrow.lib._ndarray_to_array\u001b[1;34m()\u001b[0m\n",
      "File \u001b[1;32m~\\anaconda3\\Lib\\site-packages\\pyarrow\\error.pxi:91\u001b[0m, in \u001b[0;36mpyarrow.lib.check_status\u001b[1;34m()\u001b[0m\n",
      "\u001b[1;31mArrowInvalid\u001b[0m: ('cannot mix list and non-list, non-null values', 'Conversion failed for column age with type object')"
     ]
    }
   ],
   "source": [
    "df.to_parquet('Discharges_2001-2024_analysis.parquet', index=False, compression=\"snappy\")"
   ]
  },
  {
   "cell_type": "markdown",
   "id": "29ccb881-d8a0-4051-a907-deb7523aae85",
   "metadata": {},
   "source": [
    "# Univariate analysis"
   ]
  },
  {
   "cell_type": "code",
   "execution_count": null,
   "id": "33c3c617-9e3c-449c-a23f-b69328e9a9e2",
   "metadata": {},
   "outputs": [],
   "source": [
    "Caracteristicas individuales:\n",
    "1. Sexo\n",
    "2. Edad\n",
    "3. Previsión o seguro de salud"
   ]
  },
  {
   "cell_type": "markdown",
   "id": "5a03223b-7609-472e-9e15-872306792041",
   "metadata": {},
   "source": [
    "# Bivariate and Multivariate Analysis"
   ]
  },
  {
   "cell_type": "markdown",
   "id": "c6a09a88-2e82-4c4b-8861-8f9da28ecfb2",
   "metadata": {},
   "source": [
    "# Guiding Questions"
   ]
  },
  {
   "cell_type": "markdown",
   "id": "1f7fb4be-bdae-449a-9377-01b5b5d32efb",
   "metadata": {},
   "source": [
    "# Visualizations"
   ]
  },
  {
   "cell_type": "markdown",
   "id": "bce25083-b001-4927-829f-f50e206ce887",
   "metadata": {},
   "source": [
    "# Insights and questions"
   ]
  },
  {
   "cell_type": "markdown",
   "id": "d8b98362-b6e3-450e-8d20-159d16d6c129",
   "metadata": {},
   "source": [
    "1. How the distribution of the data is affected if healthy newborns are not considered in the analysis?"
   ]
  },
  {
   "cell_type": "code",
   "execution_count": 40,
   "id": "4c7a77e8-f9cb-4db3-9f9d-01f582223086",
   "metadata": {},
   "outputs": [
    {
     "data": {
      "text/plain": [
       "Index(['Sex', 'Age', 'Health insurance', 'Healthcare facility type',\n",
       "       'Healthcare facility name', 'Length of stay', 'Discharge condition',\n",
       "       'Primary diagnosis code', 'Primary diagnosis name', 'Year'],\n",
       "      dtype='object')"
      ]
     },
     "execution_count": 40,
     "metadata": {},
     "output_type": "execute_result"
    }
   ],
   "source": [
    "df.columns"
   ]
  },
  {
   "cell_type": "code",
   "execution_count": null,
   "id": "1c068a70-11ca-4697-9251-9f1b031f2da3",
   "metadata": {},
   "outputs": [],
   "source": []
  }
 ],
 "metadata": {
  "kernelspec": {
   "display_name": "Python 3 (ipykernel)",
   "language": "python",
   "name": "python3"
  },
  "language_info": {
   "codemirror_mode": {
    "name": "ipython",
    "version": 3
   },
   "file_extension": ".py",
   "mimetype": "text/x-python",
   "name": "python",
   "nbconvert_exporter": "python",
   "pygments_lexer": "ipython3",
   "version": "3.12.4"
  }
 },
 "nbformat": 4,
 "nbformat_minor": 5
}
